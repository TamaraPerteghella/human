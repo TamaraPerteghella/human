{
  "nbformat": 4,
  "nbformat_minor": 0,
  "metadata": {
    "colab": {
      "name": "eye.ipynb",
      "provenance": [],
      "include_colab_link": true
    },
    "kernelspec": {
      "name": "python3",
      "display_name": "Python 3"
    },
    "language_info": {
      "name": "python"
    }
  },
  "cells": [
    {
      "cell_type": "markdown",
      "metadata": {
        "id": "view-in-github",
        "colab_type": "text"
      },
      "source": [
        "<a href=\"https://colab.research.google.com/github/cellatlas/human/blob/master/markers/eye/markers.ipynb\" target=\"_parent\"><img src=\"https://colab.research.google.com/assets/colab-badge.svg\" alt=\"Open In Colab\"/></a>"
      ]
    },
    {
      "cell_type": "code",
      "source": [
        "!pip install -q gget\n",
        "!pip install -q git+https://github.com/sbooeshaghi/ec"
      ],
      "metadata": {
        "id": "Ttt-XmSCapHi",
        "outputId": "d34f7574-8fbc-4968-eb4a-9493cb569e49",
        "colab": {
          "base_uri": "https://localhost:8080/"
        }
      },
      "execution_count": 1,
      "outputs": [
        {
          "output_type": "stream",
          "name": "stdout",
          "text": [
            "\u001b[2K     \u001b[90m━━━━━━━━━━━━━━━━━━━━━━━━━━━━━━━━━━━━━━━━\u001b[0m \u001b[32m2.2/2.2 MB\u001b[0m \u001b[31m18.8 MB/s\u001b[0m eta \u001b[36m0:00:00\u001b[0m\n",
            "\u001b[2K     \u001b[90m━━━━━━━━━━━━━━━━━━━━━━━━━━━━━━━━━━━━━━━━\u001b[0m \u001b[32m25.2/25.2 MB\u001b[0m \u001b[31m14.2 MB/s\u001b[0m eta \u001b[36m0:00:00\u001b[0m\n",
            "\u001b[2K     \u001b[90m━━━━━━━━━━━━━━━━━━━━━━━━━━━━━━━━━━━━━━━━\u001b[0m \u001b[32m1.6/1.6 MB\u001b[0m \u001b[31m20.3 MB/s\u001b[0m eta \u001b[36m0:00:00\u001b[0m\n",
            "\u001b[?25h  Preparing metadata (setup.py) ... \u001b[?25l\u001b[?25hdone\n",
            "  Building wheel for ec (setup.py) ... \u001b[?25l\u001b[?25hdone\n"
          ]
        }
      ]
    },
    {
      "cell_type": "code",
      "metadata": {
        "id": "KQUMnXBEIwIZ"
      },
      "source": [
        "import pandas as pd\n",
        "import numpy as np\n",
        "from ec.utils import write_markers"
      ],
      "execution_count": 2,
      "outputs": []
    },
    {
      "cell_type": "code",
      "source": [
        "# Get valid gene names\n",
        "!wget -O genes.txt https://caltech.box.com/shared/static/4r5prhstoq2j1lk8l56bpwqqvfj54q2u.txt\n",
        "genes_list = pd.read_csv('genes.txt', header = None)[0].values"
      ],
      "metadata": {
        "id": "LPYEVh8QnLPU",
        "outputId": "65e086de-bb91-4044-eaeb-f9964d226f4d",
        "colab": {
          "base_uri": "https://localhost:8080/"
        }
      },
      "execution_count": 3,
      "outputs": [
        {
          "output_type": "stream",
          "name": "stdout",
          "text": [
            "--2023-03-18 04:41:51--  https://caltech.box.com/shared/static/4r5prhstoq2j1lk8l56bpwqqvfj54q2u.txt\n",
            "Resolving caltech.box.com (caltech.box.com)... 74.112.186.144\n",
            "Connecting to caltech.box.com (caltech.box.com)|74.112.186.144|:443... connected.\n",
            "HTTP request sent, awaiting response... 301 Moved Permanently\n",
            "Location: /public/static/4r5prhstoq2j1lk8l56bpwqqvfj54q2u.txt [following]\n",
            "--2023-03-18 04:41:51--  https://caltech.box.com/public/static/4r5prhstoq2j1lk8l56bpwqqvfj54q2u.txt\n",
            "Reusing existing connection to caltech.box.com:443.\n",
            "HTTP request sent, awaiting response... 301 Moved Permanently\n",
            "Location: https://caltech.app.box.com/public/static/4r5prhstoq2j1lk8l56bpwqqvfj54q2u.txt [following]\n",
            "--2023-03-18 04:41:51--  https://caltech.app.box.com/public/static/4r5prhstoq2j1lk8l56bpwqqvfj54q2u.txt\n",
            "Resolving caltech.app.box.com (caltech.app.box.com)... 74.112.186.144\n",
            "Connecting to caltech.app.box.com (caltech.app.box.com)|74.112.186.144|:443... connected.\n",
            "HTTP request sent, awaiting response... 302 Found\n",
            "Location: https://dl2.boxcloud.com/d/1/b1!qaLGV5j0TDVlWy2nX9QHbuocGaF_LsHECCYtFJJa3PbMkvIAQai_pdGZHh5evktcZWENleyej-Wu7thntRDZqQL4bq42fsh-6PfHGmcrh6mmNyI6yk1MbS_LUtFCWNo-FrieK94AjH-Vms9gTBadAyYGnregeGo1ytPVKDbLKs7xGyHEV_EH2fdFzJu7Uhbau0QSZRU8CJUBs3nAIumazCQZHF--Z7SHRtrDAf6JDZguSyZo_jxzvTDPfZhA3gRVZ40cwU7uwyZdEJR1C1E4Y2zwAnZmfF4qQDCSfc3-djvdkcLg4qt4aDtQjdHcrLnA-adcejRKVRJCLlaNUDRE7MQ1I8n634da7Zs8H9yYI6ET7mmKz6NW8KHBr-Vxs1jLEWcmTSAb7VV4J34lC0BxMLa3a7yhME6F6pkDpxwuSixIH1yV9seTWDeXsMPSSu1BNfj4gFR0MFdn7AbV8q4HVMXkejwsbej5DlRMQhsF0BKr-5QEjjn_cGsGTeb37w7Ak6RiNE3k4b_JWE-oqMB8bUzfiG_rZfgfXcOPOnpsvs8cYezkC1VGW39NI-6yNkQRXXxL8zTBT4tittUqYuXwkZ7CUgKgDn-Y2yM8qLvJ6XP9AyhXaprmkMvcFUVgZhfSXfizMaNk4GlWf97XYPSXTTUajWthLQRAMWtY9-nEmesq7enAUIBnm4AnTUImZsPSVUOUO91OMEjfqOvLXlAXeZN5wcYBNol9iXwrj3-x46g2Je2FTJ4-eknY87jeYmeOuyx_pUHN0DHOZ1zpQiB8s3yC90vECHNPYltvMY-sknXGcC0SyycIlTMqO4gwd7oAaLYQ8LFCGy1HqHUNu1j-to2jNPluMayFj5MVs1WSbSgHLU2WJs2AYUN4At9oFwdQh1TBTqXQ5WHBWNDvUT6xlxNi8QDpfYhuiAhAaw0_2t8iCv3taifo9zJ4Jca4THU3tEI87O3Cy3UvGxQfxxAIDlOHm35ldsGa1gEgfJgrXxT9fo1U20qSZGG33dmImKgPmoPAt5rQHo_16hw8fnyKOry9kmBwD670eGY5SXFQpbegAWSpibO05oVHpbDL41A_r2uls9LZuqlTNsnLCEmByTgYe6wRTOb8zt9AOy883tg8DttQ697KbqYU1sWxYWf90PCnGrGaQS05KttQ-psxWU6fGlnsUj2j3aUn0STUpr7Lmqxfs4tUnHp44zDU29z3DlfXDkezdxDSS1xOl-neFhGmUj0G0E5Jx71s9eMUAOpxEqU1za2xBdZZxrHAPMmOSc9HzhveeTvbeQxkgU9wLG-XRpkpDJqwIacAGOXzcTbeDmrkRYbuMwwFv58wnCdXOCa7JHiLZCXs-mpLgrb6q4BB9BPh0DJRGsDNvDx3y3pNvpDxeSVw1BhQ6I3fdtjJ/download [following]\n",
            "--2023-03-18 04:41:51--  https://dl2.boxcloud.com/d/1/b1!qaLGV5j0TDVlWy2nX9QHbuocGaF_LsHECCYtFJJa3PbMkvIAQai_pdGZHh5evktcZWENleyej-Wu7thntRDZqQL4bq42fsh-6PfHGmcrh6mmNyI6yk1MbS_LUtFCWNo-FrieK94AjH-Vms9gTBadAyYGnregeGo1ytPVKDbLKs7xGyHEV_EH2fdFzJu7Uhbau0QSZRU8CJUBs3nAIumazCQZHF--Z7SHRtrDAf6JDZguSyZo_jxzvTDPfZhA3gRVZ40cwU7uwyZdEJR1C1E4Y2zwAnZmfF4qQDCSfc3-djvdkcLg4qt4aDtQjdHcrLnA-adcejRKVRJCLlaNUDRE7MQ1I8n634da7Zs8H9yYI6ET7mmKz6NW8KHBr-Vxs1jLEWcmTSAb7VV4J34lC0BxMLa3a7yhME6F6pkDpxwuSixIH1yV9seTWDeXsMPSSu1BNfj4gFR0MFdn7AbV8q4HVMXkejwsbej5DlRMQhsF0BKr-5QEjjn_cGsGTeb37w7Ak6RiNE3k4b_JWE-oqMB8bUzfiG_rZfgfXcOPOnpsvs8cYezkC1VGW39NI-6yNkQRXXxL8zTBT4tittUqYuXwkZ7CUgKgDn-Y2yM8qLvJ6XP9AyhXaprmkMvcFUVgZhfSXfizMaNk4GlWf97XYPSXTTUajWthLQRAMWtY9-nEmesq7enAUIBnm4AnTUImZsPSVUOUO91OMEjfqOvLXlAXeZN5wcYBNol9iXwrj3-x46g2Je2FTJ4-eknY87jeYmeOuyx_pUHN0DHOZ1zpQiB8s3yC90vECHNPYltvMY-sknXGcC0SyycIlTMqO4gwd7oAaLYQ8LFCGy1HqHUNu1j-to2jNPluMayFj5MVs1WSbSgHLU2WJs2AYUN4At9oFwdQh1TBTqXQ5WHBWNDvUT6xlxNi8QDpfYhuiAhAaw0_2t8iCv3taifo9zJ4Jca4THU3tEI87O3Cy3UvGxQfxxAIDlOHm35ldsGa1gEgfJgrXxT9fo1U20qSZGG33dmImKgPmoPAt5rQHo_16hw8fnyKOry9kmBwD670eGY5SXFQpbegAWSpibO05oVHpbDL41A_r2uls9LZuqlTNsnLCEmByTgYe6wRTOb8zt9AOy883tg8DttQ697KbqYU1sWxYWf90PCnGrGaQS05KttQ-psxWU6fGlnsUj2j3aUn0STUpr7Lmqxfs4tUnHp44zDU29z3DlfXDkezdxDSS1xOl-neFhGmUj0G0E5Jx71s9eMUAOpxEqU1za2xBdZZxrHAPMmOSc9HzhveeTvbeQxkgU9wLG-XRpkpDJqwIacAGOXzcTbeDmrkRYbuMwwFv58wnCdXOCa7JHiLZCXs-mpLgrb6q4BB9BPh0DJRGsDNvDx3y3pNvpDxeSVw1BhQ6I3fdtjJ/download\n",
            "Resolving dl2.boxcloud.com (dl2.boxcloud.com)... 74.112.186.128\n",
            "Connecting to dl2.boxcloud.com (dl2.boxcloud.com)|74.112.186.128|:443... connected.\n",
            "HTTP request sent, awaiting response... 200 OK\n",
            "Length: 535253 (523K) [text/plain]\n",
            "Saving to: ‘genes.txt’\n",
            "\n",
            "genes.txt           100%[===================>] 522.71K  1.63MB/s    in 0.3s    \n",
            "\n",
            "2023-03-18 04:41:52 (1.63 MB/s) - ‘genes.txt’ saved [535253/535253]\n",
            "\n"
          ]
        }
      ]
    },
    {
      "cell_type": "markdown",
      "metadata": {
        "id": "1teufrMyJbx5"
      },
      "source": [
        "# Eye"
      ]
    },
    {
      "cell_type": "code",
      "metadata": {
        "id": "dSrBA-IiJYZ-"
      },
      "source": [
        "species = \"homo_sapiens\"\n",
        "organ = \"eye\"\n",
        "reference = \"hg38\"\n",
        "paper_doi = \"https://dx.doi.org/10.1038%2Fs41467-021-25968-8\"\n",
        "table_link = \"https://www.ncbi.nlm.nih.gov/pmc/articles/PMC8478974/bin/41467_2021_25968_MOESM5_ESM.xlsx\"\n",
        "\n",
        "# don't include in header\n",
        "table_name = \"41467_2021_25968_MOESM5_ESM.xlsx\"\n",
        "\n",
        "header = [\n",
        "    {\n",
        "      \"species\": species,\n",
        "      \"organ\": organ,\n",
        "      \"reference\": reference,\n",
        "      \"paper_doi\": paper_doi,\n",
        "      \"table_link\": table_link,\n",
        "    }\n",
        "]"
      ],
      "execution_count": 4,
      "outputs": []
    },
    {
      "cell_type": "code",
      "metadata": {
        "id": "mFyjbuggJoZR"
      },
      "source": [
        "excel_1 = pd.read_excel(table_link, skiprows = 1, sheet_name = \"ChoroidSclera\")\n",
        "excel_2 = pd.read_excel(table_link, skiprows = 1, sheet_name = \"Cornea\")\n",
        "excel_3 = pd.read_excel(table_link, skiprows = 1, sheet_name = \"IrisCiliaryBody\")\n",
        "\n",
        "\n",
        "df_1 = excel_1.rename(columns={\"cluster\": \"celltype\"})\n",
        "df_2 = excel_2.rename(columns={\"cluster\": \"celltype\"})\n",
        "df_3 = excel_3.rename(columns={\"cluster\": \"celltype\"})\n",
        "\n",
        "# Decided to unify the cell types from the 3 tissues within the eye because otherwise many genes were repeated.\n",
        "# df_1[\"celltype\"] = \"ChoroidSclera_\" + df_1[\"celltype\"]\n",
        "# df_2[\"celltype\"] = \"Cornea_\" + df_2[\"celltype\"]\n",
        "# df_3[\"celltype\"] = \"IrisCiliaryBody\" + df_3[\"celltype\"]\n",
        "\n",
        "df = pd.concat([df_1, df_2, df_3])\n"
      ],
      "execution_count": 5,
      "outputs": []
    },
    {
      "cell_type": "code",
      "source": [
        "bidx = df['gene'].isin(genes_list)\n",
        "print(f'Filtered {np.sum(~bidx)} out of {len(bidx)} genes')\n",
        "df = df[bidx]"
      ],
      "metadata": {
        "id": "2SurYupcavTo",
        "outputId": "6ae30df2-80af-43b0-c104-c8e5ffd598d6",
        "colab": {
          "base_uri": "https://localhost:8080/"
        }
      },
      "execution_count": 6,
      "outputs": [
        {
          "output_type": "stream",
          "name": "stdout",
          "text": [
            "Filtered 900 out of 15538 genes\n"
          ]
        }
      ]
    },
    {
      "cell_type": "code",
      "source": [
        "df.head()"
      ],
      "metadata": {
        "id": "SlC3sgUlavKf",
        "outputId": "d9ece13c-783b-4acf-a5bf-389569baf4af",
        "colab": {
          "base_uri": "https://localhost:8080/",
          "height": 206
        }
      },
      "execution_count": 7,
      "outputs": [
        {
          "output_type": "execute_result",
          "data": {
            "text/plain": [
              "  Unnamed: 0          p_val  avg_logFC  pct.1  pct.2      p_val_adj  \\\n",
              "0     IGFBP5  1.917143e-260   2.740738  0.981  0.809  3.479997e-256   \n",
              "1        MGP  8.043193e-214   1.760688  1.000  0.992  1.460000e-209   \n",
              "2    RARRES1  2.216642e-198   2.315193  0.905  0.622  4.023649e-194   \n",
              "3      FBLN1  4.029294e-198   1.967178  0.894  0.596  7.313975e-194   \n",
              "4        C1R  3.932635e-193   1.828830  0.872  0.491  7.138518e-189   \n",
              "\n",
              "      celltype     gene  \n",
              "0  Fibroblasts   IGFBP5  \n",
              "1  Fibroblasts      MGP  \n",
              "2  Fibroblasts  RARRES1  \n",
              "3  Fibroblasts    FBLN1  \n",
              "4  Fibroblasts      C1R  "
            ],
            "text/html": [
              "\n",
              "  <div id=\"df-b9ba56d6-03b1-4ce4-be93-0593cf602a0a\">\n",
              "    <div class=\"colab-df-container\">\n",
              "      <div>\n",
              "<style scoped>\n",
              "    .dataframe tbody tr th:only-of-type {\n",
              "        vertical-align: middle;\n",
              "    }\n",
              "\n",
              "    .dataframe tbody tr th {\n",
              "        vertical-align: top;\n",
              "    }\n",
              "\n",
              "    .dataframe thead th {\n",
              "        text-align: right;\n",
              "    }\n",
              "</style>\n",
              "<table border=\"1\" class=\"dataframe\">\n",
              "  <thead>\n",
              "    <tr style=\"text-align: right;\">\n",
              "      <th></th>\n",
              "      <th>Unnamed: 0</th>\n",
              "      <th>p_val</th>\n",
              "      <th>avg_logFC</th>\n",
              "      <th>pct.1</th>\n",
              "      <th>pct.2</th>\n",
              "      <th>p_val_adj</th>\n",
              "      <th>celltype</th>\n",
              "      <th>gene</th>\n",
              "    </tr>\n",
              "  </thead>\n",
              "  <tbody>\n",
              "    <tr>\n",
              "      <th>0</th>\n",
              "      <td>IGFBP5</td>\n",
              "      <td>1.917143e-260</td>\n",
              "      <td>2.740738</td>\n",
              "      <td>0.981</td>\n",
              "      <td>0.809</td>\n",
              "      <td>3.479997e-256</td>\n",
              "      <td>Fibroblasts</td>\n",
              "      <td>IGFBP5</td>\n",
              "    </tr>\n",
              "    <tr>\n",
              "      <th>1</th>\n",
              "      <td>MGP</td>\n",
              "      <td>8.043193e-214</td>\n",
              "      <td>1.760688</td>\n",
              "      <td>1.000</td>\n",
              "      <td>0.992</td>\n",
              "      <td>1.460000e-209</td>\n",
              "      <td>Fibroblasts</td>\n",
              "      <td>MGP</td>\n",
              "    </tr>\n",
              "    <tr>\n",
              "      <th>2</th>\n",
              "      <td>RARRES1</td>\n",
              "      <td>2.216642e-198</td>\n",
              "      <td>2.315193</td>\n",
              "      <td>0.905</td>\n",
              "      <td>0.622</td>\n",
              "      <td>4.023649e-194</td>\n",
              "      <td>Fibroblasts</td>\n",
              "      <td>RARRES1</td>\n",
              "    </tr>\n",
              "    <tr>\n",
              "      <th>3</th>\n",
              "      <td>FBLN1</td>\n",
              "      <td>4.029294e-198</td>\n",
              "      <td>1.967178</td>\n",
              "      <td>0.894</td>\n",
              "      <td>0.596</td>\n",
              "      <td>7.313975e-194</td>\n",
              "      <td>Fibroblasts</td>\n",
              "      <td>FBLN1</td>\n",
              "    </tr>\n",
              "    <tr>\n",
              "      <th>4</th>\n",
              "      <td>C1R</td>\n",
              "      <td>3.932635e-193</td>\n",
              "      <td>1.828830</td>\n",
              "      <td>0.872</td>\n",
              "      <td>0.491</td>\n",
              "      <td>7.138518e-189</td>\n",
              "      <td>Fibroblasts</td>\n",
              "      <td>C1R</td>\n",
              "    </tr>\n",
              "  </tbody>\n",
              "</table>\n",
              "</div>\n",
              "      <button class=\"colab-df-convert\" onclick=\"convertToInteractive('df-b9ba56d6-03b1-4ce4-be93-0593cf602a0a')\"\n",
              "              title=\"Convert this dataframe to an interactive table.\"\n",
              "              style=\"display:none;\">\n",
              "        \n",
              "  <svg xmlns=\"http://www.w3.org/2000/svg\" height=\"24px\"viewBox=\"0 0 24 24\"\n",
              "       width=\"24px\">\n",
              "    <path d=\"M0 0h24v24H0V0z\" fill=\"none\"/>\n",
              "    <path d=\"M18.56 5.44l.94 2.06.94-2.06 2.06-.94-2.06-.94-.94-2.06-.94 2.06-2.06.94zm-11 1L8.5 8.5l.94-2.06 2.06-.94-2.06-.94L8.5 2.5l-.94 2.06-2.06.94zm10 10l.94 2.06.94-2.06 2.06-.94-2.06-.94-.94-2.06-.94 2.06-2.06.94z\"/><path d=\"M17.41 7.96l-1.37-1.37c-.4-.4-.92-.59-1.43-.59-.52 0-1.04.2-1.43.59L10.3 9.45l-7.72 7.72c-.78.78-.78 2.05 0 2.83L4 21.41c.39.39.9.59 1.41.59.51 0 1.02-.2 1.41-.59l7.78-7.78 2.81-2.81c.8-.78.8-2.07 0-2.86zM5.41 20L4 18.59l7.72-7.72 1.47 1.35L5.41 20z\"/>\n",
              "  </svg>\n",
              "      </button>\n",
              "      \n",
              "  <style>\n",
              "    .colab-df-container {\n",
              "      display:flex;\n",
              "      flex-wrap:wrap;\n",
              "      gap: 12px;\n",
              "    }\n",
              "\n",
              "    .colab-df-convert {\n",
              "      background-color: #E8F0FE;\n",
              "      border: none;\n",
              "      border-radius: 50%;\n",
              "      cursor: pointer;\n",
              "      display: none;\n",
              "      fill: #1967D2;\n",
              "      height: 32px;\n",
              "      padding: 0 0 0 0;\n",
              "      width: 32px;\n",
              "    }\n",
              "\n",
              "    .colab-df-convert:hover {\n",
              "      background-color: #E2EBFA;\n",
              "      box-shadow: 0px 1px 2px rgba(60, 64, 67, 0.3), 0px 1px 3px 1px rgba(60, 64, 67, 0.15);\n",
              "      fill: #174EA6;\n",
              "    }\n",
              "\n",
              "    [theme=dark] .colab-df-convert {\n",
              "      background-color: #3B4455;\n",
              "      fill: #D2E3FC;\n",
              "    }\n",
              "\n",
              "    [theme=dark] .colab-df-convert:hover {\n",
              "      background-color: #434B5C;\n",
              "      box-shadow: 0px 1px 3px 1px rgba(0, 0, 0, 0.15);\n",
              "      filter: drop-shadow(0px 1px 2px rgba(0, 0, 0, 0.3));\n",
              "      fill: #FFFFFF;\n",
              "    }\n",
              "  </style>\n",
              "\n",
              "      <script>\n",
              "        const buttonEl =\n",
              "          document.querySelector('#df-b9ba56d6-03b1-4ce4-be93-0593cf602a0a button.colab-df-convert');\n",
              "        buttonEl.style.display =\n",
              "          google.colab.kernel.accessAllowed ? 'block' : 'none';\n",
              "\n",
              "        async function convertToInteractive(key) {\n",
              "          const element = document.querySelector('#df-b9ba56d6-03b1-4ce4-be93-0593cf602a0a');\n",
              "          const dataTable =\n",
              "            await google.colab.kernel.invokeFunction('convertToInteractive',\n",
              "                                                     [key], {});\n",
              "          if (!dataTable) return;\n",
              "\n",
              "          const docLinkHtml = 'Like what you see? Visit the ' +\n",
              "            '<a target=\"_blank\" href=https://colab.research.google.com/notebooks/data_table.ipynb>data table notebook</a>'\n",
              "            + ' to learn more about interactive tables.';\n",
              "          element.innerHTML = '';\n",
              "          dataTable['output_type'] = 'display_data';\n",
              "          await google.colab.output.renderOutput(dataTable, element);\n",
              "          const docLink = document.createElement('div');\n",
              "          docLink.innerHTML = docLinkHtml;\n",
              "          element.appendChild(docLink);\n",
              "        }\n",
              "      </script>\n",
              "    </div>\n",
              "  </div>\n",
              "  "
            ]
          },
          "metadata": {},
          "execution_count": 7
        }
      ]
    },
    {
      "cell_type": "code",
      "metadata": {
        "id": "IpLjvZJFJ10m"
      },
      "source": [
        "min_mean = 100\n",
        "max_pval = 1e-10\n",
        "min_lfc = 0.7\n",
        "max_gene_shares = 4\n",
        "max_per_celltype = 20\n",
        "\n",
        "# filter by criteria\n",
        "dfc = df.query(f\"p_val_adj <= {max_pval} & avg_logFC >= {min_lfc}\")\n",
        "\n",
        "# mask out genes that are shared between max_gene_shares cell type\n",
        "non_repeat_genes = dfc[\"gene\"].value_counts()[dfc[\"gene\"].value_counts() < max_gene_shares].index.values\n",
        "\n",
        "m = dfc[dfc.gene.isin(non_repeat_genes)].sort_values('pct.1', ascending = True)\n",
        "\n",
        "# max number to sample is equal to the min number of genes across all celltype\n",
        "n_sample = min(m[\"celltype\"].value_counts().min(), max_per_celltype)\n",
        "\n",
        "# sample n_sample genes\n",
        "markers = m.groupby('celltype').tail(n_sample)\n",
        "markers_dict = markers.groupby(\"celltype\")[\"gene\"].apply(lambda x: list(x)).to_dict()"
      ],
      "execution_count": 8,
      "outputs": []
    },
    {
      "cell_type": "code",
      "source": [
        "markers.celltype.value_counts()"
      ],
      "metadata": {
        "colab": {
          "base_uri": "https://localhost:8080/"
        },
        "id": "TcDD0rUww0jA",
        "outputId": "385fa757-62e9-492b-b74e-7ef2e8d6d3a7"
      },
      "execution_count": 9,
      "outputs": [
        {
          "output_type": "execute_result",
          "data": {
            "text/plain": [
              "COL9A1-hi ciliary body cells         8\n",
              "Corneal fibroblasts                  8\n",
              "Smooth muscle cells                  8\n",
              "Activated T cells                    8\n",
              "Melanocytes                          8\n",
              "Ribosomal genes-hi fibroblasts       8\n",
              "Conjunctival cells                   8\n",
              "ELF3-hi corneal epithelial cells     8\n",
              "TGFBI-hi corneal epithelial cells    8\n",
              "WIF1-hi fibroblasts                  8\n",
              "Cytotoxic T cells                    8\n",
              "Ciliary body endothelial cells       8\n",
              "Putative stem cells                  8\n",
              "Choroid endothelial cells            8\n",
              "Pigmented ciliary body cells         8\n",
              "Fibroblasts                          8\n",
              "Ciliary body cells                   8\n",
              "MGP-hi fibroblasts                   8\n",
              "CRYAA-hi ciliary body cells          8\n",
              "Schwann cells                        8\n",
              "MEG3-hi fibroblasts                  8\n",
              "Monocytes                            8\n",
              "Name: celltype, dtype: int64"
            ]
          },
          "metadata": {},
          "execution_count": 9
        }
      ]
    },
    {
      "cell_type": "code",
      "source": [
        "markers.groupby(\"celltype\")[\"pct.1\"].mean().sort_values()\n"
      ],
      "metadata": {
        "id": "kSD0fRXHqPbE",
        "outputId": "577e64c8-a85e-4db8-f2ea-584fcef165b1",
        "colab": {
          "base_uri": "https://localhost:8080/"
        }
      },
      "execution_count": 10,
      "outputs": [
        {
          "output_type": "execute_result",
          "data": {
            "text/plain": [
              "celltype\n",
              "COL9A1-hi ciliary body cells         0.824000\n",
              "Schwann cells                        0.886750\n",
              "Corneal fibroblasts                  0.927250\n",
              "MEG3-hi fibroblasts                  0.927875\n",
              "MGP-hi fibroblasts                   0.939500\n",
              "Fibroblasts                          0.950625\n",
              "Ciliary body cells                   0.957250\n",
              "CRYAA-hi ciliary body cells          0.958250\n",
              "Pigmented ciliary body cells         0.967000\n",
              "Choroid endothelial cells            0.983125\n",
              "Putative stem cells                  0.989750\n",
              "Ciliary body endothelial cells       0.995500\n",
              "WIF1-hi fibroblasts                  0.997250\n",
              "Cytotoxic T cells                    0.998750\n",
              "ELF3-hi corneal epithelial cells     0.999250\n",
              "Conjunctival cells                   0.999375\n",
              "TGFBI-hi corneal epithelial cells    0.999375\n",
              "Melanocytes                          1.000000\n",
              "Monocytes                            1.000000\n",
              "Ribosomal genes-hi fibroblasts       1.000000\n",
              "Smooth muscle cells                  1.000000\n",
              "Activated T cells                    1.000000\n",
              "Name: pct.1, dtype: float64"
            ]
          },
          "metadata": {},
          "execution_count": 10
        }
      ]
    },
    {
      "cell_type": "code",
      "metadata": {
        "id": "SO1p80avKyL4"
      },
      "source": [
        "write_markers(\"markers.txt\", markers_dict, header)"
      ],
      "execution_count": 11,
      "outputs": []
    },
    {
      "cell_type": "code",
      "source": [
        "!cat markers.txt"
      ],
      "metadata": {
        "id": "HWS_7uMjw_gN",
        "outputId": "377862f5-6817-422d-9b4e-cfe8e4e6b9eb",
        "colab": {
          "base_uri": "https://localhost:8080/"
        }
      },
      "execution_count": 12,
      "outputs": [
        {
          "output_type": "stream",
          "name": "stdout",
          "text": [
            "# homo_sapiens\teye\thg38\thttps://dx.doi.org/10.1038%2Fs41467-021-25968-8\thttps://www.ncbi.nlm.nih.gov/pmc/articles/PMC8478974/bin/41467_2021_25968_MOESM5_ESM.xlsx\n",
            "Activated T cells\tRPL21,RPS15,RPS25,TPT1,RPL34,RPL10,RPS4X,RPL13\n",
            "COL9A1-hi ciliary body cells\tCOL9A1,PCSK1N,PKP2,OPTC,COL9A2,DAPL1,TRPM3,CPAMD8\n",
            "CRYAA-hi ciliary body cells\tHMGCS1,HES5,HES4,ECM1,SLN,CRYAA,CRYBB2,HSPA5\n",
            "Choroid endothelial cells\tIFI27,HLA-E,RPS23,RPS6,IFITM2,IFITM3,TPT1,TMSB10\n",
            "Ciliary body cells\tIVNS1ABP,HES1,CXCL14,ALDH1A1,ENO1,APP,S100A4,CRYAB\n",
            "Ciliary body endothelial cells\tCFL1,GNG11,PPIA,IFITM3,ACTB,TMSB10,TM4SF1,IFI27\n",
            "Conjunctival cells\tS100A11,AQP3,APOBEC3A,DENND2C,PHLDA2,ZFP36L1,CLDN4,TXN\n",
            "Corneal fibroblasts\tTIMP1,IFITM3,ID3,TSC22D1,SLC6A6,KRT15,DST,S100A2\n",
            "Cytotoxic T cells\tRPS20,RPS11,RPLP1,RPL13A,RPS23,RPL21,RPL32,RPS8\n",
            "ELF3-hi corneal epithelial cells\tFABP5,CLDN4,MRPL33,KRT12,ADIRF,SLC20A1,ELF3,PHLDA2\n",
            "Fibroblasts\tTGM2,GSN,CLU,PTGDS,EGR1,MT2A,TIMP1,IGFBP5\n",
            "MEG3-hi fibroblasts\tWSB1,NR4A1,MEG3,PPP1R15A,PNISR,CCNL1,FOSB,MT2A\n",
            "MGP-hi fibroblasts\tMFAP4,ABCA8,RBP4,C1R,TIMP1,FABP5,IGFBP5,PTGDS\n",
            "Melanocytes\tEEF1A1,FOS,JUN,CAV1,LGALS1,KLF6,LMNA,RPS2\n",
            "Monocytes\tLST1,LGALS1,NPC2,TUBA1B,UPP1,STX4,VEGFA,FCGR2A\n",
            "Pigmented ciliary body cells\tTRPM3,PAX6,DAPL1,ACTA2,TFPI2,MYH11,PLCB4,MDK\n",
            "Putative stem cells\tFRZB,TFPI2,ID3,SERPINF1,CLU,MT-CO2,MT-CO1,MT-CO3\n",
            "Ribosomal genes-hi fibroblasts\tRPS3A,RPS8,RPL13A,RPS6,PTMA,FTL,RPLP1,RPL9\n",
            "Schwann cells\tABCA8,CD9,PMP22,LGI4,CALM2,CST3,S100A6,CRYAB\n",
            "Smooth muscle cells\tDSTN,TPM2,PPP1R12A,COX7C,UQCRQ,ALDOA,CALM3,CKB\n",
            "TGFBI-hi corneal epithelial cells\tNQO1,KRT12,TKT,CLU,ENO1,FTH1,TGFBI,ALDH3A1\n",
            "WIF1-hi fibroblasts\tRGS5,GSN,MYOC,PTN,CEBPD,TSC22D1,JUNB,CFD\n"
          ]
        }
      ]
    },
    {
      "cell_type": "code",
      "source": [
        "# Download table to have a local copy\n",
        "!wget $table_link -O deg.xlsx"
      ],
      "metadata": {
        "id": "M3acz_O_qMK1",
        "outputId": "a967484c-cedc-411d-cca7-0dfb3fef96d2",
        "colab": {
          "base_uri": "https://localhost:8080/"
        }
      },
      "execution_count": 13,
      "outputs": [
        {
          "output_type": "stream",
          "name": "stdout",
          "text": [
            "--2023-03-18 04:42:03--  https://www.ncbi.nlm.nih.gov/pmc/articles/PMC8478974/bin/41467_2021_25968_MOESM5_ESM.xlsx\n",
            "Resolving www.ncbi.nlm.nih.gov (www.ncbi.nlm.nih.gov)... 130.14.29.110, 2607:f220:41e:4290::110\n",
            "Connecting to www.ncbi.nlm.nih.gov (www.ncbi.nlm.nih.gov)|130.14.29.110|:443... connected.\n",
            "HTTP request sent, awaiting response... 200 OK\n",
            "Length: 1272133 (1.2M) [application/vnd.openxmlformats-officedocument.spreadsheetml.sheet]\n",
            "Saving to: ‘deg.xlsx’\n",
            "\n",
            "deg.xlsx            100%[===================>]   1.21M  2.63MB/s    in 0.5s    \n",
            "\n",
            "2023-03-18 04:42:04 (2.63 MB/s) - ‘deg.xlsx’ saved [1272133/1272133]\n",
            "\n"
          ]
        }
      ]
    },
    {
      "cell_type": "code",
      "source": [],
      "metadata": {
        "id": "iLyMXh9bq9xK"
      },
      "execution_count": 13,
      "outputs": []
    }
  ]
}