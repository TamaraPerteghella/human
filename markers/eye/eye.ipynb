{
  "nbformat": 4,
  "nbformat_minor": 0,
  "metadata": {
    "colab": {
      "name": "eye.ipynb",
      "provenance": [],
      "include_colab_link": true
    },
    "kernelspec": {
      "name": "python3",
      "display_name": "Python 3"
    },
    "language_info": {
      "name": "python"
    }
  },
  "cells": [
    {
      "cell_type": "markdown",
      "metadata": {
        "id": "view-in-github",
        "colab_type": "text"
      },
      "source": [
        "<a href=\"https://colab.research.google.com/github/cellatlas/human/blob/master/markers/eye/eye.ipynb\" target=\"_parent\"><img src=\"https://colab.research.google.com/assets/colab-badge.svg\" alt=\"Open In Colab\"/></a>"
      ]
    },
    {
      "cell_type": "code",
      "source": [
        "!pip install -q gget\n",
        "!pip install -q git+https://github.com/sbooeshaghi/ec"
      ],
      "metadata": {
        "id": "Ttt-XmSCapHi",
        "outputId": "4a5991c2-0412-4e84-eb16-4e926bb49c55",
        "colab": {
          "base_uri": "https://localhost:8080/"
        }
      },
      "execution_count": 1,
      "outputs": [
        {
          "output_type": "stream",
          "name": "stdout",
          "text": [
            "\u001b[2K     \u001b[90m━━━━━━━━━━━━━━━━━━━━━━━━━━━━━━━━━━━━━━━━\u001b[0m \u001b[32m2.2/2.2 MB\u001b[0m \u001b[31m15.9 MB/s\u001b[0m eta \u001b[36m0:00:00\u001b[0m\n",
            "\u001b[2K     \u001b[90m━━━━━━━━━━━━━━━━━━━━━━━━━━━━━━━━━━━━━━━━\u001b[0m \u001b[32m70.1/70.1 KB\u001b[0m \u001b[31m3.6 MB/s\u001b[0m eta \u001b[36m0:00:00\u001b[0m\n",
            "\u001b[2K     \u001b[90m━━━━━━━━━━━━━━━━━━━━━━━━━━━━━━━━━━━━━━━━\u001b[0m \u001b[32m25.2/25.2 MB\u001b[0m \u001b[31m16.0 MB/s\u001b[0m eta \u001b[36m0:00:00\u001b[0m\n",
            "\u001b[2K     \u001b[90m━━━━━━━━━━━━━━━━━━━━━━━━━━━━━━━━━━━━━━━━\u001b[0m \u001b[32m1.6/1.6 MB\u001b[0m \u001b[31m12.7 MB/s\u001b[0m eta \u001b[36m0:00:00\u001b[0m\n",
            "\u001b[2K     \u001b[90m━━━━━━━━━━━━━━━━━━━━━━━━━━━━━━━━━━━━━━━━\u001b[0m \u001b[32m1.0/1.0 MB\u001b[0m \u001b[31m5.8 MB/s\u001b[0m eta \u001b[36m0:00:00\u001b[0m\n",
            "\u001b[2K     \u001b[90m━━━━━━━━━━━━━━━━━━━━━━━━━━━━━━━━━━━━━━━\u001b[0m \u001b[32m114.2/114.2 KB\u001b[0m \u001b[31m1.3 MB/s\u001b[0m eta \u001b[36m0:00:00\u001b[0m\n",
            "\u001b[2K     \u001b[90m━━━━━━━━━━━━━━━━━━━━━━━━━━━━━━━━━━━━━━━\u001b[0m \u001b[32m264.6/264.6 KB\u001b[0m \u001b[31m7.9 MB/s\u001b[0m eta \u001b[36m0:00:00\u001b[0m\n",
            "\u001b[2K     \u001b[90m━━━━━━━━━━━━━━━━━━━━━━━━━━━━━━━━━━━━━━━\u001b[0m \u001b[32m158.8/158.8 KB\u001b[0m \u001b[31m6.3 MB/s\u001b[0m eta \u001b[36m0:00:00\u001b[0m\n",
            "\u001b[?25h  Preparing metadata (setup.py) ... \u001b[?25l\u001b[?25hdone\n",
            "  Building wheel for ec (setup.py) ... \u001b[?25l\u001b[?25hdone\n"
          ]
        }
      ]
    },
    {
      "cell_type": "code",
      "metadata": {
        "id": "KQUMnXBEIwIZ"
      },
      "source": [
        "\n",
        "import pandas as pd\n",
        "import numpy as np\n",
        "from ec.utils import write_markers"
      ],
      "execution_count": 2,
      "outputs": []
    },
    {
      "cell_type": "code",
      "source": [
        "# Get valid gene names\n",
        "!wget -O genes.txt https://caltech.box.com/shared/static/4r5prhstoq2j1lk8l56bpwqqvfj54q2u.txt\n",
        "genes_list = pd.read_csv('genes.txt', header = None)[0].values"
      ],
      "metadata": {
        "id": "LPYEVh8QnLPU",
        "outputId": "eb85aa82-c432-40ad-fc22-a73675a1b2f4",
        "colab": {
          "base_uri": "https://localhost:8080/"
        }
      },
      "execution_count": 3,
      "outputs": [
        {
          "output_type": "stream",
          "name": "stdout",
          "text": [
            "--2023-03-19 23:27:15--  https://caltech.box.com/shared/static/4r5prhstoq2j1lk8l56bpwqqvfj54q2u.txt\n",
            "Resolving caltech.box.com (caltech.box.com)... 74.112.186.144\n",
            "Connecting to caltech.box.com (caltech.box.com)|74.112.186.144|:443... connected.\n",
            "HTTP request sent, awaiting response... 301 Moved Permanently\n",
            "Location: /public/static/4r5prhstoq2j1lk8l56bpwqqvfj54q2u.txt [following]\n",
            "--2023-03-19 23:27:15--  https://caltech.box.com/public/static/4r5prhstoq2j1lk8l56bpwqqvfj54q2u.txt\n",
            "Reusing existing connection to caltech.box.com:443.\n",
            "HTTP request sent, awaiting response... 301 Moved Permanently\n",
            "Location: https://caltech.app.box.com/public/static/4r5prhstoq2j1lk8l56bpwqqvfj54q2u.txt [following]\n",
            "--2023-03-19 23:27:15--  https://caltech.app.box.com/public/static/4r5prhstoq2j1lk8l56bpwqqvfj54q2u.txt\n",
            "Resolving caltech.app.box.com (caltech.app.box.com)... 74.112.186.144\n",
            "Connecting to caltech.app.box.com (caltech.app.box.com)|74.112.186.144|:443... connected.\n",
            "HTTP request sent, awaiting response... 302 Found\n",
            "Location: https://dl2.boxcloud.com/d/1/b1!3TsxIG-LBfL-YEzXRl9UUfHxgLVTRYuUoLZfkPoVxZ0yabYUdDgdJnnNuAaNP9vEilHSO6brJHifNnBjx6DgxGnaSxmQoYBqgq9vc0PinjKollSRRAPtCrvtFpiGH1Sep9QdREfAA_ACyfovUDc2r8rXjYto_Z-7XPONKEyk-sbByS9E5xcNH8OQBoKX2uypdzpUnfZYX3TpDzky9VbRJpKiGsYhmXcZsenZK7C48_pz1WcQMiNyNMs051lbeX2TZgAdETiVixEozRJPB68prj1m7tB7U8mC-6kikahacGgr9ZfF_WQgAII_ADr4TYCSdymqlvp4Vrd2CmRTt61rFHKZPht8da-Mv3wcQFhUfHeOA0YZ5agG-L4rfHeFC4S2A-bbLO9xUKQrty5JEgfp5PA1AjJak3nG6g2aPpH_Kw8mZ6kFQgc4MHjrxjJCHhsNmJ9IZlEp15S0QabZmaLAWX1g_a7bxTzYyWrKT_mfN_JnNz1MDOx9yBdoAAuCs5_HHTtQ9gkaeCdq0sZ9ruzqdLzmJaBAynjmVZSi6JjCsLU6cp3dwmhDT6rp11G9xvDJtW2uSCWJe9PCoySPFMZpK6YQHsW9VdQBeWs6y9kokmEMT51BdwkczEb7T9uvg_uYx1Nlhieg5jLO_7rT52-AgYqlduv8Pm2sUCMfI2xYEObhsOK57FM6uFPrXGBwjujsGhkf1Ig7dqKBiMB_jCE_AMv2zuTjeiciZXcuP1No4igOeCcsvkk-AY4hJ3nNqu_NOeixOJ8wL0ZG4BXjfKcJoe-FD2jhqF3sbHrHZ4JMXVCE9oxGteQhFYm19fizesq0optmxLE7bpD8fOKazhdqwXn5r3rDdEsTp3xRxKkCuggENBPJuyy75cI2XGMmsh0q71HDzVK9AadvrJaq9SW4ESxY-K1paC65PfoUCECWBzrDjMKWPqcqcjzgKchngSE6z_MS84AvGe3i7FwNBG1L12931MuiB5lAYT2M7W3RD6S_BVUfAKCgd5HVT66--mFf8rhtpyyJhCnlv0RXnSj7M_V6QDG94TX8xQpjTDzlqe01K8VS8_qVyE9YLNL79AbKfamhrtqCXiA10W2LpsmlBkowfN88tVHeBVVfd0kont2Rq4yEQfPlj8KQ7Laj13231Pu5tulD5_xKiUv9By-JgiyQ1G31m4-4lvqEUtrivZS1jBNApZ9TYOigFS8fx_gsq5VWOHXM9Ts1QBProz3kemCkkSGN1IOSD99YMYc3FTc2Q7EflQwxqvY3BmxDEnoxzYlERvi9qFaKQv-SLhyNtvWOQjkvASmrSmXlWR9QZV1zaCRIFl0SJQCia63KFtHQYxppLIxw4YJypm31AAaIF0jrQAY5Q6D1EsIQdXJ1/download [following]\n",
            "--2023-03-19 23:27:16--  https://dl2.boxcloud.com/d/1/b1!3TsxIG-LBfL-YEzXRl9UUfHxgLVTRYuUoLZfkPoVxZ0yabYUdDgdJnnNuAaNP9vEilHSO6brJHifNnBjx6DgxGnaSxmQoYBqgq9vc0PinjKollSRRAPtCrvtFpiGH1Sep9QdREfAA_ACyfovUDc2r8rXjYto_Z-7XPONKEyk-sbByS9E5xcNH8OQBoKX2uypdzpUnfZYX3TpDzky9VbRJpKiGsYhmXcZsenZK7C48_pz1WcQMiNyNMs051lbeX2TZgAdETiVixEozRJPB68prj1m7tB7U8mC-6kikahacGgr9ZfF_WQgAII_ADr4TYCSdymqlvp4Vrd2CmRTt61rFHKZPht8da-Mv3wcQFhUfHeOA0YZ5agG-L4rfHeFC4S2A-bbLO9xUKQrty5JEgfp5PA1AjJak3nG6g2aPpH_Kw8mZ6kFQgc4MHjrxjJCHhsNmJ9IZlEp15S0QabZmaLAWX1g_a7bxTzYyWrKT_mfN_JnNz1MDOx9yBdoAAuCs5_HHTtQ9gkaeCdq0sZ9ruzqdLzmJaBAynjmVZSi6JjCsLU6cp3dwmhDT6rp11G9xvDJtW2uSCWJe9PCoySPFMZpK6YQHsW9VdQBeWs6y9kokmEMT51BdwkczEb7T9uvg_uYx1Nlhieg5jLO_7rT52-AgYqlduv8Pm2sUCMfI2xYEObhsOK57FM6uFPrXGBwjujsGhkf1Ig7dqKBiMB_jCE_AMv2zuTjeiciZXcuP1No4igOeCcsvkk-AY4hJ3nNqu_NOeixOJ8wL0ZG4BXjfKcJoe-FD2jhqF3sbHrHZ4JMXVCE9oxGteQhFYm19fizesq0optmxLE7bpD8fOKazhdqwXn5r3rDdEsTp3xRxKkCuggENBPJuyy75cI2XGMmsh0q71HDzVK9AadvrJaq9SW4ESxY-K1paC65PfoUCECWBzrDjMKWPqcqcjzgKchngSE6z_MS84AvGe3i7FwNBG1L12931MuiB5lAYT2M7W3RD6S_BVUfAKCgd5HVT66--mFf8rhtpyyJhCnlv0RXnSj7M_V6QDG94TX8xQpjTDzlqe01K8VS8_qVyE9YLNL79AbKfamhrtqCXiA10W2LpsmlBkowfN88tVHeBVVfd0kont2Rq4yEQfPlj8KQ7Laj13231Pu5tulD5_xKiUv9By-JgiyQ1G31m4-4lvqEUtrivZS1jBNApZ9TYOigFS8fx_gsq5VWOHXM9Ts1QBProz3kemCkkSGN1IOSD99YMYc3FTc2Q7EflQwxqvY3BmxDEnoxzYlERvi9qFaKQv-SLhyNtvWOQjkvASmrSmXlWR9QZV1zaCRIFl0SJQCia63KFtHQYxppLIxw4YJypm31AAaIF0jrQAY5Q6D1EsIQdXJ1/download\n",
            "Resolving dl2.boxcloud.com (dl2.boxcloud.com)... 74.112.186.128\n",
            "Connecting to dl2.boxcloud.com (dl2.boxcloud.com)|74.112.186.128|:443... connected.\n",
            "HTTP request sent, awaiting response... 200 OK\n",
            "Length: 535253 (523K) [text/plain]\n",
            "Saving to: ‘genes.txt’\n",
            "\n",
            "genes.txt           100%[===================>] 522.71K  2.33MB/s    in 0.2s    \n",
            "\n",
            "2023-03-19 23:27:16 (2.33 MB/s) - ‘genes.txt’ saved [535253/535253]\n",
            "\n"
          ]
        }
      ]
    },
    {
      "cell_type": "markdown",
      "metadata": {
        "id": "1teufrMyJbx5"
      },
      "source": [
        "# Eye"
      ]
    },
    {
      "cell_type": "code",
      "metadata": {
        "id": "dSrBA-IiJYZ-"
      },
      "source": [
        "species = \"homo_sapiens\"\n",
        "organ = \"eye\"\n",
        "reference = \"hg38\"\n",
        "paper_doi = \"https://dx.doi.org/10.1038%2Fs41467-021-25968-8\"\n",
        "table_link = \"https://www.ncbi.nlm.nih.gov/pmc/articles/PMC8478974/bin/41467_2021_25968_MOESM5_ESM.xlsx\"\n",
        "\n",
        "# don't include in header\n",
        "table_name = \"41467_2021_25968_MOESM5_ESM.xlsx\"\n",
        "\n",
        "header = [\n",
        "    {\n",
        "      \"species\": species,\n",
        "      \"organ\": organ,\n",
        "      \"reference\": reference,\n",
        "      \"paper_doi\": paper_doi,\n",
        "      \"table_link\": table_link,\n",
        "    }\n",
        "]"
      ],
      "execution_count": 4,
      "outputs": []
    },
    {
      "cell_type": "code",
      "metadata": {
        "id": "mFyjbuggJoZR"
      },
      "source": [
        "excel_1 = pd.read_excel(table_link, skiprows = 1, sheet_name = \"ChoroidSclera\")\n",
        "excel_2 = pd.read_excel(table_link, skiprows = 1, sheet_name = \"Cornea\")\n",
        "excel_3 = pd.read_excel(table_link, skiprows = 1, sheet_name = \"IrisCiliaryBody\")\n",
        "\n",
        "\n",
        "df_1 = excel_1.rename(columns={\"cluster\": \"celltype\"})\n",
        "df_2 = excel_2.rename(columns={\"cluster\": \"celltype\"})\n",
        "df_3 = excel_3.rename(columns={\"cluster\": \"celltype\"})\n",
        "\n",
        "# Decided to unify the cell types from the 3 tissues within the eye because otherwise many genes were repeated.\n",
        "# df_1[\"celltype\"] = \"ChoroidSclera_\" + df_1[\"celltype\"]\n",
        "# df_2[\"celltype\"] = \"Cornea_\" + df_2[\"celltype\"]\n",
        "# df_3[\"celltype\"] = \"IrisCiliaryBody\" + df_3[\"celltype\"]\n",
        "\n",
        "df = pd.concat([df_1, df_2, df_3])\n"
      ],
      "execution_count": 5,
      "outputs": []
    },
    {
      "cell_type": "code",
      "source": [
        "bidx = df['gene'].isin(genes_list)\n",
        "print(f'Filtered {np.sum(~bidx)} out of {len(bidx)} genes')\n",
        "df = df[bidx]"
      ],
      "metadata": {
        "id": "2SurYupcavTo",
        "outputId": "66c6665c-7fe8-49b8-e724-bb22775c8191",
        "colab": {
          "base_uri": "https://localhost:8080/"
        }
      },
      "execution_count": 6,
      "outputs": [
        {
          "output_type": "stream",
          "name": "stdout",
          "text": [
            "Filtered 900 out of 15538 genes\n"
          ]
        }
      ]
    },
    {
      "cell_type": "code",
      "source": [
        "df.head()"
      ],
      "metadata": {
        "id": "SlC3sgUlavKf",
        "outputId": "beaaa85e-d86d-41f5-884c-6831f4aa529f",
        "colab": {
          "base_uri": "https://localhost:8080/",
          "height": 206
        }
      },
      "execution_count": 7,
      "outputs": [
        {
          "output_type": "execute_result",
          "data": {
            "text/plain": [
              "  Unnamed: 0          p_val  avg_logFC  pct.1  pct.2      p_val_adj  \\\n",
              "0     IGFBP5  1.917143e-260   2.740738  0.981  0.809  3.479997e-256   \n",
              "1        MGP  8.043193e-214   1.760688  1.000  0.992  1.460000e-209   \n",
              "2    RARRES1  2.216642e-198   2.315193  0.905  0.622  4.023649e-194   \n",
              "3      FBLN1  4.029294e-198   1.967178  0.894  0.596  7.313975e-194   \n",
              "4        C1R  3.932635e-193   1.828830  0.872  0.491  7.138518e-189   \n",
              "\n",
              "      celltype     gene  \n",
              "0  Fibroblasts   IGFBP5  \n",
              "1  Fibroblasts      MGP  \n",
              "2  Fibroblasts  RARRES1  \n",
              "3  Fibroblasts    FBLN1  \n",
              "4  Fibroblasts      C1R  "
            ],
            "text/html": [
              "\n",
              "  <div id=\"df-71dff254-2c3d-421c-ab4e-14e716b57563\">\n",
              "    <div class=\"colab-df-container\">\n",
              "      <div>\n",
              "<style scoped>\n",
              "    .dataframe tbody tr th:only-of-type {\n",
              "        vertical-align: middle;\n",
              "    }\n",
              "\n",
              "    .dataframe tbody tr th {\n",
              "        vertical-align: top;\n",
              "    }\n",
              "\n",
              "    .dataframe thead th {\n",
              "        text-align: right;\n",
              "    }\n",
              "</style>\n",
              "<table border=\"1\" class=\"dataframe\">\n",
              "  <thead>\n",
              "    <tr style=\"text-align: right;\">\n",
              "      <th></th>\n",
              "      <th>Unnamed: 0</th>\n",
              "      <th>p_val</th>\n",
              "      <th>avg_logFC</th>\n",
              "      <th>pct.1</th>\n",
              "      <th>pct.2</th>\n",
              "      <th>p_val_adj</th>\n",
              "      <th>celltype</th>\n",
              "      <th>gene</th>\n",
              "    </tr>\n",
              "  </thead>\n",
              "  <tbody>\n",
              "    <tr>\n",
              "      <th>0</th>\n",
              "      <td>IGFBP5</td>\n",
              "      <td>1.917143e-260</td>\n",
              "      <td>2.740738</td>\n",
              "      <td>0.981</td>\n",
              "      <td>0.809</td>\n",
              "      <td>3.479997e-256</td>\n",
              "      <td>Fibroblasts</td>\n",
              "      <td>IGFBP5</td>\n",
              "    </tr>\n",
              "    <tr>\n",
              "      <th>1</th>\n",
              "      <td>MGP</td>\n",
              "      <td>8.043193e-214</td>\n",
              "      <td>1.760688</td>\n",
              "      <td>1.000</td>\n",
              "      <td>0.992</td>\n",
              "      <td>1.460000e-209</td>\n",
              "      <td>Fibroblasts</td>\n",
              "      <td>MGP</td>\n",
              "    </tr>\n",
              "    <tr>\n",
              "      <th>2</th>\n",
              "      <td>RARRES1</td>\n",
              "      <td>2.216642e-198</td>\n",
              "      <td>2.315193</td>\n",
              "      <td>0.905</td>\n",
              "      <td>0.622</td>\n",
              "      <td>4.023649e-194</td>\n",
              "      <td>Fibroblasts</td>\n",
              "      <td>RARRES1</td>\n",
              "    </tr>\n",
              "    <tr>\n",
              "      <th>3</th>\n",
              "      <td>FBLN1</td>\n",
              "      <td>4.029294e-198</td>\n",
              "      <td>1.967178</td>\n",
              "      <td>0.894</td>\n",
              "      <td>0.596</td>\n",
              "      <td>7.313975e-194</td>\n",
              "      <td>Fibroblasts</td>\n",
              "      <td>FBLN1</td>\n",
              "    </tr>\n",
              "    <tr>\n",
              "      <th>4</th>\n",
              "      <td>C1R</td>\n",
              "      <td>3.932635e-193</td>\n",
              "      <td>1.828830</td>\n",
              "      <td>0.872</td>\n",
              "      <td>0.491</td>\n",
              "      <td>7.138518e-189</td>\n",
              "      <td>Fibroblasts</td>\n",
              "      <td>C1R</td>\n",
              "    </tr>\n",
              "  </tbody>\n",
              "</table>\n",
              "</div>\n",
              "      <button class=\"colab-df-convert\" onclick=\"convertToInteractive('df-71dff254-2c3d-421c-ab4e-14e716b57563')\"\n",
              "              title=\"Convert this dataframe to an interactive table.\"\n",
              "              style=\"display:none;\">\n",
              "        \n",
              "  <svg xmlns=\"http://www.w3.org/2000/svg\" height=\"24px\"viewBox=\"0 0 24 24\"\n",
              "       width=\"24px\">\n",
              "    <path d=\"M0 0h24v24H0V0z\" fill=\"none\"/>\n",
              "    <path d=\"M18.56 5.44l.94 2.06.94-2.06 2.06-.94-2.06-.94-.94-2.06-.94 2.06-2.06.94zm-11 1L8.5 8.5l.94-2.06 2.06-.94-2.06-.94L8.5 2.5l-.94 2.06-2.06.94zm10 10l.94 2.06.94-2.06 2.06-.94-2.06-.94-.94-2.06-.94 2.06-2.06.94z\"/><path d=\"M17.41 7.96l-1.37-1.37c-.4-.4-.92-.59-1.43-.59-.52 0-1.04.2-1.43.59L10.3 9.45l-7.72 7.72c-.78.78-.78 2.05 0 2.83L4 21.41c.39.39.9.59 1.41.59.51 0 1.02-.2 1.41-.59l7.78-7.78 2.81-2.81c.8-.78.8-2.07 0-2.86zM5.41 20L4 18.59l7.72-7.72 1.47 1.35L5.41 20z\"/>\n",
              "  </svg>\n",
              "      </button>\n",
              "      \n",
              "  <style>\n",
              "    .colab-df-container {\n",
              "      display:flex;\n",
              "      flex-wrap:wrap;\n",
              "      gap: 12px;\n",
              "    }\n",
              "\n",
              "    .colab-df-convert {\n",
              "      background-color: #E8F0FE;\n",
              "      border: none;\n",
              "      border-radius: 50%;\n",
              "      cursor: pointer;\n",
              "      display: none;\n",
              "      fill: #1967D2;\n",
              "      height: 32px;\n",
              "      padding: 0 0 0 0;\n",
              "      width: 32px;\n",
              "    }\n",
              "\n",
              "    .colab-df-convert:hover {\n",
              "      background-color: #E2EBFA;\n",
              "      box-shadow: 0px 1px 2px rgba(60, 64, 67, 0.3), 0px 1px 3px 1px rgba(60, 64, 67, 0.15);\n",
              "      fill: #174EA6;\n",
              "    }\n",
              "\n",
              "    [theme=dark] .colab-df-convert {\n",
              "      background-color: #3B4455;\n",
              "      fill: #D2E3FC;\n",
              "    }\n",
              "\n",
              "    [theme=dark] .colab-df-convert:hover {\n",
              "      background-color: #434B5C;\n",
              "      box-shadow: 0px 1px 3px 1px rgba(0, 0, 0, 0.15);\n",
              "      filter: drop-shadow(0px 1px 2px rgba(0, 0, 0, 0.3));\n",
              "      fill: #FFFFFF;\n",
              "    }\n",
              "  </style>\n",
              "\n",
              "      <script>\n",
              "        const buttonEl =\n",
              "          document.querySelector('#df-71dff254-2c3d-421c-ab4e-14e716b57563 button.colab-df-convert');\n",
              "        buttonEl.style.display =\n",
              "          google.colab.kernel.accessAllowed ? 'block' : 'none';\n",
              "\n",
              "        async function convertToInteractive(key) {\n",
              "          const element = document.querySelector('#df-71dff254-2c3d-421c-ab4e-14e716b57563');\n",
              "          const dataTable =\n",
              "            await google.colab.kernel.invokeFunction('convertToInteractive',\n",
              "                                                     [key], {});\n",
              "          if (!dataTable) return;\n",
              "\n",
              "          const docLinkHtml = 'Like what you see? Visit the ' +\n",
              "            '<a target=\"_blank\" href=https://colab.research.google.com/notebooks/data_table.ipynb>data table notebook</a>'\n",
              "            + ' to learn more about interactive tables.';\n",
              "          element.innerHTML = '';\n",
              "          dataTable['output_type'] = 'display_data';\n",
              "          await google.colab.output.renderOutput(dataTable, element);\n",
              "          const docLink = document.createElement('div');\n",
              "          docLink.innerHTML = docLinkHtml;\n",
              "          element.appendChild(docLink);\n",
              "        }\n",
              "      </script>\n",
              "    </div>\n",
              "  </div>\n",
              "  "
            ]
          },
          "metadata": {},
          "execution_count": 7
        }
      ]
    },
    {
      "cell_type": "code",
      "metadata": {
        "id": "IpLjvZJFJ10m"
      },
      "source": [
        "min_mean = 100\n",
        "max_pval = 1e-10\n",
        "min_lfc = 1.5\n",
        "max_gene_shares = 2\n",
        "max_per_celltype = 20\n",
        "\n",
        "# filter by criteria\n",
        "dfc = df.query(f\"p_val_adj <= {max_pval} & avg_logFC >= {min_lfc}\")\n",
        "\n",
        "# mask out genes that are shared between max_gene_shares cell type\n",
        "non_repeat_genes = dfc[\"gene\"].value_counts()[dfc[\"gene\"].value_counts() < max_gene_shares].index.values\n",
        "\n",
        "m = dfc[dfc.gene.isin(non_repeat_genes)].sort_values('pct.1', ascending = True)\n",
        "\n",
        "# max number to sample is equal to the min number of genes across all celltype\n",
        "n_sample = min(m[\"celltype\"].value_counts().min(), max_per_celltype)\n",
        "\n",
        "# sample n_sample genes\n",
        "markers = m.groupby('celltype').tail(10)\n",
        "markers_dict = markers.groupby(\"celltype\")[\"gene\"].apply(lambda x: list(x)).to_dict()"
      ],
      "execution_count": 15,
      "outputs": []
    },
    {
      "cell_type": "code",
      "source": [
        "m.celltype.value_counts()"
      ],
      "metadata": {
        "colab": {
          "base_uri": "https://localhost:8080/"
        },
        "id": "TcDD0rUww0jA",
        "outputId": "39a0467a-7622-494f-c928-57f08c8f34fd"
      },
      "execution_count": 16,
      "outputs": [
        {
          "output_type": "execute_result",
          "data": {
            "text/plain": [
              "Monocytes                            52\n",
              "Melanocytes                          22\n",
              "Fibroblasts                          20\n",
              "Schwann cells                        17\n",
              "Smooth muscle cells                  15\n",
              "Activated T cells                    14\n",
              "Ciliary body endothelial cells       13\n",
              "Putative stem cells                   9\n",
              "Cytotoxic T cells                     5\n",
              "Conjunctival cells                    5\n",
              "Choroid endothelial cells             4\n",
              "Ciliary body cells                    2\n",
              "TGFBI-hi corneal epithelial cells     1\n",
              "Name: celltype, dtype: int64"
            ]
          },
          "metadata": {},
          "execution_count": 16
        }
      ]
    },
    {
      "cell_type": "code",
      "source": [
        "markers.groupby(\"celltype\")[\"pct.1\"].mean().sort_values()\n"
      ],
      "metadata": {
        "id": "kSD0fRXHqPbE",
        "outputId": "975e1947-76ee-455b-ab0a-a13553eda9cc",
        "colab": {
          "base_uri": "https://localhost:8080/"
        }
      },
      "execution_count": 17,
      "outputs": [
        {
          "output_type": "execute_result",
          "data": {
            "text/plain": [
              "celltype\n",
              "Choroid endothelial cells            0.7655\n",
              "Activated T cells                    0.8042\n",
              "Schwann cells                        0.8105\n",
              "Cytotoxic T cells                    0.8674\n",
              "Ciliary body cells                   0.8780\n",
              "Fibroblasts                          0.9298\n",
              "Ciliary body endothelial cells       0.9368\n",
              "Conjunctival cells                   0.9408\n",
              "Putative stem cells                  0.9500\n",
              "Melanocytes                          0.9909\n",
              "Smooth muscle cells                  0.9993\n",
              "Monocytes                            1.0000\n",
              "TGFBI-hi corneal epithelial cells    1.0000\n",
              "Name: pct.1, dtype: float64"
            ]
          },
          "metadata": {},
          "execution_count": 17
        }
      ]
    },
    {
      "cell_type": "code",
      "metadata": {
        "id": "SO1p80avKyL4"
      },
      "source": [
        "write_markers(\"markers.txt\", markers_dict, header)"
      ],
      "execution_count": 18,
      "outputs": []
    },
    {
      "cell_type": "code",
      "source": [
        "!cat markers.txt"
      ],
      "metadata": {
        "id": "HWS_7uMjw_gN",
        "outputId": "32710e29-97cc-46b6-e5c5-05155208ee50",
        "colab": {
          "base_uri": "https://localhost:8080/"
        }
      },
      "execution_count": 19,
      "outputs": [
        {
          "output_type": "stream",
          "name": "stdout",
          "text": [
            "# homo_sapiens\teye\thg38\thttps://dx.doi.org/10.1038%2Fs41467-021-25968-8\thttps://www.ncbi.nlm.nih.gov/pmc/articles/PMC8478974/bin/41467_2021_25968_MOESM5_ESM.xlsx\n",
            "Activated T cells\tSTAT4,HIST1H1C,CST7,CD3E,ISG20,STK4,CLEC2B,ACAP1,ZFP36L2,HLA-C\n",
            "Choroid endothelial cells\tHYAL2,MPZL2,PRSS23,PDLIM1\n",
            "Ciliary body cells\tCRYAA,CXCL14\n",
            "Ciliary body endothelial cells\tSPRY1,SOCS2,GIMAP7,A2M,TGM2,S1PR1,KCTD12,TMSB10,SPARCL1,HSPB1\n",
            "Conjunctival cells\tAQP5,KRT4,SLPI,KRT13,IL1RN\n",
            "Cytotoxic T cells\tIRF8,CD37,MS4A1,CD79A,LINC00926\n",
            "Fibroblasts\tMEG3,C1S,FBLN1,RARRES1,PLA2G2A,GSN,PTGDS,MT2A,APOD,MGP\n",
            "Melanocytes\tCYB561A3,CDC42EP3,PHLDA1,GPX3,APOE,VIM,CD63,CD59,UBB,KLF6\n",
            "Monocytes\tRNASET2,CST3,C15orf48,CTSZ,COTL1,INSIG1,CREM,HLA-DRB5,CYBA,HSPD1\n",
            "Putative stem cells\tATP6V1C2,GJA1,SLC35G1,SDS,GNG11,DAPL1,FRZB,TFPI2,CLU\n",
            "Schwann cells\tCHL1,ERBB3,SCN7A,CDH19,SPARC,PLP1,S100B,ABCA8,CD9,LGI4\n",
            "Smooth muscle cells\tATP2A2,ACTA2,PPP1R12A,MYL9,CKB,MYH11,DSTN,TPM2,MYLK,TPM1\n",
            "TGFBI-hi corneal epithelial cells\tALDH3A1\n"
          ]
        }
      ]
    },
    {
      "cell_type": "code",
      "source": [
        "# Download table to have a local copy\n",
        "!wget $table_link -O deg.xlsx"
      ],
      "metadata": {
        "id": "M3acz_O_qMK1",
        "outputId": "9875d764-dc50-44b0-a325-123d5e2e35c3",
        "colab": {
          "base_uri": "https://localhost:8080/"
        }
      },
      "execution_count": null,
      "outputs": [
        {
          "output_type": "stream",
          "name": "stdout",
          "text": [
            "--2023-03-17 17:44:00--  https://www.ncbi.nlm.nih.gov/pmc/articles/PMC8478974/bin/41467_2021_25968_MOESM5_ESM.xlsx\n",
            "Resolving www.ncbi.nlm.nih.gov (www.ncbi.nlm.nih.gov)... 130.14.29.110, 2607:f220:41e:4290::110\n",
            "Connecting to www.ncbi.nlm.nih.gov (www.ncbi.nlm.nih.gov)|130.14.29.110|:443... connected.\n",
            "HTTP request sent, awaiting response... 200 OK\n",
            "Length: 1272133 (1.2M) [application/vnd.openxmlformats-officedocument.spreadsheetml.sheet]\n",
            "Saving to: ‘deg.xlsx’\n",
            "\n",
            "deg.xlsx            100%[===================>]   1.21M  3.44MB/s    in 0.4s    \n",
            "\n",
            "2023-03-17 17:44:01 (3.44 MB/s) - ‘deg.xlsx’ saved [1272133/1272133]\n",
            "\n"
          ]
        }
      ]
    },
    {
      "cell_type": "code",
      "source": [],
      "metadata": {
        "id": "iLyMXh9bq9xK"
      },
      "execution_count": null,
      "outputs": []
    }
  ]
}