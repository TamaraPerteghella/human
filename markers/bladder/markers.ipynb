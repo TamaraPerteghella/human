{
  "nbformat": 4,
  "nbformat_minor": 0,
  "metadata": {
    "colab": {
      "provenance": [],
      "include_colab_link": true
    },
    "kernelspec": {
      "name": "python3",
      "display_name": "Python 3"
    },
    "language_info": {
      "name": "python"
    }
  },
  "cells": [
    {
      "cell_type": "markdown",
      "metadata": {
        "id": "view-in-github",
        "colab_type": "text"
      },
      "source": [
        "<a href=\"https://colab.research.google.com/github/cellatlas/human/blob/master/markers/bladder/markers.ipynb\" target=\"_parent\"><img src=\"https://colab.research.google.com/assets/colab-badge.svg\" alt=\"Open In Colab\"/></a>"
      ]
    },
    {
      "cell_type": "code",
      "source": [
        "!pip install -q gget\n",
        "!pip install -q git+https://github.com/sbooeshaghi/ec"
      ],
      "metadata": {
        "id": "Fp6R6ilTX9pa",
        "outputId": "8d339e6d-490d-494b-8031-abbbeaa4c69d",
        "colab": {
          "base_uri": "https://localhost:8080/"
        }
      },
      "execution_count": null,
      "outputs": [
        {
          "output_type": "stream",
          "name": "stdout",
          "text": [
            "\u001b[2K     \u001b[90m━━━━━━━━━━━━━━━━━━━━━━━━━━━━━━━━━━━━━━━━\u001b[0m \u001b[32m2.2/2.2 MB\u001b[0m \u001b[31m20.8 MB/s\u001b[0m eta \u001b[36m0:00:00\u001b[0m\n",
            "\u001b[2K     \u001b[90m━━━━━━━━━━━━━━━━━━━━━━━━━━━━━━━━━━━━━━━━\u001b[0m \u001b[32m25.2/25.2 MB\u001b[0m \u001b[31m15.2 MB/s\u001b[0m eta \u001b[36m0:00:00\u001b[0m\n",
            "\u001b[2K     \u001b[90m━━━━━━━━━━━━━━━━━━━━━━━━━━━━━━━━━━━━━━━━\u001b[0m \u001b[32m1.6/1.6 MB\u001b[0m \u001b[31m49.0 MB/s\u001b[0m eta \u001b[36m0:00:00\u001b[0m\n",
            "\u001b[?25h  Preparing metadata (setup.py) ... \u001b[?25l\u001b[?25hdone\n",
            "  Building wheel for ec (setup.py) ... \u001b[?25l\u001b[?25hdone\n"
          ]
        }
      ]
    },
    {
      "cell_type": "code",
      "metadata": {
        "id": "KQUMnXBEIwIZ"
      },
      "source": [
        "import pandas as pd\n",
        "import numpy as np\n",
        "from ec.utils import write_markers"
      ],
      "execution_count": null,
      "outputs": []
    },
    {
      "cell_type": "code",
      "source": [
        "# Extract list of valid gene names in Ensembl release 96\n",
        "!gget ref human -r \"96\" -ftp -w \"gtf\" -d\n",
        "\n",
        "# Gunzip gtf\n",
        "!gunzip /content/Homo_sapiens.GRCh38.96.gtf.gz\n",
        "\n",
        "# Extract gene names\n",
        "!tail -n +6 /content/Homo_sapiens.GRCh38.96.gtf   | cut -f 9 -d$'\\t' | grep -v \"transcript_id\" | cut -f 6 -d\" \" | sed 's/\"//g' | sed 's/;//'  | sort | uniq > genes.txt\n",
        "genes_list = pd.read_csv('genes.txt', header = None)[0].values"
      ],
      "metadata": {
        "id": "w5_3WrpbYCcJ",
        "outputId": "cb91efb1-989a-4f0b-8303-8f7f8d6e23cb",
        "colab": {
          "base_uri": "https://localhost:8080/"
        }
      },
      "execution_count": null,
      "outputs": [
        {
          "output_type": "stream",
          "name": "stdout",
          "text": [
            "Fri Mar 17 18:22:41 2023 INFO Fetching reference information for homo_sapiens from Ensembl release: 96.\n",
            "http://ftp.ensembl.org/pub/release-96/gtf/homo_sapiens/Homo_sapiens.GRCh38.96.gtf.gz\n",
            "  % Total    % Received % Xferd  Average Speed   Time    Time     Time  Current\n",
            "                                 Dload  Upload   Total   Spent    Left  Speed\n",
            "100 42.4M  100 42.4M    0     0   623k      0  0:01:09  0:01:09 --:--:--  629k\n"
          ]
        }
      ]
    },
    {
      "cell_type": "markdown",
      "metadata": {
        "id": "1teufrMyJbx5"
      },
      "source": [
        "# Bladder"
      ]
    },
    {
      "cell_type": "code",
      "metadata": {
        "id": "dSrBA-IiJYZ-"
      },
      "source": [
        "species = \"homo_sapiens\"\n",
        "organ = \"bladder\"\n",
        "reference = \"\"\n",
        "paper_doi = \"https://doi.org/10.1681/ASN.2019040335\"\n",
        "table_link = \"https://cdn-links.lww.com/permalink/jsn/c/jsn_30_11_2022_12_07_yu_2019040335_sdc5.xlsx\"\n",
        "\n",
        "# don't include in header\n",
        "table_name = \"jsn_30_11_2022_12_07_yu_2019040335_sdc5.xlsx\"\n",
        "\n",
        "header = [\n",
        "    {\n",
        "      \"species\": species,\n",
        "      \"organ\": organ,\n",
        "      \"reference\": reference,\n",
        "      \"paper_doi\": paper_doi,\n",
        "      \"table_link\": table_link,\n",
        "    }\n",
        "]\n"
      ],
      "execution_count": null,
      "outputs": []
    },
    {
      "cell_type": "code",
      "metadata": {
        "id": "mFyjbuggJoZR"
      },
      "source": [
        "excel = pd.read_excel(table_link, skiprows = 1)\n",
        "\n",
        "df = excel.rename(columns={\"cluster\": \"celltype\"})"
      ],
      "execution_count": null,
      "outputs": []
    },
    {
      "cell_type": "code",
      "source": [
        "df['gene'] = [str(g).upper() for g in df['gene'].values]"
      ],
      "metadata": {
        "id": "DAcviCuD1NFi"
      },
      "execution_count": null,
      "outputs": []
    },
    {
      "cell_type": "code",
      "source": [
        "# Filter out genes not present in reference\n",
        "bidx = df['gene'].isin(genes_list)\n",
        "print(f'Filtered {np.sum(~bidx)} out of {len(bidx)} genes')\n",
        "df = df[bidx]"
      ],
      "metadata": {
        "id": "bsSr_rMr0clD",
        "outputId": "7e9e8399-30dd-4d1a-c7fc-13310faac116",
        "colab": {
          "base_uri": "https://localhost:8080/"
        }
      },
      "execution_count": null,
      "outputs": [
        {
          "output_type": "stream",
          "name": "stdout",
          "text": [
            "Filtered 436 out of 6719 genes\n"
          ]
        }
      ]
    },
    {
      "cell_type": "code",
      "source": [
        "df.head()"
      ],
      "metadata": {
        "id": "WJodqqFC0cb9",
        "outputId": "f53b8164-7104-4ed4-9fc5-14afc441179d",
        "colab": {
          "base_uri": "https://localhost:8080/",
          "height": 206
        }
      },
      "execution_count": null,
      "outputs": [
        {
          "output_type": "execute_result",
          "data": {
            "text/plain": [
              "   p_val  avg_logFC  pct.1  pct.2  p_val_adj       celltype    gene\n",
              "0    0.0   0.801753  0.994  0.625        0.0  basal cells 1  IGFBP2\n",
              "2    0.0   0.657349  0.995  0.732        0.0  basal cells 1   KRT15\n",
              "4    0.0   0.603922  0.949  0.549        0.0  basal cells 1    KRT5\n",
              "5    0.0   0.585007  0.987  0.654        0.0  basal cells 1   GSTO1\n",
              "6    0.0   0.561090  0.966  0.572        0.0  basal cells 1    LMO1"
            ],
            "text/html": [
              "\n",
              "  <div id=\"df-76b6079e-5e90-4c88-a95b-682eda82283a\">\n",
              "    <div class=\"colab-df-container\">\n",
              "      <div>\n",
              "<style scoped>\n",
              "    .dataframe tbody tr th:only-of-type {\n",
              "        vertical-align: middle;\n",
              "    }\n",
              "\n",
              "    .dataframe tbody tr th {\n",
              "        vertical-align: top;\n",
              "    }\n",
              "\n",
              "    .dataframe thead th {\n",
              "        text-align: right;\n",
              "    }\n",
              "</style>\n",
              "<table border=\"1\" class=\"dataframe\">\n",
              "  <thead>\n",
              "    <tr style=\"text-align: right;\">\n",
              "      <th></th>\n",
              "      <th>p_val</th>\n",
              "      <th>avg_logFC</th>\n",
              "      <th>pct.1</th>\n",
              "      <th>pct.2</th>\n",
              "      <th>p_val_adj</th>\n",
              "      <th>celltype</th>\n",
              "      <th>gene</th>\n",
              "    </tr>\n",
              "  </thead>\n",
              "  <tbody>\n",
              "    <tr>\n",
              "      <th>0</th>\n",
              "      <td>0.0</td>\n",
              "      <td>0.801753</td>\n",
              "      <td>0.994</td>\n",
              "      <td>0.625</td>\n",
              "      <td>0.0</td>\n",
              "      <td>basal cells 1</td>\n",
              "      <td>IGFBP2</td>\n",
              "    </tr>\n",
              "    <tr>\n",
              "      <th>2</th>\n",
              "      <td>0.0</td>\n",
              "      <td>0.657349</td>\n",
              "      <td>0.995</td>\n",
              "      <td>0.732</td>\n",
              "      <td>0.0</td>\n",
              "      <td>basal cells 1</td>\n",
              "      <td>KRT15</td>\n",
              "    </tr>\n",
              "    <tr>\n",
              "      <th>4</th>\n",
              "      <td>0.0</td>\n",
              "      <td>0.603922</td>\n",
              "      <td>0.949</td>\n",
              "      <td>0.549</td>\n",
              "      <td>0.0</td>\n",
              "      <td>basal cells 1</td>\n",
              "      <td>KRT5</td>\n",
              "    </tr>\n",
              "    <tr>\n",
              "      <th>5</th>\n",
              "      <td>0.0</td>\n",
              "      <td>0.585007</td>\n",
              "      <td>0.987</td>\n",
              "      <td>0.654</td>\n",
              "      <td>0.0</td>\n",
              "      <td>basal cells 1</td>\n",
              "      <td>GSTO1</td>\n",
              "    </tr>\n",
              "    <tr>\n",
              "      <th>6</th>\n",
              "      <td>0.0</td>\n",
              "      <td>0.561090</td>\n",
              "      <td>0.966</td>\n",
              "      <td>0.572</td>\n",
              "      <td>0.0</td>\n",
              "      <td>basal cells 1</td>\n",
              "      <td>LMO1</td>\n",
              "    </tr>\n",
              "  </tbody>\n",
              "</table>\n",
              "</div>\n",
              "      <button class=\"colab-df-convert\" onclick=\"convertToInteractive('df-76b6079e-5e90-4c88-a95b-682eda82283a')\"\n",
              "              title=\"Convert this dataframe to an interactive table.\"\n",
              "              style=\"display:none;\">\n",
              "        \n",
              "  <svg xmlns=\"http://www.w3.org/2000/svg\" height=\"24px\"viewBox=\"0 0 24 24\"\n",
              "       width=\"24px\">\n",
              "    <path d=\"M0 0h24v24H0V0z\" fill=\"none\"/>\n",
              "    <path d=\"M18.56 5.44l.94 2.06.94-2.06 2.06-.94-2.06-.94-.94-2.06-.94 2.06-2.06.94zm-11 1L8.5 8.5l.94-2.06 2.06-.94-2.06-.94L8.5 2.5l-.94 2.06-2.06.94zm10 10l.94 2.06.94-2.06 2.06-.94-2.06-.94-.94-2.06-.94 2.06-2.06.94z\"/><path d=\"M17.41 7.96l-1.37-1.37c-.4-.4-.92-.59-1.43-.59-.52 0-1.04.2-1.43.59L10.3 9.45l-7.72 7.72c-.78.78-.78 2.05 0 2.83L4 21.41c.39.39.9.59 1.41.59.51 0 1.02-.2 1.41-.59l7.78-7.78 2.81-2.81c.8-.78.8-2.07 0-2.86zM5.41 20L4 18.59l7.72-7.72 1.47 1.35L5.41 20z\"/>\n",
              "  </svg>\n",
              "      </button>\n",
              "      \n",
              "  <style>\n",
              "    .colab-df-container {\n",
              "      display:flex;\n",
              "      flex-wrap:wrap;\n",
              "      gap: 12px;\n",
              "    }\n",
              "\n",
              "    .colab-df-convert {\n",
              "      background-color: #E8F0FE;\n",
              "      border: none;\n",
              "      border-radius: 50%;\n",
              "      cursor: pointer;\n",
              "      display: none;\n",
              "      fill: #1967D2;\n",
              "      height: 32px;\n",
              "      padding: 0 0 0 0;\n",
              "      width: 32px;\n",
              "    }\n",
              "\n",
              "    .colab-df-convert:hover {\n",
              "      background-color: #E2EBFA;\n",
              "      box-shadow: 0px 1px 2px rgba(60, 64, 67, 0.3), 0px 1px 3px 1px rgba(60, 64, 67, 0.15);\n",
              "      fill: #174EA6;\n",
              "    }\n",
              "\n",
              "    [theme=dark] .colab-df-convert {\n",
              "      background-color: #3B4455;\n",
              "      fill: #D2E3FC;\n",
              "    }\n",
              "\n",
              "    [theme=dark] .colab-df-convert:hover {\n",
              "      background-color: #434B5C;\n",
              "      box-shadow: 0px 1px 3px 1px rgba(0, 0, 0, 0.15);\n",
              "      filter: drop-shadow(0px 1px 2px rgba(0, 0, 0, 0.3));\n",
              "      fill: #FFFFFF;\n",
              "    }\n",
              "  </style>\n",
              "\n",
              "      <script>\n",
              "        const buttonEl =\n",
              "          document.querySelector('#df-76b6079e-5e90-4c88-a95b-682eda82283a button.colab-df-convert');\n",
              "        buttonEl.style.display =\n",
              "          google.colab.kernel.accessAllowed ? 'block' : 'none';\n",
              "\n",
              "        async function convertToInteractive(key) {\n",
              "          const element = document.querySelector('#df-76b6079e-5e90-4c88-a95b-682eda82283a');\n",
              "          const dataTable =\n",
              "            await google.colab.kernel.invokeFunction('convertToInteractive',\n",
              "                                                     [key], {});\n",
              "          if (!dataTable) return;\n",
              "\n",
              "          const docLinkHtml = 'Like what you see? Visit the ' +\n",
              "            '<a target=\"_blank\" href=https://colab.research.google.com/notebooks/data_table.ipynb>data table notebook</a>'\n",
              "            + ' to learn more about interactive tables.';\n",
              "          element.innerHTML = '';\n",
              "          dataTable['output_type'] = 'display_data';\n",
              "          await google.colab.output.renderOutput(dataTable, element);\n",
              "          const docLink = document.createElement('div');\n",
              "          docLink.innerHTML = docLinkHtml;\n",
              "          element.appendChild(docLink);\n",
              "        }\n",
              "      </script>\n",
              "    </div>\n",
              "  </div>\n",
              "  "
            ]
          },
          "metadata": {},
          "execution_count": 42
        }
      ]
    },
    {
      "cell_type": "code",
      "metadata": {
        "id": "IpLjvZJFJ10m"
      },
      "source": [
        "min_mean = 100\n",
        "max_pval = 1e-10\n",
        "min_lfc = 1.4\n",
        "max_gene_shares = 2\n",
        "max_per_celltype = 20\n",
        "\n",
        "# filter by criteria\n",
        "dfc = df.query(f\"p_val_adj <= {max_pval} & avg_logFC >= {min_lfc}\")\n",
        "\n",
        "# mask out genes that are shared between max_gene_shares cell type\n",
        "non_repeat_genes = dfc[\"gene\"].value_counts()[dfc[\"gene\"].value_counts() < max_gene_shares].index.values\n",
        "\n",
        "m = dfc[dfc.gene.isin(non_repeat_genes)].sort_values('pct.1', ascending = True)\n",
        "\n",
        "# max number to sample is equal to the min number of genes across all celltype\n",
        "n_sample = min(m[\"celltype\"].value_counts().min(), max_per_celltype)\n",
        "\n",
        "# sample n_sample genes\n",
        "markers = m.groupby('celltype').tail(10) # Set n_sample manually because some celltypes have low number of marker genes\n",
        "markers_dict = markers.groupby(\"celltype\")[\"gene\"].apply(lambda x: list(x)).to_dict()\n"
      ],
      "execution_count": null,
      "outputs": []
    },
    {
      "cell_type": "code",
      "source": [
        "markers.celltype.value_counts()"
      ],
      "metadata": {
        "id": "jACxrVgN1x-E",
        "outputId": "61f58333-0a01-4616-9ac9-2f233ea7cc4e",
        "colab": {
          "base_uri": "https://localhost:8080/"
        }
      },
      "execution_count": null,
      "outputs": [
        {
          "output_type": "execute_result",
          "data": {
            "text/plain": [
              "dendritic cells        10\n",
              "T cells                10\n",
              "fibroblast 3           10\n",
              "smooth muscle cells    10\n",
              "neurone                10\n",
              "monocytes              10\n",
              "endothelial cells      10\n",
              "myofibroblast          10\n",
              "fibroblast 2            9\n",
              "fibroblast 1            4\n",
              "Name: celltype, dtype: int64"
            ]
          },
          "metadata": {},
          "execution_count": 63
        }
      ]
    },
    {
      "cell_type": "code",
      "source": [
        "markers.groupby(\"celltype\")[\"pct.1\"].mean().sort_values()"
      ],
      "metadata": {
        "id": "aVhUYPYa2aCM",
        "outputId": "d1504703-b7e2-4b89-b1b8-dd5f520e64ce",
        "colab": {
          "base_uri": "https://localhost:8080/"
        }
      },
      "execution_count": null,
      "outputs": [
        {
          "output_type": "execute_result",
          "data": {
            "text/plain": [
              "celltype\n",
              "dendritic cells        0.687700\n",
              "T cells                0.740800\n",
              "fibroblast 1           0.747000\n",
              "fibroblast 3           0.763800\n",
              "smooth muscle cells    0.768800\n",
              "neurone                0.873600\n",
              "fibroblast 2           0.915111\n",
              "endothelial cells      0.973400\n",
              "monocytes              0.973900\n",
              "myofibroblast          0.992100\n",
              "Name: pct.1, dtype: float64"
            ]
          },
          "metadata": {},
          "execution_count": 66
        }
      ]
    },
    {
      "cell_type": "code",
      "metadata": {
        "id": "SO1p80avKyL4"
      },
      "source": [
        "write_markers(\"markers.txt\", markers_dict, header)"
      ],
      "execution_count": null,
      "outputs": []
    },
    {
      "cell_type": "code",
      "source": [
        "!cat markers.txt"
      ],
      "metadata": {
        "id": "SQzkiLtK2Rtl",
        "outputId": "3fc09885-ee4b-47ce-e8b7-7399b2b2f503",
        "colab": {
          "base_uri": "https://localhost:8080/"
        }
      },
      "execution_count": null,
      "outputs": [
        {
          "output_type": "stream",
          "name": "stdout",
          "text": [
            "# homo_sapiens\tbladder\t\thttps://doi.org/10.1681/ASN.2019040335\thttps://cdn-links.lww.com/permalink/jsn/c/jsn_30_11_2022_12_07_yu_2019040335_sdc5.xlsx\n",
            "T cells\tTRBC2,LIMD2,THY1,LTB,HCST,IFNGR1,ARHGDIB,RAC2,SHISA5,TMSB10\n",
            "dendritic cells\tCCL4,KLRD1,IL1B,ETV3,NAPSA,TNIP3,PLBD1,SPI1,GM2A,PIM1\n",
            "endothelial cells\tS100A10,FXYD6,VIM,APLP2,FKBP1A,MMRN1,FGL2,CD9,GNG11,CLDN5\n",
            "fibroblast 1\tKLF4,SOCS3,CEBPD,NBL1\n",
            "fibroblast 2\tCD34,PLXDC2,AKAP12,ALDH2,SPARCL1,ECM1,PI16,CD81,FBLN1\n",
            "fibroblast 3\tMATN2,OGN,CXCL12,IGF1,GPX3,MFAP2,MFAP5,DPT,CCDC80,HTRA3\n",
            "monocytes\tGRN,CTSC,CSF1R,PF4,CTSB,C1QC,SELENOP,C1QA,C1QB,APOE\n",
            "myofibroblast\tRBP4,CXCL14,CTSL,MMP2,RCN3,COL6A1,COL1A1,BGN,SERPINH1,IGFBP7\n",
            "neurone\tCSRP2,C2,GPM6A,CLU,SLPI,RARRES2,TIMP2,UPK3B,C3,IGFBP6\n",
            "smooth muscle cells\tPPP1R12A,MYH11,CNN1,CALD1,FLNA,MYLK,TPM2,CSRP1,TPM1,MYL6\n"
          ]
        }
      ]
    },
    {
      "cell_type": "code",
      "source": [
        "# Download table to have a local copy\n",
        "!wget $table_link -O degs.xlsx"
      ],
      "metadata": {
        "id": "bNl4Sr4c2STz",
        "outputId": "e1c1e3b7-39df-45fc-afb7-23938f3b4c82",
        "colab": {
          "base_uri": "https://localhost:8080/"
        }
      },
      "execution_count": null,
      "outputs": [
        {
          "output_type": "stream",
          "name": "stdout",
          "text": [
            "--2023-03-17 18:34:24--  https://cdn-links.lww.com/permalink/jsn/c/jsn_30_11_2022_12_07_yu_2019040335_sdc5.xlsx\n",
            "Resolving cdn-links.lww.com (cdn-links.lww.com)... 13.107.237.38, 13.107.238.38, 2620:1ec:4e:1::38, ...\n",
            "Connecting to cdn-links.lww.com (cdn-links.lww.com)|13.107.237.38|:443... connected.\n",
            "HTTP request sent, awaiting response... 200 OK\n",
            "Length: 426625 (417K) [application/vnd.openxmlformats-officedocument.spreadsheetml.sheet]\n",
            "Saving to: ‘degs.xlsx’\n",
            "\n",
            "\rdegs.xlsx             0%[                    ]       0  --.-KB/s               \rdegs.xlsx           100%[===================>] 416.63K  --.-KB/s    in 0.08s   \n",
            "\n",
            "2023-03-17 18:34:24 (5.17 MB/s) - ‘degs.xlsx’ saved [426625/426625]\n",
            "\n"
          ]
        }
      ]
    },
    {
      "cell_type": "code",
      "source": [],
      "metadata": {
        "id": "AEYr3-Fu2f8Z"
      },
      "execution_count": null,
      "outputs": []
    }
  ]
}