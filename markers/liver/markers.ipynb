{
  "nbformat": 4,
  "nbformat_minor": 0,
  "metadata": {
    "colab": {
      "provenance": [],
      "include_colab_link": true
    },
    "kernelspec": {
      "name": "python3",
      "display_name": "Python 3"
    },
    "language_info": {
      "name": "python"
    }
  },
  "cells": [
    {
      "cell_type": "markdown",
      "metadata": {
        "id": "view-in-github",
        "colab_type": "text"
      },
      "source": [
        "<a href=\"https://colab.research.google.com/github/cellatlas/human/blob/master/markers/liver/markers.ipynb\" target=\"_parent\"><img src=\"https://colab.research.google.com/assets/colab-badge.svg\" alt=\"Open In Colab\"/></a>"
      ]
    },
    {
      "cell_type": "code",
      "source": [
        "!pip install -q gget\n",
        "!pip install -q git+https://github.com/sbooeshaghi/ec"
      ],
      "metadata": {
        "id": "Yg7cDfDldK6X",
        "outputId": "f3e8cbf3-cbd3-4afd-b582-5991c5c9a1bc",
        "colab": {
          "base_uri": "https://localhost:8080/"
        }
      },
      "execution_count": 1,
      "outputs": [
        {
          "output_type": "stream",
          "name": "stdout",
          "text": [
            "\u001b[2K     \u001b[90m━━━━━━━━━━━━━━━━━━━━━━━━━━━━━━━━━━━━━━━━\u001b[0m \u001b[32m2.2/2.2 MB\u001b[0m \u001b[31m7.0 MB/s\u001b[0m eta \u001b[36m0:00:00\u001b[0m\n",
            "\u001b[2K     \u001b[90m━━━━━━━━━━━━━━━━━━━━━━━━━━━━━━━━━━━━━━━━\u001b[0m \u001b[32m25.2/25.2 MB\u001b[0m \u001b[31m15.1 MB/s\u001b[0m eta \u001b[36m0:00:00\u001b[0m\n",
            "\u001b[2K     \u001b[90m━━━━━━━━━━━━━━━━━━━━━━━━━━━━━━━━━━━━━━━━\u001b[0m \u001b[32m1.6/1.6 MB\u001b[0m \u001b[31m33.4 MB/s\u001b[0m eta \u001b[36m0:00:00\u001b[0m\n",
            "\u001b[?25h  Preparing metadata (setup.py) ... \u001b[?25l\u001b[?25hdone\n",
            "  Building wheel for ec (setup.py) ... \u001b[?25l\u001b[?25hdone\n"
          ]
        }
      ]
    },
    {
      "cell_type": "code",
      "metadata": {
        "id": "KQUMnXBEIwIZ"
      },
      "source": [
        "import pandas as pd\n",
        "import numpy as np\n",
        "from ec.utils import write_markers"
      ],
      "execution_count": 2,
      "outputs": []
    },
    {
      "cell_type": "code",
      "source": [
        "# Get valid gene names\n",
        "!wget -O genes.txt https://caltech.box.com/shared/static/4r5prhstoq2j1lk8l56bpwqqvfj54q2u.txt\n",
        "genes_list = pd.read_csv('genes.txt', header = None)[0].values"
      ],
      "metadata": {
        "id": "PyBsTwIptvzV",
        "outputId": "d6d19cc3-5fd6-4403-ed6d-0ea5a0c40185",
        "colab": {
          "base_uri": "https://localhost:8080/"
        }
      },
      "execution_count": 3,
      "outputs": [
        {
          "output_type": "stream",
          "name": "stdout",
          "text": [
            "--2023-03-18 04:53:26--  https://caltech.box.com/shared/static/4r5prhstoq2j1lk8l56bpwqqvfj54q2u.txt\n",
            "Resolving caltech.box.com (caltech.box.com)... 74.112.186.144\n",
            "Connecting to caltech.box.com (caltech.box.com)|74.112.186.144|:443... connected.\n",
            "HTTP request sent, awaiting response... 301 Moved Permanently\n",
            "Location: /public/static/4r5prhstoq2j1lk8l56bpwqqvfj54q2u.txt [following]\n",
            "--2023-03-18 04:53:27--  https://caltech.box.com/public/static/4r5prhstoq2j1lk8l56bpwqqvfj54q2u.txt\n",
            "Reusing existing connection to caltech.box.com:443.\n",
            "HTTP request sent, awaiting response... 301 Moved Permanently\n",
            "Location: https://caltech.app.box.com/public/static/4r5prhstoq2j1lk8l56bpwqqvfj54q2u.txt [following]\n",
            "--2023-03-18 04:53:27--  https://caltech.app.box.com/public/static/4r5prhstoq2j1lk8l56bpwqqvfj54q2u.txt\n",
            "Resolving caltech.app.box.com (caltech.app.box.com)... 74.112.186.144\n",
            "Connecting to caltech.app.box.com (caltech.app.box.com)|74.112.186.144|:443... connected.\n",
            "HTTP request sent, awaiting response... 302 Found\n",
            "Location: https://dl2.boxcloud.com/d/1/b1!5rKupndq4M66d4hWypKCVjFyEh6ydZQG3qxKRA0MNzu0y0mDcwydTa8g9dYYbG9shJmGN39kLckyM6AY0l8vZpyJvebIaKUrBmGj_GfEcb8NsDOd3CZiJNLrDQWbZRefeorlj5l0W3JgZRm2j1TlwMmpGagCLnkQ7wDbRHB1Uo8TWqZ_bk0pR6Np8vIc7ZUV2g3XyqEMylDJ6f680GRvc0n7LO12IVBIinU0Lsn7wA42y43ycszY_KOXT9GaI93RrRJC-R7lorA4_YANlQWuK2KjGmIBeSOeHAbact9iQc1gBqFIV7U8yusYdXuS4eBfuEsPuM9QNI8jBq5_v2TKnMxj0LME1q79PnxxCJYChzv0kHkV7VWrPRTz65R3KWvSSzBCZT6C-6qBAkW3vxQKCtACwptpvB7lvHWjEjLqdrP9BZQ3s4gYv2ndsC4q7pe1vupenLZ4ArrQzeUPhhyitGvDGS-enD9cBpNTN5oPMDhspu2V2va7tgU3m76-C3nCqhy9ZE6UzUzZS8DIlN3_ObEYjucTnvKjgi0Y5OwjG8L1sAhDxXgwlgaoc0S-QhCu3Il-jrdKBv8GcZWsP_QIzBPceP1bOEI9C5MEojmr_KtZtmpcfTZdRlk8X6OsdQVt7uAvvpYKzuaeCSb3pFtqIy1BDn1rbrg7fT_pI6tuF_ABPsC7pl77CFBnzG5ZVvn95hdMrhyE74ENjvKWIvneSZ81g1woKlsvl4iJVEVb9GNiBBmgo3nqpKH8jyzptUchvnsgZyes1Mc3973s0slcqX80GdpaD_7TOsZY9XogVEXfPQe1b58C9ugt8R5LQCmid8f0NXTWOu4qRYTpMaRox-8A9zguofKIE5tD7LJXYLNfrK-oARoP6Kwc_BWnhbz1njZqIB2dBhN7Xryqz3CEQ1i6udZlkQQskCSIA_EuNYhhTxup0VGZOeeeStQWeUd2FXHvzX2X-dRvdJ0Cbvj_4VvrsAFTQAdK7gmmCbA4kl1csNAG54lBmvBFKn9klzvt6xOucgF4uunG1oqs8zOGYJ5njvzhXL91PBmgXWcxCK-HUpZWjofNMCtd-fcWfoS1wceenckTe404wS8yXvM5YX4RPXq_TTkKzVLqynNFpMSNhGg--qUfv6v5NPltg_BMHbzJpnKoOKMT-uLeT29AgsNCadw8SeGctx_3A752_4uDl8tQ7Tq-fAzTkBlegwC2N7Ic4zOhAFdarmpir3KUhUAKM9aA6MUYiQfpSboXxUir3kX8sKBvCHCF4YyCKexADr7-kEQh4QhYlOb89vZ8L3qHQUk_9XgZPWzdVczr-GBU4sod0ELXMaHoTY0drgXnSnVrRKeh1yitquepmf90YHYAd3t21wj_XrF9Yg../download [following]\n",
            "--2023-03-18 04:53:28--  https://dl2.boxcloud.com/d/1/b1!5rKupndq4M66d4hWypKCVjFyEh6ydZQG3qxKRA0MNzu0y0mDcwydTa8g9dYYbG9shJmGN39kLckyM6AY0l8vZpyJvebIaKUrBmGj_GfEcb8NsDOd3CZiJNLrDQWbZRefeorlj5l0W3JgZRm2j1TlwMmpGagCLnkQ7wDbRHB1Uo8TWqZ_bk0pR6Np8vIc7ZUV2g3XyqEMylDJ6f680GRvc0n7LO12IVBIinU0Lsn7wA42y43ycszY_KOXT9GaI93RrRJC-R7lorA4_YANlQWuK2KjGmIBeSOeHAbact9iQc1gBqFIV7U8yusYdXuS4eBfuEsPuM9QNI8jBq5_v2TKnMxj0LME1q79PnxxCJYChzv0kHkV7VWrPRTz65R3KWvSSzBCZT6C-6qBAkW3vxQKCtACwptpvB7lvHWjEjLqdrP9BZQ3s4gYv2ndsC4q7pe1vupenLZ4ArrQzeUPhhyitGvDGS-enD9cBpNTN5oPMDhspu2V2va7tgU3m76-C3nCqhy9ZE6UzUzZS8DIlN3_ObEYjucTnvKjgi0Y5OwjG8L1sAhDxXgwlgaoc0S-QhCu3Il-jrdKBv8GcZWsP_QIzBPceP1bOEI9C5MEojmr_KtZtmpcfTZdRlk8X6OsdQVt7uAvvpYKzuaeCSb3pFtqIy1BDn1rbrg7fT_pI6tuF_ABPsC7pl77CFBnzG5ZVvn95hdMrhyE74ENjvKWIvneSZ81g1woKlsvl4iJVEVb9GNiBBmgo3nqpKH8jyzptUchvnsgZyes1Mc3973s0slcqX80GdpaD_7TOsZY9XogVEXfPQe1b58C9ugt8R5LQCmid8f0NXTWOu4qRYTpMaRox-8A9zguofKIE5tD7LJXYLNfrK-oARoP6Kwc_BWnhbz1njZqIB2dBhN7Xryqz3CEQ1i6udZlkQQskCSIA_EuNYhhTxup0VGZOeeeStQWeUd2FXHvzX2X-dRvdJ0Cbvj_4VvrsAFTQAdK7gmmCbA4kl1csNAG54lBmvBFKn9klzvt6xOucgF4uunG1oqs8zOGYJ5njvzhXL91PBmgXWcxCK-HUpZWjofNMCtd-fcWfoS1wceenckTe404wS8yXvM5YX4RPXq_TTkKzVLqynNFpMSNhGg--qUfv6v5NPltg_BMHbzJpnKoOKMT-uLeT29AgsNCadw8SeGctx_3A752_4uDl8tQ7Tq-fAzTkBlegwC2N7Ic4zOhAFdarmpir3KUhUAKM9aA6MUYiQfpSboXxUir3kX8sKBvCHCF4YyCKexADr7-kEQh4QhYlOb89vZ8L3qHQUk_9XgZPWzdVczr-GBU4sod0ELXMaHoTY0drgXnSnVrRKeh1yitquepmf90YHYAd3t21wj_XrF9Yg../download\n",
            "Resolving dl2.boxcloud.com (dl2.boxcloud.com)... 74.112.186.128\n",
            "Connecting to dl2.boxcloud.com (dl2.boxcloud.com)|74.112.186.128|:443... connected.\n",
            "HTTP request sent, awaiting response... 200 OK\n",
            "Length: 535253 (523K) [text/plain]\n",
            "Saving to: ‘genes.txt’\n",
            "\n",
            "genes.txt           100%[===================>] 522.71K   845KB/s    in 0.6s    \n",
            "\n",
            "2023-03-18 04:53:29 (845 KB/s) - ‘genes.txt’ saved [535253/535253]\n",
            "\n"
          ]
        }
      ]
    },
    {
      "cell_type": "markdown",
      "metadata": {
        "id": "1teufrMyJbx5"
      },
      "source": [
        "# Liver"
      ]
    },
    {
      "cell_type": "code",
      "metadata": {
        "id": "dSrBA-IiJYZ-"
      },
      "source": [
        "species = \"homo_sapiens\"\n",
        "organ = \"liver\"\n",
        "reference = \"hg19\"\n",
        "paper_doi = \"https://doi.org/10.1016/j.cell.2021.12.018\"\n",
        "table_link = \"https://www.cell.com/cms/10.1016/j.cell.2021.12.018/attachment/c8933c60-a9de-4358-b669-907f776f4e87/mmc1.xlsx\"\n",
        "\n",
        "# don't include in header\n",
        "table_name = \"degs.xlsx\"\n",
        "\n",
        "header = [\n",
        "    {\n",
        "      \"species\": species,\n",
        "      \"organ\": organ,\n",
        "      \"reference\": reference,\n",
        "      \"paper_doi\": paper_doi,\n",
        "      \"table_link\": table_link,\n",
        "    }\n",
        "]"
      ],
      "execution_count": 4,
      "outputs": []
    },
    {
      "cell_type": "code",
      "source": [
        "!wget -O degs.xlsx $table_link"
      ],
      "metadata": {
        "id": "n8zAmZxpEQhX",
        "outputId": "e3d7991d-6cee-40aa-b21c-9fefc25ecb4a",
        "colab": {
          "base_uri": "https://localhost:8080/"
        }
      },
      "execution_count": 6,
      "outputs": [
        {
          "output_type": "stream",
          "name": "stdout",
          "text": [
            "--2023-03-18 04:53:57--  https://www.cell.com/cms/10.1016/j.cell.2021.12.018/attachment/c8933c60-a9de-4358-b669-907f776f4e87/mmc1.xlsx\n",
            "Resolving www.cell.com (www.cell.com)... 104.18.124.114, 104.18.123.114\n",
            "Connecting to www.cell.com (www.cell.com)|104.18.124.114|:443... connected.\n",
            "HTTP request sent, awaiting response... 200 OK\n",
            "Length: 2697708 (2.6M) [application/octet-stream]\n",
            "Saving to: ‘degs.xlsx’\n",
            "\n",
            "degs.xlsx           100%[===================>]   2.57M  4.09MB/s    in 0.6s    \n",
            "\n",
            "2023-03-18 04:53:59 (4.09 MB/s) - ‘degs.xlsx’ saved [2697708/2697708]\n",
            "\n"
          ]
        }
      ]
    },
    {
      "cell_type": "code",
      "metadata": {
        "id": "mFyjbuggJoZR"
      },
      "source": [
        "excel = pd.read_excel(table_name, sheet_name = None)\n",
        "\n",
        "ct = {i: i.split(' - ')[-1] for i in excel.keys()}\n",
        "\n",
        "# stacks the sheets together and makes a new column \"cell_type\" from the sheet name\n",
        "df = pd.concat(\n",
        "    excel, keys=list(excel.keys())\n",
        "    ).reset_index(0).rename(\n",
        "        columns={\"level_0\": \"celltype_id\", \"Unnamed: 0\": \"gene\"}\n",
        "        )\n",
        "# # rename the cell types to be human readable\n",
        "df[\"celltype\"] = df[\"celltype_id\"].map(ct)\n",
        "\n",
        "df['gene'] = [g.upper() for g in df['gene']]\n"
      ],
      "execution_count": 18,
      "outputs": []
    },
    {
      "cell_type": "code",
      "source": [
        "bidx = df['gene'].isin(genes_list)\n",
        "print(f'Filtered {np.sum(~bidx)} out of {len(bidx)} genes')\n",
        "df = df[bidx]"
      ],
      "metadata": {
        "id": "_ELOKaQUv_fi",
        "outputId": "8b538304-c0aa-418e-d9ae-ac4574e986e7",
        "colab": {
          "base_uri": "https://localhost:8080/"
        }
      },
      "execution_count": 19,
      "outputs": [
        {
          "output_type": "stream",
          "name": "stdout",
          "text": [
            "Filtered 1253 out of 10579 genes\n"
          ]
        }
      ]
    },
    {
      "cell_type": "code",
      "source": [
        "# Filter to Human celltypes\n",
        "df = df[[\"Human\" in ctid for ctid in df['celltype_id']]]\n",
        "\n",
        "# Clean celltype id names\n",
        "df['celltype_id'] = [ct.replace(\"Human \", \"\") for ct in df['celltype_id']]"
      ],
      "metadata": {
        "id": "Huq6jS486bpS",
        "outputId": "25ab33b6-8b37-4853-a09f-86b9defeebc6",
        "colab": {
          "base_uri": "https://localhost:8080/"
        }
      },
      "execution_count": 20,
      "outputs": [
        {
          "output_type": "stream",
          "name": "stderr",
          "text": [
            "<ipython-input-20-b70ac53aeaac>:5: SettingWithCopyWarning: \n",
            "A value is trying to be set on a copy of a slice from a DataFrame.\n",
            "Try using .loc[row_indexer,col_indexer] = value instead\n",
            "\n",
            "See the caveats in the documentation: https://pandas.pydata.org/pandas-docs/stable/user_guide/indexing.html#returning-a-view-versus-a-copy\n",
            "  df['celltype_id'] = [ct.replace(\"Human \", \"\") for ct in df['celltype_id']]\n"
          ]
        }
      ]
    },
    {
      "cell_type": "code",
      "source": [
        "df.head()"
      ],
      "metadata": {
        "id": "ZXhNf1GZdTZ5",
        "outputId": "e278f877-7327-4897-e908-07e64cea2271",
        "colab": {
          "base_uri": "https://localhost:8080/",
          "height": 461
        }
      },
      "execution_count": 21,
      "outputs": [
        {
          "output_type": "execute_result",
          "data": {
            "text/plain": [
              "        celltype_id   gene  proba_de  proba_not_de  bayes_factor    scale1  \\\n",
              "0  Endothelial DEGs  PTPRB  1.000000      0.000000     18.420681  0.002781   \n",
              "2  Endothelial DEGs  CCL14  1.000000      0.000000     18.420681  0.001054   \n",
              "3  Endothelial DEGs  STAB2  0.998996      0.001004      6.902331  0.002491   \n",
              "5  Endothelial DEGs   OIT3  0.999598      0.000402      7.819210  0.002463   \n",
              "6  Endothelial DEGs  PREX2  0.999598      0.000402      7.819210  0.000692   \n",
              "\n",
              "     scale2  lfc_mean  lfc_median   lfc_std  ...    lfc_max  raw_mean1  \\\n",
              "0  0.000023  9.485378    9.563296  2.868723  ...  19.975838   9.951658   \n",
              "2  0.000003  9.697312    9.790769  2.470375  ...  18.919907   1.691602   \n",
              "3  0.000020  9.791159   10.056086  3.454818  ...  21.830154   8.751941   \n",
              "5  0.000008  9.428432    9.619078  2.757434  ...  17.755455   3.959421   \n",
              "6  0.000010  8.944815    9.175792  2.964142  ...  18.209438   3.095977   \n",
              "\n",
              "   raw_mean2  non_zeros_proportion1  non_zeros_proportion2  \\\n",
              "0   0.009225               0.958010               0.007902   \n",
              "2   0.001997               0.286874               0.001845   \n",
              "3   0.011313               0.874735               0.009644   \n",
              "5   0.004673               0.789344               0.004279   \n",
              "6   0.003884               0.735709               0.003393   \n",
              "\n",
              "   raw_normalized_mean1  raw_normalized_mean2        score  clusters  \\\n",
              "0             25.752265              0.025601  9541.317193       NaN   \n",
              "2              3.889190              0.004641  8126.597945       NaN   \n",
              "3             22.638637              0.028717  7718.700867       NaN   \n",
              "5              9.127838              0.011509  7477.916953       NaN   \n",
              "6              7.942995              0.011404  6230.128008       NaN   \n",
              "\n",
              "                 celltype  \n",
              "0  Human Endothelial DEGs  \n",
              "2  Human Endothelial DEGs  \n",
              "3  Human Endothelial DEGs  \n",
              "5  Human Endothelial DEGs  \n",
              "6  Human Endothelial DEGs  \n",
              "\n",
              "[5 rows x 21 columns]"
            ],
            "text/html": [
              "\n",
              "  <div id=\"df-7cd20a87-6ac0-4d7d-8c50-e007b7722350\">\n",
              "    <div class=\"colab-df-container\">\n",
              "      <div>\n",
              "<style scoped>\n",
              "    .dataframe tbody tr th:only-of-type {\n",
              "        vertical-align: middle;\n",
              "    }\n",
              "\n",
              "    .dataframe tbody tr th {\n",
              "        vertical-align: top;\n",
              "    }\n",
              "\n",
              "    .dataframe thead th {\n",
              "        text-align: right;\n",
              "    }\n",
              "</style>\n",
              "<table border=\"1\" class=\"dataframe\">\n",
              "  <thead>\n",
              "    <tr style=\"text-align: right;\">\n",
              "      <th></th>\n",
              "      <th>celltype_id</th>\n",
              "      <th>gene</th>\n",
              "      <th>proba_de</th>\n",
              "      <th>proba_not_de</th>\n",
              "      <th>bayes_factor</th>\n",
              "      <th>scale1</th>\n",
              "      <th>scale2</th>\n",
              "      <th>lfc_mean</th>\n",
              "      <th>lfc_median</th>\n",
              "      <th>lfc_std</th>\n",
              "      <th>...</th>\n",
              "      <th>lfc_max</th>\n",
              "      <th>raw_mean1</th>\n",
              "      <th>raw_mean2</th>\n",
              "      <th>non_zeros_proportion1</th>\n",
              "      <th>non_zeros_proportion2</th>\n",
              "      <th>raw_normalized_mean1</th>\n",
              "      <th>raw_normalized_mean2</th>\n",
              "      <th>score</th>\n",
              "      <th>clusters</th>\n",
              "      <th>celltype</th>\n",
              "    </tr>\n",
              "  </thead>\n",
              "  <tbody>\n",
              "    <tr>\n",
              "      <th>0</th>\n",
              "      <td>Endothelial DEGs</td>\n",
              "      <td>PTPRB</td>\n",
              "      <td>1.000000</td>\n",
              "      <td>0.000000</td>\n",
              "      <td>18.420681</td>\n",
              "      <td>0.002781</td>\n",
              "      <td>0.000023</td>\n",
              "      <td>9.485378</td>\n",
              "      <td>9.563296</td>\n",
              "      <td>2.868723</td>\n",
              "      <td>...</td>\n",
              "      <td>19.975838</td>\n",
              "      <td>9.951658</td>\n",
              "      <td>0.009225</td>\n",
              "      <td>0.958010</td>\n",
              "      <td>0.007902</td>\n",
              "      <td>25.752265</td>\n",
              "      <td>0.025601</td>\n",
              "      <td>9541.317193</td>\n",
              "      <td>NaN</td>\n",
              "      <td>Human Endothelial DEGs</td>\n",
              "    </tr>\n",
              "    <tr>\n",
              "      <th>2</th>\n",
              "      <td>Endothelial DEGs</td>\n",
              "      <td>CCL14</td>\n",
              "      <td>1.000000</td>\n",
              "      <td>0.000000</td>\n",
              "      <td>18.420681</td>\n",
              "      <td>0.001054</td>\n",
              "      <td>0.000003</td>\n",
              "      <td>9.697312</td>\n",
              "      <td>9.790769</td>\n",
              "      <td>2.470375</td>\n",
              "      <td>...</td>\n",
              "      <td>18.919907</td>\n",
              "      <td>1.691602</td>\n",
              "      <td>0.001997</td>\n",
              "      <td>0.286874</td>\n",
              "      <td>0.001845</td>\n",
              "      <td>3.889190</td>\n",
              "      <td>0.004641</td>\n",
              "      <td>8126.597945</td>\n",
              "      <td>NaN</td>\n",
              "      <td>Human Endothelial DEGs</td>\n",
              "    </tr>\n",
              "    <tr>\n",
              "      <th>3</th>\n",
              "      <td>Endothelial DEGs</td>\n",
              "      <td>STAB2</td>\n",
              "      <td>0.998996</td>\n",
              "      <td>0.001004</td>\n",
              "      <td>6.902331</td>\n",
              "      <td>0.002491</td>\n",
              "      <td>0.000020</td>\n",
              "      <td>9.791159</td>\n",
              "      <td>10.056086</td>\n",
              "      <td>3.454818</td>\n",
              "      <td>...</td>\n",
              "      <td>21.830154</td>\n",
              "      <td>8.751941</td>\n",
              "      <td>0.011313</td>\n",
              "      <td>0.874735</td>\n",
              "      <td>0.009644</td>\n",
              "      <td>22.638637</td>\n",
              "      <td>0.028717</td>\n",
              "      <td>7718.700867</td>\n",
              "      <td>NaN</td>\n",
              "      <td>Human Endothelial DEGs</td>\n",
              "    </tr>\n",
              "    <tr>\n",
              "      <th>5</th>\n",
              "      <td>Endothelial DEGs</td>\n",
              "      <td>OIT3</td>\n",
              "      <td>0.999598</td>\n",
              "      <td>0.000402</td>\n",
              "      <td>7.819210</td>\n",
              "      <td>0.002463</td>\n",
              "      <td>0.000008</td>\n",
              "      <td>9.428432</td>\n",
              "      <td>9.619078</td>\n",
              "      <td>2.757434</td>\n",
              "      <td>...</td>\n",
              "      <td>17.755455</td>\n",
              "      <td>3.959421</td>\n",
              "      <td>0.004673</td>\n",
              "      <td>0.789344</td>\n",
              "      <td>0.004279</td>\n",
              "      <td>9.127838</td>\n",
              "      <td>0.011509</td>\n",
              "      <td>7477.916953</td>\n",
              "      <td>NaN</td>\n",
              "      <td>Human Endothelial DEGs</td>\n",
              "    </tr>\n",
              "    <tr>\n",
              "      <th>6</th>\n",
              "      <td>Endothelial DEGs</td>\n",
              "      <td>PREX2</td>\n",
              "      <td>0.999598</td>\n",
              "      <td>0.000402</td>\n",
              "      <td>7.819210</td>\n",
              "      <td>0.000692</td>\n",
              "      <td>0.000010</td>\n",
              "      <td>8.944815</td>\n",
              "      <td>9.175792</td>\n",
              "      <td>2.964142</td>\n",
              "      <td>...</td>\n",
              "      <td>18.209438</td>\n",
              "      <td>3.095977</td>\n",
              "      <td>0.003884</td>\n",
              "      <td>0.735709</td>\n",
              "      <td>0.003393</td>\n",
              "      <td>7.942995</td>\n",
              "      <td>0.011404</td>\n",
              "      <td>6230.128008</td>\n",
              "      <td>NaN</td>\n",
              "      <td>Human Endothelial DEGs</td>\n",
              "    </tr>\n",
              "  </tbody>\n",
              "</table>\n",
              "<p>5 rows × 21 columns</p>\n",
              "</div>\n",
              "      <button class=\"colab-df-convert\" onclick=\"convertToInteractive('df-7cd20a87-6ac0-4d7d-8c50-e007b7722350')\"\n",
              "              title=\"Convert this dataframe to an interactive table.\"\n",
              "              style=\"display:none;\">\n",
              "        \n",
              "  <svg xmlns=\"http://www.w3.org/2000/svg\" height=\"24px\"viewBox=\"0 0 24 24\"\n",
              "       width=\"24px\">\n",
              "    <path d=\"M0 0h24v24H0V0z\" fill=\"none\"/>\n",
              "    <path d=\"M18.56 5.44l.94 2.06.94-2.06 2.06-.94-2.06-.94-.94-2.06-.94 2.06-2.06.94zm-11 1L8.5 8.5l.94-2.06 2.06-.94-2.06-.94L8.5 2.5l-.94 2.06-2.06.94zm10 10l.94 2.06.94-2.06 2.06-.94-2.06-.94-.94-2.06-.94 2.06-2.06.94z\"/><path d=\"M17.41 7.96l-1.37-1.37c-.4-.4-.92-.59-1.43-.59-.52 0-1.04.2-1.43.59L10.3 9.45l-7.72 7.72c-.78.78-.78 2.05 0 2.83L4 21.41c.39.39.9.59 1.41.59.51 0 1.02-.2 1.41-.59l7.78-7.78 2.81-2.81c.8-.78.8-2.07 0-2.86zM5.41 20L4 18.59l7.72-7.72 1.47 1.35L5.41 20z\"/>\n",
              "  </svg>\n",
              "      </button>\n",
              "      \n",
              "  <style>\n",
              "    .colab-df-container {\n",
              "      display:flex;\n",
              "      flex-wrap:wrap;\n",
              "      gap: 12px;\n",
              "    }\n",
              "\n",
              "    .colab-df-convert {\n",
              "      background-color: #E8F0FE;\n",
              "      border: none;\n",
              "      border-radius: 50%;\n",
              "      cursor: pointer;\n",
              "      display: none;\n",
              "      fill: #1967D2;\n",
              "      height: 32px;\n",
              "      padding: 0 0 0 0;\n",
              "      width: 32px;\n",
              "    }\n",
              "\n",
              "    .colab-df-convert:hover {\n",
              "      background-color: #E2EBFA;\n",
              "      box-shadow: 0px 1px 2px rgba(60, 64, 67, 0.3), 0px 1px 3px 1px rgba(60, 64, 67, 0.15);\n",
              "      fill: #174EA6;\n",
              "    }\n",
              "\n",
              "    [theme=dark] .colab-df-convert {\n",
              "      background-color: #3B4455;\n",
              "      fill: #D2E3FC;\n",
              "    }\n",
              "\n",
              "    [theme=dark] .colab-df-convert:hover {\n",
              "      background-color: #434B5C;\n",
              "      box-shadow: 0px 1px 3px 1px rgba(0, 0, 0, 0.15);\n",
              "      filter: drop-shadow(0px 1px 2px rgba(0, 0, 0, 0.3));\n",
              "      fill: #FFFFFF;\n",
              "    }\n",
              "  </style>\n",
              "\n",
              "      <script>\n",
              "        const buttonEl =\n",
              "          document.querySelector('#df-7cd20a87-6ac0-4d7d-8c50-e007b7722350 button.colab-df-convert');\n",
              "        buttonEl.style.display =\n",
              "          google.colab.kernel.accessAllowed ? 'block' : 'none';\n",
              "\n",
              "        async function convertToInteractive(key) {\n",
              "          const element = document.querySelector('#df-7cd20a87-6ac0-4d7d-8c50-e007b7722350');\n",
              "          const dataTable =\n",
              "            await google.colab.kernel.invokeFunction('convertToInteractive',\n",
              "                                                     [key], {});\n",
              "          if (!dataTable) return;\n",
              "\n",
              "          const docLinkHtml = 'Like what you see? Visit the ' +\n",
              "            '<a target=\"_blank\" href=https://colab.research.google.com/notebooks/data_table.ipynb>data table notebook</a>'\n",
              "            + ' to learn more about interactive tables.';\n",
              "          element.innerHTML = '';\n",
              "          dataTable['output_type'] = 'display_data';\n",
              "          await google.colab.output.renderOutput(dataTable, element);\n",
              "          const docLink = document.createElement('div');\n",
              "          docLink.innerHTML = docLinkHtml;\n",
              "          element.appendChild(docLink);\n",
              "        }\n",
              "      </script>\n",
              "    </div>\n",
              "  </div>\n",
              "  "
            ]
          },
          "metadata": {},
          "execution_count": 21
        }
      ]
    },
    {
      "cell_type": "code",
      "source": [
        "min_mean = 15\n",
        "max_pval = 0.05\n",
        "min_lfc = 1.5\n",
        "max_gene_shares = 10\n",
        "max_per_celltype = 20\n",
        "\n",
        "# filter by criteria\n",
        "dfc = df.query(f\"raw_normalized_mean1 >= {min_mean} & proba_not_de <= {max_pval} & lfc_mean >= {min_lfc}\")\n",
        "\n",
        "# mask out genes that are shared between max_gene_shares cell type\n",
        "non_repeat_genes = dfc[\"gene\"].value_counts()[dfc[\"gene\"].value_counts() < max_gene_shares].index.values\n",
        "\n",
        "m = dfc[dfc.gene.isin(non_repeat_genes)].sort_values('non_zeros_proportion1', ascending = True)\n",
        "\n",
        "# max number to sample is equal to the min number of genes across all celltype\n",
        "n_sample = min(m[\"celltype_id\"].value_counts().min(), max_per_celltype)\n",
        "\n",
        "# sample n_sample genes\n",
        "markers = m.groupby('celltype_id').tail(10) # Set n_sample manually because some celltypes have low number of markers\n",
        "markers_dict = markers.groupby(\"celltype_id\")[\"gene\"].apply(lambda x: list(x)).to_dict()"
      ],
      "metadata": {
        "id": "Ye2AfXYYvbtk"
      },
      "execution_count": 22,
      "outputs": []
    },
    {
      "cell_type": "code",
      "metadata": {
        "colab": {
          "base_uri": "https://localhost:8080/"
        },
        "id": "imWNsPLfXZPY",
        "outputId": "6a3a5660-6e6e-4221-fb0e-7207fb535957"
      },
      "source": [
        "markers.celltype_id.value_counts()"
      ],
      "execution_count": 28,
      "outputs": [
        {
          "output_type": "execute_result",
          "data": {
            "text/plain": [
              "T cell DEGs               10\n",
              "Basophil DEGs             10\n",
              "Mig. cDC DEGs             10\n",
              "Monocyte DEGs             10\n",
              "pDC DEGs                  10\n",
              "Hepatocyte DEGs           10\n",
              "Macrophage DEGs           10\n",
              "Endothelial DEGs          10\n",
              "Neutrophil DEGs           10\n",
              "Fibroblast DEGs           10\n",
              "Plasma cell DEGs          10\n",
              "Cholangiocyte DEGs        10\n",
              "cDC1 DEGs                 10\n",
              "cDC2 DEGs                  9\n",
              "B cell DEGs                7\n",
              "Circ. NK NKT cell DEGs     5\n",
              "Res. NK cell DEGs          5\n",
              "Name: celltype_id, dtype: int64"
            ]
          },
          "metadata": {},
          "execution_count": 28
        }
      ]
    },
    {
      "cell_type": "code",
      "metadata": {
        "id": "SO1p80avKyL4"
      },
      "source": [
        "write_markers(\"markers.txt\", markers_dict, header)"
      ],
      "execution_count": 29,
      "outputs": []
    },
    {
      "cell_type": "code",
      "metadata": {
        "id": "zQYenNIoYj2K",
        "outputId": "fc0b9a77-dc01-4abf-f900-4d95a01e2ef7",
        "colab": {
          "base_uri": "https://localhost:8080/"
        }
      },
      "source": [
        "!cat markers.txt"
      ],
      "execution_count": 30,
      "outputs": [
        {
          "output_type": "stream",
          "name": "stdout",
          "text": [
            "# homo_sapiens\tliver\thg19\thttps://doi.org/10.1016/j.cell.2021.12.018\thttps://www.cell.com/cms/10.1016/j.cell.2021.12.018/attachment/c8933c60-a9de-4358-b669-907f776f4e87/mmc1.xlsx\n",
            "B cell DEGs\tLTB,HLA-DRB1,CD79A,HLA-DPA1,HLA-DPB1,HLA-DRA,CD74\n",
            "Basophil DEGs\tSERPINB1,CTSG,JUN,ANXA1,HPGDS,HPGD,VIM,CD63,CPA3,TPSAB1\n",
            "Cholangiocyte DEGs\tSORBS2,CTNND2,DCDC2,GLIS3,ZBTB20,FGFR2,PKHD1,NFIB,BICC1,ANXA4\n",
            "Circ. NK NKT cell DEGs\tFGFBP2,PRF1,GZMB,GNLY,NKG7\n",
            "Endothelial DEGs\tAKAP12,MS4A6A,STAB2,STAB1,ST6GAL1,PPFIBP1,DNASE1L3,LDB2,LIFR,PTPRB\n",
            "Fibroblast DEGs\tIGFBP7,CCBE1,ZFPM2,ZEB2,EXT1,ANKS1A,ANK3,RBMS3,RBPMS,CALD1\n",
            "Hepatocyte DEGs\tPDE3B,ZBTB20,CYP4F3,DST,CYP3A5,ELL2,ACSL1,CFH,ERRFI1,SORBS2\n",
            "Macrophage DEGs\tC1QB,HLA-DPB1,CTSS,FTL,HLA-DRA,C1QA,CD74,PSAP,CTSB,MS4A6A\n",
            "Mig. cDC DEGs\tHLA-DQB1,VIM,BIRC3,HLA-DRB1,HLA-DPB1,HLA-DQA1,HLA-DRA,HLA-DPA1,TXN,CD74\n",
            "Monocyte DEGs\tCST3,PSAP,LST1,CTSS,S100A11,FCER1G,SAT1,AIF1,FTL,FTH1\n",
            "Neutrophil DEGs\tCTSS,DUSP1,SAT1,S100A6,S100A11,FOS,NEAT1,S100A9,S100A8,FTH1\n",
            "Plasma cell DEGs\tJUN,IGLL5,CD74,FKBP11,SEC11C,XBP1,HSP90B1,HERPUD1,MZB1,SSR4\n",
            "Res. NK cell DEGs\tCCL3,FCER1G,CMC1,CCL4,CD7\n",
            "T cell DEGs\tKLRB1,IL7R,GZMK,CCL4,DUSP2,GZMA,NKG7,CD69,CCL5,IL32\n",
            "cDC1 DEGs\tLYZ,SNX3,HLA-DQA1,HLA-DQB1,CD74,CST3,HLA-DPB1,HLA-DRB1,HLA-DPA1,HLA-DRA\n",
            "cDC2 DEGs\tLYZ,HLA-DQB1,HLA-DQA1,CST3,HLA-DPA1,HLA-DRB1,HLA-DPB1,HLA-DRA,CD74\n",
            "pDC DEGs\tIRF8,ITM2C,ALOX5AP,IRF7,GZMB,HLA-DRA,PLAC8,SSR4,GPX1,CD74\n"
          ]
        }
      ]
    },
    {
      "cell_type": "code",
      "source": [
        "markers.groupby(\"celltype\")[\"non_zeros_proportion1\"].mean().sort_values()\n"
      ],
      "metadata": {
        "id": "u5Qv68XMwliM",
        "outputId": "3752889e-02ab-4870-aa15-f1f97eb23734",
        "colab": {
          "base_uri": "https://localhost:8080/"
        }
      },
      "execution_count": 15,
      "outputs": [
        {
          "output_type": "execute_result",
          "data": {
            "text/plain": [
              "celltype\n",
              "Human T cell DEGs               0.770394\n",
              "Human Cholangiocyte DEGs        0.854033\n",
              "Human Basophil DEGs             0.858355\n",
              "Human Fibroblast DEGs           0.862372\n",
              "Human Endothelial DEGs          0.905081\n",
              "Human B cell DEGs               0.935745\n",
              "Human Neutrophil DEGs           0.936966\n",
              "Human Res. NK cell DEGs         0.942188\n",
              "Human Plasma cell DEGs          0.942489\n",
              "Human Macrophage DEGs           0.944587\n",
              "Human Circ. NK NKT cell DEGs    0.947991\n",
              "Human Hepatocyte DEGs           0.962095\n",
              "Human pDC DEGs                  0.964803\n",
              "Human Monocyte DEGs             0.982429\n",
              "Human Mig. cDC DEGs             0.984615\n",
              "Human cDC2 DEGs                 0.993449\n",
              "Human cDC1 DEGs                 0.998898\n",
              "Name: non_zeros_proportion1, dtype: float64"
            ]
          },
          "metadata": {},
          "execution_count": 15
        }
      ]
    },
    {
      "cell_type": "code",
      "source": [],
      "metadata": {
        "id": "uIlMOopKwpRQ"
      },
      "execution_count": 15,
      "outputs": []
    }
  ]
}