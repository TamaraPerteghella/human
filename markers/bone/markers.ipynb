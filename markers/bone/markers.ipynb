{
  "nbformat": 4,
  "nbformat_minor": 0,
  "metadata": {
    "colab": {
      "name": "bone.ipynb",
      "provenance": [],
      "include_colab_link": true
    },
    "kernelspec": {
      "name": "python3",
      "display_name": "Python 3"
    },
    "language_info": {
      "name": "python"
    }
  },
  "cells": [
    {
      "cell_type": "markdown",
      "metadata": {
        "id": "view-in-github",
        "colab_type": "text"
      },
      "source": [
        "<a href=\"https://colab.research.google.com/github/cellatlas/human/blob/master/markers/bone/markers.ipynb\" target=\"_parent\"><img src=\"https://colab.research.google.com/assets/colab-badge.svg\" alt=\"Open In Colab\"/></a>"
      ]
    },
    {
      "cell_type": "code",
      "source": [
        "!pip install -q gget\n",
        "!pip install -q git+https://github.com/sbooeshaghi/ec"
      ],
      "metadata": {
        "id": "lzL1t_ICY2Yy",
        "outputId": "4b195530-72b7-49db-8d8f-aa70ee5dee57",
        "colab": {
          "base_uri": "https://localhost:8080/"
        }
      },
      "execution_count": 1,
      "outputs": [
        {
          "output_type": "stream",
          "name": "stdout",
          "text": [
            "\u001b[2K     \u001b[90m━━━━━━━━━━━━━━━━━━━━━━━━━━━━━━━━━━━━━━━━\u001b[0m \u001b[32m2.2/2.2 MB\u001b[0m \u001b[31m23.4 MB/s\u001b[0m eta \u001b[36m0:00:00\u001b[0m\n",
            "\u001b[2K     \u001b[90m━━━━━━━━━━━━━━━━━━━━━━━━━━━━━━━━━━━━━━━━\u001b[0m \u001b[32m25.2/25.2 MB\u001b[0m \u001b[31m21.2 MB/s\u001b[0m eta \u001b[36m0:00:00\u001b[0m\n",
            "\u001b[2K     \u001b[90m━━━━━━━━━━━━━━━━━━━━━━━━━━━━━━━━━━━━━━━━\u001b[0m \u001b[32m1.6/1.6 MB\u001b[0m \u001b[31m19.4 MB/s\u001b[0m eta \u001b[36m0:00:00\u001b[0m\n",
            "\u001b[?25h  Preparing metadata (setup.py) ... \u001b[?25l\u001b[?25hdone\n",
            "  Building wheel for ec (setup.py) ... \u001b[?25l\u001b[?25hdone\n"
          ]
        }
      ]
    },
    {
      "cell_type": "code",
      "metadata": {
        "id": "KQUMnXBEIwIZ"
      },
      "source": [
        "import pandas as pd\n",
        "import numpy as np\n",
        "from ec.utils import write_markers"
      ],
      "execution_count": 2,
      "outputs": []
    },
    {
      "cell_type": "code",
      "source": [
        "# Get valid gene names\n",
        "!wget -O genes.txt https://caltech.box.com/shared/static/4r5prhstoq2j1lk8l56bpwqqvfj54q2u.txt\n",
        "genes_list = pd.read_csv('genes.txt', header = None)[0].values"
      ],
      "metadata": {
        "id": "Mm89zNdmUwY1",
        "outputId": "038aac81-5223-4a9b-c48f-2dc418ae5dee",
        "colab": {
          "base_uri": "https://localhost:8080/"
        }
      },
      "execution_count": 3,
      "outputs": [
        {
          "output_type": "stream",
          "name": "stdout",
          "text": [
            "--2023-03-18 04:37:24--  https://caltech.box.com/shared/static/4r5prhstoq2j1lk8l56bpwqqvfj54q2u.txt\n",
            "Resolving caltech.box.com (caltech.box.com)... 74.112.186.144\n",
            "Connecting to caltech.box.com (caltech.box.com)|74.112.186.144|:443... connected.\n",
            "HTTP request sent, awaiting response... 301 Moved Permanently\n",
            "Location: /public/static/4r5prhstoq2j1lk8l56bpwqqvfj54q2u.txt [following]\n",
            "--2023-03-18 04:37:24--  https://caltech.box.com/public/static/4r5prhstoq2j1lk8l56bpwqqvfj54q2u.txt\n",
            "Reusing existing connection to caltech.box.com:443.\n",
            "HTTP request sent, awaiting response... 301 Moved Permanently\n",
            "Location: https://caltech.app.box.com/public/static/4r5prhstoq2j1lk8l56bpwqqvfj54q2u.txt [following]\n",
            "--2023-03-18 04:37:24--  https://caltech.app.box.com/public/static/4r5prhstoq2j1lk8l56bpwqqvfj54q2u.txt\n",
            "Resolving caltech.app.box.com (caltech.app.box.com)... 74.112.186.144\n",
            "Connecting to caltech.app.box.com (caltech.app.box.com)|74.112.186.144|:443... connected.\n",
            "HTTP request sent, awaiting response... 302 Found\n",
            "Location: https://dl2.boxcloud.com/d/1/b1!3RYLqCsBT8mjJv-8M0tuvENHDsq3SMeXItHJF-CJBBzkDLkW_J2cnZN61CYCnAH09vGqXfqFZ2fkXthJWugYwirGLh43fNkkJzcrb4Uk2KnYN3l_GP22mwoD3BnR-c80F1WXpjXWmi8xkyIBWmlCbwDGqvq6MK0PhHmblr5mg_HoUF3p2Kw1_aQ4ZlDebUQKa6V0ATt5TQ1IT4IbB0ZMMA-da_8P2o7FjQ6Eouu8BIAu9lrrpmEvaih4b6q7vZHKBweTmeVZ2d6-BnTMH4AX5pvpCbgaPi-CT3iXHCMG7mgjU9nwhl69NjzmWCi3VrXqSxipoKe8Ni6b7-8SnFqlwtnP9SG_91h3ItwD84ewuFRJN7NzAvcXSYhNQoCYG9Yk4olHbyYpRTjcuRhdbf_aS0W8gS0H2Q5U724AS9LJEmSLe0hDpPx5phuEQcqPlDCfFXwdU5l2yrWeMVumDuD56kKwc1JI_sVQDTcKmFhRuDM1avu689jLU9VRV0IaMmdRIZHyf0I6c57JIYYdvkVBLQqQUmabnpYhvp5xe5xY9kvr_PnXcXtzFuDMuolwM8xCCcxlB5ny0jQyjgpIZzAh4vP4P6vtF7Nd__PpPmp4Z7GOCTCCxz78m4BIZF2XQvqzG3y4J3YYvqdH6MsR0yBbPlsIYPKzFKvpGOnHt-Xeu_dA7tl3dxvsCY2OZqG6EAnRY97ZhUPkRsaP9B_-HYw5OpOY4BQGZ_xx1evFivJ758uKlg0VfH3ffLYqjZij0i5h3DImocVJdaFJanXe95JKWt0P30HGQoT0yMyT7uCRVgaSepri8PzUY3au6lPXKjsBBqLzA0jg1b3Y9XyUCmBQ_zlftMvAWQGxEOtzM-k-sZ8RWVJl_lyxe7uHcahNS9HF8bYGI6lJ_Fd12wt05RKCG8ifKGoLVcjnfFZl-h-azZjRr_aw4KKqdyDJqT0yukKV3yv0rQzzK1BzVuxaWZNNV2oibhx_cfRRc42ojYxq9VW5BeMM3vW5vQQTn-IZSnp7d_j-Z-_YjgNsnuQpWykR2eWe-lNhkh5U6o4aCtOsyzq5IeZUpGqzlj-P_Nn754BMWRkLnSw55av9FtlEr662DsXQrKf5U1jC-dKgpzKx27U-K33DeaEG55U1w_1lMMhZYPsmJHYcAccKE6NcCELYrTpSlAFcP7AVjBL_XgN6UB15oJUFkDyZYq_C13Auixa9ZBpbLuD0BASgN68QoJXFeXPhvnskyqgr6AeBvpyn-psZxPB01iSoHmESrTM9IG21E_EtRZeqkCoxSVUc7UV70LhptnIp5C52f6HFNtwXhXYfIOsyCZtwUITnqNj6KXa5SZAifrF392ujEnd7B-RN0N4aA5dFyS9TGbRt7IDJ/download [following]\n",
            "--2023-03-18 04:37:24--  https://dl2.boxcloud.com/d/1/b1!3RYLqCsBT8mjJv-8M0tuvENHDsq3SMeXItHJF-CJBBzkDLkW_J2cnZN61CYCnAH09vGqXfqFZ2fkXthJWugYwirGLh43fNkkJzcrb4Uk2KnYN3l_GP22mwoD3BnR-c80F1WXpjXWmi8xkyIBWmlCbwDGqvq6MK0PhHmblr5mg_HoUF3p2Kw1_aQ4ZlDebUQKa6V0ATt5TQ1IT4IbB0ZMMA-da_8P2o7FjQ6Eouu8BIAu9lrrpmEvaih4b6q7vZHKBweTmeVZ2d6-BnTMH4AX5pvpCbgaPi-CT3iXHCMG7mgjU9nwhl69NjzmWCi3VrXqSxipoKe8Ni6b7-8SnFqlwtnP9SG_91h3ItwD84ewuFRJN7NzAvcXSYhNQoCYG9Yk4olHbyYpRTjcuRhdbf_aS0W8gS0H2Q5U724AS9LJEmSLe0hDpPx5phuEQcqPlDCfFXwdU5l2yrWeMVumDuD56kKwc1JI_sVQDTcKmFhRuDM1avu689jLU9VRV0IaMmdRIZHyf0I6c57JIYYdvkVBLQqQUmabnpYhvp5xe5xY9kvr_PnXcXtzFuDMuolwM8xCCcxlB5ny0jQyjgpIZzAh4vP4P6vtF7Nd__PpPmp4Z7GOCTCCxz78m4BIZF2XQvqzG3y4J3YYvqdH6MsR0yBbPlsIYPKzFKvpGOnHt-Xeu_dA7tl3dxvsCY2OZqG6EAnRY97ZhUPkRsaP9B_-HYw5OpOY4BQGZ_xx1evFivJ758uKlg0VfH3ffLYqjZij0i5h3DImocVJdaFJanXe95JKWt0P30HGQoT0yMyT7uCRVgaSepri8PzUY3au6lPXKjsBBqLzA0jg1b3Y9XyUCmBQ_zlftMvAWQGxEOtzM-k-sZ8RWVJl_lyxe7uHcahNS9HF8bYGI6lJ_Fd12wt05RKCG8ifKGoLVcjnfFZl-h-azZjRr_aw4KKqdyDJqT0yukKV3yv0rQzzK1BzVuxaWZNNV2oibhx_cfRRc42ojYxq9VW5BeMM3vW5vQQTn-IZSnp7d_j-Z-_YjgNsnuQpWykR2eWe-lNhkh5U6o4aCtOsyzq5IeZUpGqzlj-P_Nn754BMWRkLnSw55av9FtlEr662DsXQrKf5U1jC-dKgpzKx27U-K33DeaEG55U1w_1lMMhZYPsmJHYcAccKE6NcCELYrTpSlAFcP7AVjBL_XgN6UB15oJUFkDyZYq_C13Auixa9ZBpbLuD0BASgN68QoJXFeXPhvnskyqgr6AeBvpyn-psZxPB01iSoHmESrTM9IG21E_EtRZeqkCoxSVUc7UV70LhptnIp5C52f6HFNtwXhXYfIOsyCZtwUITnqNj6KXa5SZAifrF392ujEnd7B-RN0N4aA5dFyS9TGbRt7IDJ/download\n",
            "Resolving dl2.boxcloud.com (dl2.boxcloud.com)... 74.112.186.128\n",
            "Connecting to dl2.boxcloud.com (dl2.boxcloud.com)|74.112.186.128|:443... connected.\n",
            "HTTP request sent, awaiting response... 200 OK\n",
            "Length: 535253 (523K) [text/plain]\n",
            "Saving to: ‘genes.txt’\n",
            "\n",
            "genes.txt           100%[===================>] 522.71K  3.40MB/s    in 0.2s    \n",
            "\n",
            "2023-03-18 04:37:25 (3.40 MB/s) - ‘genes.txt’ saved [535253/535253]\n",
            "\n"
          ]
        }
      ]
    },
    {
      "cell_type": "markdown",
      "metadata": {
        "id": "1teufrMyJbx5"
      },
      "source": [
        "# Bone"
      ]
    },
    {
      "cell_type": "code",
      "metadata": {
        "id": "dSrBA-IiJYZ-"
      },
      "source": [
        "species = \"homo_sapiens\"\n",
        "organ = \"bone\"\n",
        "reference = \"GRCh38\"\n",
        "paper_doi = \"https://doi.org/10.1038/s41422-021-00467-z\"\n",
        "table_link = \"https://static-content.springer.com/esm/art%3A10.1038%2Fs41422-021-00467-z/MediaObjects/41422_2021_467_MOESM7_ESM.xlsx\"\n",
        "\n",
        "# don't include in header\n",
        "table_name = \"41422_2021_467_MOESM7_ESM.xlsx\"\n",
        "\n",
        "header = [\n",
        "    {\n",
        "      \"species\": species,\n",
        "      \"organ\": organ,\n",
        "      \"reference\": reference,\n",
        "      \"paper_doi\": paper_doi,\n",
        "      \"table_link\": table_link,\n",
        "    }\n",
        "]"
      ],
      "execution_count": 4,
      "outputs": []
    },
    {
      "cell_type": "code",
      "metadata": {
        "id": "mFyjbuggJoZR"
      },
      "source": [
        "excel = pd.read_excel(table_link, sheet_name=None)"
      ],
      "execution_count": 5,
      "outputs": []
    },
    {
      "cell_type": "code",
      "metadata": {
        "colab": {
          "base_uri": "https://localhost:8080/"
        },
        "id": "DBqV0QXqJruU",
        "outputId": "2db09de0-2f59-47d0-ea61-424e752e91e9"
      },
      "source": [
        "excel.keys()"
      ],
      "execution_count": 6,
      "outputs": [
        {
          "output_type": "execute_result",
          "data": {
            "text/plain": [
              "dict_keys(['legends', 'Degs human_limb&bone Fig. 1d', 'Degs human long bone Fig. S3b', 'Degs human calvaria Fig. 6b', 'Degs mouse_E11.5 Fig. S2c', 'Degs mouse_E15.5 Fig. S3d'])"
            ]
          },
          "metadata": {},
          "execution_count": 6
        }
      ]
    },
    {
      "cell_type": "code",
      "metadata": {
        "id": "ERiJCDL_JsXx"
      },
      "source": [
        "df = excel['Degs human_limb&bone Fig. 1d'].rename(columns={\"cluster\": \"celltype\"})"
      ],
      "execution_count": 7,
      "outputs": []
    },
    {
      "cell_type": "code",
      "source": [
        "# Filter out genes not present in reference\n",
        "bidx = df['gene'].isin(genes_list)\n",
        "print(f'Filtered {np.sum(~bidx)} out of {len(bidx)} genes')\n",
        "df = df[bidx]"
      ],
      "metadata": {
        "id": "Jk1DJYNRZO4T",
        "outputId": "f86118b8-4a9f-4351-e73c-6b3aedadafa3",
        "colab": {
          "base_uri": "https://localhost:8080/"
        }
      },
      "execution_count": 8,
      "outputs": [
        {
          "output_type": "stream",
          "name": "stdout",
          "text": [
            "Filtered 23 out of 1629 genes\n"
          ]
        }
      ]
    },
    {
      "cell_type": "code",
      "metadata": {
        "colab": {
          "base_uri": "https://localhost:8080/",
          "height": 206
        },
        "id": "Rqmq9EBKJ1ez",
        "outputId": "c3397956-6afa-4193-dd11-d80538678e1b"
      },
      "source": [
        "df.head()"
      ],
      "execution_count": 9,
      "outputs": [
        {
          "output_type": "execute_result",
          "data": {
            "text/plain": [
              "  celltype    gene  logfoldchanges  pvals_adj\n",
              "0     LBM1   H2AFZ        1.734192        0.0\n",
              "1     LBM1  RANBP1        1.468134        0.0\n",
              "3     LBM1   DUSP6        2.428796        0.0\n",
              "4     LBM1   HMGA1        1.814476        0.0\n",
              "5     LBM1   HSPD1        1.229231        0.0"
            ],
            "text/html": [
              "\n",
              "  <div id=\"df-46764e33-4ab1-4dba-8e69-2260c57235ae\">\n",
              "    <div class=\"colab-df-container\">\n",
              "      <div>\n",
              "<style scoped>\n",
              "    .dataframe tbody tr th:only-of-type {\n",
              "        vertical-align: middle;\n",
              "    }\n",
              "\n",
              "    .dataframe tbody tr th {\n",
              "        vertical-align: top;\n",
              "    }\n",
              "\n",
              "    .dataframe thead th {\n",
              "        text-align: right;\n",
              "    }\n",
              "</style>\n",
              "<table border=\"1\" class=\"dataframe\">\n",
              "  <thead>\n",
              "    <tr style=\"text-align: right;\">\n",
              "      <th></th>\n",
              "      <th>celltype</th>\n",
              "      <th>gene</th>\n",
              "      <th>logfoldchanges</th>\n",
              "      <th>pvals_adj</th>\n",
              "    </tr>\n",
              "  </thead>\n",
              "  <tbody>\n",
              "    <tr>\n",
              "      <th>0</th>\n",
              "      <td>LBM1</td>\n",
              "      <td>H2AFZ</td>\n",
              "      <td>1.734192</td>\n",
              "      <td>0.0</td>\n",
              "    </tr>\n",
              "    <tr>\n",
              "      <th>1</th>\n",
              "      <td>LBM1</td>\n",
              "      <td>RANBP1</td>\n",
              "      <td>1.468134</td>\n",
              "      <td>0.0</td>\n",
              "    </tr>\n",
              "    <tr>\n",
              "      <th>3</th>\n",
              "      <td>LBM1</td>\n",
              "      <td>DUSP6</td>\n",
              "      <td>2.428796</td>\n",
              "      <td>0.0</td>\n",
              "    </tr>\n",
              "    <tr>\n",
              "      <th>4</th>\n",
              "      <td>LBM1</td>\n",
              "      <td>HMGA1</td>\n",
              "      <td>1.814476</td>\n",
              "      <td>0.0</td>\n",
              "    </tr>\n",
              "    <tr>\n",
              "      <th>5</th>\n",
              "      <td>LBM1</td>\n",
              "      <td>HSPD1</td>\n",
              "      <td>1.229231</td>\n",
              "      <td>0.0</td>\n",
              "    </tr>\n",
              "  </tbody>\n",
              "</table>\n",
              "</div>\n",
              "      <button class=\"colab-df-convert\" onclick=\"convertToInteractive('df-46764e33-4ab1-4dba-8e69-2260c57235ae')\"\n",
              "              title=\"Convert this dataframe to an interactive table.\"\n",
              "              style=\"display:none;\">\n",
              "        \n",
              "  <svg xmlns=\"http://www.w3.org/2000/svg\" height=\"24px\"viewBox=\"0 0 24 24\"\n",
              "       width=\"24px\">\n",
              "    <path d=\"M0 0h24v24H0V0z\" fill=\"none\"/>\n",
              "    <path d=\"M18.56 5.44l.94 2.06.94-2.06 2.06-.94-2.06-.94-.94-2.06-.94 2.06-2.06.94zm-11 1L8.5 8.5l.94-2.06 2.06-.94-2.06-.94L8.5 2.5l-.94 2.06-2.06.94zm10 10l.94 2.06.94-2.06 2.06-.94-2.06-.94-.94-2.06-.94 2.06-2.06.94z\"/><path d=\"M17.41 7.96l-1.37-1.37c-.4-.4-.92-.59-1.43-.59-.52 0-1.04.2-1.43.59L10.3 9.45l-7.72 7.72c-.78.78-.78 2.05 0 2.83L4 21.41c.39.39.9.59 1.41.59.51 0 1.02-.2 1.41-.59l7.78-7.78 2.81-2.81c.8-.78.8-2.07 0-2.86zM5.41 20L4 18.59l7.72-7.72 1.47 1.35L5.41 20z\"/>\n",
              "  </svg>\n",
              "      </button>\n",
              "      \n",
              "  <style>\n",
              "    .colab-df-container {\n",
              "      display:flex;\n",
              "      flex-wrap:wrap;\n",
              "      gap: 12px;\n",
              "    }\n",
              "\n",
              "    .colab-df-convert {\n",
              "      background-color: #E8F0FE;\n",
              "      border: none;\n",
              "      border-radius: 50%;\n",
              "      cursor: pointer;\n",
              "      display: none;\n",
              "      fill: #1967D2;\n",
              "      height: 32px;\n",
              "      padding: 0 0 0 0;\n",
              "      width: 32px;\n",
              "    }\n",
              "\n",
              "    .colab-df-convert:hover {\n",
              "      background-color: #E2EBFA;\n",
              "      box-shadow: 0px 1px 2px rgba(60, 64, 67, 0.3), 0px 1px 3px 1px rgba(60, 64, 67, 0.15);\n",
              "      fill: #174EA6;\n",
              "    }\n",
              "\n",
              "    [theme=dark] .colab-df-convert {\n",
              "      background-color: #3B4455;\n",
              "      fill: #D2E3FC;\n",
              "    }\n",
              "\n",
              "    [theme=dark] .colab-df-convert:hover {\n",
              "      background-color: #434B5C;\n",
              "      box-shadow: 0px 1px 3px 1px rgba(0, 0, 0, 0.15);\n",
              "      filter: drop-shadow(0px 1px 2px rgba(0, 0, 0, 0.3));\n",
              "      fill: #FFFFFF;\n",
              "    }\n",
              "  </style>\n",
              "\n",
              "      <script>\n",
              "        const buttonEl =\n",
              "          document.querySelector('#df-46764e33-4ab1-4dba-8e69-2260c57235ae button.colab-df-convert');\n",
              "        buttonEl.style.display =\n",
              "          google.colab.kernel.accessAllowed ? 'block' : 'none';\n",
              "\n",
              "        async function convertToInteractive(key) {\n",
              "          const element = document.querySelector('#df-46764e33-4ab1-4dba-8e69-2260c57235ae');\n",
              "          const dataTable =\n",
              "            await google.colab.kernel.invokeFunction('convertToInteractive',\n",
              "                                                     [key], {});\n",
              "          if (!dataTable) return;\n",
              "\n",
              "          const docLinkHtml = 'Like what you see? Visit the ' +\n",
              "            '<a target=\"_blank\" href=https://colab.research.google.com/notebooks/data_table.ipynb>data table notebook</a>'\n",
              "            + ' to learn more about interactive tables.';\n",
              "          element.innerHTML = '';\n",
              "          dataTable['output_type'] = 'display_data';\n",
              "          await google.colab.output.renderOutput(dataTable, element);\n",
              "          const docLink = document.createElement('div');\n",
              "          docLink.innerHTML = docLinkHtml;\n",
              "          element.appendChild(docLink);\n",
              "        }\n",
              "      </script>\n",
              "    </div>\n",
              "  </div>\n",
              "  "
            ]
          },
          "metadata": {},
          "execution_count": 9
        }
      ]
    },
    {
      "cell_type": "code",
      "source": [
        "min_mean = 100\n",
        "max_pval = 1e-10\n",
        "min_lfc = 1\n",
        "max_gene_shares = 2\n",
        "max_per_celltype = 20\n",
        "\n",
        "# filter by criteria\n",
        "dfc = df.query(f\"pvals_adj <= {max_pval} & logfoldchanges >= {min_lfc}\")\n",
        "\n",
        "# mask out genes that are shared between max_gene_shares cell type\n",
        "non_repeat_genes = dfc[\"gene\"].value_counts()[dfc[\"gene\"].value_counts() < max_gene_shares].index.values\n",
        "\n",
        "m = dfc[dfc.gene.isin(non_repeat_genes)].sort_values('logfoldchanges', ascending = True)\n",
        "\n",
        "# max number to sample is equal to the min number of genes across all celltype\n",
        "n_sample = min(m[\"celltype\"].value_counts().min(), max_per_celltype)"
      ],
      "metadata": {
        "id": "BkhNMZrSjxGA"
      },
      "execution_count": 10,
      "outputs": []
    },
    {
      "cell_type": "code",
      "metadata": {
        "id": "XjyPVTI-Kp-P"
      },
      "source": [
        "# sample n_sample genes\n",
        "markers = m.groupby(\"celltype\").sample(n=n_sample)\n",
        "markers_dict = markers.groupby(\"celltype\")[\"gene\"].apply(lambda x: list(x)).to_dict()"
      ],
      "execution_count": 11,
      "outputs": []
    },
    {
      "cell_type": "code",
      "metadata": {
        "colab": {
          "base_uri": "https://localhost:8080/"
        },
        "id": "St0Il3TXKxRB",
        "outputId": "634bb913-63b1-404a-8a37-9fb50a7720df"
      },
      "source": [
        "markers.celltype.value_counts()"
      ],
      "execution_count": 12,
      "outputs": [
        {
          "output_type": "execute_result",
          "data": {
            "text/plain": [
              "Chondrocyte         9\n",
              "Chondrocyteblast    9\n",
              "Endothelium         9\n",
              "Epithelium1         9\n",
              "Erythrocyte         9\n",
              "LBM1                9\n",
              "LBM2                9\n",
              "LBM3                9\n",
              "Marophage           9\n",
              "Myocyte             9\n",
              "Myoprogenitor       9\n",
              "OCP                 9\n",
              "Osteoprogenitor     9\n",
              "PMSC                9\n",
              "Schwann             9\n",
              "Name: celltype, dtype: int64"
            ]
          },
          "metadata": {},
          "execution_count": 12
        }
      ]
    },
    {
      "cell_type": "code",
      "metadata": {
        "id": "SO1p80avKyL4"
      },
      "source": [
        "write_markers(\"markers.txt\", markers_dict, header)"
      ],
      "execution_count": 13,
      "outputs": []
    },
    {
      "cell_type": "code",
      "source": [
        "markers.groupby(\"celltype\")[\"logfoldchanges\"].mean().sort_values()"
      ],
      "metadata": {
        "id": "dviprQNplXUy",
        "outputId": "3f8848a4-9925-4c6d-cc8c-776893cc1873",
        "colab": {
          "base_uri": "https://localhost:8080/"
        }
      },
      "execution_count": 14,
      "outputs": [
        {
          "output_type": "execute_result",
          "data": {
            "text/plain": [
              "celltype\n",
              "LBM1                1.292409\n",
              "OCP                 1.338806\n",
              "LBM2                1.473177\n",
              "LBM3                1.661435\n",
              "PMSC                2.560496\n",
              "Osteoprogenitor     2.945763\n",
              "Chondrocyte         2.957895\n",
              "Myoprogenitor       3.162138\n",
              "Chondrocyteblast    3.714932\n",
              "Schwann             4.370102\n",
              "Erythrocyte         4.887108\n",
              "Endothelium         4.902454\n",
              "Myocyte             5.251905\n",
              "Epithelium1         5.368410\n",
              "Marophage           6.333287\n",
              "Name: logfoldchanges, dtype: float64"
            ]
          },
          "metadata": {},
          "execution_count": 14
        }
      ]
    },
    {
      "cell_type": "code",
      "source": [
        "!cat markers.txt"
      ],
      "metadata": {
        "id": "aiRyCthFk71u",
        "outputId": "013d506e-ccca-42ad-99ea-d30469f93cc4",
        "colab": {
          "base_uri": "https://localhost:8080/"
        }
      },
      "execution_count": 15,
      "outputs": [
        {
          "output_type": "stream",
          "name": "stdout",
          "text": [
            "# homo_sapiens\tbone\tGRCh38\thttps://doi.org/10.1038/s41422-021-00467-z\thttps://static-content.springer.com/esm/art%3A10.1038%2Fs41422-021-00467-z/MediaObjects/41422_2021_467_MOESM7_ESM.xlsx\n",
            "Chondrocyte\tCD99,OSTF1,MEF2C,IFI27L2,PDE4DIP,TNFRSF11B,RBM3,COMP,EDIL3\n",
            "Chondrocyteblast\tMATN1,PRELP,EGR1,SORBS2,MIA,MATN3,COL27A1,SPATS2L,SOX6\n",
            "Endothelium\tRALA,HYAL2,RASGRP3,S100A16,TAX1BP3,NOSTRIN,FLT1,CAV2,MSN\n",
            "Epithelium1\tMAP7,ITGA6,APOE,LAMC1,DLX1,FERMT1,EPCAM,ESRP1,DST\n",
            "Erythrocyte\tCHPT1,RFESD,SLC22A4,ATP5IF1,UROD,GYPA,CYTOR,ADIPOR1,MT1H\n",
            "LBM1\tHIST1H4C,BIRC5,PCLAF,CHD7,ZWINT,SMARCC1,LIX1,CACYBP,FABP5\n",
            "LBM2\tBUB3,CCNB2,NUSAP1,CCNB1,UBE2C,CDK1,AURKB,TUBB4B,KPNA2\n",
            "LBM3\tEDNRA,NR2F2-AS1,TCF12,EDN3,PEG10,HOXB3,CDH2,EFNB2,HOXB5\n",
            "Marophage\tRNASE6,CYBB,DPP7,HMOX1,TPP1,RAB32,SERPINB6,LY86,IGSF6\n",
            "Myocyte\tTEAD4,TNNI1,CAP2,WRNIP1,TRAF4,KREMEN2,CHRNA1,TSPAN33,ATP2B1-AS1\n",
            "Myoprogenitor\tKCNE5,MYC,RBP1,NGFR,PAX3,ACVR2A,HOXA11-AS,CDH15,NECTIN1\n",
            "OCP\tCLU,LGALS1,ISLR,LIMCH1,OGN,IGFBP4,VIM,NFIA,COL5A2\n",
            "Osteoprogenitor\tCDH11,NR3C1,C1QTNF2,GSN,BICC1,CLEC11A,FNDC1,KCNJ15,COL16A1\n",
            "PMSC\tTGFB1I1,DSTN,TAGLN2,PCSK1N,BTG2,COL6A2,TPPP3,MYADM,SOCS1\n",
            "Schwann\tSLC15A3,MOXD1,ALCAM,BCHE,ARPC1A,MMP17,SCCPDH,UBL3,PDLIM1\n"
          ]
        }
      ]
    },
    {
      "cell_type": "code",
      "source": [
        "# Download table to have a local copy\n",
        "!wget $table_link -O deg.xlsx"
      ],
      "metadata": {
        "id": "TqibqJekk8mA",
        "outputId": "91917f3f-b647-4e1e-bcfb-debaf0bec40c",
        "colab": {
          "base_uri": "https://localhost:8080/"
        }
      },
      "execution_count": 16,
      "outputs": [
        {
          "output_type": "stream",
          "name": "stdout",
          "text": [
            "--2023-03-18 04:37:30--  https://static-content.springer.com/esm/art%3A10.1038%2Fs41422-021-00467-z/MediaObjects/41422_2021_467_MOESM7_ESM.xlsx\n",
            "Resolving static-content.springer.com (static-content.springer.com)... 151.101.0.95, 151.101.64.95, 151.101.128.95, ...\n",
            "Connecting to static-content.springer.com (static-content.springer.com)|151.101.0.95|:443... connected.\n",
            "HTTP request sent, awaiting response... 200 OK\n",
            "Length: 373620 (365K) [application/octet-stream]\n",
            "Saving to: ‘deg.xlsx’\n",
            "\n",
            "\rdeg.xlsx              0%[                    ]       0  --.-KB/s               \rdeg.xlsx            100%[===================>] 364.86K  --.-KB/s    in 0.03s   \n",
            "\n",
            "2023-03-18 04:37:30 (13.8 MB/s) - ‘deg.xlsx’ saved [373620/373620]\n",
            "\n"
          ]
        }
      ]
    },
    {
      "cell_type": "code",
      "source": [],
      "metadata": {
        "id": "BAPnN6pJqQkE"
      },
      "execution_count": 16,
      "outputs": []
    }
  ]
}