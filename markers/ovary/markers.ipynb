{
  "nbformat": 4,
  "nbformat_minor": 0,
  "metadata": {
    "colab": {
      "name": "ovary.ipynb",
      "provenance": [],
      "include_colab_link": true
    },
    "kernelspec": {
      "name": "python3",
      "display_name": "Python 3"
    },
    "language_info": {
      "name": "python"
    }
  },
  "cells": [
    {
      "cell_type": "markdown",
      "metadata": {
        "id": "view-in-github",
        "colab_type": "text"
      },
      "source": [
        "<a href=\"https://colab.research.google.com/github/cellatlas/human/blob/master/markers/ovary/markers.ipynb\" target=\"_parent\"><img src=\"https://colab.research.google.com/assets/colab-badge.svg\" alt=\"Open In Colab\"/></a>"
      ]
    },
    {
      "cell_type": "code",
      "source": [
        "!pip install -q gget\n",
        "!pip install -q git+https://github.com/sbooeshaghi/ec"
      ],
      "metadata": {
        "id": "q7NfkxpJe3VR",
        "outputId": "7a9264ed-2063-4861-9fcf-eb93d6278a50",
        "colab": {
          "base_uri": "https://localhost:8080/"
        }
      },
      "execution_count": 1,
      "outputs": [
        {
          "output_type": "stream",
          "name": "stdout",
          "text": [
            "\u001b[2K     \u001b[90m━━━━━━━━━━━━━━━━━━━━━━━━━━━━━━━━━━━━━━━━\u001b[0m \u001b[32m2.2/2.2 MB\u001b[0m \u001b[31m16.9 MB/s\u001b[0m eta \u001b[36m0:00:00\u001b[0m\n",
            "\u001b[2K     \u001b[90m━━━━━━━━━━━━━━━━━━━━━━━━━━━━━━━━━━━━━━━━\u001b[0m \u001b[32m25.2/25.2 MB\u001b[0m \u001b[31m37.3 MB/s\u001b[0m eta \u001b[36m0:00:00\u001b[0m\n",
            "\u001b[2K     \u001b[90m━━━━━━━━━━━━━━━━━━━━━━━━━━━━━━━━━━━━━━━━\u001b[0m \u001b[32m1.6/1.6 MB\u001b[0m \u001b[31m38.2 MB/s\u001b[0m eta \u001b[36m0:00:00\u001b[0m\n",
            "\u001b[?25h  Preparing metadata (setup.py) ... \u001b[?25l\u001b[?25hdone\n",
            "  Building wheel for ec (setup.py) ... \u001b[?25l\u001b[?25hdone\n"
          ]
        }
      ]
    },
    {
      "cell_type": "code",
      "metadata": {
        "id": "MkAJ5zzhjyWB"
      },
      "source": [
        "\n",
        "import pandas as pd\n",
        "import numpy as np\n",
        "from ec.utils import write_markers"
      ],
      "execution_count": 2,
      "outputs": []
    },
    {
      "cell_type": "code",
      "source": [
        "# Get valid gene names\n",
        "!wget -O genes.txt https://caltech.box.com/shared/static/4r5prhstoq2j1lk8l56bpwqqvfj54q2u.txt\n",
        "genes_list = pd.read_csv('genes.txt', header = None)[0].values"
      ],
      "metadata": {
        "id": "zlYquSR-yc-l",
        "outputId": "b9d25da0-17be-435b-e4fb-e8c2b2f18769",
        "colab": {
          "base_uri": "https://localhost:8080/"
        }
      },
      "execution_count": 3,
      "outputs": [
        {
          "output_type": "stream",
          "name": "stdout",
          "text": [
            "--2023-03-18 04:53:33--  https://caltech.box.com/shared/static/4r5prhstoq2j1lk8l56bpwqqvfj54q2u.txt\n",
            "Resolving caltech.box.com (caltech.box.com)... 74.112.186.144\n",
            "Connecting to caltech.box.com (caltech.box.com)|74.112.186.144|:443... connected.\n",
            "HTTP request sent, awaiting response... 301 Moved Permanently\n",
            "Location: /public/static/4r5prhstoq2j1lk8l56bpwqqvfj54q2u.txt [following]\n",
            "--2023-03-18 04:53:33--  https://caltech.box.com/public/static/4r5prhstoq2j1lk8l56bpwqqvfj54q2u.txt\n",
            "Reusing existing connection to caltech.box.com:443.\n",
            "HTTP request sent, awaiting response... 301 Moved Permanently\n",
            "Location: https://caltech.app.box.com/public/static/4r5prhstoq2j1lk8l56bpwqqvfj54q2u.txt [following]\n",
            "--2023-03-18 04:53:33--  https://caltech.app.box.com/public/static/4r5prhstoq2j1lk8l56bpwqqvfj54q2u.txt\n",
            "Resolving caltech.app.box.com (caltech.app.box.com)... 74.112.186.144\n",
            "Connecting to caltech.app.box.com (caltech.app.box.com)|74.112.186.144|:443... connected.\n",
            "HTTP request sent, awaiting response... 302 Found\n",
            "Location: https://dl2.boxcloud.com/d/1/b1!cUNcgzwael4H3ZFuRPaFI94Ws3zcwDIgGdFG16eLc3d9fJ1wsHDMVfJs5R3x_ndqoeTIVjwvwoe5n3UCZU1yJWNNRaL1N6UhfJ2HTXA3mS8VHVcv_JyxuGPUS-bgots2UXQ55ggTZZZdcO5poX_A0fgwAMTQ8DNmZsFhNZwiJzRq7TKez64Hll5Kxg6hSNSRVuhcBtXqlQxiWn_j78YtQpKLRyqA17nzC6nrBMYEHWNfQ6PunsmfFV7q59s1PaV-XErSpCnlmCzKfAvXWU3Z4b0Q3ul5zs7ij7ecV5X8ToCwd-yYvxUvIB5MsNMNkxkdR7Bk2vFH1A78UdQG-7A02qT5BwLMJXvXLFbieELF9wMfLc2256Unwu7sEVZ8hqAY6c_K_PZsX-BvUZBMkrQ8dd48PwqN7P8rJBfs0UDcQ6z51wfrhOG7QPYVlAMPQH5aYvKOePi0Rcg8ZpLzRadlwj9qyqp0bHb5gmzYoHQgTTVzeOKr-PzPtlOgID48EQPVfSC-jtOhGe2injKdEhoGv2xUag6Vu_AMmjK2rj4mfgRnqIRoTe5cJKlYlDJ9bH25zwduX4hUly8PbYqJirRJtgZjUSLANArFGYa7sgL__Z22Tn59hSW9ZppD7MhNrWYLjeHpNcJHQN6alNyU9nllPvUtWnDdVJx-Y3ZD055evIPq9P_y_n_qkZROIlWAbuNFwphYzbp217cMBl8JA4zhYTdYbqLbrgGNy5sYTLP5tsLZ_B9jWzyHPJlkV5_zW5LmUjwUGZ4EeDPs92M5nBe5WYWvCHIasbXrE-HwE0fXYN0aiTnAjUEJiyHL4vz2blYi-vNNdtmN8pY8i560CSRhd8tGwHuNurSqQjCUw8LYq6e9HndVZwXoIlnHt5yES2KlMp1SEJenLm_U4ZgpZ6GcvFudwEh0q5mXu1bnJKiOWKPwZ6KjXyy5-1WO0wcMFV9UUkWw162j5V1TCAtCjzu4VFuCHDF-OGFVjweEjnUCzL3X4oH21IxDkcHxDAUw_OwxBDO4oWExJXiYEWgYGUmRXnafsriCs8hVhuUdTt6vqw1obByGaTi9yRP4I38eYKQWyaPk1K_teFrbSpCDJW5_THuNI6g_QkLjYBgTb49xa8HJgjFbc8Eb8TEXKmdb_limMBkVQ9JUsM9GRsarqfU2e8q7OpKglMR2VOv1APtFG8rQ1zmOjoZK3oMlNgk54El8nJmuutAOmHabEM3UiLImQrHUpziU4Twny8V_jRPgmNIUluvhxAdlDBgKd7B3YdjunPFSEDMncwKXfzhALZOuxUxJVBCjzOUQEvjk9qrAmjKjgZcjBkEJROecCXQovjA9waTfxhYLVV3Itfuc5BTbGZnHwhlce1CPTDDOXEbw/download [following]\n",
            "--2023-03-18 04:53:35--  https://dl2.boxcloud.com/d/1/b1!cUNcgzwael4H3ZFuRPaFI94Ws3zcwDIgGdFG16eLc3d9fJ1wsHDMVfJs5R3x_ndqoeTIVjwvwoe5n3UCZU1yJWNNRaL1N6UhfJ2HTXA3mS8VHVcv_JyxuGPUS-bgots2UXQ55ggTZZZdcO5poX_A0fgwAMTQ8DNmZsFhNZwiJzRq7TKez64Hll5Kxg6hSNSRVuhcBtXqlQxiWn_j78YtQpKLRyqA17nzC6nrBMYEHWNfQ6PunsmfFV7q59s1PaV-XErSpCnlmCzKfAvXWU3Z4b0Q3ul5zs7ij7ecV5X8ToCwd-yYvxUvIB5MsNMNkxkdR7Bk2vFH1A78UdQG-7A02qT5BwLMJXvXLFbieELF9wMfLc2256Unwu7sEVZ8hqAY6c_K_PZsX-BvUZBMkrQ8dd48PwqN7P8rJBfs0UDcQ6z51wfrhOG7QPYVlAMPQH5aYvKOePi0Rcg8ZpLzRadlwj9qyqp0bHb5gmzYoHQgTTVzeOKr-PzPtlOgID48EQPVfSC-jtOhGe2injKdEhoGv2xUag6Vu_AMmjK2rj4mfgRnqIRoTe5cJKlYlDJ9bH25zwduX4hUly8PbYqJirRJtgZjUSLANArFGYa7sgL__Z22Tn59hSW9ZppD7MhNrWYLjeHpNcJHQN6alNyU9nllPvUtWnDdVJx-Y3ZD055evIPq9P_y_n_qkZROIlWAbuNFwphYzbp217cMBl8JA4zhYTdYbqLbrgGNy5sYTLP5tsLZ_B9jWzyHPJlkV5_zW5LmUjwUGZ4EeDPs92M5nBe5WYWvCHIasbXrE-HwE0fXYN0aiTnAjUEJiyHL4vz2blYi-vNNdtmN8pY8i560CSRhd8tGwHuNurSqQjCUw8LYq6e9HndVZwXoIlnHt5yES2KlMp1SEJenLm_U4ZgpZ6GcvFudwEh0q5mXu1bnJKiOWKPwZ6KjXyy5-1WO0wcMFV9UUkWw162j5V1TCAtCjzu4VFuCHDF-OGFVjweEjnUCzL3X4oH21IxDkcHxDAUw_OwxBDO4oWExJXiYEWgYGUmRXnafsriCs8hVhuUdTt6vqw1obByGaTi9yRP4I38eYKQWyaPk1K_teFrbSpCDJW5_THuNI6g_QkLjYBgTb49xa8HJgjFbc8Eb8TEXKmdb_limMBkVQ9JUsM9GRsarqfU2e8q7OpKglMR2VOv1APtFG8rQ1zmOjoZK3oMlNgk54El8nJmuutAOmHabEM3UiLImQrHUpziU4Twny8V_jRPgmNIUluvhxAdlDBgKd7B3YdjunPFSEDMncwKXfzhALZOuxUxJVBCjzOUQEvjk9qrAmjKjgZcjBkEJROecCXQovjA9waTfxhYLVV3Itfuc5BTbGZnHwhlce1CPTDDOXEbw/download\n",
            "Resolving dl2.boxcloud.com (dl2.boxcloud.com)... 74.112.186.128\n",
            "Connecting to dl2.boxcloud.com (dl2.boxcloud.com)|74.112.186.128|:443... connected.\n",
            "HTTP request sent, awaiting response... 200 OK\n",
            "Length: 535253 (523K) [text/plain]\n",
            "Saving to: ‘genes.txt’\n",
            "\n",
            "genes.txt           100%[===================>] 522.71K   773KB/s    in 0.7s    \n",
            "\n",
            "2023-03-18 04:53:36 (773 KB/s) - ‘genes.txt’ saved [535253/535253]\n",
            "\n"
          ]
        }
      ]
    },
    {
      "cell_type": "markdown",
      "metadata": {
        "id": "I_FcH3QWjzP3"
      },
      "source": [
        "# Ovary"
      ]
    },
    {
      "cell_type": "code",
      "metadata": {
        "id": "CMrUcjEJj1ol"
      },
      "source": [
        "species = \"homo_sapiens\"\n",
        "organ = \"ovary\"\n",
        "reference = \"hg19\"\n",
        "paper_doi = \"https://doi.org/10.1038/s41467-020-14936-3\"\n",
        "table_link = \"https://static-content.springer.com/esm/art%3A10.1038%2Fs41467-020-14936-3/MediaObjects/41467_2020_14936_MOESM3_ESM.xlsx\"\n",
        "\n",
        "# don't include in header\n",
        "table_name = \"41467_2020_14936_MOESM3_ESM.xlsx\"\n",
        "\n",
        "header = [\n",
        "    {\n",
        "      \"species\": species,\n",
        "      \"organ\": organ,\n",
        "      \"reference\": reference,\n",
        "      \"paper_doi\": paper_doi,\n",
        "      \"table_link\": table_link\n",
        "    }\n",
        "]"
      ],
      "execution_count": 4,
      "outputs": []
    },
    {
      "cell_type": "code",
      "metadata": {
        "id": "vwXoILgLSosp"
      },
      "source": [
        "df = pd.read_excel(table_link, sheet_name = 1, skiprows = 2)\n",
        "df.columns = ['gene', 'p_val', 'avg_logFC', 'pct.1', 'pct.2', 'p_val_adj', 'celltype']"
      ],
      "execution_count": 5,
      "outputs": []
    },
    {
      "cell_type": "code",
      "source": [
        "bidx = df['gene'].isin(genes_list)\n",
        "print(f'Filtered {np.sum(~bidx)} out of {len(bidx)} genes')\n",
        "df = df[bidx]\n",
        "df.head()"
      ],
      "metadata": {
        "id": "YPLsjDrWgq2q",
        "outputId": "1a03eef8-7cec-43f4-ccbe-d9b5d94f3911",
        "colab": {
          "base_uri": "https://localhost:8080/",
          "height": 224
        }
      },
      "execution_count": 6,
      "outputs": [
        {
          "output_type": "stream",
          "name": "stdout",
          "text": [
            "Filtered 629 out of 10210 genes\n"
          ]
        },
        {
          "output_type": "execute_result",
          "data": {
            "text/plain": [
              "    gene  p_val  avg_logFC  pct.1  pct.2  p_val_adj celltype\n",
              "0  FIGLA    0.0   2.388708  0.679  0.007        0.0  oocytes\n",
              "1  KPNA7    0.0   2.335580  0.821  0.004        0.0  oocytes\n",
              "2  NLRP5    0.0   2.243391  0.714  0.005        0.0  oocytes\n",
              "4   ZAR1    0.0   2.085036  0.714  0.004        0.0  oocytes\n",
              "5    SHD    0.0   2.069233  0.714  0.003        0.0  oocytes"
            ],
            "text/html": [
              "\n",
              "  <div id=\"df-60a56146-1cde-4a8f-91d9-92d6508f7173\">\n",
              "    <div class=\"colab-df-container\">\n",
              "      <div>\n",
              "<style scoped>\n",
              "    .dataframe tbody tr th:only-of-type {\n",
              "        vertical-align: middle;\n",
              "    }\n",
              "\n",
              "    .dataframe tbody tr th {\n",
              "        vertical-align: top;\n",
              "    }\n",
              "\n",
              "    .dataframe thead th {\n",
              "        text-align: right;\n",
              "    }\n",
              "</style>\n",
              "<table border=\"1\" class=\"dataframe\">\n",
              "  <thead>\n",
              "    <tr style=\"text-align: right;\">\n",
              "      <th></th>\n",
              "      <th>gene</th>\n",
              "      <th>p_val</th>\n",
              "      <th>avg_logFC</th>\n",
              "      <th>pct.1</th>\n",
              "      <th>pct.2</th>\n",
              "      <th>p_val_adj</th>\n",
              "      <th>celltype</th>\n",
              "    </tr>\n",
              "  </thead>\n",
              "  <tbody>\n",
              "    <tr>\n",
              "      <th>0</th>\n",
              "      <td>FIGLA</td>\n",
              "      <td>0.0</td>\n",
              "      <td>2.388708</td>\n",
              "      <td>0.679</td>\n",
              "      <td>0.007</td>\n",
              "      <td>0.0</td>\n",
              "      <td>oocytes</td>\n",
              "    </tr>\n",
              "    <tr>\n",
              "      <th>1</th>\n",
              "      <td>KPNA7</td>\n",
              "      <td>0.0</td>\n",
              "      <td>2.335580</td>\n",
              "      <td>0.821</td>\n",
              "      <td>0.004</td>\n",
              "      <td>0.0</td>\n",
              "      <td>oocytes</td>\n",
              "    </tr>\n",
              "    <tr>\n",
              "      <th>2</th>\n",
              "      <td>NLRP5</td>\n",
              "      <td>0.0</td>\n",
              "      <td>2.243391</td>\n",
              "      <td>0.714</td>\n",
              "      <td>0.005</td>\n",
              "      <td>0.0</td>\n",
              "      <td>oocytes</td>\n",
              "    </tr>\n",
              "    <tr>\n",
              "      <th>4</th>\n",
              "      <td>ZAR1</td>\n",
              "      <td>0.0</td>\n",
              "      <td>2.085036</td>\n",
              "      <td>0.714</td>\n",
              "      <td>0.004</td>\n",
              "      <td>0.0</td>\n",
              "      <td>oocytes</td>\n",
              "    </tr>\n",
              "    <tr>\n",
              "      <th>5</th>\n",
              "      <td>SHD</td>\n",
              "      <td>0.0</td>\n",
              "      <td>2.069233</td>\n",
              "      <td>0.714</td>\n",
              "      <td>0.003</td>\n",
              "      <td>0.0</td>\n",
              "      <td>oocytes</td>\n",
              "    </tr>\n",
              "  </tbody>\n",
              "</table>\n",
              "</div>\n",
              "      <button class=\"colab-df-convert\" onclick=\"convertToInteractive('df-60a56146-1cde-4a8f-91d9-92d6508f7173')\"\n",
              "              title=\"Convert this dataframe to an interactive table.\"\n",
              "              style=\"display:none;\">\n",
              "        \n",
              "  <svg xmlns=\"http://www.w3.org/2000/svg\" height=\"24px\"viewBox=\"0 0 24 24\"\n",
              "       width=\"24px\">\n",
              "    <path d=\"M0 0h24v24H0V0z\" fill=\"none\"/>\n",
              "    <path d=\"M18.56 5.44l.94 2.06.94-2.06 2.06-.94-2.06-.94-.94-2.06-.94 2.06-2.06.94zm-11 1L8.5 8.5l.94-2.06 2.06-.94-2.06-.94L8.5 2.5l-.94 2.06-2.06.94zm10 10l.94 2.06.94-2.06 2.06-.94-2.06-.94-.94-2.06-.94 2.06-2.06.94z\"/><path d=\"M17.41 7.96l-1.37-1.37c-.4-.4-.92-.59-1.43-.59-.52 0-1.04.2-1.43.59L10.3 9.45l-7.72 7.72c-.78.78-.78 2.05 0 2.83L4 21.41c.39.39.9.59 1.41.59.51 0 1.02-.2 1.41-.59l7.78-7.78 2.81-2.81c.8-.78.8-2.07 0-2.86zM5.41 20L4 18.59l7.72-7.72 1.47 1.35L5.41 20z\"/>\n",
              "  </svg>\n",
              "      </button>\n",
              "      \n",
              "  <style>\n",
              "    .colab-df-container {\n",
              "      display:flex;\n",
              "      flex-wrap:wrap;\n",
              "      gap: 12px;\n",
              "    }\n",
              "\n",
              "    .colab-df-convert {\n",
              "      background-color: #E8F0FE;\n",
              "      border: none;\n",
              "      border-radius: 50%;\n",
              "      cursor: pointer;\n",
              "      display: none;\n",
              "      fill: #1967D2;\n",
              "      height: 32px;\n",
              "      padding: 0 0 0 0;\n",
              "      width: 32px;\n",
              "    }\n",
              "\n",
              "    .colab-df-convert:hover {\n",
              "      background-color: #E2EBFA;\n",
              "      box-shadow: 0px 1px 2px rgba(60, 64, 67, 0.3), 0px 1px 3px 1px rgba(60, 64, 67, 0.15);\n",
              "      fill: #174EA6;\n",
              "    }\n",
              "\n",
              "    [theme=dark] .colab-df-convert {\n",
              "      background-color: #3B4455;\n",
              "      fill: #D2E3FC;\n",
              "    }\n",
              "\n",
              "    [theme=dark] .colab-df-convert:hover {\n",
              "      background-color: #434B5C;\n",
              "      box-shadow: 0px 1px 3px 1px rgba(0, 0, 0, 0.15);\n",
              "      filter: drop-shadow(0px 1px 2px rgba(0, 0, 0, 0.3));\n",
              "      fill: #FFFFFF;\n",
              "    }\n",
              "  </style>\n",
              "\n",
              "      <script>\n",
              "        const buttonEl =\n",
              "          document.querySelector('#df-60a56146-1cde-4a8f-91d9-92d6508f7173 button.colab-df-convert');\n",
              "        buttonEl.style.display =\n",
              "          google.colab.kernel.accessAllowed ? 'block' : 'none';\n",
              "\n",
              "        async function convertToInteractive(key) {\n",
              "          const element = document.querySelector('#df-60a56146-1cde-4a8f-91d9-92d6508f7173');\n",
              "          const dataTable =\n",
              "            await google.colab.kernel.invokeFunction('convertToInteractive',\n",
              "                                                     [key], {});\n",
              "          if (!dataTable) return;\n",
              "\n",
              "          const docLinkHtml = 'Like what you see? Visit the ' +\n",
              "            '<a target=\"_blank\" href=https://colab.research.google.com/notebooks/data_table.ipynb>data table notebook</a>'\n",
              "            + ' to learn more about interactive tables.';\n",
              "          element.innerHTML = '';\n",
              "          dataTable['output_type'] = 'display_data';\n",
              "          await google.colab.output.renderOutput(dataTable, element);\n",
              "          const docLink = document.createElement('div');\n",
              "          docLink.innerHTML = docLinkHtml;\n",
              "          element.appendChild(docLink);\n",
              "        }\n",
              "      </script>\n",
              "    </div>\n",
              "  </div>\n",
              "  "
            ]
          },
          "metadata": {},
          "execution_count": 6
        }
      ]
    },
    {
      "cell_type": "code",
      "source": [
        "min_mean = 100\n",
        "max_pval = 1e-10\n",
        "min_lfc = 1\n",
        "max_gene_shares = 2\n",
        "max_per_celltype = 20\n",
        "\n",
        "# filter by criteria\n",
        "dfc = df.query(f\"p_val_adj <= {max_pval} & avg_logFC >= {min_lfc}\")\n",
        "\n",
        "# mask out genes that are shared between max_gene_shares cell type\n",
        "non_repeat_genes = dfc[\"gene\"].value_counts()[dfc[\"gene\"].value_counts() < max_gene_shares].index.values\n",
        "\n",
        "m = dfc[dfc.gene.isin(non_repeat_genes)].sort_values('pct.1', ascending = True)\n",
        "\n",
        "# Filter out genes not present in reference\n",
        "bidx = m['gene'].isin(genes_list)\n",
        "print(f'Filtered {np.sum(~bidx)} out of {len(bidx)} genes')\n",
        "m_f = m[bidx]\n",
        "\n",
        "# max number to sample is equal to the min number of genes across all celltype\n",
        "n_sample = min(m[\"celltype\"].value_counts().min(), max_per_celltype)\n",
        "\n",
        "# sample n_sample genes\n",
        "markers = m.groupby('celltype').tail(n_sample)\n",
        "markers_dict = markers.groupby(\"celltype\")[\"gene\"].apply(lambda x: list(x)).to_dict()"
      ],
      "metadata": {
        "id": "jqDEXiHly1N9",
        "outputId": "8d578f3f-db64-4b86-ae9f-33608adbf04a",
        "colab": {
          "base_uri": "https://localhost:8080/"
        }
      },
      "execution_count": 7,
      "outputs": [
        {
          "output_type": "stream",
          "name": "stdout",
          "text": [
            "Filtered 0 out of 477 genes\n"
          ]
        }
      ]
    },
    {
      "cell_type": "code",
      "source": [
        "markers.celltype.value_counts()"
      ],
      "metadata": {
        "id": "xU5jQWdiGU1f",
        "outputId": "36772132-342a-4d53-f49c-542b3fd61d3b",
        "colab": {
          "base_uri": "https://localhost:8080/"
        }
      },
      "execution_count": 8,
      "outputs": [
        {
          "output_type": "execute_result",
          "data": {
            "text/plain": [
              "stroma                16\n",
              "oocytes               16\n",
              "granulosa cells       16\n",
              "endothelial cells     16\n",
              "t cells               16\n",
              "monocytes             16\n",
              "perivascular cells    16\n",
              "Name: celltype, dtype: int64"
            ]
          },
          "metadata": {},
          "execution_count": 8
        }
      ]
    },
    {
      "cell_type": "code",
      "metadata": {
        "id": "ezpm70lAt-nJ"
      },
      "source": [
        "write_markers(\"markers.txt\", markers_dict, header)"
      ],
      "execution_count": 9,
      "outputs": []
    },
    {
      "cell_type": "code",
      "source": [
        "!cat markers.txt"
      ],
      "metadata": {
        "id": "bKJQ2vAOGbWF",
        "outputId": "e3cf586b-0181-43cf-e580-49f48e142c76",
        "colab": {
          "base_uri": "https://localhost:8080/"
        }
      },
      "execution_count": 10,
      "outputs": [
        {
          "output_type": "stream",
          "name": "stdout",
          "text": [
            "# homo_sapiens\tovary\thg19\thttps://doi.org/10.1038/s41467-020-14936-3\thttps://static-content.springer.com/esm/art%3A10.1038%2Fs41467-020-14936-3/MediaObjects/41467_2020_14936_MOESM3_ESM.xlsx\n",
            "endothelial cells\tPALMD,NFIB,RDX,CLEC14A,UTRN,LIFR,SPTBN1,S100A10,PRSS23,EGFL7,GSN,IFI27,VWF,TCF4,GNG11,SPARCL1\n",
            "granulosa cells\tTNNI3,PROK1,WNT6,KRT18,PTGDS,PRKAR2B,MIR202HG,HES1,C4orf48,BEX1,EMX2,DNAJB1,SPRR2F,WIPF3,IGFBP2,GATM\n",
            "monocytes\tREL,MS4A6A,SLC1A3,SGK1,HLA-DPB1,GPX1,MCL1,CST3,ARPC3,MS4A7,FGL2,CD163,HERPUD1,NEAT1,CTSB,FTL\n",
            "oocytes\tC6orf52,SHD,TSG101,ODC1,DLGAP5,PSMG1,PSMG4,STAG3,ZP3,KPNA7,PAIP1,EPCAM,TUBA1C,UCHL1,PDCD5,ZFAND2A\n",
            "perivascular cells\tCD9,MYH11,RGS5,TAGLN,ACTA2,MYL9,MTRNR2L2,DSTN,C11orf96,TIMP3,TPM2,MYL6,MT2A,ADIRF,IGFBP7,MTRNR2L12\n",
            "stroma\tC7,MIR503HG,GREB1,CLDN11,KCNQ1OT1,SERPINE2,CFH,HTRA1,PEG3,OGN,PDGFRA,C1S,COL1A1,MDK,TCEAL4,DCN\n",
            "t cells\tCST7,GZMA,CYTIP,PFN1,KLF6,ARHGDIB,CD52,CD69,STK4,SH3BGRL3,CCL5,CD2,TSC22D3,ZFP36L2,TMSB4X,BTG1\n"
          ]
        }
      ]
    },
    {
      "cell_type": "code",
      "source": [],
      "metadata": {
        "id": "342njg09GceH"
      },
      "execution_count": 10,
      "outputs": []
    }
  ]
}