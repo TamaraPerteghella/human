{
  "nbformat": 4,
  "nbformat_minor": 0,
  "metadata": {
    "colab": {
      "name": "testis.ipynb",
      "provenance": [],
      "include_colab_link": true
    },
    "kernelspec": {
      "name": "python3",
      "display_name": "Python 3"
    },
    "language_info": {
      "name": "python"
    }
  },
  "cells": [
    {
      "cell_type": "markdown",
      "metadata": {
        "id": "view-in-github",
        "colab_type": "text"
      },
      "source": [
        "<a href=\"https://colab.research.google.com/github/cellatlas/human/blob/master/markers/testis/markers.ipynb\" target=\"_parent\"><img src=\"https://colab.research.google.com/assets/colab-badge.svg\" alt=\"Open In Colab\"/></a>"
      ]
    },
    {
      "cell_type": "code",
      "source": [
        "!pip install -q gget\n",
        "!pip install -q git+https://github.com/sbooeshaghi/ec"
      ],
      "metadata": {
        "id": "9ZgfgybDuvin",
        "outputId": "62c8b970-9ecf-496b-98ed-cbe6b32847eb",
        "colab": {
          "base_uri": "https://localhost:8080/"
        }
      },
      "execution_count": 1,
      "outputs": [
        {
          "output_type": "stream",
          "name": "stdout",
          "text": [
            "\u001b[2K     \u001b[90m━━━━━━━━━━━━━━━━━━━━━━━━━━━━━━━━━━━━━━━━\u001b[0m \u001b[32m2.2/2.2 MB\u001b[0m \u001b[31m16.0 MB/s\u001b[0m eta \u001b[36m0:00:00\u001b[0m\n",
            "\u001b[2K     \u001b[90m━━━━━━━━━━━━━━━━━━━━━━━━━━━━━━━━━━━━━━━━\u001b[0m \u001b[32m25.2/25.2 MB\u001b[0m \u001b[31m9.1 MB/s\u001b[0m eta \u001b[36m0:00:00\u001b[0m\n",
            "\u001b[2K     \u001b[90m━━━━━━━━━━━━━━━━━━━━━━━━━━━━━━━━━━━━━━━━\u001b[0m \u001b[32m1.6/1.6 MB\u001b[0m \u001b[31m25.8 MB/s\u001b[0m eta \u001b[36m0:00:00\u001b[0m\n",
            "\u001b[?25h  Preparing metadata (setup.py) ... \u001b[?25l\u001b[?25hdone\n",
            "  Building wheel for ec (setup.py) ... \u001b[?25l\u001b[?25hdone\n"
          ]
        }
      ]
    },
    {
      "cell_type": "code",
      "metadata": {
        "id": "zv4iAbOFI84A"
      },
      "source": [
        "!wget --quiet https://ars.els-cdn.com/content/image/1-s2.0-S1534580720303993-mmc2.xlsx"
      ],
      "execution_count": 2,
      "outputs": []
    },
    {
      "cell_type": "code",
      "metadata": {
        "id": "KQUMnXBEIwIZ"
      },
      "source": [
        "import pandas as pd\n",
        "import numpy as np\n",
        "from ec.utils import write_markers"
      ],
      "execution_count": 3,
      "outputs": []
    },
    {
      "cell_type": "code",
      "source": [
        "# Get valid gene names\n",
        "!wget -O genes.txt https://caltech.box.com/shared/static/4r5prhstoq2j1lk8l56bpwqqvfj54q2u.txt\n",
        "genes_list = pd.read_csv('genes.txt', header = None)[0].values"
      ],
      "metadata": {
        "id": "e9v6Qn_twabX",
        "outputId": "b266ab71-41f3-4e6b-9219-e6fd18b1d1e2",
        "colab": {
          "base_uri": "https://localhost:8080/"
        }
      },
      "execution_count": 4,
      "outputs": [
        {
          "output_type": "stream",
          "name": "stdout",
          "text": [
            "--2023-03-18 05:05:06--  https://caltech.box.com/shared/static/4r5prhstoq2j1lk8l56bpwqqvfj54q2u.txt\n",
            "Resolving caltech.box.com (caltech.box.com)... 74.112.186.144\n",
            "Connecting to caltech.box.com (caltech.box.com)|74.112.186.144|:443... connected.\n",
            "HTTP request sent, awaiting response... 301 Moved Permanently\n",
            "Location: /public/static/4r5prhstoq2j1lk8l56bpwqqvfj54q2u.txt [following]\n",
            "--2023-03-18 05:05:06--  https://caltech.box.com/public/static/4r5prhstoq2j1lk8l56bpwqqvfj54q2u.txt\n",
            "Reusing existing connection to caltech.box.com:443.\n",
            "HTTP request sent, awaiting response... 301 Moved Permanently\n",
            "Location: https://caltech.app.box.com/public/static/4r5prhstoq2j1lk8l56bpwqqvfj54q2u.txt [following]\n",
            "--2023-03-18 05:05:06--  https://caltech.app.box.com/public/static/4r5prhstoq2j1lk8l56bpwqqvfj54q2u.txt\n",
            "Resolving caltech.app.box.com (caltech.app.box.com)... 74.112.186.144\n",
            "Connecting to caltech.app.box.com (caltech.app.box.com)|74.112.186.144|:443... connected.\n",
            "HTTP request sent, awaiting response... 302 Found\n",
            "Location: https://dl2.boxcloud.com/d/1/b1!QRDNtO5b6sCXjM5UPcQH4dxVTrnzWQXoq20na4MdRV6bZ_130sE5NjvfRxrPWvWdoqx_ZG4D1Fy2ZTALC6PswJuUCF3a1NiBWtgkz4XzZQxya4ykO35Y-AV0l3Bey2d8CUY1oqpp2w1-jyxAxRG8UOa3vwTYrPv51htwkOwKDj0OUvZ-mTTmpcma4kyjCVcyeQf9D70WoUW-XZ_ZmWP1kEJ9Ld7KNILRtV_PxJOXQh76cDaOl-JBtnaeoVCNxcScPznNogqS-16xgmasxuW5xTUI_AZAXMwHu7N2x7v_8MRhBdmzVwJUAbjM0dkxFGrOCSomF0Y0Jsd6L9R81UT6J84-KDHAD7EY_5B9SKcMR3OshyNEaPHVH02JIbOwqXu9inVUjXRt12fcicaJHr_PJ6oNPR1lCd3fXIT8JeLxzi_E4bo4_zdxLpRDMyg0Z1e7UiJ3XPCbi9omJwgmNXVlnm59PWSA8xjqw8M8L0K3fc-023X-cPSl5x_g9ZV3a4z1hl-Q7Xrm1CuPMPlksQmv900gWThoII6LhNFgQNKFOVZ4DLsutim5uZnI5n6uJaPK-lVOaCz3Cy9qV7IOgNr49-kuen_KlgdDhclh8W11l9iSRYDCuu1qVijowmUylUv3-3IUJbJSV_ETctAA4kXQEUiAVMk1iwbgsT3E8BWa-R8Dl3xzUdympw4tvYR_Pl1n9otLfdXEjVA_mZoG0SPfccLDMxzTDPmCMTx5InW-gbkufGU0zLDcqyruUQtEQNZ5YhizTa2PXd1NsZP3bQf0JoY54wdEQwCbdEuMzWrJ3FQKx71beLuvBdUTStSPrNPAEW1CeUCwpjm04R9ddZ_el6o5564OONuMyH6hE_upTtCv6BZrrgL75mD-vBncueVUA6cCToDNva-9aqiOAhMGqhtF2RGn0yapmNBhwI6yhBws4unm5nw7LMCW7ZWYpXndAqJq6Ef1KOg-A0U2xaJh6X4q61odgUMle4Tt3jfUG1RNljiBR-CmDnitANGlWZTkvNIMyEbEGeSj_SExzrqGpJIiyxZTYpzRkVj5BbkUs25HevUBdrpGj0z7QSLgOGxC63cL6N39Gd5oKPuR0K_DKVlO4eqb0z9cEVF83thN2aff8ioALTtM9Wi0arPe6FotzapYvv7OYp6UE93-OB5swgob8DhVcOFvUPpfK4JBZMj8nLEz_3clcT-ukSK91XgCCQI9hGaDcy96WFZIXjjZbdUuz_aDWpBt6lkldy9uIEiFRN0h2mudQKKwWZuEegM2uSiICjg6248UppOW6--O7kyzyaSHPfNTC6SvFgc-oQVe4FpCOqnlDSdUNDzFtaVjqlfeAKYk5fu51npRdY5P0AYXk_1_d47Lmr_Nm7QVAckLNmiYwpNvnB0W02DUiv9t/download [following]\n",
            "--2023-03-18 05:05:07--  https://dl2.boxcloud.com/d/1/b1!QRDNtO5b6sCXjM5UPcQH4dxVTrnzWQXoq20na4MdRV6bZ_130sE5NjvfRxrPWvWdoqx_ZG4D1Fy2ZTALC6PswJuUCF3a1NiBWtgkz4XzZQxya4ykO35Y-AV0l3Bey2d8CUY1oqpp2w1-jyxAxRG8UOa3vwTYrPv51htwkOwKDj0OUvZ-mTTmpcma4kyjCVcyeQf9D70WoUW-XZ_ZmWP1kEJ9Ld7KNILRtV_PxJOXQh76cDaOl-JBtnaeoVCNxcScPznNogqS-16xgmasxuW5xTUI_AZAXMwHu7N2x7v_8MRhBdmzVwJUAbjM0dkxFGrOCSomF0Y0Jsd6L9R81UT6J84-KDHAD7EY_5B9SKcMR3OshyNEaPHVH02JIbOwqXu9inVUjXRt12fcicaJHr_PJ6oNPR1lCd3fXIT8JeLxzi_E4bo4_zdxLpRDMyg0Z1e7UiJ3XPCbi9omJwgmNXVlnm59PWSA8xjqw8M8L0K3fc-023X-cPSl5x_g9ZV3a4z1hl-Q7Xrm1CuPMPlksQmv900gWThoII6LhNFgQNKFOVZ4DLsutim5uZnI5n6uJaPK-lVOaCz3Cy9qV7IOgNr49-kuen_KlgdDhclh8W11l9iSRYDCuu1qVijowmUylUv3-3IUJbJSV_ETctAA4kXQEUiAVMk1iwbgsT3E8BWa-R8Dl3xzUdympw4tvYR_Pl1n9otLfdXEjVA_mZoG0SPfccLDMxzTDPmCMTx5InW-gbkufGU0zLDcqyruUQtEQNZ5YhizTa2PXd1NsZP3bQf0JoY54wdEQwCbdEuMzWrJ3FQKx71beLuvBdUTStSPrNPAEW1CeUCwpjm04R9ddZ_el6o5564OONuMyH6hE_upTtCv6BZrrgL75mD-vBncueVUA6cCToDNva-9aqiOAhMGqhtF2RGn0yapmNBhwI6yhBws4unm5nw7LMCW7ZWYpXndAqJq6Ef1KOg-A0U2xaJh6X4q61odgUMle4Tt3jfUG1RNljiBR-CmDnitANGlWZTkvNIMyEbEGeSj_SExzrqGpJIiyxZTYpzRkVj5BbkUs25HevUBdrpGj0z7QSLgOGxC63cL6N39Gd5oKPuR0K_DKVlO4eqb0z9cEVF83thN2aff8ioALTtM9Wi0arPe6FotzapYvv7OYp6UE93-OB5swgob8DhVcOFvUPpfK4JBZMj8nLEz_3clcT-ukSK91XgCCQI9hGaDcy96WFZIXjjZbdUuz_aDWpBt6lkldy9uIEiFRN0h2mudQKKwWZuEegM2uSiICjg6248UppOW6--O7kyzyaSHPfNTC6SvFgc-oQVe4FpCOqnlDSdUNDzFtaVjqlfeAKYk5fu51npRdY5P0AYXk_1_d47Lmr_Nm7QVAckLNmiYwpNvnB0W02DUiv9t/download\n",
            "Resolving dl2.boxcloud.com (dl2.boxcloud.com)... 74.112.186.128\n",
            "Connecting to dl2.boxcloud.com (dl2.boxcloud.com)|74.112.186.128|:443... connected.\n",
            "HTTP request sent, awaiting response... 200 OK\n",
            "Length: 535253 (523K) [text/plain]\n",
            "Saving to: ‘genes.txt’\n",
            "\n",
            "genes.txt           100%[===================>] 522.71K  2.97MB/s    in 0.2s    \n",
            "\n",
            "2023-03-18 05:05:07 (2.97 MB/s) - ‘genes.txt’ saved [535253/535253]\n",
            "\n"
          ]
        }
      ]
    },
    {
      "cell_type": "markdown",
      "metadata": {
        "id": "1teufrMyJbx5"
      },
      "source": [
        "# Testis"
      ]
    },
    {
      "cell_type": "code",
      "metadata": {
        "id": "dSrBA-IiJYZ-"
      },
      "source": [
        "species = \"homo_sapiens\"\n",
        "organ = \"testis\"\n",
        "reference = \"GRCh37-Enesmbl75\"\n",
        "paper_doi = \"https://doi.org/10.1016/j.devcel.2020.05.010\"\n",
        "table_link = \"https://ars.els-cdn.com/content/image/1-s2.0-S1534580720303993-mmc2.xlsx\"\n",
        "\n",
        "# don't include in header\n",
        "table_name = \"1-s2.0-S1534580720303993-mmc2.xlsx\"\n",
        "\n",
        "header = [\n",
        "    {\n",
        "      \"species\": species,\n",
        "      \"organ\": organ,\n",
        "      \"reference\": reference,\n",
        "      \"paper_doi\": paper_doi,\n",
        "      \"table_link\": table_link,\n",
        "    }\n",
        "]"
      ],
      "execution_count": 5,
      "outputs": []
    },
    {
      "cell_type": "code",
      "metadata": {
        "id": "mFyjbuggJoZR"
      },
      "source": [
        "excel = pd.read_excel(table_name, sheet_name=None, skiprows=4)"
      ],
      "execution_count": 6,
      "outputs": []
    },
    {
      "cell_type": "code",
      "metadata": {
        "colab": {
          "base_uri": "https://localhost:8080/"
        },
        "id": "DBqV0QXqJruU",
        "outputId": "5d8590ba-5e1b-445a-a4c8-30a7b3731993"
      },
      "source": [
        "excel.keys()"
      ],
      "execution_count": 7,
      "outputs": [
        {
          "output_type": "execute_result",
          "data": {
            "text/plain": [
              "dict_keys(['TableS1', 'A.HumanTestis-Centroids', 'B.HumanTestis-Markers', 'C.MonkeyTestis-Centroids', 'D.MonkeyTestis-Markers', 'E.MSCI Escapees'])"
            ]
          },
          "metadata": {},
          "execution_count": 7
        }
      ]
    },
    {
      "cell_type": "code",
      "metadata": {
        "id": "ERiJCDL_JsXx"
      },
      "source": [
        "df = excel[\"B.HumanTestis-Markers\"].drop(columns=[\"Unnamed: 7\",\t\"Unnamed: 8\",\t\"Unnamed: 9\",\t\"Unnamed: 10\",\t\"Unnamed: 11\"]).rename(columns={\"cluster\": \"celltype\"})"
      ],
      "execution_count": 8,
      "outputs": []
    },
    {
      "cell_type": "code",
      "metadata": {
        "colab": {
          "base_uri": "https://localhost:8080/",
          "height": 206
        },
        "id": "Rqmq9EBKJ1ez",
        "outputId": "703569d0-a36e-414d-9814-6131ab1ed7a7"
      },
      "source": [
        "df.head()"
      ],
      "execution_count": 9,
      "outputs": [
        {
          "output_type": "execute_result",
          "data": {
            "text/plain": [
              "  celltype   gene         p_val  avg_logFC  pct.1  pct.2     p_val_adj\n",
              "0    Tcell   CD52  2.252593e-96   2.635621  0.738  0.005  1.048379e-91\n",
              "1    Tcell   CD69  1.115023e-73   2.521717  0.646  0.008  5.189428e-69\n",
              "2    Tcell    B2M  1.789482e-72   2.396398  0.969  0.255  8.328428e-68\n",
              "3    Tcell   CCL5  1.105175e-70   2.855041  0.492  0.003  5.143596e-66\n",
              "4    Tcell  CXCR4  9.216814e-63   2.380985  0.631  0.014  4.289598e-58"
            ],
            "text/html": [
              "\n",
              "  <div id=\"df-aaec3e0c-89ea-4b22-a22f-5fba51c1e9af\">\n",
              "    <div class=\"colab-df-container\">\n",
              "      <div>\n",
              "<style scoped>\n",
              "    .dataframe tbody tr th:only-of-type {\n",
              "        vertical-align: middle;\n",
              "    }\n",
              "\n",
              "    .dataframe tbody tr th {\n",
              "        vertical-align: top;\n",
              "    }\n",
              "\n",
              "    .dataframe thead th {\n",
              "        text-align: right;\n",
              "    }\n",
              "</style>\n",
              "<table border=\"1\" class=\"dataframe\">\n",
              "  <thead>\n",
              "    <tr style=\"text-align: right;\">\n",
              "      <th></th>\n",
              "      <th>celltype</th>\n",
              "      <th>gene</th>\n",
              "      <th>p_val</th>\n",
              "      <th>avg_logFC</th>\n",
              "      <th>pct.1</th>\n",
              "      <th>pct.2</th>\n",
              "      <th>p_val_adj</th>\n",
              "    </tr>\n",
              "  </thead>\n",
              "  <tbody>\n",
              "    <tr>\n",
              "      <th>0</th>\n",
              "      <td>Tcell</td>\n",
              "      <td>CD52</td>\n",
              "      <td>2.252593e-96</td>\n",
              "      <td>2.635621</td>\n",
              "      <td>0.738</td>\n",
              "      <td>0.005</td>\n",
              "      <td>1.048379e-91</td>\n",
              "    </tr>\n",
              "    <tr>\n",
              "      <th>1</th>\n",
              "      <td>Tcell</td>\n",
              "      <td>CD69</td>\n",
              "      <td>1.115023e-73</td>\n",
              "      <td>2.521717</td>\n",
              "      <td>0.646</td>\n",
              "      <td>0.008</td>\n",
              "      <td>5.189428e-69</td>\n",
              "    </tr>\n",
              "    <tr>\n",
              "      <th>2</th>\n",
              "      <td>Tcell</td>\n",
              "      <td>B2M</td>\n",
              "      <td>1.789482e-72</td>\n",
              "      <td>2.396398</td>\n",
              "      <td>0.969</td>\n",
              "      <td>0.255</td>\n",
              "      <td>8.328428e-68</td>\n",
              "    </tr>\n",
              "    <tr>\n",
              "      <th>3</th>\n",
              "      <td>Tcell</td>\n",
              "      <td>CCL5</td>\n",
              "      <td>1.105175e-70</td>\n",
              "      <td>2.855041</td>\n",
              "      <td>0.492</td>\n",
              "      <td>0.003</td>\n",
              "      <td>5.143596e-66</td>\n",
              "    </tr>\n",
              "    <tr>\n",
              "      <th>4</th>\n",
              "      <td>Tcell</td>\n",
              "      <td>CXCR4</td>\n",
              "      <td>9.216814e-63</td>\n",
              "      <td>2.380985</td>\n",
              "      <td>0.631</td>\n",
              "      <td>0.014</td>\n",
              "      <td>4.289598e-58</td>\n",
              "    </tr>\n",
              "  </tbody>\n",
              "</table>\n",
              "</div>\n",
              "      <button class=\"colab-df-convert\" onclick=\"convertToInteractive('df-aaec3e0c-89ea-4b22-a22f-5fba51c1e9af')\"\n",
              "              title=\"Convert this dataframe to an interactive table.\"\n",
              "              style=\"display:none;\">\n",
              "        \n",
              "  <svg xmlns=\"http://www.w3.org/2000/svg\" height=\"24px\"viewBox=\"0 0 24 24\"\n",
              "       width=\"24px\">\n",
              "    <path d=\"M0 0h24v24H0V0z\" fill=\"none\"/>\n",
              "    <path d=\"M18.56 5.44l.94 2.06.94-2.06 2.06-.94-2.06-.94-.94-2.06-.94 2.06-2.06.94zm-11 1L8.5 8.5l.94-2.06 2.06-.94-2.06-.94L8.5 2.5l-.94 2.06-2.06.94zm10 10l.94 2.06.94-2.06 2.06-.94-2.06-.94-.94-2.06-.94 2.06-2.06.94z\"/><path d=\"M17.41 7.96l-1.37-1.37c-.4-.4-.92-.59-1.43-.59-.52 0-1.04.2-1.43.59L10.3 9.45l-7.72 7.72c-.78.78-.78 2.05 0 2.83L4 21.41c.39.39.9.59 1.41.59.51 0 1.02-.2 1.41-.59l7.78-7.78 2.81-2.81c.8-.78.8-2.07 0-2.86zM5.41 20L4 18.59l7.72-7.72 1.47 1.35L5.41 20z\"/>\n",
              "  </svg>\n",
              "      </button>\n",
              "      \n",
              "  <style>\n",
              "    .colab-df-container {\n",
              "      display:flex;\n",
              "      flex-wrap:wrap;\n",
              "      gap: 12px;\n",
              "    }\n",
              "\n",
              "    .colab-df-convert {\n",
              "      background-color: #E8F0FE;\n",
              "      border: none;\n",
              "      border-radius: 50%;\n",
              "      cursor: pointer;\n",
              "      display: none;\n",
              "      fill: #1967D2;\n",
              "      height: 32px;\n",
              "      padding: 0 0 0 0;\n",
              "      width: 32px;\n",
              "    }\n",
              "\n",
              "    .colab-df-convert:hover {\n",
              "      background-color: #E2EBFA;\n",
              "      box-shadow: 0px 1px 2px rgba(60, 64, 67, 0.3), 0px 1px 3px 1px rgba(60, 64, 67, 0.15);\n",
              "      fill: #174EA6;\n",
              "    }\n",
              "\n",
              "    [theme=dark] .colab-df-convert {\n",
              "      background-color: #3B4455;\n",
              "      fill: #D2E3FC;\n",
              "    }\n",
              "\n",
              "    [theme=dark] .colab-df-convert:hover {\n",
              "      background-color: #434B5C;\n",
              "      box-shadow: 0px 1px 3px 1px rgba(0, 0, 0, 0.15);\n",
              "      filter: drop-shadow(0px 1px 2px rgba(0, 0, 0, 0.3));\n",
              "      fill: #FFFFFF;\n",
              "    }\n",
              "  </style>\n",
              "\n",
              "      <script>\n",
              "        const buttonEl =\n",
              "          document.querySelector('#df-aaec3e0c-89ea-4b22-a22f-5fba51c1e9af button.colab-df-convert');\n",
              "        buttonEl.style.display =\n",
              "          google.colab.kernel.accessAllowed ? 'block' : 'none';\n",
              "\n",
              "        async function convertToInteractive(key) {\n",
              "          const element = document.querySelector('#df-aaec3e0c-89ea-4b22-a22f-5fba51c1e9af');\n",
              "          const dataTable =\n",
              "            await google.colab.kernel.invokeFunction('convertToInteractive',\n",
              "                                                     [key], {});\n",
              "          if (!dataTable) return;\n",
              "\n",
              "          const docLinkHtml = 'Like what you see? Visit the ' +\n",
              "            '<a target=\"_blank\" href=https://colab.research.google.com/notebooks/data_table.ipynb>data table notebook</a>'\n",
              "            + ' to learn more about interactive tables.';\n",
              "          element.innerHTML = '';\n",
              "          dataTable['output_type'] = 'display_data';\n",
              "          await google.colab.output.renderOutput(dataTable, element);\n",
              "          const docLink = document.createElement('div');\n",
              "          docLink.innerHTML = docLinkHtml;\n",
              "          element.appendChild(docLink);\n",
              "        }\n",
              "      </script>\n",
              "    </div>\n",
              "  </div>\n",
              "  "
            ]
          },
          "metadata": {},
          "execution_count": 9
        }
      ]
    },
    {
      "cell_type": "code",
      "source": [
        "# Filter out genes not present in reference\n",
        "bidx = df['gene'].isin(genes_list)\n",
        "print(f'Filtered {np.sum(~bidx)} out of {len(bidx)} genes')\n",
        "df = df[bidx]"
      ],
      "metadata": {
        "id": "H0RQLeevyMJ4",
        "outputId": "ca9a5eb9-03fc-4be5-d16c-74ed71d654a8",
        "colab": {
          "base_uri": "https://localhost:8080/"
        }
      },
      "execution_count": 10,
      "outputs": [
        {
          "output_type": "stream",
          "name": "stdout",
          "text": [
            "Filtered 248 out of 3035 genes\n"
          ]
        }
      ]
    },
    {
      "cell_type": "code",
      "metadata": {
        "id": "IpLjvZJFJ10m"
      },
      "source": [
        "min_mean = 100\n",
        "max_pval = 1e-10\n",
        "min_lfc = 1\n",
        "max_gene_shares = 2\n",
        "max_per_celltype = 20\n",
        "\n",
        "# filter by criteria\n",
        "dfc = df.query(f\"p_val_adj <= {max_pval} & avg_logFC >= {min_lfc}\")\n",
        "\n",
        "# mask out genes that are shared between max_gene_shares cell type\n",
        "non_repeat_genes = dfc[\"gene\"].value_counts()[dfc[\"gene\"].value_counts() < max_gene_shares].index.values\n",
        "\n",
        "m = dfc[dfc.gene.isin(non_repeat_genes)].sort_values('pct.1', ascending = True)\n",
        "\n",
        "# max number to sample is equal to the min number of genes across all celltype\n",
        "n_sample = min(m[\"celltype\"].value_counts().min(), max_per_celltype)\n",
        "\n",
        "# get n_sample genes\n",
        "markers = m.groupby('celltype').tail(n_sample)\n",
        "markers_dict = markers.groupby(\"celltype\")[\"gene\"].apply(lambda x: list(x)).to_dict()\n"
      ],
      "execution_count": 25,
      "outputs": []
    },
    {
      "cell_type": "code",
      "metadata": {
        "colab": {
          "base_uri": "https://localhost:8080/"
        },
        "id": "St0Il3TXKxRB",
        "outputId": "fd56e928-8005-4dc2-b7e4-f4acb4ade838"
      },
      "source": [
        "markers.celltype.value_counts()"
      ],
      "execution_count": 26,
      "outputs": [
        {
          "output_type": "execute_result",
          "data": {
            "text/plain": [
              "f-Pericyte        20\n",
              "Endothelial       20\n",
              "ImmLeydig         20\n",
              "m-Pericyte        20\n",
              "Myoid             20\n",
              "Macrophage        20\n",
              "RoundSpermatid    20\n",
              "Spermatocyte      20\n",
              "Tcell             20\n",
              "Spermatogonia     20\n",
              "Elongating        20\n",
              "Name: celltype, dtype: int64"
            ]
          },
          "metadata": {},
          "execution_count": 26
        }
      ]
    },
    {
      "cell_type": "code",
      "metadata": {
        "id": "SO1p80avKyL4"
      },
      "source": [
        "write_markers(\"markers.txt\", markers_dict, header)"
      ],
      "execution_count": 27,
      "outputs": []
    },
    {
      "cell_type": "code",
      "source": [
        "markers.groupby(\"celltype\")[\"pct.1\"].mean().sort_values()"
      ],
      "metadata": {
        "colab": {
          "base_uri": "https://localhost:8080/"
        },
        "id": "phF0vuVyUbwn",
        "outputId": "18700d5d-01d4-49d4-bf4b-4f2a26336005"
      },
      "execution_count": 28,
      "outputs": [
        {
          "output_type": "execute_result",
          "data": {
            "text/plain": [
              "celltype\n",
              "f-Pericyte        0.40245\n",
              "Endothelial       0.45155\n",
              "ImmLeydig         0.49895\n",
              "Myoid             0.57100\n",
              "m-Pericyte        0.57125\n",
              "Macrophage        0.59255\n",
              "RoundSpermatid    0.75825\n",
              "Spermatocyte      0.77230\n",
              "Spermatogonia     0.85575\n",
              "Tcell             0.85690\n",
              "Elongating        0.95005\n",
              "Name: pct.1, dtype: float64"
            ]
          },
          "metadata": {},
          "execution_count": 28
        }
      ]
    },
    {
      "cell_type": "code",
      "source": [
        "!cat markers.txt"
      ],
      "metadata": {
        "colab": {
          "base_uri": "https://localhost:8080/"
        },
        "id": "zTA6c5smr-kN",
        "outputId": "51d4889e-660d-4cad-d18d-d1b8b659c4dd"
      },
      "execution_count": 29,
      "outputs": [
        {
          "output_type": "stream",
          "name": "stdout",
          "text": [
            "# homo_sapiens\ttestis\tGRCh37-Enesmbl75\thttps://doi.org/10.1016/j.devcel.2020.05.010\thttps://ars.els-cdn.com/content/image/1-s2.0-S1534580720303993-mmc2.xlsx\n",
            "Elongating\tDCUN1D1,TRIM36,LELP1,BOD1L2,CCSER2,UBA52,SMCP,ODF2,TSACC,MLF1,CRISP2,AC007557.1,AKAP4,HMGB4,PHF7,LINC00467,GPX4,TNP1,PRM1,PRM2\n",
            "Endothelial\tNOSTRIN,CD59,PKP4,SYNE1,EMCN,HSPG2,ATF4,CLDN5,CTNNB1,STOM,MYH9,EPAS1,PALMD,EGFL7,AQP1,CD34,IFI27,GNG11,ACTG1,VWF\n",
            "ImmLeydig\tFSTL1,ISLR,SNED1,SCARA5,APOD,PCOLCE,IGF2,ABCA8,PODN,FLRT2,SERPINE2,LUM,C3,H19,PRRX1,CCDC80,IGF1,DLK1,SFRP1,CFD\n",
            "Macrophage\tCTSB,DEK,SNHG5,IER3,FCER1A,MCL1,MNDA,IER5,LPAR6,LYZ,MS4A6A,HLA-DMA,OAZ1,RGS2,AIF1,HLA-DQB1,GPX1,HLA-DQA1,TYROBP,RPL27\n",
            "Myoid\tACTN1,LAMC3,DPEP1,MFAP4,PEG3,MORF4L2,FHL2,COL15A1,VCAN,BGN,CIRBP,MATN2,TSHZ2,ABLIM1,SMOC2,TPM4,DDX17,LUC7L3,TCEAL4,AEBP1\n",
            "RoundSpermatid\tTMCO2,WDR74,PDCL2,CALCOCO2,EIF4G1,RNF151,AC006019.3,FAM209A,CEP152,SPACA3,CCDC168,ACTL7B,CHD5,FAM186A,ERICH2,TMEM191C,CAST,C20orf144,IQGAP2,FAM229A\n",
            "Spermatocyte\tDNAJC21,CCDC146,DBF4,TPR,LDHC,SPINK2,IZUMO4,LRRIQ1,CETN1,MNS1,GOLGA6L2,SHCBP1L,BRDT,H2AFJ,ANKRD7,FSIP2,GKAP1,CCDC173,GOLGA4,CCDC110\n",
            "Spermatogonia\tYWHAE,SMARCA5,CCNI,MT-ATP8,ZC3H13,HIST1H4C,MATR3,CBX3,SBNO1,NASP,DDX24,MT-ND2,HNRNPA2B1,NCL,RBM25,HSP90AB1,SMC3,MT-ND4,MT-CO2,MT-CO3\n",
            "Tcell\tRPL14,CD52,RPS23,RPL23A,RPS13,RPL37,RPL19,RPS3,RPL11,RPS15A,RPS15,RPL30,RPS16,RPL31,RPS29,RPS14,RPS19,RPS27A,RPS18,RPS27\n",
            "f-Pericyte\tDKK3,GEM,GGT5,ID3,GUCY1A2,SYTL2,CD44,NID1,FABP4,CD36,ABCC9,RBMS3,SLC38A2,COL4A1,DLC1,COL4A2,NRP1,ITGA1,EPS8,STEAP4\n",
            "m-Pericyte\tSH3BGRL,LBH,RERGL,NTRK2,RCAN2,NET1,CRIP2,SORBS2,PPIA,UTRN,EID1,MGST3,PALLD,ROCK1,LPP,CALM1,NDUFA4,PPP1R12A,MCAM,CALM2\n"
          ]
        }
      ]
    },
    {
      "cell_type": "markdown",
      "source": [
        "### Remove f-pericytes because their markers are not good"
      ],
      "metadata": {
        "id": "1E4l9hEpxfZC"
      }
    },
    {
      "cell_type": "code",
      "source": [
        "!grep -v f-Pericyte markers.txt > markers_f.txt\n",
        "!mv markers_f.txt markers.txt"
      ],
      "metadata": {
        "id": "CQmmONWexrin"
      },
      "execution_count": 30,
      "outputs": []
    },
    {
      "cell_type": "code",
      "source": [
        "!cat markers.txt"
      ],
      "metadata": {
        "colab": {
          "base_uri": "https://localhost:8080/"
        },
        "id": "asuRX1fvUnJG",
        "outputId": "eefcc315-1ba2-47b3-ff22-7a191b6a1bff"
      },
      "execution_count": 31,
      "outputs": [
        {
          "output_type": "stream",
          "name": "stdout",
          "text": [
            "# homo_sapiens\ttestis\tGRCh37-Enesmbl75\thttps://doi.org/10.1016/j.devcel.2020.05.010\thttps://ars.els-cdn.com/content/image/1-s2.0-S1534580720303993-mmc2.xlsx\n",
            "Elongating\tDCUN1D1,TRIM36,LELP1,BOD1L2,CCSER2,UBA52,SMCP,ODF2,TSACC,MLF1,CRISP2,AC007557.1,AKAP4,HMGB4,PHF7,LINC00467,GPX4,TNP1,PRM1,PRM2\n",
            "Endothelial\tNOSTRIN,CD59,PKP4,SYNE1,EMCN,HSPG2,ATF4,CLDN5,CTNNB1,STOM,MYH9,EPAS1,PALMD,EGFL7,AQP1,CD34,IFI27,GNG11,ACTG1,VWF\n",
            "ImmLeydig\tFSTL1,ISLR,SNED1,SCARA5,APOD,PCOLCE,IGF2,ABCA8,PODN,FLRT2,SERPINE2,LUM,C3,H19,PRRX1,CCDC80,IGF1,DLK1,SFRP1,CFD\n",
            "Macrophage\tCTSB,DEK,SNHG5,IER3,FCER1A,MCL1,MNDA,IER5,LPAR6,LYZ,MS4A6A,HLA-DMA,OAZ1,RGS2,AIF1,HLA-DQB1,GPX1,HLA-DQA1,TYROBP,RPL27\n",
            "Myoid\tACTN1,LAMC3,DPEP1,MFAP4,PEG3,MORF4L2,FHL2,COL15A1,VCAN,BGN,CIRBP,MATN2,TSHZ2,ABLIM1,SMOC2,TPM4,DDX17,LUC7L3,TCEAL4,AEBP1\n",
            "RoundSpermatid\tTMCO2,WDR74,PDCL2,CALCOCO2,EIF4G1,RNF151,AC006019.3,FAM209A,CEP152,SPACA3,CCDC168,ACTL7B,CHD5,FAM186A,ERICH2,TMEM191C,CAST,C20orf144,IQGAP2,FAM229A\n",
            "Spermatocyte\tDNAJC21,CCDC146,DBF4,TPR,LDHC,SPINK2,IZUMO4,LRRIQ1,CETN1,MNS1,GOLGA6L2,SHCBP1L,BRDT,H2AFJ,ANKRD7,FSIP2,GKAP1,CCDC173,GOLGA4,CCDC110\n",
            "Spermatogonia\tYWHAE,SMARCA5,CCNI,MT-ATP8,ZC3H13,HIST1H4C,MATR3,CBX3,SBNO1,NASP,DDX24,MT-ND2,HNRNPA2B1,NCL,RBM25,HSP90AB1,SMC3,MT-ND4,MT-CO2,MT-CO3\n",
            "Tcell\tRPL14,CD52,RPS23,RPL23A,RPS13,RPL37,RPL19,RPS3,RPL11,RPS15A,RPS15,RPL30,RPS16,RPL31,RPS29,RPS14,RPS19,RPS27A,RPS18,RPS27\n",
            "m-Pericyte\tSH3BGRL,LBH,RERGL,NTRK2,RCAN2,NET1,CRIP2,SORBS2,PPIA,UTRN,EID1,MGST3,PALLD,ROCK1,LPP,CALM1,NDUFA4,PPP1R12A,MCAM,CALM2\n"
          ]
        }
      ]
    },
    {
      "cell_type": "code",
      "source": [],
      "metadata": {
        "id": "he1yETZ6sCj6"
      },
      "execution_count": null,
      "outputs": []
    }
  ]
}