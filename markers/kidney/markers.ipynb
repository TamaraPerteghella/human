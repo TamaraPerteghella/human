{
  "nbformat": 4,
  "nbformat_minor": 0,
  "metadata": {
    "colab": {
      "name": "kidney.ipynb",
      "provenance": [],
      "include_colab_link": true
    },
    "kernelspec": {
      "name": "python3",
      "display_name": "Python 3"
    },
    "language_info": {
      "name": "python"
    }
  },
  "cells": [
    {
      "cell_type": "markdown",
      "metadata": {
        "id": "view-in-github",
        "colab_type": "text"
      },
      "source": [
        "<a href=\"https://colab.research.google.com/github/cellatlas/human/blob/master/markers/kidney/markers.ipynb\" target=\"_parent\"><img src=\"https://colab.research.google.com/assets/colab-badge.svg\" alt=\"Open In Colab\"/></a>"
      ]
    },
    {
      "cell_type": "code",
      "source": [
        "!pip install -q gget\n",
        "!pip install -q git+https://github.com/sbooeshaghi/ec"
      ],
      "metadata": {
        "id": "SX80a-tps6id",
        "outputId": "ed49e03c-3824-47ae-a1b2-9fc1e67c332f",
        "colab": {
          "base_uri": "https://localhost:8080/"
        }
      },
      "execution_count": 1,
      "outputs": [
        {
          "output_type": "stream",
          "name": "stdout",
          "text": [
            "\u001b[2K     \u001b[90m━━━━━━━━━━━━━━━━━━━━━━━━━━━━━━━━━━━━━━━━\u001b[0m \u001b[32m2.2/2.2 MB\u001b[0m \u001b[31m19.9 MB/s\u001b[0m eta \u001b[36m0:00:00\u001b[0m\n",
            "\u001b[2K     \u001b[90m━━━━━━━━━━━━━━━━━━━━━━━━━━━━━━━━━━━━━━━━\u001b[0m \u001b[32m25.2/25.2 MB\u001b[0m \u001b[31m15.5 MB/s\u001b[0m eta \u001b[36m0:00:00\u001b[0m\n",
            "\u001b[2K     \u001b[90m━━━━━━━━━━━━━━━━━━━━━━━━━━━━━━━━━━━━━━━━\u001b[0m \u001b[32m1.6/1.6 MB\u001b[0m \u001b[31m11.3 MB/s\u001b[0m eta \u001b[36m0:00:00\u001b[0m\n",
            "\u001b[?25h  Preparing metadata (setup.py) ... \u001b[?25l\u001b[?25hdone\n",
            "  Building wheel for ec (setup.py) ... \u001b[?25l\u001b[?25hdone\n"
          ]
        }
      ]
    },
    {
      "cell_type": "code",
      "metadata": {
        "id": "puOHxA4G-Dlg"
      },
      "source": [
        "\n",
        "import pandas as pd\n",
        "import numpy as np\n",
        "from ec.utils import write_markers"
      ],
      "execution_count": 2,
      "outputs": []
    },
    {
      "cell_type": "code",
      "source": [
        "# Get valid gene names\n",
        "!wget -O genes.txt https://caltech.box.com/shared/static/4r5prhstoq2j1lk8l56bpwqqvfj54q2u.txt\n",
        "genes_list = pd.read_csv('genes.txt', header = None)[0].values"
      ],
      "metadata": {
        "id": "gIfK-OwMtWJR",
        "outputId": "7c5709c1-fee8-4b1f-edc4-ff9d492e2974",
        "colab": {
          "base_uri": "https://localhost:8080/"
        }
      },
      "execution_count": 3,
      "outputs": [
        {
          "output_type": "stream",
          "name": "stdout",
          "text": [
            "--2023-03-18 04:41:54--  https://caltech.box.com/shared/static/4r5prhstoq2j1lk8l56bpwqqvfj54q2u.txt\n",
            "Resolving caltech.box.com (caltech.box.com)... 74.112.186.144\n",
            "Connecting to caltech.box.com (caltech.box.com)|74.112.186.144|:443... connected.\n",
            "HTTP request sent, awaiting response... 301 Moved Permanently\n",
            "Location: /public/static/4r5prhstoq2j1lk8l56bpwqqvfj54q2u.txt [following]\n",
            "--2023-03-18 04:41:54--  https://caltech.box.com/public/static/4r5prhstoq2j1lk8l56bpwqqvfj54q2u.txt\n",
            "Reusing existing connection to caltech.box.com:443.\n",
            "HTTP request sent, awaiting response... 301 Moved Permanently\n",
            "Location: https://caltech.app.box.com/public/static/4r5prhstoq2j1lk8l56bpwqqvfj54q2u.txt [following]\n",
            "--2023-03-18 04:41:54--  https://caltech.app.box.com/public/static/4r5prhstoq2j1lk8l56bpwqqvfj54q2u.txt\n",
            "Resolving caltech.app.box.com (caltech.app.box.com)... 74.112.186.144\n",
            "Connecting to caltech.app.box.com (caltech.app.box.com)|74.112.186.144|:443... connected.\n",
            "HTTP request sent, awaiting response... 302 Found\n",
            "Location: https://dl2.boxcloud.com/d/1/b1!b7EcRHjZt4Lm3KxInmkNZ1f7ChjuQU5mJORJgxtvgNQ1S6PKY5K3sLrwa-6AnuZis5gdX4jqfX2XGHZ9uFdSesopjB_AbuKe_eUGRryfxPM7heXeflv3W5ANvKP6gDwO4GQWh0-HMYXxT6xWEINEPe0R52RhrNnMTI36PDOC7wEjg4ZCyhXWWaXP4LpQrI3C7L339JEGLzkqRYZA87Rlz1yYcw0fSTH51MTZCKSPcJc9mKiItNv74X6B0XXfgRz_MiM24Dy4tXhG6TNnHCKMDzbPklyl9Ox6BI0j1VzywmJPFcnW-XAWNUVJH89ZNzTl13Lj4Sp2L-yeknaFuUzAlxAdLm3JUEmZq0XL8m3qsPLtQW2FeI1YWNj4iSMhODCqurVlGZcWpKBgCk7f98gVDTGqkDf7PEc5rVHQy_0FC-ssAY0_yST1eHBj8FFhw2gkypkyFTgOytbSn1f4_R2aLSveor9Sm9nliite0LWRy3GRyktct76FVG70XGdG1F_afKXIiwyj4RP0FgbWZTfO905YA64kbrVSez6GVD-SOt-wYb_jJDnRsmuDgb1lmdVpxMgvk3VbA1Z1vMOWAHAvmzgfCpsXynRCL8hQNRvqtZCyolvS0BhsWHX2EE8sIr4iJulaKKebkcshrSStXUz6QyL9uO86gxOnlo8WKRwnYJUI1y6Mn_SFgkCHr8AyCHCcvmNyg2icxDlXnaJgRlQNsAAIMf9M_ZY1tsctARqZ7368iwVoTj1ISe2E2sFBPMJZBOKw6kxSEYi1xAQ0XoJWW2kYTa9-pkJSvr8AmczxbvFlDoXol5ngKJH93lFCTONersOSMlcFVcAX6lttinKl8Ll_tTk2HiCLzlTFE7FfCqJbe7t5r65ebCvUd-S3oLD99Rsq0Q-WkgbuqsuzvAb43QFWfHh5bMDgtdKbqDET6AAPEwMT3vDb7erfeK0HdCrohbDvIIT0z5HGcKNGkSwg7H27Lng_IXnx1n5egCv8-YwPG7px-8AR3oF0SndBpNT8jeKENsR4l2FBNZpfetclgqgh6Ov2y0tVzCBG88UZcsdwNm5iHmDiVoyzxr9h8LotTuIl851i9Q-6lUr16GAOV8rOAK5tJibdNIFyWWyFrZ0zNO_2sWYbfKpVQIDs5Ki2Ddn-AX3dsY1riQHYWwYIv0w-FI4hhmGWfGBFbqNUD2CaWOTLNODCa-70G8CwBDEh9V6HsCKxiyddzcVaNJDTlANyIAD5Hu82UVgH1plCOn99HJLlXyrkUcwvf-wbSDOeR0Zcb1hmhI98lbKdj9pZZ4agC0RkCPnDeiEXJqNX5_g0pN4xG8RRXtjhsbwGLDffYJecbZ39E2oB92kOS6udNnIPjFx_WG81B0RXGvzVraWpD4-q1DfWcHRYwDJMBmI./download [following]\n",
            "--2023-03-18 04:41:54--  https://dl2.boxcloud.com/d/1/b1!b7EcRHjZt4Lm3KxInmkNZ1f7ChjuQU5mJORJgxtvgNQ1S6PKY5K3sLrwa-6AnuZis5gdX4jqfX2XGHZ9uFdSesopjB_AbuKe_eUGRryfxPM7heXeflv3W5ANvKP6gDwO4GQWh0-HMYXxT6xWEINEPe0R52RhrNnMTI36PDOC7wEjg4ZCyhXWWaXP4LpQrI3C7L339JEGLzkqRYZA87Rlz1yYcw0fSTH51MTZCKSPcJc9mKiItNv74X6B0XXfgRz_MiM24Dy4tXhG6TNnHCKMDzbPklyl9Ox6BI0j1VzywmJPFcnW-XAWNUVJH89ZNzTl13Lj4Sp2L-yeknaFuUzAlxAdLm3JUEmZq0XL8m3qsPLtQW2FeI1YWNj4iSMhODCqurVlGZcWpKBgCk7f98gVDTGqkDf7PEc5rVHQy_0FC-ssAY0_yST1eHBj8FFhw2gkypkyFTgOytbSn1f4_R2aLSveor9Sm9nliite0LWRy3GRyktct76FVG70XGdG1F_afKXIiwyj4RP0FgbWZTfO905YA64kbrVSez6GVD-SOt-wYb_jJDnRsmuDgb1lmdVpxMgvk3VbA1Z1vMOWAHAvmzgfCpsXynRCL8hQNRvqtZCyolvS0BhsWHX2EE8sIr4iJulaKKebkcshrSStXUz6QyL9uO86gxOnlo8WKRwnYJUI1y6Mn_SFgkCHr8AyCHCcvmNyg2icxDlXnaJgRlQNsAAIMf9M_ZY1tsctARqZ7368iwVoTj1ISe2E2sFBPMJZBOKw6kxSEYi1xAQ0XoJWW2kYTa9-pkJSvr8AmczxbvFlDoXol5ngKJH93lFCTONersOSMlcFVcAX6lttinKl8Ll_tTk2HiCLzlTFE7FfCqJbe7t5r65ebCvUd-S3oLD99Rsq0Q-WkgbuqsuzvAb43QFWfHh5bMDgtdKbqDET6AAPEwMT3vDb7erfeK0HdCrohbDvIIT0z5HGcKNGkSwg7H27Lng_IXnx1n5egCv8-YwPG7px-8AR3oF0SndBpNT8jeKENsR4l2FBNZpfetclgqgh6Ov2y0tVzCBG88UZcsdwNm5iHmDiVoyzxr9h8LotTuIl851i9Q-6lUr16GAOV8rOAK5tJibdNIFyWWyFrZ0zNO_2sWYbfKpVQIDs5Ki2Ddn-AX3dsY1riQHYWwYIv0w-FI4hhmGWfGBFbqNUD2CaWOTLNODCa-70G8CwBDEh9V6HsCKxiyddzcVaNJDTlANyIAD5Hu82UVgH1plCOn99HJLlXyrkUcwvf-wbSDOeR0Zcb1hmhI98lbKdj9pZZ4agC0RkCPnDeiEXJqNX5_g0pN4xG8RRXtjhsbwGLDffYJecbZ39E2oB92kOS6udNnIPjFx_WG81B0RXGvzVraWpD4-q1DfWcHRYwDJMBmI./download\n",
            "Resolving dl2.boxcloud.com (dl2.boxcloud.com)... 74.112.186.128\n",
            "Connecting to dl2.boxcloud.com (dl2.boxcloud.com)|74.112.186.128|:443... connected.\n",
            "HTTP request sent, awaiting response... 200 OK\n",
            "Length: 535253 (523K) [text/plain]\n",
            "Saving to: ‘genes.txt’\n",
            "\n",
            "genes.txt           100%[===================>] 522.71K  --.-KB/s    in 0.1s    \n",
            "\n",
            "2023-03-18 04:41:55 (3.65 MB/s) - ‘genes.txt’ saved [535253/535253]\n",
            "\n"
          ]
        }
      ]
    },
    {
      "cell_type": "markdown",
      "metadata": {
        "id": "_oJxuQ49-EeH"
      },
      "source": [
        "# Kidney"
      ]
    },
    {
      "cell_type": "code",
      "metadata": {
        "id": "qSskWjuv9zVU"
      },
      "source": [
        "species = \"homo_sapiens\"\n",
        "organ = \"kidney\"\n",
        "reference = \"GRCh38\"\n",
        "paper_doi = \"https://doi.org/10.1681/ASN.2018020125\"\n",
        "table_link = \"https://www.ncbi.nlm.nih.gov/pmc/articles/PMC6065085/bin/ASN.2018020125SupplementaryData3.xls\"\n",
        "\n",
        "# don't include in header\n",
        "table_name = \"ASN.2018020125SupplementaryData3.xls\"\n",
        "\n",
        "header = [\n",
        "    {\n",
        "      \"species\": species,\n",
        "      \"organ\": organ,\n",
        "      \"reference\": reference,\n",
        "      \"paper_doi\": paper_doi,\n",
        "      \"table_link\": table_link,\n",
        "    }\n",
        "]\n",
        "    "
      ],
      "execution_count": 4,
      "outputs": []
    },
    {
      "cell_type": "code",
      "metadata": {
        "id": "VsPVjqnl-Jwq"
      },
      "source": [
        "excel = pd.read_excel(table_link, sheet_name=None)\n",
        "ct = {i: i.split('. ')[-1] for i in excel.keys()}\n",
        "\n",
        "# stacks the sheets together and makes a new column \"cell_type\" from the sheet name\n",
        "df = pd.concat(\n",
        "    excel, keys=list(excel.keys())\n",
        "    ).reset_index(0).rename(\n",
        "        columns={\"level_0\": \"celltype_id\"}\n",
        "        )\n",
        "# # rename the cell types to be human readable\n",
        "df[\"celltype\"] = df[\"celltype_id\"].map(ct)\n",
        "\n"
      ],
      "execution_count": 5,
      "outputs": []
    },
    {
      "cell_type": "code",
      "source": [
        "bidx = df['gene'].isin(genes_list)\n",
        "print(f'Filtered {np.sum(~bidx)} out of {len(bidx)} genes')\n",
        "df = df[bidx]"
      ],
      "metadata": {
        "id": "eW19DYTztJXd",
        "outputId": "68ed92be-c52d-4337-c4af-129384556bb8",
        "colab": {
          "base_uri": "https://localhost:8080/"
        }
      },
      "execution_count": 6,
      "outputs": [
        {
          "output_type": "stream",
          "name": "stdout",
          "text": [
            "Filtered 32 out of 2253 genes\n"
          ]
        }
      ]
    },
    {
      "cell_type": "code",
      "source": [
        "df.head()"
      ],
      "metadata": {
        "id": "whfgGL8stJy2",
        "outputId": "204d5bdf-1d8c-40ab-e29b-7b37e0c6098c",
        "colab": {
          "base_uri": "https://localhost:8080/",
          "height": 206
        }
      },
      "execution_count": 7,
      "outputs": [
        {
          "output_type": "execute_result",
          "data": {
            "text/plain": [
              "  celltype_id      gene          p_val  avg_logFC  pct.1  pct.2  \\\n",
              "0       1. PT      GPX3  6.780000e-106   1.958635  0.442  0.109   \n",
              "1       1. PT      CUBN  5.490000e-136   1.821094  0.417  0.046   \n",
              "2       1. PT      CDH6  9.110000e-154   1.764531  0.464  0.035   \n",
              "3       1. PT      LRP2  1.530000e-144   1.736607  0.480  0.049   \n",
              "4       1. PT  PDZK1IP1  1.010000e-133   1.673290  0.431  0.038   \n",
              "\n",
              "       p_val_adj celltype  \n",
              "0  1.390000e-101       PT  \n",
              "1  1.120000e-131       PT  \n",
              "2  1.870000e-149       PT  \n",
              "3  3.140000e-140       PT  \n",
              "4  2.060000e-129       PT  "
            ],
            "text/html": [
              "\n",
              "  <div id=\"df-7b0a1d88-9195-46f5-a727-a2c667c64c2a\">\n",
              "    <div class=\"colab-df-container\">\n",
              "      <div>\n",
              "<style scoped>\n",
              "    .dataframe tbody tr th:only-of-type {\n",
              "        vertical-align: middle;\n",
              "    }\n",
              "\n",
              "    .dataframe tbody tr th {\n",
              "        vertical-align: top;\n",
              "    }\n",
              "\n",
              "    .dataframe thead th {\n",
              "        text-align: right;\n",
              "    }\n",
              "</style>\n",
              "<table border=\"1\" class=\"dataframe\">\n",
              "  <thead>\n",
              "    <tr style=\"text-align: right;\">\n",
              "      <th></th>\n",
              "      <th>celltype_id</th>\n",
              "      <th>gene</th>\n",
              "      <th>p_val</th>\n",
              "      <th>avg_logFC</th>\n",
              "      <th>pct.1</th>\n",
              "      <th>pct.2</th>\n",
              "      <th>p_val_adj</th>\n",
              "      <th>celltype</th>\n",
              "    </tr>\n",
              "  </thead>\n",
              "  <tbody>\n",
              "    <tr>\n",
              "      <th>0</th>\n",
              "      <td>1. PT</td>\n",
              "      <td>GPX3</td>\n",
              "      <td>6.780000e-106</td>\n",
              "      <td>1.958635</td>\n",
              "      <td>0.442</td>\n",
              "      <td>0.109</td>\n",
              "      <td>1.390000e-101</td>\n",
              "      <td>PT</td>\n",
              "    </tr>\n",
              "    <tr>\n",
              "      <th>1</th>\n",
              "      <td>1. PT</td>\n",
              "      <td>CUBN</td>\n",
              "      <td>5.490000e-136</td>\n",
              "      <td>1.821094</td>\n",
              "      <td>0.417</td>\n",
              "      <td>0.046</td>\n",
              "      <td>1.120000e-131</td>\n",
              "      <td>PT</td>\n",
              "    </tr>\n",
              "    <tr>\n",
              "      <th>2</th>\n",
              "      <td>1. PT</td>\n",
              "      <td>CDH6</td>\n",
              "      <td>9.110000e-154</td>\n",
              "      <td>1.764531</td>\n",
              "      <td>0.464</td>\n",
              "      <td>0.035</td>\n",
              "      <td>1.870000e-149</td>\n",
              "      <td>PT</td>\n",
              "    </tr>\n",
              "    <tr>\n",
              "      <th>3</th>\n",
              "      <td>1. PT</td>\n",
              "      <td>LRP2</td>\n",
              "      <td>1.530000e-144</td>\n",
              "      <td>1.736607</td>\n",
              "      <td>0.480</td>\n",
              "      <td>0.049</td>\n",
              "      <td>3.140000e-140</td>\n",
              "      <td>PT</td>\n",
              "    </tr>\n",
              "    <tr>\n",
              "      <th>4</th>\n",
              "      <td>1. PT</td>\n",
              "      <td>PDZK1IP1</td>\n",
              "      <td>1.010000e-133</td>\n",
              "      <td>1.673290</td>\n",
              "      <td>0.431</td>\n",
              "      <td>0.038</td>\n",
              "      <td>2.060000e-129</td>\n",
              "      <td>PT</td>\n",
              "    </tr>\n",
              "  </tbody>\n",
              "</table>\n",
              "</div>\n",
              "      <button class=\"colab-df-convert\" onclick=\"convertToInteractive('df-7b0a1d88-9195-46f5-a727-a2c667c64c2a')\"\n",
              "              title=\"Convert this dataframe to an interactive table.\"\n",
              "              style=\"display:none;\">\n",
              "        \n",
              "  <svg xmlns=\"http://www.w3.org/2000/svg\" height=\"24px\"viewBox=\"0 0 24 24\"\n",
              "       width=\"24px\">\n",
              "    <path d=\"M0 0h24v24H0V0z\" fill=\"none\"/>\n",
              "    <path d=\"M18.56 5.44l.94 2.06.94-2.06 2.06-.94-2.06-.94-.94-2.06-.94 2.06-2.06.94zm-11 1L8.5 8.5l.94-2.06 2.06-.94-2.06-.94L8.5 2.5l-.94 2.06-2.06.94zm10 10l.94 2.06.94-2.06 2.06-.94-2.06-.94-.94-2.06-.94 2.06-2.06.94z\"/><path d=\"M17.41 7.96l-1.37-1.37c-.4-.4-.92-.59-1.43-.59-.52 0-1.04.2-1.43.59L10.3 9.45l-7.72 7.72c-.78.78-.78 2.05 0 2.83L4 21.41c.39.39.9.59 1.41.59.51 0 1.02-.2 1.41-.59l7.78-7.78 2.81-2.81c.8-.78.8-2.07 0-2.86zM5.41 20L4 18.59l7.72-7.72 1.47 1.35L5.41 20z\"/>\n",
              "  </svg>\n",
              "      </button>\n",
              "      \n",
              "  <style>\n",
              "    .colab-df-container {\n",
              "      display:flex;\n",
              "      flex-wrap:wrap;\n",
              "      gap: 12px;\n",
              "    }\n",
              "\n",
              "    .colab-df-convert {\n",
              "      background-color: #E8F0FE;\n",
              "      border: none;\n",
              "      border-radius: 50%;\n",
              "      cursor: pointer;\n",
              "      display: none;\n",
              "      fill: #1967D2;\n",
              "      height: 32px;\n",
              "      padding: 0 0 0 0;\n",
              "      width: 32px;\n",
              "    }\n",
              "\n",
              "    .colab-df-convert:hover {\n",
              "      background-color: #E2EBFA;\n",
              "      box-shadow: 0px 1px 2px rgba(60, 64, 67, 0.3), 0px 1px 3px 1px rgba(60, 64, 67, 0.15);\n",
              "      fill: #174EA6;\n",
              "    }\n",
              "\n",
              "    [theme=dark] .colab-df-convert {\n",
              "      background-color: #3B4455;\n",
              "      fill: #D2E3FC;\n",
              "    }\n",
              "\n",
              "    [theme=dark] .colab-df-convert:hover {\n",
              "      background-color: #434B5C;\n",
              "      box-shadow: 0px 1px 3px 1px rgba(0, 0, 0, 0.15);\n",
              "      filter: drop-shadow(0px 1px 2px rgba(0, 0, 0, 0.3));\n",
              "      fill: #FFFFFF;\n",
              "    }\n",
              "  </style>\n",
              "\n",
              "      <script>\n",
              "        const buttonEl =\n",
              "          document.querySelector('#df-7b0a1d88-9195-46f5-a727-a2c667c64c2a button.colab-df-convert');\n",
              "        buttonEl.style.display =\n",
              "          google.colab.kernel.accessAllowed ? 'block' : 'none';\n",
              "\n",
              "        async function convertToInteractive(key) {\n",
              "          const element = document.querySelector('#df-7b0a1d88-9195-46f5-a727-a2c667c64c2a');\n",
              "          const dataTable =\n",
              "            await google.colab.kernel.invokeFunction('convertToInteractive',\n",
              "                                                     [key], {});\n",
              "          if (!dataTable) return;\n",
              "\n",
              "          const docLinkHtml = 'Like what you see? Visit the ' +\n",
              "            '<a target=\"_blank\" href=https://colab.research.google.com/notebooks/data_table.ipynb>data table notebook</a>'\n",
              "            + ' to learn more about interactive tables.';\n",
              "          element.innerHTML = '';\n",
              "          dataTable['output_type'] = 'display_data';\n",
              "          await google.colab.output.renderOutput(dataTable, element);\n",
              "          const docLink = document.createElement('div');\n",
              "          docLink.innerHTML = docLinkHtml;\n",
              "          element.appendChild(docLink);\n",
              "        }\n",
              "      </script>\n",
              "    </div>\n",
              "  </div>\n",
              "  "
            ]
          },
          "metadata": {},
          "execution_count": 7
        }
      ]
    },
    {
      "cell_type": "code",
      "source": [
        "min_mean = 100\n",
        "max_pval = 1e-10\n",
        "min_lfc = 1\n",
        "max_gene_shares = 4\n",
        "max_per_celltype = 20\n",
        "\n",
        "# filter by criteria\n",
        "dfc = df.query(f\"p_val_adj <= {max_pval} & avg_logFC >= {min_lfc}\")\n",
        "\n",
        "# mask out genes that are shared between max_gene_shares cell type\n",
        "non_repeat_genes = dfc[\"gene\"].value_counts()[dfc[\"gene\"].value_counts() < max_gene_shares].index.values\n",
        "\n",
        "m = dfc[dfc.gene.isin(non_repeat_genes)].sort_values('pct.1', ascending = True)\n",
        "\n",
        "# max number to sample is equal to the min number of genes across all celltype\n",
        "n_sample = min(m[\"celltype\"].value_counts().min(), max_per_celltype)\n",
        "\n",
        "# sample n_sample genes\n",
        "markers = m.groupby('celltype').tail(n_sample)\n",
        "markers_dict = markers.groupby(\"celltype\")[\"gene\"].apply(lambda x: list(x)).to_dict()\n"
      ],
      "metadata": {
        "id": "K3ojYM9Dt65X"
      },
      "execution_count": 8,
      "outputs": []
    },
    {
      "cell_type": "code",
      "metadata": {
        "colab": {
          "base_uri": "https://localhost:8080/"
        },
        "id": "fzA9VxBP_Wye",
        "outputId": "59a8a402-e24a-40a8-e2f2-f385c0bc0ccc"
      },
      "source": [
        "markers.celltype.value_counts()"
      ],
      "execution_count": 9,
      "outputs": [
        {
          "output_type": "execute_result",
          "data": {
            "text/plain": [
              "T cells          14\n",
              "Plasma1          14\n",
              "Cycling cells    14\n",
              "PT               14\n",
              "LOH (DL)         14\n",
              "LOH (AL)         14\n",
              "Pericyte         14\n",
              "EC               14\n",
              "Plasma2          14\n",
              "B cells          14\n",
              "Myofibroblast    14\n",
              "CD               14\n",
              "Mono2            14\n",
              "Fibroblast       14\n",
              "Mono1            14\n",
              "Mast cells       14\n",
              "Name: celltype, dtype: int64"
            ]
          },
          "metadata": {},
          "execution_count": 9
        }
      ]
    },
    {
      "cell_type": "code",
      "metadata": {
        "id": "Bronfw7d_UTA"
      },
      "source": [
        "write_markers(\"markers.txt\", markers_dict, header)"
      ],
      "execution_count": 10,
      "outputs": []
    },
    {
      "cell_type": "code",
      "metadata": {
        "id": "yNbXF28r_cXC",
        "outputId": "7a6e7e9b-49b0-4185-84fe-379da1b08edc",
        "colab": {
          "base_uri": "https://localhost:8080/"
        }
      },
      "source": [
        "!cat markers.txt"
      ],
      "execution_count": 11,
      "outputs": [
        {
          "output_type": "stream",
          "name": "stdout",
          "text": [
            "# homo_sapiens\tkidney\tGRCh38\thttps://doi.org/10.1681/ASN.2018020125\thttps://www.ncbi.nlm.nih.gov/pmc/articles/PMC6065085/bin/ASN.2018020125SupplementaryData3.xls\n",
            "B cells\tIRF8,WDFY4,LCP1,FNBP1,HDAC9,HLA-DQA1,CD83,CST3,HLA-DPA1,HLA-DPB1,ACTB,HLA-DRB1,CCSER1,CD74\n",
            "CD\tHSD11B2,TMTC2,TRPM3,ST6GAL1,CADPS2,AQP3,CLU,COBLL1,KAZN,ATP1B1,KCNIP4,AQP2,PDE4D,MECOM\n",
            "Cycling cells\tUBE2C,PRC1,ARHGAP11B,ASPM,KIF20B,TPX2,NUSAP1,HMGB2,MKI67,HIST1H4C,STMN1,TOP2A,TUBB,CENPF\n",
            "EC\tMEIS2,EPAS1,TCF4,TIMP3,EMCN,CD59,HEG1,IFI27,ENG,PECAM1,KLF2,IGFBP5,RNASE1,IFITM3\n",
            "Fibroblast\tTIMP1,CALD1,NR2F2,COL6A3,BGN,SFRP1,COL1A2,DCN,COL3A1,IGFBP5,TNC,C7,COL1A1,IGFBP7\n",
            "LOH (AL)\tUMOD,NAALADL2,MAL,PLCB1,ATP1B1,SLC12A1,SPP1,ATP1A1,ESRRG,WFDC2,MECOM,CA12,KCNIP4,ERBB4\n",
            "LOH (DL)\tNTN4,IRX3,NEBL,AQP1,CRYAB,TACSTD2,AIF1L,FOXC1,ID1,MYO9A,LINC01320,BICC1,RBPMS,PKHD1\n",
            "Mast cells\tHSP90AA1,VIM,ZFP36,RGS1,SAMSN1,KIT,MS4A2,JUN,ADCYAP1,SRGN,FOS,CPA3,TPSB2,TPSAB1\n",
            "Mono1\tAPOE,CD83,NAMPT,SRGN,HLA-DPA1,C1QB,CST3,PSAP,HLA-DPB1,C1QA,FTL,HLA-DRA,HLA-DRB1,CD74\n",
            "Mono2\tSLC8A1,HLA-DRB6,ZNF331,PLAUR,FGD4,HLA-DQA1,ATP1B3,HLA-DPA1,CD83,SRGN,HLA-DPB1,NAMPT,HLA-DRB1,HLA-DRA\n",
            "Myofibroblast\tFN1,COL14A1,NFIB,CCDC80,LHFPL6,COL6A1,COL6A3,FBLN1,GSN,COL3A1,MGP,DCN,COL1A2,COL1A1\n",
            "PT\tPIGR,RETREG1,CUBN,PDZK1IP1,GPX3,CDH6,NRP1,LRP2,CRYAB,WWC1,TNFSF10,IL32,ITGB8,PARD3\n",
            "Pericyte\tEPAS1,SLIT3,BGN,DLC1,EBF1,NOTCH3,COL4A2,FLNA,PRKG1,TIMP3,RGS5,NR2F2,CALD1,IGFBP7\n",
            "Plasma1\tDERL3,ANKRD28,TEX14,MZB1,PIM2,JCHAIN,SSR4,XBP1,IGHG4,IGHG2,IGHG1,IGHG3,IGHGP,IGKC\n",
            "Plasma2\tPPP3CB,SSR4,JCHAIN,XBP1,BCL9,IGHG4,IGHG2,IGHG3,IGHG1,IGHGP,IGLC3,IGLC6,IGLC7,IGLC2\n",
            "T cells\tCD96,TOX,BCL11B,SYTL3,PPP1R16B,CD52,SKAP1,TRBC2,CCL5,PRKCH,CXCR4,TRAC,FYN,PTPRC\n"
          ]
        }
      ]
    },
    {
      "cell_type": "code",
      "source": [
        "markers.groupby(\"celltype\")[\"pct.1\"].mean().sort_values()\n"
      ],
      "metadata": {
        "id": "0Xsz_b8TuDXR",
        "outputId": "58ee8295-c27d-48c7-c986-43dca84066eb",
        "colab": {
          "base_uri": "https://localhost:8080/"
        }
      },
      "execution_count": 12,
      "outputs": [
        {
          "output_type": "execute_result",
          "data": {
            "text/plain": [
              "celltype\n",
              "T cells          0.327500\n",
              "Cycling cells    0.457786\n",
              "PT               0.479786\n",
              "LOH (DL)         0.509357\n",
              "EC               0.545357\n",
              "Pericyte         0.570929\n",
              "Plasma1          0.629429\n",
              "LOH (AL)         0.651000\n",
              "CD               0.697214\n",
              "Mono2            0.706500\n",
              "B cells          0.725714\n",
              "Myofibroblast    0.749929\n",
              "Fibroblast       0.759286\n",
              "Plasma2          0.777643\n",
              "Mono1            0.862214\n",
              "Mast cells       0.944571\n",
              "Name: pct.1, dtype: float64"
            ]
          },
          "metadata": {},
          "execution_count": 12
        }
      ]
    },
    {
      "cell_type": "code",
      "source": [
        "# Download table to have a local copy\n",
        "!wget $table_link -O degs.xlsx"
      ],
      "metadata": {
        "id": "g2f7OVFjuFiS",
        "outputId": "987e9893-c368-49fe-fe7c-85468a67e1b5",
        "colab": {
          "base_uri": "https://localhost:8080/"
        }
      },
      "execution_count": 13,
      "outputs": [
        {
          "output_type": "stream",
          "name": "stdout",
          "text": [
            "--2023-03-18 04:41:58--  https://www.ncbi.nlm.nih.gov/pmc/articles/PMC6065085/bin/ASN.2018020125SupplementaryData3.xls\n",
            "Resolving www.ncbi.nlm.nih.gov (www.ncbi.nlm.nih.gov)... 130.14.29.110, 2607:f220:41e:4290::110\n",
            "Connecting to www.ncbi.nlm.nih.gov (www.ncbi.nlm.nih.gov)|130.14.29.110|:443... connected.\n",
            "HTTP request sent, awaiting response... 200 OK\n",
            "Length: 371200 (362K) [application/vnd.ms-excel]\n",
            "Saving to: ‘degs.xlsx’\n",
            "\n",
            "degs.xlsx           100%[===================>] 362.50K  1.14MB/s    in 0.3s    \n",
            "\n",
            "2023-03-18 04:41:59 (1.14 MB/s) - ‘degs.xlsx’ saved [371200/371200]\n",
            "\n"
          ]
        }
      ]
    }
  ]
}