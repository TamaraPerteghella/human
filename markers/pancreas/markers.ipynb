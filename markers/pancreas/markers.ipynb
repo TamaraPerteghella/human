{
  "nbformat": 4,
  "nbformat_minor": 0,
  "metadata": {
    "colab": {
      "name": "pancreas.ipynb",
      "provenance": [],
      "include_colab_link": true
    },
    "kernelspec": {
      "name": "python3",
      "display_name": "Python 3"
    },
    "language_info": {
      "name": "python"
    }
  },
  "cells": [
    {
      "cell_type": "markdown",
      "metadata": {
        "id": "view-in-github",
        "colab_type": "text"
      },
      "source": [
        "<a href=\"https://colab.research.google.com/github/cellatlas/human/blob/master/markers/pancreas/markers.ipynb\" target=\"_parent\"><img src=\"https://colab.research.google.com/assets/colab-badge.svg\" alt=\"Open In Colab\"/></a>"
      ]
    },
    {
      "cell_type": "code",
      "metadata": {
        "id": "I7JCzC_N42Ko",
        "outputId": "9d0ac863-0423-4a84-811e-365474fbd620",
        "colab": {
          "base_uri": "https://localhost:8080/"
        }
      },
      "source": [
        "!pip install -q gget\n",
        "!pip install -q git+https://github.com/sbooeshaghi/ec"
      ],
      "execution_count": 1,
      "outputs": [
        {
          "output_type": "stream",
          "name": "stdout",
          "text": [
            "\u001b[2K     \u001b[90m━━━━━━━━━━━━━━━━━━━━━━━━━━━━━━━━━━━━━━━━\u001b[0m \u001b[32m2.2/2.2 MB\u001b[0m \u001b[31m30.6 MB/s\u001b[0m eta \u001b[36m0:00:00\u001b[0m\n",
            "\u001b[2K     \u001b[90m━━━━━━━━━━━━━━━━━━━━━━━━━━━━━━━━━━━━━━━\u001b[0m \u001b[32m129.4/129.4 KB\u001b[0m \u001b[31m8.8 MB/s\u001b[0m eta \u001b[36m0:00:00\u001b[0m\n",
            "\u001b[2K     \u001b[90m━━━━━━━━━━━━━━━━━━━━━━━━━━━━━━━━━━━━━━━━\u001b[0m \u001b[32m25.2/25.2 MB\u001b[0m \u001b[31m39.8 MB/s\u001b[0m eta \u001b[36m0:00:00\u001b[0m\n",
            "\u001b[2K     \u001b[90m━━━━━━━━━━━━━━━━━━━━━━━━━━━━━━━━━━━━━━━━\u001b[0m \u001b[32m1.6/1.6 MB\u001b[0m \u001b[31m25.8 MB/s\u001b[0m eta \u001b[36m0:00:00\u001b[0m\n",
            "\u001b[?25h  Preparing metadata (setup.py) ... \u001b[?25l\u001b[?25hdone\n",
            "  Building wheel for ec (setup.py) ... \u001b[?25l\u001b[?25hdone\n"
          ]
        }
      ]
    },
    {
      "cell_type": "code",
      "metadata": {
        "id": "KQUMnXBEIwIZ"
      },
      "source": [
        "\n",
        "import pandas as pd\n",
        "import numpy as np\n",
        "from ec.utils import write_markers"
      ],
      "execution_count": 2,
      "outputs": []
    },
    {
      "cell_type": "code",
      "source": [
        "!pip install -q gget\n",
        "\n",
        "# Extract list of valid gene names in Ensembl release 96\n",
        "!gget ref human -r \"96\" -ftp -w \"gtf\" -d\n",
        "\n",
        "# Gunzip gtf\n",
        "!gunzip /content/Homo_sapiens.GRCh38.96.gtf.gz\n",
        "\n",
        "# Extract gene names\n",
        "!tail -n +6 /content/Homo_sapiens.GRCh38.96.gtf   | cut -f 9 -d$'\\t' | grep -v \"transcript_id\" | cut -f 6 -d\" \" | sed 's/\"//g' | sed 's/;//'  | sort | uniq > genes.txt\n",
        "genes_list = pd.read_csv('genes.txt', header = None)[0].values\n"
      ],
      "metadata": {
        "id": "2mZAR9Vpyu9L",
        "outputId": "e526f610-5e59-4d86-a2ac-14d8958af1f6",
        "colab": {
          "base_uri": "https://localhost:8080/"
        }
      },
      "execution_count": 3,
      "outputs": [
        {
          "output_type": "stream",
          "name": "stdout",
          "text": [
            "Thu Mar 16 22:18:27 2023 INFO Fetching reference information for homo_sapiens from Ensembl release: 96.\n",
            "http://ftp.ensembl.org/pub/release-96/gtf/homo_sapiens/Homo_sapiens.GRCh38.96.gtf.gz\n",
            "  % Total    % Received % Xferd  Average Speed   Time    Time     Time  Current\n",
            "                                 Dload  Upload   Total   Spent    Left  Speed\n",
            "100 42.4M  100 42.4M    0     0   756k      0  0:00:57  0:00:57 --:--:--  758k\n"
          ]
        }
      ]
    },
    {
      "cell_type": "markdown",
      "metadata": {
        "id": "1teufrMyJbx5"
      },
      "source": [
        "# Pancreas"
      ]
    },
    {
      "cell_type": "code",
      "metadata": {
        "id": "dSrBA-IiJYZ-"
      },
      "source": [
        "species = \"homo_sapiens\"\n",
        "organ = \"pancreas\"\n",
        "reference = \"hg19\"\n",
        "paper_doi = \"https://doi.org/10.1016/j.cmet.2016.08.020\"\n",
        "table_link = \"https://www.ncbi.nlm.nih.gov/pmc/articles/PMC5069352/bin/mmc2.xlsx\"\n",
        "\n",
        "# don't include in header\n",
        "table_name = \"mmc2.xlsx\"\n",
        "\n",
        "header = [\n",
        "    {\n",
        "      \"species\": species,\n",
        "      \"organ\": organ,\n",
        "      \"reference\": reference,\n",
        "      \"paper_doi\": paper_doi,\n",
        "      \"table_link\": table_link\n",
        "    }\n",
        "]\n",
        "  "
      ],
      "execution_count": 4,
      "outputs": []
    },
    {
      "cell_type": "code",
      "metadata": {
        "id": "_2WUjjA6ZGc2"
      },
      "source": [
        "excel = pd.read_excel(table_link, sheet_name=None, skiprows=4)"
      ],
      "execution_count": 5,
      "outputs": []
    },
    {
      "cell_type": "code",
      "metadata": {
        "colab": {
          "base_uri": "https://localhost:8080/"
        },
        "id": "fBCnvv1cZx3f",
        "outputId": "bb54d1ca-5222-4c18-d191-678151b288bf"
      },
      "source": [
        "excel.keys()"
      ],
      "execution_count": 6,
      "outputs": [
        {
          "output_type": "execute_result",
          "data": {
            "text/plain": [
              "dict_keys(['Overview', 'VariableGenes_Celltypes', 'ExpressedGenes_Celltypes', 'ExpressedGenes_Donors', 'ExpressedGenes_BulkSeq', 'ExpressedGenes_Donors_insilico', 'Cell-type compositions', 'Cell and Mapping statitistics'])"
            ]
          },
          "metadata": {},
          "execution_count": 6
        }
      ]
    },
    {
      "cell_type": "code",
      "metadata": {
        "colab": {
          "base_uri": "https://localhost:8080/"
        },
        "id": "2dARC5bCNTwt",
        "outputId": "8fdfd656-42e5-42c4-8563-ad994305bef8"
      },
      "source": [
        "excel[\"ExpressedGenes_Celltypes\"].columns"
      ],
      "execution_count": 7,
      "outputs": [
        {
          "output_type": "execute_result",
          "data": {
            "text/plain": [
              "Index(['Rank', 'Unnamed: 1', 'α-cells', 'β-cells', 'γ-cells', 'δ-cells',\n",
              "       'ε-cells', 'co-expression', 'unclass endocrine', 'acinar cells',\n",
              "       'ductal cells', 'MHC class II', 'mast cells', 'PSCs',\n",
              "       'endothelial cells', 'unclass exocrine'],\n",
              "      dtype='object')"
            ]
          },
          "metadata": {},
          "execution_count": 7
        }
      ]
    },
    {
      "cell_type": "code",
      "metadata": {
        "colab": {
          "base_uri": "https://localhost:8080/"
        },
        "id": "QKJMJU6HNZmd",
        "outputId": "238c567f-02e4-43d1-8ddc-0485c7a31ea9"
      },
      "source": [
        "excel[\"VariableGenes_Celltypes\"].columns"
      ],
      "execution_count": 8,
      "outputs": [
        {
          "output_type": "execute_result",
          "data": {
            "text/plain": [
              "Index(['Rank', 'Unnamed: 1', 'α-cells', 'β-cells', 'γ-cells', 'δ-cells',\n",
              "       'ε-cells', 'unclass endocrine', 'acinar cells', 'ductal cells',\n",
              "       'MHC class II', 'mast cells', 'PSCs', 'endothelial cells',\n",
              "       'Unnamed: 14', 'all cells', 'endocrine cells', 'exocrine cells'],\n",
              "      dtype='object')"
            ]
          },
          "metadata": {},
          "execution_count": 8
        }
      ]
    },
    {
      "cell_type": "code",
      "metadata": {
        "id": "92i4MGEuI3SQ"
      },
      "source": [
        "n_top_genes = 50\n",
        "\n",
        "# VariableGenes_Celltypes: Lists with genes ranked in descending order according to biological variation within the different cell types.\n",
        "# ExpressedGenes_Celltypes: Lists with genes ranked in descending order according to magnitude of expression for the different cell types (used in Figure 2B). \n",
        "\n",
        "# The file is sorted in descending order by most relevant genes (they did not release pvals or logfc)\n",
        "df = excel[\"ExpressedGenes_Celltypes\"].drop(\n",
        "    columns=[\"Rank\", \"Unnamed: 1\", \"co-expression\"]\n",
        "    ).applymap(\n",
        "        lambda x: x.replace(\"'\", \"\")\n",
        "    ).iloc[:n_top_genes].melt(\n",
        "    ).rename(columns={\"variable\": \"celltype\", \"value\": \"gene\"})\n"
      ],
      "execution_count": 9,
      "outputs": []
    },
    {
      "cell_type": "code",
      "source": [
        "bidx = df['gene'].isin(genes_list)\n",
        "print(f'Filtered {np.sum(~bidx)} out of {len(bidx)} genes')\n",
        "df = df[bidx]"
      ],
      "metadata": {
        "id": "5oMsxANvgBu3",
        "outputId": "eac173b2-2b7d-4376-a837-789fdc5c86d3",
        "colab": {
          "base_uri": "https://localhost:8080/"
        }
      },
      "execution_count": 10,
      "outputs": [
        {
          "output_type": "stream",
          "name": "stdout",
          "text": [
            "Filtered 24 out of 650 genes\n"
          ]
        }
      ]
    },
    {
      "cell_type": "code",
      "source": [
        "df.head()"
      ],
      "metadata": {
        "id": "4BFyInzdgBo5",
        "outputId": "2d8e9a44-40cc-4640-b239-d3dc0b714063",
        "colab": {
          "base_uri": "https://localhost:8080/",
          "height": 206
        }
      },
      "execution_count": 11,
      "outputs": [
        {
          "output_type": "execute_result",
          "data": {
            "text/plain": [
              "  celltype  gene\n",
              "0  α-cells   GCG\n",
              "1  α-cells   TTR\n",
              "2  α-cells   B2M\n",
              "3  α-cells  CHGB\n",
              "4  α-cells   FTL"
            ],
            "text/html": [
              "\n",
              "  <div id=\"df-21cefa74-df02-4e43-ac2f-59f0aae42c70\">\n",
              "    <div class=\"colab-df-container\">\n",
              "      <div>\n",
              "<style scoped>\n",
              "    .dataframe tbody tr th:only-of-type {\n",
              "        vertical-align: middle;\n",
              "    }\n",
              "\n",
              "    .dataframe tbody tr th {\n",
              "        vertical-align: top;\n",
              "    }\n",
              "\n",
              "    .dataframe thead th {\n",
              "        text-align: right;\n",
              "    }\n",
              "</style>\n",
              "<table border=\"1\" class=\"dataframe\">\n",
              "  <thead>\n",
              "    <tr style=\"text-align: right;\">\n",
              "      <th></th>\n",
              "      <th>celltype</th>\n",
              "      <th>gene</th>\n",
              "    </tr>\n",
              "  </thead>\n",
              "  <tbody>\n",
              "    <tr>\n",
              "      <th>0</th>\n",
              "      <td>α-cells</td>\n",
              "      <td>GCG</td>\n",
              "    </tr>\n",
              "    <tr>\n",
              "      <th>1</th>\n",
              "      <td>α-cells</td>\n",
              "      <td>TTR</td>\n",
              "    </tr>\n",
              "    <tr>\n",
              "      <th>2</th>\n",
              "      <td>α-cells</td>\n",
              "      <td>B2M</td>\n",
              "    </tr>\n",
              "    <tr>\n",
              "      <th>3</th>\n",
              "      <td>α-cells</td>\n",
              "      <td>CHGB</td>\n",
              "    </tr>\n",
              "    <tr>\n",
              "      <th>4</th>\n",
              "      <td>α-cells</td>\n",
              "      <td>FTL</td>\n",
              "    </tr>\n",
              "  </tbody>\n",
              "</table>\n",
              "</div>\n",
              "      <button class=\"colab-df-convert\" onclick=\"convertToInteractive('df-21cefa74-df02-4e43-ac2f-59f0aae42c70')\"\n",
              "              title=\"Convert this dataframe to an interactive table.\"\n",
              "              style=\"display:none;\">\n",
              "        \n",
              "  <svg xmlns=\"http://www.w3.org/2000/svg\" height=\"24px\"viewBox=\"0 0 24 24\"\n",
              "       width=\"24px\">\n",
              "    <path d=\"M0 0h24v24H0V0z\" fill=\"none\"/>\n",
              "    <path d=\"M18.56 5.44l.94 2.06.94-2.06 2.06-.94-2.06-.94-.94-2.06-.94 2.06-2.06.94zm-11 1L8.5 8.5l.94-2.06 2.06-.94-2.06-.94L8.5 2.5l-.94 2.06-2.06.94zm10 10l.94 2.06.94-2.06 2.06-.94-2.06-.94-.94-2.06-.94 2.06-2.06.94z\"/><path d=\"M17.41 7.96l-1.37-1.37c-.4-.4-.92-.59-1.43-.59-.52 0-1.04.2-1.43.59L10.3 9.45l-7.72 7.72c-.78.78-.78 2.05 0 2.83L4 21.41c.39.39.9.59 1.41.59.51 0 1.02-.2 1.41-.59l7.78-7.78 2.81-2.81c.8-.78.8-2.07 0-2.86zM5.41 20L4 18.59l7.72-7.72 1.47 1.35L5.41 20z\"/>\n",
              "  </svg>\n",
              "      </button>\n",
              "      \n",
              "  <style>\n",
              "    .colab-df-container {\n",
              "      display:flex;\n",
              "      flex-wrap:wrap;\n",
              "      gap: 12px;\n",
              "    }\n",
              "\n",
              "    .colab-df-convert {\n",
              "      background-color: #E8F0FE;\n",
              "      border: none;\n",
              "      border-radius: 50%;\n",
              "      cursor: pointer;\n",
              "      display: none;\n",
              "      fill: #1967D2;\n",
              "      height: 32px;\n",
              "      padding: 0 0 0 0;\n",
              "      width: 32px;\n",
              "    }\n",
              "\n",
              "    .colab-df-convert:hover {\n",
              "      background-color: #E2EBFA;\n",
              "      box-shadow: 0px 1px 2px rgba(60, 64, 67, 0.3), 0px 1px 3px 1px rgba(60, 64, 67, 0.15);\n",
              "      fill: #174EA6;\n",
              "    }\n",
              "\n",
              "    [theme=dark] .colab-df-convert {\n",
              "      background-color: #3B4455;\n",
              "      fill: #D2E3FC;\n",
              "    }\n",
              "\n",
              "    [theme=dark] .colab-df-convert:hover {\n",
              "      background-color: #434B5C;\n",
              "      box-shadow: 0px 1px 3px 1px rgba(0, 0, 0, 0.15);\n",
              "      filter: drop-shadow(0px 1px 2px rgba(0, 0, 0, 0.3));\n",
              "      fill: #FFFFFF;\n",
              "    }\n",
              "  </style>\n",
              "\n",
              "      <script>\n",
              "        const buttonEl =\n",
              "          document.querySelector('#df-21cefa74-df02-4e43-ac2f-59f0aae42c70 button.colab-df-convert');\n",
              "        buttonEl.style.display =\n",
              "          google.colab.kernel.accessAllowed ? 'block' : 'none';\n",
              "\n",
              "        async function convertToInteractive(key) {\n",
              "          const element = document.querySelector('#df-21cefa74-df02-4e43-ac2f-59f0aae42c70');\n",
              "          const dataTable =\n",
              "            await google.colab.kernel.invokeFunction('convertToInteractive',\n",
              "                                                     [key], {});\n",
              "          if (!dataTable) return;\n",
              "\n",
              "          const docLinkHtml = 'Like what you see? Visit the ' +\n",
              "            '<a target=\"_blank\" href=https://colab.research.google.com/notebooks/data_table.ipynb>data table notebook</a>'\n",
              "            + ' to learn more about interactive tables.';\n",
              "          element.innerHTML = '';\n",
              "          dataTable['output_type'] = 'display_data';\n",
              "          await google.colab.output.renderOutput(dataTable, element);\n",
              "          const docLink = document.createElement('div');\n",
              "          docLink.innerHTML = docLinkHtml;\n",
              "          element.appendChild(docLink);\n",
              "        }\n",
              "      </script>\n",
              "    </div>\n",
              "  </div>\n",
              "  "
            ]
          },
          "metadata": {},
          "execution_count": 11
        }
      ]
    },
    {
      "cell_type": "code",
      "metadata": {
        "colab": {
          "base_uri": "https://localhost:8080/"
        },
        "id": "einaGKAUZ5Re",
        "outputId": "30721942-3bca-4891-87fd-689968fb6340"
      },
      "source": [
        "df.celltype.value_counts()"
      ],
      "execution_count": 12,
      "outputs": [
        {
          "output_type": "execute_result",
          "data": {
            "text/plain": [
              "MHC class II         50\n",
              "mast cells           50\n",
              "endothelial cells    50\n",
              "acinar cells         49\n",
              "ductal cells         49\n",
              "PSCs                 49\n",
              "α-cells              48\n",
              "unclass endocrine    48\n",
              "δ-cells              47\n",
              "ε-cells              47\n",
              "unclass exocrine     47\n",
              "β-cells              46\n",
              "γ-cells              46\n",
              "Name: celltype, dtype: int64"
            ]
          },
          "metadata": {},
          "execution_count": 12
        }
      ]
    },
    {
      "cell_type": "code",
      "metadata": {
        "id": "IpLjvZJFJ10m"
      },
      "source": [
        "min_mean = 10\n",
        "max_pval = 0.05\n",
        "min_lfc = 1\n",
        "max_gene_shares = 4\n",
        "\n",
        "# filter by criteria\n",
        "dfc = df # df.query(f\"Marker == 1.0 & avg_logFC >= {min_lfc}\")\n",
        "\n",
        "# mask out genes that are shared between max_gene_shares cell type\n",
        "non_repeat_genes = dfc[\"gene\"].value_counts()[dfc[\"gene\"].value_counts() < max_gene_shares].index.values\n",
        "\n",
        "m = dfc[dfc.gene.isin(non_repeat_genes)]\n",
        "\n",
        "# max number to sample is equal to the min number of genes across all celltype\n",
        "n_sample = m[\"celltype\"].value_counts().min()"
      ],
      "execution_count": 13,
      "outputs": []
    },
    {
      "cell_type": "code",
      "metadata": {
        "colab": {
          "base_uri": "https://localhost:8080/"
        },
        "id": "imWNsPLfXZPY",
        "outputId": "1d45e7ea-d395-4398-bac4-3a82a10fe10d"
      },
      "source": [
        "m.celltype.value_counts()"
      ],
      "execution_count": 14,
      "outputs": [
        {
          "output_type": "execute_result",
          "data": {
            "text/plain": [
              "endothelial cells    31\n",
              "acinar cells         29\n",
              "MHC class II         29\n",
              "ductal cells         27\n",
              "unclass exocrine     24\n",
              "mast cells           22\n",
              "ε-cells              16\n",
              "PSCs                 16\n",
              "α-cells              15\n",
              "unclass endocrine    14\n",
              "β-cells              12\n",
              "δ-cells              10\n",
              "γ-cells               8\n",
              "Name: celltype, dtype: int64"
            ]
          },
          "metadata": {},
          "execution_count": 14
        }
      ]
    },
    {
      "cell_type": "code",
      "metadata": {
        "id": "XjyPVTI-Kp-P"
      },
      "source": [
        "# sample n_sample genes\n",
        "markers = m.groupby(\"celltype\").head(n_sample)\n",
        "markers_dict = markers.groupby(\"celltype\")[\"gene\"].apply(lambda x: list(x)).to_dict()"
      ],
      "execution_count": 15,
      "outputs": []
    },
    {
      "cell_type": "code",
      "metadata": {
        "colab": {
          "base_uri": "https://localhost:8080/"
        },
        "id": "St0Il3TXKxRB",
        "outputId": "22ef2f52-540a-4df4-8ea9-30c088ac74b6"
      },
      "source": [
        "markers.celltype.value_counts()"
      ],
      "execution_count": 16,
      "outputs": [
        {
          "output_type": "execute_result",
          "data": {
            "text/plain": [
              "α-cells              8\n",
              "β-cells              8\n",
              "γ-cells              8\n",
              "δ-cells              8\n",
              "ε-cells              8\n",
              "unclass endocrine    8\n",
              "acinar cells         8\n",
              "ductal cells         8\n",
              "MHC class II         8\n",
              "mast cells           8\n",
              "PSCs                 8\n",
              "endothelial cells    8\n",
              "unclass exocrine     8\n",
              "Name: celltype, dtype: int64"
            ]
          },
          "metadata": {},
          "execution_count": 16
        }
      ]
    },
    {
      "cell_type": "code",
      "metadata": {
        "id": "SO1p80avKyL4"
      },
      "source": [
        "write_markers(\"markers.txt\", markers_dict, header)"
      ],
      "execution_count": 17,
      "outputs": []
    },
    {
      "cell_type": "code",
      "metadata": {
        "id": "zQYenNIoYj2K",
        "outputId": "d4e0e9dc-93ee-4d13-888e-55b4c2b20a2b",
        "colab": {
          "base_uri": "https://localhost:8080/"
        }
      },
      "source": [
        "!cat markers.txt"
      ],
      "execution_count": 18,
      "outputs": [
        {
          "output_type": "stream",
          "name": "stdout",
          "text": [
            "# homo_sapiens\tpancreas\thg19\thttps://doi.org/10.1016/j.cmet.2016.08.020\thttps://www.ncbi.nlm.nih.gov/pmc/articles/PMC5069352/bin/mmc2.xlsx\n",
            "MHC class II\tCD74,IFI30,HLA-DRA,LYZ,FCER1G,CCL22,SDS,HIST1H4C\n",
            "PSCs\tIGFBP7,COL1A1,SPARC,COL1A2,MMP1,SFRP2,BGN,COL3A1\n",
            "acinar cells\tREG1A,PRSS1,REG3A,CLPS,REG1B,SPINK1,CTRB2,MT1G\n",
            "ductal cells\tSPP1,LCN2,SAT1,SERPINA3,MMP7,IGFBP7,KRT19,GSTP1\n",
            "endothelial cells\tPLVAP,MMP1,IGFBP7,CD36,ENG,THBS1,RGCC,SERPINE1\n",
            "mast cells\tTPSB2,TPSD1,TPSAB1,S100A4,LTC4S,CPA3,ALOX5AP,SH3BGRL3\n",
            "unclass endocrine\tGCG,VTRNA1-3,MAST1,RPL3,CRYBA2,SLIRP,RBP4,SPINT2\n",
            "unclass exocrine\tSPP1,CRYAB,RCAN1,ANXA2,DAD1,ANXA5,ANXA1,TGFBI\n",
            "α-cells\tGCG,TM4SF4,CRYBA2,CHGA,GPX3,SPINT2,PEMT,ALDH1A1\n",
            "β-cells\tRBP4,IAPP,SCGN,DLK1,RPL3,G6PC2,BEX1,CHGA\n",
            "γ-cells\tTM4SF4,SCG2,SPINK1,SCGB2A1,ALDH1A1,SERPINA1,PFDN5,RPS11\n",
            "δ-cells\tRBP4,BEX1,SCGN,PCP4,COX7C,GPX4,RPL38,RGS2\n",
            "ε-cells\tGHRL,SPINK1,TM4SF4,SERPINA1,HEPACAM2,HLA-A,PEMT,TMEM176B\n"
          ]
        }
      ]
    },
    {
      "cell_type": "code",
      "source": [],
      "metadata": {
        "id": "dhwHeolJHRLt"
      },
      "execution_count": null,
      "outputs": []
    }
  ]
}