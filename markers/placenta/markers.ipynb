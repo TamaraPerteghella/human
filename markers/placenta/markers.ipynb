{
  "nbformat": 4,
  "nbformat_minor": 0,
  "metadata": {
    "colab": {
      "name": "placenta.ipynb",
      "provenance": [],
      "include_colab_link": true
    },
    "kernelspec": {
      "name": "python3",
      "display_name": "Python 3"
    },
    "language_info": {
      "name": "python"
    }
  },
  "cells": [
    {
      "cell_type": "markdown",
      "metadata": {
        "id": "view-in-github",
        "colab_type": "text"
      },
      "source": [
        "<a href=\"https://colab.research.google.com/github/cellatlas/human/blob/master/markers/placenta/markers.ipynb\" target=\"_parent\"><img src=\"https://colab.research.google.com/assets/colab-badge.svg\" alt=\"Open In Colab\"/></a>"
      ]
    },
    {
      "cell_type": "code",
      "source": [
        "!pip install -q gget\n",
        "!pip install -q git+https://github.com/sbooeshaghi/ec"
      ],
      "metadata": {
        "id": "H8YTx0m0ga8O",
        "outputId": "885714d7-d4d4-4e18-841f-b34b9bdd8a6c",
        "colab": {
          "base_uri": "https://localhost:8080/"
        }
      },
      "execution_count": 1,
      "outputs": [
        {
          "output_type": "stream",
          "name": "stdout",
          "text": [
            "\u001b[2K     \u001b[90m━━━━━━━━━━━━━━━━━━━━━━━━━━━━━━━━━━━━━━━━\u001b[0m \u001b[32m2.2/2.2 MB\u001b[0m \u001b[31m21.5 MB/s\u001b[0m eta \u001b[36m0:00:00\u001b[0m\n",
            "\u001b[2K     \u001b[90m━━━━━━━━━━━━━━━━━━━━━━━━━━━━━━━━━━━━━━━━\u001b[0m \u001b[32m25.2/25.2 MB\u001b[0m \u001b[31m30.5 MB/s\u001b[0m eta \u001b[36m0:00:00\u001b[0m\n",
            "\u001b[2K     \u001b[90m━━━━━━━━━━━━━━━━━━━━━━━━━━━━━━━━━━━━━━━━\u001b[0m \u001b[32m1.6/1.6 MB\u001b[0m \u001b[31m24.7 MB/s\u001b[0m eta \u001b[36m0:00:00\u001b[0m\n",
            "\u001b[?25h  Preparing metadata (setup.py) ... \u001b[?25l\u001b[?25hdone\n",
            "  Building wheel for ec (setup.py) ... \u001b[?25l\u001b[?25hdone\n"
          ]
        }
      ]
    },
    {
      "cell_type": "code",
      "metadata": {
        "id": "KQUMnXBEIwIZ"
      },
      "source": [
        "import pandas as pd\n",
        "import numpy as np\n",
        "from ec.utils import write_markers"
      ],
      "execution_count": 2,
      "outputs": []
    },
    {
      "cell_type": "code",
      "source": [
        "# Get valid gene names\n",
        "!wget -O genes.txt https://caltech.box.com/shared/static/4r5prhstoq2j1lk8l56bpwqqvfj54q2u.txt\n",
        "genes_list = pd.read_csv('genes.txt', header = None)[0].values"
      ],
      "metadata": {
        "id": "4GwoTP-UyzHm",
        "outputId": "3c4c18e0-7551-430a-db29-0ed7da7b415e",
        "colab": {
          "base_uri": "https://localhost:8080/"
        }
      },
      "execution_count": 3,
      "outputs": [
        {
          "output_type": "stream",
          "name": "stdout",
          "text": [
            "--2023-03-18 04:53:40--  https://caltech.box.com/shared/static/4r5prhstoq2j1lk8l56bpwqqvfj54q2u.txt\n",
            "Resolving caltech.box.com (caltech.box.com)... 74.112.186.144\n",
            "Connecting to caltech.box.com (caltech.box.com)|74.112.186.144|:443... connected.\n",
            "HTTP request sent, awaiting response... 301 Moved Permanently\n",
            "Location: /public/static/4r5prhstoq2j1lk8l56bpwqqvfj54q2u.txt [following]\n",
            "--2023-03-18 04:53:40--  https://caltech.box.com/public/static/4r5prhstoq2j1lk8l56bpwqqvfj54q2u.txt\n",
            "Reusing existing connection to caltech.box.com:443.\n",
            "HTTP request sent, awaiting response... 301 Moved Permanently\n",
            "Location: https://caltech.app.box.com/public/static/4r5prhstoq2j1lk8l56bpwqqvfj54q2u.txt [following]\n",
            "--2023-03-18 04:53:40--  https://caltech.app.box.com/public/static/4r5prhstoq2j1lk8l56bpwqqvfj54q2u.txt\n",
            "Resolving caltech.app.box.com (caltech.app.box.com)... 74.112.186.144\n",
            "Connecting to caltech.app.box.com (caltech.app.box.com)|74.112.186.144|:443... connected.\n",
            "HTTP request sent, awaiting response... 302 Found\n",
            "Location: https://dl2.boxcloud.com/d/1/b1!HDmT2oQNs8wM33hGAF0en8lXjkxzSBIUD4Ts561fsRucpQLDHyymjO6KO9QShZOG9yXDUGVZHFWawoikCxg8GB4PK4BMkAT2vl4-9IytDhzhgYPliYtNjce_UW3cxm285MZKwJBl5VdM4UF7t0WMHEbw5HmA3h7A0zqnrQociOdH_OgDP34Xe_RGgKabVZ_RrPshHTXdObroLHiFsClAmgRRnySXm2O4M70efK23zYjqtq9EZgo8uj92M6c0e6_GSH5b7GljVwf39OBooYTtzuZwu1DHJRvSnGfND5JT96pL9bsw3QRCr4qf-7-AhV__2ydlKLy1YDOvqJLdK29VOdYMBgbJRmOtPTH5x2Z4AlMusybMEn-w0wMXWD09Ie8U7HDOCA1YVI44HZ6uHQRS9igeVw8kPCVynZvlJRkmejQzAB6M8B7uDKLExkH6Cq5Ka4Krl9r-JFXATrRm7fBNnUpj3sloVfL3XlL8GRoT8isRIb4d_M0yc3FN96W2ul-_UIRDf7Jiolrtu-eneHrTGHV-ueNW0SjX4xtYH3_VYVJPwGnfdBqDe6B1dYhS8mrZjbdfvQb5jckcc4n4uysSnXy5R_8bSHkp6V_0_l4O6OSThfHxcNfY_7vN5ZNoq711C7URUIoC6q0bknEIgq9gP-p0lWdcLNTMBmA8VwaXM2R1JGTN5KGi_o827vw4HYsWEZXuHlc5PGragyGHHCRtUDMIZjpdPUVtrn3aD8hacEgonZ2kSriCxzf6LQVWLV6PsrOf4z_jLeLjXWKRYsVBpIMbZHnlfI2YUFwVL2kj6Hv3PjPNmELCL23Lksu5i258zId55Yj5j0vHY5PZrzKEfUVe0wkjGhbP8C2xnGog7SFKRfPd8ogmzuWSOAhvZNZSY1ywzQOKhyZjj0z5375wiLY4hGHMwcYnFc78E-yiSd1it8dQ_Hg714ruoSNd2uXIc18i8AgynvBH79UsPRvg5UxjxIx9ExZLjqIuS-9kCBmadSITz7iEshpKpXdqu_jF-ui3vQ56NTp3bnhDmfzOAtwy67VbKBkm-KS18dhw1ZJYb-rrLjVC-Zv-vkIBr-fI-dn3HG33F8BUq8JDhMmktARB4muQ8gv7eJNO-XnNmD-e_FE9nE8TUe-6civ7jt9fOCXNEeMSbfCIsfo2_C6jifdG3lcHKhDYithn9jzfZSvhMR7yzwbc3b0rbonqa8DCEBZY1lRVDSRa47xRMQ1nWhMYQeMu5Ql7CflbUmqOwpQvVAAlx0F744JqTZ0YabLBJJNlPltTfgJWvgDyUuzRAXvfgHif_kGJ59ZXwpxDhlkVje1GMQsptdd2LTlFyEva9druj3r2k6mxx4UYn291EeB7hGHMc_GrTRX1KtDjHQ_hLdTSAWoWGWV4jl_W9Q../download [following]\n",
            "--2023-03-18 04:53:41--  https://dl2.boxcloud.com/d/1/b1!HDmT2oQNs8wM33hGAF0en8lXjkxzSBIUD4Ts561fsRucpQLDHyymjO6KO9QShZOG9yXDUGVZHFWawoikCxg8GB4PK4BMkAT2vl4-9IytDhzhgYPliYtNjce_UW3cxm285MZKwJBl5VdM4UF7t0WMHEbw5HmA3h7A0zqnrQociOdH_OgDP34Xe_RGgKabVZ_RrPshHTXdObroLHiFsClAmgRRnySXm2O4M70efK23zYjqtq9EZgo8uj92M6c0e6_GSH5b7GljVwf39OBooYTtzuZwu1DHJRvSnGfND5JT96pL9bsw3QRCr4qf-7-AhV__2ydlKLy1YDOvqJLdK29VOdYMBgbJRmOtPTH5x2Z4AlMusybMEn-w0wMXWD09Ie8U7HDOCA1YVI44HZ6uHQRS9igeVw8kPCVynZvlJRkmejQzAB6M8B7uDKLExkH6Cq5Ka4Krl9r-JFXATrRm7fBNnUpj3sloVfL3XlL8GRoT8isRIb4d_M0yc3FN96W2ul-_UIRDf7Jiolrtu-eneHrTGHV-ueNW0SjX4xtYH3_VYVJPwGnfdBqDe6B1dYhS8mrZjbdfvQb5jckcc4n4uysSnXy5R_8bSHkp6V_0_l4O6OSThfHxcNfY_7vN5ZNoq711C7URUIoC6q0bknEIgq9gP-p0lWdcLNTMBmA8VwaXM2R1JGTN5KGi_o827vw4HYsWEZXuHlc5PGragyGHHCRtUDMIZjpdPUVtrn3aD8hacEgonZ2kSriCxzf6LQVWLV6PsrOf4z_jLeLjXWKRYsVBpIMbZHnlfI2YUFwVL2kj6Hv3PjPNmELCL23Lksu5i258zId55Yj5j0vHY5PZrzKEfUVe0wkjGhbP8C2xnGog7SFKRfPd8ogmzuWSOAhvZNZSY1ywzQOKhyZjj0z5375wiLY4hGHMwcYnFc78E-yiSd1it8dQ_Hg714ruoSNd2uXIc18i8AgynvBH79UsPRvg5UxjxIx9ExZLjqIuS-9kCBmadSITz7iEshpKpXdqu_jF-ui3vQ56NTp3bnhDmfzOAtwy67VbKBkm-KS18dhw1ZJYb-rrLjVC-Zv-vkIBr-fI-dn3HG33F8BUq8JDhMmktARB4muQ8gv7eJNO-XnNmD-e_FE9nE8TUe-6civ7jt9fOCXNEeMSbfCIsfo2_C6jifdG3lcHKhDYithn9jzfZSvhMR7yzwbc3b0rbonqa8DCEBZY1lRVDSRa47xRMQ1nWhMYQeMu5Ql7CflbUmqOwpQvVAAlx0F744JqTZ0YabLBJJNlPltTfgJWvgDyUuzRAXvfgHif_kGJ59ZXwpxDhlkVje1GMQsptdd2LTlFyEva9druj3r2k6mxx4UYn291EeB7hGHMc_GrTRX1KtDjHQ_hLdTSAWoWGWV4jl_W9Q../download\n",
            "Resolving dl2.boxcloud.com (dl2.boxcloud.com)... 74.112.186.128\n",
            "Connecting to dl2.boxcloud.com (dl2.boxcloud.com)|74.112.186.128|:443... connected.\n",
            "HTTP request sent, awaiting response... 200 OK\n",
            "Length: 535253 (523K) [text/plain]\n",
            "Saving to: ‘genes.txt’\n",
            "\n",
            "genes.txt           100%[===================>] 522.71K  1.66MB/s    in 0.3s    \n",
            "\n",
            "2023-03-18 04:53:42 (1.66 MB/s) - ‘genes.txt’ saved [535253/535253]\n",
            "\n"
          ]
        }
      ]
    },
    {
      "cell_type": "markdown",
      "metadata": {
        "id": "1teufrMyJbx5"
      },
      "source": [
        "# Placenta"
      ]
    },
    {
      "cell_type": "code",
      "metadata": {
        "id": "dSrBA-IiJYZ-"
      },
      "source": [
        "species = \"homo_sapiens\"\n",
        "organ = \"placenta\"\n",
        "reference = \"hg19\"\n",
        "paper_doi = \"https://doi.org/10.1038/s41422-018-0066-y\"\n",
        "table_link = \"https://static-content.springer.com/esm/art%3A10.1038%2Fs41422-018-0066-y/MediaObjects/41422_2018_66_MOESM10_ESM.xlsx\"\n",
        "\n",
        "# don't include in header\n",
        "table_name = \"41422_2018_66_MOESM10_ESM.xlsx\"\n",
        "\n",
        "header = [\n",
        "    {\n",
        "      \"species\": species,\n",
        "      \"organ\": organ,\n",
        "      \"reference\": reference,\n",
        "      \"paper_doi\": paper_doi,\n",
        "      \"table_link\": table_link\n",
        "    }\n",
        "]\n",
        "    "
      ],
      "execution_count": 4,
      "outputs": []
    },
    {
      "cell_type": "code",
      "metadata": {
        "id": "_2WUjjA6ZGc2"
      },
      "source": [
        "excel = pd.read_excel(table_link, sheet_name=None, skiprows=1)"
      ],
      "execution_count": 5,
      "outputs": []
    },
    {
      "cell_type": "code",
      "metadata": {
        "colab": {
          "base_uri": "https://localhost:8080/"
        },
        "id": "fBCnvv1cZx3f",
        "outputId": "acd5f160-e3da-4d70-c208-021c19625b1b"
      },
      "source": [
        "excel.keys()"
      ],
      "execution_count": 6,
      "outputs": [
        {
          "output_type": "execute_result",
          "data": {
            "text/plain": [
              "dict_keys(['Marker_Genes_Table'])"
            ]
          },
          "metadata": {},
          "execution_count": 6
        }
      ]
    },
    {
      "cell_type": "code",
      "metadata": {
        "id": "2dARC5bCNTwt"
      },
      "source": [
        "df = excel[\"Marker_Genes_Table\"].rename(columns={\"cell type\": \"celltype\"})\n"
      ],
      "execution_count": 7,
      "outputs": []
    },
    {
      "cell_type": "code",
      "source": [
        "bidx = df['gene'].isin(genes_list)\n",
        "print(f'Filtered {np.sum(~bidx)} out of {len(bidx)} genes')\n",
        "df = df[bidx]\n",
        "\n",
        "df.head()"
      ],
      "metadata": {
        "id": "PqTfAM1Wg9Qk",
        "outputId": "dfc8c405-4dac-4768-fa19-b6445c031c44",
        "colab": {
          "base_uri": "https://localhost:8080/",
          "height": 224
        }
      },
      "execution_count": 8,
      "outputs": [
        {
          "output_type": "stream",
          "name": "stdout",
          "text": [
            "Filtered 226 out of 1641 genes\n"
          ]
        },
        {
          "output_type": "execute_result",
          "data": {
            "text/plain": [
              "      gene  myAUC  avg_diff  power  celltype\n",
              "0    INSL4  0.981  3.045510  0.962  CTB_8W_1\n",
              "1    MUC15  0.977  3.238270  0.954  CTB_8W_1\n",
              "2     TBX3  0.975  2.839081  0.950  CTB_8W_1\n",
              "3    KRT23  0.965  2.901008  0.930  CTB_8W_1\n",
              "4  SLC40A1  0.959  3.231121  0.918  CTB_8W_1"
            ],
            "text/html": [
              "\n",
              "  <div id=\"df-ffec070b-bd7f-4ccc-b309-423b924cf0d5\">\n",
              "    <div class=\"colab-df-container\">\n",
              "      <div>\n",
              "<style scoped>\n",
              "    .dataframe tbody tr th:only-of-type {\n",
              "        vertical-align: middle;\n",
              "    }\n",
              "\n",
              "    .dataframe tbody tr th {\n",
              "        vertical-align: top;\n",
              "    }\n",
              "\n",
              "    .dataframe thead th {\n",
              "        text-align: right;\n",
              "    }\n",
              "</style>\n",
              "<table border=\"1\" class=\"dataframe\">\n",
              "  <thead>\n",
              "    <tr style=\"text-align: right;\">\n",
              "      <th></th>\n",
              "      <th>gene</th>\n",
              "      <th>myAUC</th>\n",
              "      <th>avg_diff</th>\n",
              "      <th>power</th>\n",
              "      <th>celltype</th>\n",
              "    </tr>\n",
              "  </thead>\n",
              "  <tbody>\n",
              "    <tr>\n",
              "      <th>0</th>\n",
              "      <td>INSL4</td>\n",
              "      <td>0.981</td>\n",
              "      <td>3.045510</td>\n",
              "      <td>0.962</td>\n",
              "      <td>CTB_8W_1</td>\n",
              "    </tr>\n",
              "    <tr>\n",
              "      <th>1</th>\n",
              "      <td>MUC15</td>\n",
              "      <td>0.977</td>\n",
              "      <td>3.238270</td>\n",
              "      <td>0.954</td>\n",
              "      <td>CTB_8W_1</td>\n",
              "    </tr>\n",
              "    <tr>\n",
              "      <th>2</th>\n",
              "      <td>TBX3</td>\n",
              "      <td>0.975</td>\n",
              "      <td>2.839081</td>\n",
              "      <td>0.950</td>\n",
              "      <td>CTB_8W_1</td>\n",
              "    </tr>\n",
              "    <tr>\n",
              "      <th>3</th>\n",
              "      <td>KRT23</td>\n",
              "      <td>0.965</td>\n",
              "      <td>2.901008</td>\n",
              "      <td>0.930</td>\n",
              "      <td>CTB_8W_1</td>\n",
              "    </tr>\n",
              "    <tr>\n",
              "      <th>4</th>\n",
              "      <td>SLC40A1</td>\n",
              "      <td>0.959</td>\n",
              "      <td>3.231121</td>\n",
              "      <td>0.918</td>\n",
              "      <td>CTB_8W_1</td>\n",
              "    </tr>\n",
              "  </tbody>\n",
              "</table>\n",
              "</div>\n",
              "      <button class=\"colab-df-convert\" onclick=\"convertToInteractive('df-ffec070b-bd7f-4ccc-b309-423b924cf0d5')\"\n",
              "              title=\"Convert this dataframe to an interactive table.\"\n",
              "              style=\"display:none;\">\n",
              "        \n",
              "  <svg xmlns=\"http://www.w3.org/2000/svg\" height=\"24px\"viewBox=\"0 0 24 24\"\n",
              "       width=\"24px\">\n",
              "    <path d=\"M0 0h24v24H0V0z\" fill=\"none\"/>\n",
              "    <path d=\"M18.56 5.44l.94 2.06.94-2.06 2.06-.94-2.06-.94-.94-2.06-.94 2.06-2.06.94zm-11 1L8.5 8.5l.94-2.06 2.06-.94-2.06-.94L8.5 2.5l-.94 2.06-2.06.94zm10 10l.94 2.06.94-2.06 2.06-.94-2.06-.94-.94-2.06-.94 2.06-2.06.94z\"/><path d=\"M17.41 7.96l-1.37-1.37c-.4-.4-.92-.59-1.43-.59-.52 0-1.04.2-1.43.59L10.3 9.45l-7.72 7.72c-.78.78-.78 2.05 0 2.83L4 21.41c.39.39.9.59 1.41.59.51 0 1.02-.2 1.41-.59l7.78-7.78 2.81-2.81c.8-.78.8-2.07 0-2.86zM5.41 20L4 18.59l7.72-7.72 1.47 1.35L5.41 20z\"/>\n",
              "  </svg>\n",
              "      </button>\n",
              "      \n",
              "  <style>\n",
              "    .colab-df-container {\n",
              "      display:flex;\n",
              "      flex-wrap:wrap;\n",
              "      gap: 12px;\n",
              "    }\n",
              "\n",
              "    .colab-df-convert {\n",
              "      background-color: #E8F0FE;\n",
              "      border: none;\n",
              "      border-radius: 50%;\n",
              "      cursor: pointer;\n",
              "      display: none;\n",
              "      fill: #1967D2;\n",
              "      height: 32px;\n",
              "      padding: 0 0 0 0;\n",
              "      width: 32px;\n",
              "    }\n",
              "\n",
              "    .colab-df-convert:hover {\n",
              "      background-color: #E2EBFA;\n",
              "      box-shadow: 0px 1px 2px rgba(60, 64, 67, 0.3), 0px 1px 3px 1px rgba(60, 64, 67, 0.15);\n",
              "      fill: #174EA6;\n",
              "    }\n",
              "\n",
              "    [theme=dark] .colab-df-convert {\n",
              "      background-color: #3B4455;\n",
              "      fill: #D2E3FC;\n",
              "    }\n",
              "\n",
              "    [theme=dark] .colab-df-convert:hover {\n",
              "      background-color: #434B5C;\n",
              "      box-shadow: 0px 1px 3px 1px rgba(0, 0, 0, 0.15);\n",
              "      filter: drop-shadow(0px 1px 2px rgba(0, 0, 0, 0.3));\n",
              "      fill: #FFFFFF;\n",
              "    }\n",
              "  </style>\n",
              "\n",
              "      <script>\n",
              "        const buttonEl =\n",
              "          document.querySelector('#df-ffec070b-bd7f-4ccc-b309-423b924cf0d5 button.colab-df-convert');\n",
              "        buttonEl.style.display =\n",
              "          google.colab.kernel.accessAllowed ? 'block' : 'none';\n",
              "\n",
              "        async function convertToInteractive(key) {\n",
              "          const element = document.querySelector('#df-ffec070b-bd7f-4ccc-b309-423b924cf0d5');\n",
              "          const dataTable =\n",
              "            await google.colab.kernel.invokeFunction('convertToInteractive',\n",
              "                                                     [key], {});\n",
              "          if (!dataTable) return;\n",
              "\n",
              "          const docLinkHtml = 'Like what you see? Visit the ' +\n",
              "            '<a target=\"_blank\" href=https://colab.research.google.com/notebooks/data_table.ipynb>data table notebook</a>'\n",
              "            + ' to learn more about interactive tables.';\n",
              "          element.innerHTML = '';\n",
              "          dataTable['output_type'] = 'display_data';\n",
              "          await google.colab.output.renderOutput(dataTable, element);\n",
              "          const docLink = document.createElement('div');\n",
              "          docLink.innerHTML = docLinkHtml;\n",
              "          element.appendChild(docLink);\n",
              "        }\n",
              "      </script>\n",
              "    </div>\n",
              "  </div>\n",
              "  "
            ]
          },
          "metadata": {},
          "execution_count": 8
        }
      ]
    },
    {
      "cell_type": "code",
      "source": [
        "min_mean = 100\n",
        "max_pval = 1e-10\n",
        "min_lfc = 3.52\n",
        "max_gene_shares = 2\n",
        "max_per_celltype = 20\n",
        "\n",
        "# filter by criteria\n",
        "dfc = df.query(f\"avg_diff >= {min_lfc}\")\n",
        "# mask out genes that are shared between max_gene_shares cell type\n",
        "non_repeat_genes = dfc[\"gene\"].value_counts()[dfc[\"gene\"].value_counts() < max_gene_shares].index.values\n",
        "\n",
        "m = dfc[dfc.gene.isin(non_repeat_genes)].sort_values('avg_diff', ascending = True)\n",
        "\n",
        "# max number to sample is equal to the min number of genes across all celltype\n",
        "n_sample = min(m[\"celltype\"].value_counts().min(), max_per_celltype)\n",
        "\n",
        "# sample n_sample genes\n",
        "markers = m.groupby('celltype').tail(n_sample)\n",
        "markers_dict = markers.groupby(\"celltype\")[\"gene\"].apply(lambda x: list(x)).to_dict()"
      ],
      "metadata": {
        "id": "6gNFJQX6zHOM"
      },
      "execution_count": 9,
      "outputs": []
    },
    {
      "cell_type": "code",
      "metadata": {
        "colab": {
          "base_uri": "https://localhost:8080/"
        },
        "id": "imWNsPLfXZPY",
        "outputId": "a8839190-eadb-4ac4-ba95-67e17c0b41eb"
      },
      "source": [
        "m.celltype.value_counts()"
      ],
      "execution_count": 10,
      "outputs": [
        {
          "output_type": "execute_result",
          "data": {
            "text/plain": [
              "Mes_2       74\n",
              "Mes_1       50\n",
              "Blood       48\n",
              "STB_8W      44\n",
              "Macro_1     42\n",
              "Macro_2     25\n",
              "CTB_8W_1     6\n",
              "Name: celltype, dtype: int64"
            ]
          },
          "metadata": {},
          "execution_count": 10
        }
      ]
    },
    {
      "cell_type": "code",
      "metadata": {
        "colab": {
          "base_uri": "https://localhost:8080/"
        },
        "id": "St0Il3TXKxRB",
        "outputId": "8c3d71c4-9043-4e88-a448-f1ea0dc35c71"
      },
      "source": [
        "markers.celltype.value_counts()"
      ],
      "execution_count": 11,
      "outputs": [
        {
          "output_type": "execute_result",
          "data": {
            "text/plain": [
              "CTB_8W_1    6\n",
              "Macro_1     6\n",
              "Macro_2     6\n",
              "Mes_1       6\n",
              "Mes_2       6\n",
              "STB_8W      6\n",
              "Blood       6\n",
              "Name: celltype, dtype: int64"
            ]
          },
          "metadata": {},
          "execution_count": 11
        }
      ]
    },
    {
      "cell_type": "code",
      "metadata": {
        "id": "SO1p80avKyL4"
      },
      "source": [
        "write_markers(\"markers.txt\", markers_dict, header)"
      ],
      "execution_count": 12,
      "outputs": []
    },
    {
      "cell_type": "code",
      "metadata": {
        "id": "zQYenNIoYj2K",
        "outputId": "f296a615-61b2-482c-db6d-364f9cfd7011",
        "colab": {
          "base_uri": "https://localhost:8080/"
        }
      },
      "source": [
        "!cat markers.txt"
      ],
      "execution_count": 13,
      "outputs": [
        {
          "output_type": "stream",
          "name": "stdout",
          "text": [
            "# homo_sapiens\tplacenta\thg19\thttps://doi.org/10.1038/s41422-018-0066-y\thttps://static-content.springer.com/esm/art%3A10.1038%2Fs41422-018-0066-y/MediaObjects/41422_2018_66_MOESM10_ESM.xlsx\n",
            "Blood\tSLC4A1,HBG1,AHSP,ALAS2,HBM,GYPB\n",
            "CTB_8W_1\tOTUB2,DHRS9,GREM2,SLC1A2,LGALS16,ERVFRD-1\n",
            "Macro_1\tLILRB4,FPR3,SDS,HLA-DQA1,HLA-DRB5,HLA-DRB1\n",
            "Macro_2\tHPGDS,TMIGD3,CD5L,SCN9A,F13A1,LYVE1\n",
            "Mes_1\tNKG7,RAMP1,C1S,IGFBP5,C1R,SPARCL1\n",
            "Mes_2\tVTN,TCF21,SLIT2,EGFL6,DLK1,CXCL14\n",
            "STB_8W\tANGPT2,GNGT1,PSG6,KISS1,PSG8,CRH\n"
          ]
        }
      ]
    },
    {
      "cell_type": "code",
      "source": [],
      "metadata": {
        "id": "wixzGbH7IrXW"
      },
      "execution_count": 13,
      "outputs": []
    }
  ]
}