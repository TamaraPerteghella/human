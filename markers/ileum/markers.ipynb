{
  "nbformat": 4,
  "nbformat_minor": 0,
  "metadata": {
    "colab": {
      "provenance": [],
      "include_colab_link": true
    },
    "kernelspec": {
      "name": "python3",
      "display_name": "Python 3"
    },
    "language_info": {
      "name": "python"
    }
  },
  "cells": [
    {
      "cell_type": "markdown",
      "metadata": {
        "id": "view-in-github",
        "colab_type": "text"
      },
      "source": [
        "<a href=\"https://colab.research.google.com/github/cellatlas/human/blob/master/markers/ileum/markers.ipynb\" target=\"_parent\"><img src=\"https://colab.research.google.com/assets/colab-badge.svg\" alt=\"Open In Colab\"/></a>"
      ]
    },
    {
      "cell_type": "code",
      "source": [
        "!pip install -q gget\n",
        "!pip install -q git+https://github.com/sbooeshaghi/ec"
      ],
      "metadata": {
        "id": "r6fQ0kETcaKi",
        "outputId": "2c3b81fa-46ca-4f03-d9ec-2f2e2062ea2c",
        "colab": {
          "base_uri": "https://localhost:8080/"
        }
      },
      "execution_count": 1,
      "outputs": [
        {
          "output_type": "stream",
          "name": "stdout",
          "text": [
            "\u001b[2K     \u001b[90m━━━━━━━━━━━━━━━━━━━━━━━━━━━━━━━━━━━━━━━━\u001b[0m \u001b[32m2.2/2.2 MB\u001b[0m \u001b[31m22.5 MB/s\u001b[0m eta \u001b[36m0:00:00\u001b[0m\n",
            "\u001b[2K     \u001b[90m━━━━━━━━━━━━━━━━━━━━━━━━━━━━━━━━━━━━━━━━\u001b[0m \u001b[32m25.2/25.2 MB\u001b[0m \u001b[31m32.6 MB/s\u001b[0m eta \u001b[36m0:00:00\u001b[0m\n",
            "\u001b[2K     \u001b[90m━━━━━━━━━━━━━━━━━━━━━━━━━━━━━━━━━━━━━━━━\u001b[0m \u001b[32m70.1/70.1 KB\u001b[0m \u001b[31m3.7 MB/s\u001b[0m eta \u001b[36m0:00:00\u001b[0m\n",
            "\u001b[2K     \u001b[90m━━━━━━━━━━━━━━━━━━━━━━━━━━━━━━━━━━━━━━━━\u001b[0m \u001b[32m1.6/1.6 MB\u001b[0m \u001b[31m9.6 MB/s\u001b[0m eta \u001b[36m0:00:00\u001b[0m\n",
            "\u001b[2K     \u001b[90m━━━━━━━━━━━━━━━━━━━━━━━━━━━━━━━━━━━━━━━━\u001b[0m \u001b[32m1.0/1.0 MB\u001b[0m \u001b[31m8.6 MB/s\u001b[0m eta \u001b[36m0:00:00\u001b[0m\n",
            "\u001b[2K     \u001b[90m━━━━━━━━━━━━━━━━━━━━━━━━━━━━━━━━━━━━━━━\u001b[0m \u001b[32m264.6/264.6 KB\u001b[0m \u001b[31m3.1 MB/s\u001b[0m eta \u001b[36m0:00:00\u001b[0m\n",
            "\u001b[2K     \u001b[90m━━━━━━━━━━━━━━━━━━━━━━━━━━━━━━━━━━━━━━━\u001b[0m \u001b[32m114.2/114.2 KB\u001b[0m \u001b[31m4.3 MB/s\u001b[0m eta \u001b[36m0:00:00\u001b[0m\n",
            "\u001b[2K     \u001b[90m━━━━━━━━━━━━━━━━━━━━━━━━━━━━━━━━━━━━━━━\u001b[0m \u001b[32m158.8/158.8 KB\u001b[0m \u001b[31m3.1 MB/s\u001b[0m eta \u001b[36m0:00:00\u001b[0m\n",
            "\u001b[?25h  Preparing metadata (setup.py) ... \u001b[?25l\u001b[?25hdone\n",
            "  Building wheel for ec (setup.py) ... \u001b[?25l\u001b[?25hdone\n"
          ]
        }
      ]
    },
    {
      "cell_type": "code",
      "metadata": {
        "id": "KQUMnXBEIwIZ"
      },
      "source": [
        "\n",
        "import pandas as pd\n",
        "import numpy as np\n",
        "from ec.utils import write_markers"
      ],
      "execution_count": 2,
      "outputs": []
    },
    {
      "cell_type": "code",
      "source": [
        "# Get valid gene names\n",
        "!wget -O genes.txt https://caltech.box.com/shared/static/4r5prhstoq2j1lk8l56bpwqqvfj54q2u.txt\n",
        "genes_list = pd.read_csv('genes.txt', header = None)[0].values"
      ],
      "metadata": {
        "id": "2ZF4Qfp6nuS3",
        "outputId": "1b40914e-776d-4bbf-f969-8220513fe629",
        "colab": {
          "base_uri": "https://localhost:8080/"
        }
      },
      "execution_count": 3,
      "outputs": [
        {
          "output_type": "stream",
          "name": "stdout",
          "text": [
            "--2023-03-19 23:32:12--  https://caltech.box.com/shared/static/4r5prhstoq2j1lk8l56bpwqqvfj54q2u.txt\n",
            "Resolving caltech.box.com (caltech.box.com)... 74.112.186.144\n",
            "Connecting to caltech.box.com (caltech.box.com)|74.112.186.144|:443... connected.\n",
            "HTTP request sent, awaiting response... 301 Moved Permanently\n",
            "Location: /public/static/4r5prhstoq2j1lk8l56bpwqqvfj54q2u.txt [following]\n",
            "--2023-03-19 23:32:13--  https://caltech.box.com/public/static/4r5prhstoq2j1lk8l56bpwqqvfj54q2u.txt\n",
            "Reusing existing connection to caltech.box.com:443.\n",
            "HTTP request sent, awaiting response... 301 Moved Permanently\n",
            "Location: https://caltech.app.box.com/public/static/4r5prhstoq2j1lk8l56bpwqqvfj54q2u.txt [following]\n",
            "--2023-03-19 23:32:13--  https://caltech.app.box.com/public/static/4r5prhstoq2j1lk8l56bpwqqvfj54q2u.txt\n",
            "Resolving caltech.app.box.com (caltech.app.box.com)... 74.112.186.144\n",
            "Connecting to caltech.app.box.com (caltech.app.box.com)|74.112.186.144|:443... connected.\n",
            "HTTP request sent, awaiting response... 302 Found\n",
            "Location: https://dl2.boxcloud.com/d/1/b1!BvUS2Crtrwg3y3kgXkQmD3YzISvIlNMIyLAxHlyIKGkSewi5h_IVFL-Uj4GGCo0-FT9hYx1F1iPCKx0_yqZ0br9c12NSLPqS1T7NZ7eFBIpkRP6lqwlIJsXIUV15ZMI-ehxhYZtRmB5mG9q-NN19N2PUpptMfxZE2-K5AWfZ7xqVhfdF7SpQakdGgTEAuSEgYsPAX_d-cygg2iZHyjG6MDxWzcq0nXJXsqorfUpOkWP5_gsEE6sFPrnbiIY_ZcQsz9piN1jdS9gtE3UPWHgviwpKNJw8MlIi_zsisUkz7xbDRt-hHKhe2MDWUSmq70MJKDnczEcWmShtvdin7gKhWnaNkWPUPK-Oi7YXci2aY112VnkROTYZ7RkAiS-fOvayq_zXtBa5KK6PRLh5HoeeF1EOHoVxMpDbkurWcSWLGdTv8PCyRHPMjhSsVv1MbCKIRobPWQqyc2hmPgwf4XjbEDPY87ge46Tr3CpK320ofRjrWC-PWn049ohdOalX_FZyCH8bYAMu3ZFJYOqYtfbhG2uLYll5wDORwk4Bqptn3KGYqxrzyOOnqUjtFIxL5FouuHSsAImxsaVqIk4gNaxGhrjnVHKbfSEO1bBg0s1q4DbwMUWbOKJEG3VeYiXRlUJY-e9HRPkU-kTdXdTRssdRb01kNgrrbR_VY0HpUUdas5dhHn4omEFwe6mm6UtWFYZ9UZEnaCqq1XQPVm_hkhFfn1efGVRLoo3xSm9kU7GFo8SXh0cf6v-YJm-HxaTLK_c90tnz9Y1dViW2vcj4pnkBEx7b51yhtWY5ygW90tjT8icqcYJjdiCBrfSkq25SQ2cqIfWu2eus9PRjg2l5OonVPg6qVjT4jeTzASRkd6N0mYgRl5HYfoRLBuzyHPaSzqeQfahIDxju1XHjecKy1CpGuoeS2sEQQrxK-_OAGTG3pPIiSOED_C-RHffACWk4ZgfelpF4ZAr9wsVPWo6LXzDNB_bpvl0tZNBxmJcrCIvEFhFjJPEdD1KadO6MzTiALiigNUWYlmI8kuT5XVH3nQS-7vEZd-WAekD3L8CwXOH7pBlYof6VUOfpARX0tRKNTvN3HkW8FbPFC2CGCaBewMl99M6Y5hLZ8xFlyICJ2sa922ksPR19NrBPLJ__xUQlGAX6gBMnWjplG-TuULQyvUGFRiB1PTcko0_3EcheubS-BapEif1Xoh-d1TztaybtSH2keLL3xEmsZYMhUZym4Y--hOm2gMAyAUeOjR9asPCIHEugOyXFwCAAPIvDLJYzNfEiNgoBM_8G5AflE6fwO-eU-1-fCDnriWw8osJ7c-IE-yN8EAFwN41l9pouqL4w-EhsFLELRdAC1NQVQpEOW-KjbNmtjaI8nv6iz6clmOWGzPJ4UaTxtLzYVUzk1ACPoP8./download [following]\n",
            "--2023-03-19 23:32:14--  https://dl2.boxcloud.com/d/1/b1!BvUS2Crtrwg3y3kgXkQmD3YzISvIlNMIyLAxHlyIKGkSewi5h_IVFL-Uj4GGCo0-FT9hYx1F1iPCKx0_yqZ0br9c12NSLPqS1T7NZ7eFBIpkRP6lqwlIJsXIUV15ZMI-ehxhYZtRmB5mG9q-NN19N2PUpptMfxZE2-K5AWfZ7xqVhfdF7SpQakdGgTEAuSEgYsPAX_d-cygg2iZHyjG6MDxWzcq0nXJXsqorfUpOkWP5_gsEE6sFPrnbiIY_ZcQsz9piN1jdS9gtE3UPWHgviwpKNJw8MlIi_zsisUkz7xbDRt-hHKhe2MDWUSmq70MJKDnczEcWmShtvdin7gKhWnaNkWPUPK-Oi7YXci2aY112VnkROTYZ7RkAiS-fOvayq_zXtBa5KK6PRLh5HoeeF1EOHoVxMpDbkurWcSWLGdTv8PCyRHPMjhSsVv1MbCKIRobPWQqyc2hmPgwf4XjbEDPY87ge46Tr3CpK320ofRjrWC-PWn049ohdOalX_FZyCH8bYAMu3ZFJYOqYtfbhG2uLYll5wDORwk4Bqptn3KGYqxrzyOOnqUjtFIxL5FouuHSsAImxsaVqIk4gNaxGhrjnVHKbfSEO1bBg0s1q4DbwMUWbOKJEG3VeYiXRlUJY-e9HRPkU-kTdXdTRssdRb01kNgrrbR_VY0HpUUdas5dhHn4omEFwe6mm6UtWFYZ9UZEnaCqq1XQPVm_hkhFfn1efGVRLoo3xSm9kU7GFo8SXh0cf6v-YJm-HxaTLK_c90tnz9Y1dViW2vcj4pnkBEx7b51yhtWY5ygW90tjT8icqcYJjdiCBrfSkq25SQ2cqIfWu2eus9PRjg2l5OonVPg6qVjT4jeTzASRkd6N0mYgRl5HYfoRLBuzyHPaSzqeQfahIDxju1XHjecKy1CpGuoeS2sEQQrxK-_OAGTG3pPIiSOED_C-RHffACWk4ZgfelpF4ZAr9wsVPWo6LXzDNB_bpvl0tZNBxmJcrCIvEFhFjJPEdD1KadO6MzTiALiigNUWYlmI8kuT5XVH3nQS-7vEZd-WAekD3L8CwXOH7pBlYof6VUOfpARX0tRKNTvN3HkW8FbPFC2CGCaBewMl99M6Y5hLZ8xFlyICJ2sa922ksPR19NrBPLJ__xUQlGAX6gBMnWjplG-TuULQyvUGFRiB1PTcko0_3EcheubS-BapEif1Xoh-d1TztaybtSH2keLL3xEmsZYMhUZym4Y--hOm2gMAyAUeOjR9asPCIHEugOyXFwCAAPIvDLJYzNfEiNgoBM_8G5AflE6fwO-eU-1-fCDnriWw8osJ7c-IE-yN8EAFwN41l9pouqL4w-EhsFLELRdAC1NQVQpEOW-KjbNmtjaI8nv6iz6clmOWGzPJ4UaTxtLzYVUzk1ACPoP8./download\n",
            "Resolving dl2.boxcloud.com (dl2.boxcloud.com)... 74.112.186.128\n",
            "Connecting to dl2.boxcloud.com (dl2.boxcloud.com)|74.112.186.128|:443... connected.\n",
            "HTTP request sent, awaiting response... 200 OK\n",
            "Length: 535253 (523K) [text/plain]\n",
            "Saving to: ‘genes.txt’\n",
            "\n",
            "genes.txt           100%[===================>] 522.71K   743KB/s    in 0.7s    \n",
            "\n",
            "2023-03-19 23:32:15 (743 KB/s) - ‘genes.txt’ saved [535253/535253]\n",
            "\n"
          ]
        }
      ]
    },
    {
      "cell_type": "markdown",
      "metadata": {
        "id": "1teufrMyJbx5"
      },
      "source": [
        "# Ileum"
      ]
    },
    {
      "cell_type": "code",
      "metadata": {
        "id": "dSrBA-IiJYZ-"
      },
      "source": [
        "species = \"homo_sapiens\"\n",
        "organ = \"ileum\"\n",
        "reference = \"GRCh38\"\n",
        "paper_doi = \"https://doi.org/10.1161/CIRCULATIONAHA.119.045401\"\n",
        "table_link = \"https://cdn.rupress.org/rup/content_public/journal/jem/217/2/10.1084_jem.20191130/5/jem_20191130_tables1.xlsx\"\n",
        "\n",
        "# don't include in header\n",
        "table_name = \"degs.xlsx\"\n",
        "\n",
        "header = [\n",
        "    {\n",
        "      \"species\": species,\n",
        "      \"organ\": organ,\n",
        "      \"reference\": reference,\n",
        "      \"paper_doi\": paper_doi,\n",
        "      \"table_link\": table_link,\n",
        "    }\n",
        "]"
      ],
      "execution_count": 4,
      "outputs": []
    },
    {
      "cell_type": "code",
      "source": [
        "!wget -O $table_name $table_link"
      ],
      "metadata": {
        "id": "0mpOCFbycVNI",
        "outputId": "113e293c-6a53-4d73-a9a2-290ab851d94c",
        "colab": {
          "base_uri": "https://localhost:8080/"
        }
      },
      "execution_count": 5,
      "outputs": [
        {
          "output_type": "stream",
          "name": "stdout",
          "text": [
            "--2023-03-19 23:32:15--  https://cdn.rupress.org/rup/content_public/journal/jem/217/2/10.1084_jem.20191130/5/jem_20191130_tables1.xlsx\n",
            "Resolving cdn.rupress.org (cdn.rupress.org)... 108.156.60.88, 108.156.60.9, 108.156.60.38, ...\n",
            "Connecting to cdn.rupress.org (cdn.rupress.org)|108.156.60.88|:443... connected.\n",
            "HTTP request sent, awaiting response... 403 Forbidden\n",
            "2023-03-19 23:32:15 ERROR 403: Forbidden.\n",
            "\n"
          ]
        }
      ]
    },
    {
      "cell_type": "code",
      "metadata": {
        "id": "mFyjbuggJoZR"
      },
      "source": [
        "excel = pd.read_excel(table_name)\n",
        "\n",
        "df = excel.rename(columns={\"cluster\": \"celltype\"})\n",
        "\n",
        "df = df.fillna(0)"
      ],
      "execution_count": 7,
      "outputs": []
    },
    {
      "cell_type": "code",
      "source": [
        "bidx = df['gene'].isin(genes_list)\n",
        "print(f'Filtered {np.sum(~bidx)} out of {len(bidx)} genes')\n",
        "df = df[bidx]"
      ],
      "metadata": {
        "id": "qp7VkIWwcf-1",
        "outputId": "1b7a7213-f6f1-485d-a0fd-4cd6c67926ef",
        "colab": {
          "base_uri": "https://localhost:8080/"
        }
      },
      "execution_count": 8,
      "outputs": [
        {
          "output_type": "stream",
          "name": "stdout",
          "text": [
            "Filtered 35 out of 1050 genes\n"
          ]
        }
      ]
    },
    {
      "cell_type": "code",
      "source": [
        "df.head()"
      ],
      "metadata": {
        "id": "lUxRG_Vicf4L",
        "outputId": "02c5cfd9-5697-4ee8-f26e-db4e1bf4e721",
        "colab": {
          "base_uri": "https://localhost:8080/",
          "height": 206
        }
      },
      "execution_count": 9,
      "outputs": [
        {
          "output_type": "execute_result",
          "data": {
            "text/plain": [
              "  Unnamed: 0  myAUC  avg_diff  power  avg_logFC  pct.1  pct.2  p_val_adj  \\\n",
              "0      CDHR5  0.928  1.657033  0.856   1.657033  0.958  0.635        0.0   \n",
              "1      PHGR1  0.922  1.348301  0.844   1.348301  1.000  1.000        0.0   \n",
              "2       IL32  0.912  2.175464  0.824   2.175464  0.925  0.538        0.0   \n",
              "4      ANPEP  0.900  1.954581  0.800   1.954581  0.932  0.498        0.0   \n",
              "5     GUCA2A  0.897  1.731154  0.794   1.731154  0.933  0.620        0.0   \n",
              "\n",
              "     celltype    gene  \n",
              "0  Enterocyte   CDHR5  \n",
              "1  Enterocyte   PHGR1  \n",
              "2  Enterocyte    IL32  \n",
              "4  Enterocyte   ANPEP  \n",
              "5  Enterocyte  GUCA2A  "
            ],
            "text/html": [
              "\n",
              "  <div id=\"df-f2e4b497-de18-4feb-97ff-816113c28b0b\">\n",
              "    <div class=\"colab-df-container\">\n",
              "      <div>\n",
              "<style scoped>\n",
              "    .dataframe tbody tr th:only-of-type {\n",
              "        vertical-align: middle;\n",
              "    }\n",
              "\n",
              "    .dataframe tbody tr th {\n",
              "        vertical-align: top;\n",
              "    }\n",
              "\n",
              "    .dataframe thead th {\n",
              "        text-align: right;\n",
              "    }\n",
              "</style>\n",
              "<table border=\"1\" class=\"dataframe\">\n",
              "  <thead>\n",
              "    <tr style=\"text-align: right;\">\n",
              "      <th></th>\n",
              "      <th>Unnamed: 0</th>\n",
              "      <th>myAUC</th>\n",
              "      <th>avg_diff</th>\n",
              "      <th>power</th>\n",
              "      <th>avg_logFC</th>\n",
              "      <th>pct.1</th>\n",
              "      <th>pct.2</th>\n",
              "      <th>p_val_adj</th>\n",
              "      <th>celltype</th>\n",
              "      <th>gene</th>\n",
              "    </tr>\n",
              "  </thead>\n",
              "  <tbody>\n",
              "    <tr>\n",
              "      <th>0</th>\n",
              "      <td>CDHR5</td>\n",
              "      <td>0.928</td>\n",
              "      <td>1.657033</td>\n",
              "      <td>0.856</td>\n",
              "      <td>1.657033</td>\n",
              "      <td>0.958</td>\n",
              "      <td>0.635</td>\n",
              "      <td>0.0</td>\n",
              "      <td>Enterocyte</td>\n",
              "      <td>CDHR5</td>\n",
              "    </tr>\n",
              "    <tr>\n",
              "      <th>1</th>\n",
              "      <td>PHGR1</td>\n",
              "      <td>0.922</td>\n",
              "      <td>1.348301</td>\n",
              "      <td>0.844</td>\n",
              "      <td>1.348301</td>\n",
              "      <td>1.000</td>\n",
              "      <td>1.000</td>\n",
              "      <td>0.0</td>\n",
              "      <td>Enterocyte</td>\n",
              "      <td>PHGR1</td>\n",
              "    </tr>\n",
              "    <tr>\n",
              "      <th>2</th>\n",
              "      <td>IL32</td>\n",
              "      <td>0.912</td>\n",
              "      <td>2.175464</td>\n",
              "      <td>0.824</td>\n",
              "      <td>2.175464</td>\n",
              "      <td>0.925</td>\n",
              "      <td>0.538</td>\n",
              "      <td>0.0</td>\n",
              "      <td>Enterocyte</td>\n",
              "      <td>IL32</td>\n",
              "    </tr>\n",
              "    <tr>\n",
              "      <th>4</th>\n",
              "      <td>ANPEP</td>\n",
              "      <td>0.900</td>\n",
              "      <td>1.954581</td>\n",
              "      <td>0.800</td>\n",
              "      <td>1.954581</td>\n",
              "      <td>0.932</td>\n",
              "      <td>0.498</td>\n",
              "      <td>0.0</td>\n",
              "      <td>Enterocyte</td>\n",
              "      <td>ANPEP</td>\n",
              "    </tr>\n",
              "    <tr>\n",
              "      <th>5</th>\n",
              "      <td>GUCA2A</td>\n",
              "      <td>0.897</td>\n",
              "      <td>1.731154</td>\n",
              "      <td>0.794</td>\n",
              "      <td>1.731154</td>\n",
              "      <td>0.933</td>\n",
              "      <td>0.620</td>\n",
              "      <td>0.0</td>\n",
              "      <td>Enterocyte</td>\n",
              "      <td>GUCA2A</td>\n",
              "    </tr>\n",
              "  </tbody>\n",
              "</table>\n",
              "</div>\n",
              "      <button class=\"colab-df-convert\" onclick=\"convertToInteractive('df-f2e4b497-de18-4feb-97ff-816113c28b0b')\"\n",
              "              title=\"Convert this dataframe to an interactive table.\"\n",
              "              style=\"display:none;\">\n",
              "        \n",
              "  <svg xmlns=\"http://www.w3.org/2000/svg\" height=\"24px\"viewBox=\"0 0 24 24\"\n",
              "       width=\"24px\">\n",
              "    <path d=\"M0 0h24v24H0V0z\" fill=\"none\"/>\n",
              "    <path d=\"M18.56 5.44l.94 2.06.94-2.06 2.06-.94-2.06-.94-.94-2.06-.94 2.06-2.06.94zm-11 1L8.5 8.5l.94-2.06 2.06-.94-2.06-.94L8.5 2.5l-.94 2.06-2.06.94zm10 10l.94 2.06.94-2.06 2.06-.94-2.06-.94-.94-2.06-.94 2.06-2.06.94z\"/><path d=\"M17.41 7.96l-1.37-1.37c-.4-.4-.92-.59-1.43-.59-.52 0-1.04.2-1.43.59L10.3 9.45l-7.72 7.72c-.78.78-.78 2.05 0 2.83L4 21.41c.39.39.9.59 1.41.59.51 0 1.02-.2 1.41-.59l7.78-7.78 2.81-2.81c.8-.78.8-2.07 0-2.86zM5.41 20L4 18.59l7.72-7.72 1.47 1.35L5.41 20z\"/>\n",
              "  </svg>\n",
              "      </button>\n",
              "      \n",
              "  <style>\n",
              "    .colab-df-container {\n",
              "      display:flex;\n",
              "      flex-wrap:wrap;\n",
              "      gap: 12px;\n",
              "    }\n",
              "\n",
              "    .colab-df-convert {\n",
              "      background-color: #E8F0FE;\n",
              "      border: none;\n",
              "      border-radius: 50%;\n",
              "      cursor: pointer;\n",
              "      display: none;\n",
              "      fill: #1967D2;\n",
              "      height: 32px;\n",
              "      padding: 0 0 0 0;\n",
              "      width: 32px;\n",
              "    }\n",
              "\n",
              "    .colab-df-convert:hover {\n",
              "      background-color: #E2EBFA;\n",
              "      box-shadow: 0px 1px 2px rgba(60, 64, 67, 0.3), 0px 1px 3px 1px rgba(60, 64, 67, 0.15);\n",
              "      fill: #174EA6;\n",
              "    }\n",
              "\n",
              "    [theme=dark] .colab-df-convert {\n",
              "      background-color: #3B4455;\n",
              "      fill: #D2E3FC;\n",
              "    }\n",
              "\n",
              "    [theme=dark] .colab-df-convert:hover {\n",
              "      background-color: #434B5C;\n",
              "      box-shadow: 0px 1px 3px 1px rgba(0, 0, 0, 0.15);\n",
              "      filter: drop-shadow(0px 1px 2px rgba(0, 0, 0, 0.3));\n",
              "      fill: #FFFFFF;\n",
              "    }\n",
              "  </style>\n",
              "\n",
              "      <script>\n",
              "        const buttonEl =\n",
              "          document.querySelector('#df-f2e4b497-de18-4feb-97ff-816113c28b0b button.colab-df-convert');\n",
              "        buttonEl.style.display =\n",
              "          google.colab.kernel.accessAllowed ? 'block' : 'none';\n",
              "\n",
              "        async function convertToInteractive(key) {\n",
              "          const element = document.querySelector('#df-f2e4b497-de18-4feb-97ff-816113c28b0b');\n",
              "          const dataTable =\n",
              "            await google.colab.kernel.invokeFunction('convertToInteractive',\n",
              "                                                     [key], {});\n",
              "          if (!dataTable) return;\n",
              "\n",
              "          const docLinkHtml = 'Like what you see? Visit the ' +\n",
              "            '<a target=\"_blank\" href=https://colab.research.google.com/notebooks/data_table.ipynb>data table notebook</a>'\n",
              "            + ' to learn more about interactive tables.';\n",
              "          element.innerHTML = '';\n",
              "          dataTable['output_type'] = 'display_data';\n",
              "          await google.colab.output.renderOutput(dataTable, element);\n",
              "          const docLink = document.createElement('div');\n",
              "          docLink.innerHTML = docLinkHtml;\n",
              "          element.appendChild(docLink);\n",
              "        }\n",
              "      </script>\n",
              "    </div>\n",
              "  </div>\n",
              "  "
            ]
          },
          "metadata": {},
          "execution_count": 9
        }
      ]
    },
    {
      "cell_type": "code",
      "source": [
        "min_mean = 100\n",
        "max_pval = 1e-3\n",
        "min_lfc = 1.3\n",
        "max_gene_shares = 2\n",
        "max_per_celltype = 20\n",
        "\n",
        "# filter by criteria\n",
        "dfc = df.query(f\"p_val_adj <= {max_pval} & avg_logFC >= {min_lfc}\")\n",
        "\n",
        "# mask out genes that are shared between max_gene_shares cell type\n",
        "non_repeat_genes = dfc[\"gene\"].value_counts()[dfc[\"gene\"].value_counts() < max_gene_shares].index.values\n",
        "\n",
        "m = dfc[dfc.gene.isin(non_repeat_genes)].sort_values('pct.1', ascending = True)\n",
        "\n",
        "# max number to sample is equal to the min number of genes across all celltype\n",
        "n_sample = min(m[\"celltype\"].value_counts().min(), max_per_celltype)\n",
        "\n",
        "# sample n_sample genes\n",
        "markers = m.groupby('celltype').tail(9) # set number markers manually since TA calls have very few\n",
        "markers_dict = markers.groupby(\"celltype\")[\"gene\"].apply(lambda x: list(x)).to_dict()"
      ],
      "metadata": {
        "id": "MmhHnxZ_o6wn"
      },
      "execution_count": 16,
      "outputs": []
    },
    {
      "cell_type": "code",
      "source": [
        "markers.celltype.value_counts()"
      ],
      "metadata": {
        "colab": {
          "base_uri": "https://localhost:8080/"
        },
        "id": "TcDD0rUww0jA",
        "outputId": "1e61f3c3-c726-4cd1-b8d0-960fa729c7ae"
      },
      "execution_count": 18,
      "outputs": [
        {
          "output_type": "execute_result",
          "data": {
            "text/plain": [
              "Paneth-like        9\n",
              "Enteriendocrine    9\n",
              "Goblet             9\n",
              "Enterocyte         9\n",
              "TA                 5\n",
              "Stem Cell          1\n",
              "Name: celltype, dtype: int64"
            ]
          },
          "metadata": {},
          "execution_count": 18
        }
      ]
    },
    {
      "cell_type": "code",
      "metadata": {
        "id": "SO1p80avKyL4"
      },
      "source": [
        "write_markers(\"markers.txt\", markers_dict, header)"
      ],
      "execution_count": 20,
      "outputs": []
    },
    {
      "cell_type": "code",
      "source": [
        "!cat markers.txt"
      ],
      "metadata": {
        "id": "oRMrBZT7pFNl",
        "outputId": "912614cf-c514-4f5b-8416-bb822d0f1dea",
        "colab": {
          "base_uri": "https://localhost:8080/"
        }
      },
      "execution_count": 21,
      "outputs": [
        {
          "output_type": "stream",
          "name": "stdout",
          "text": [
            "# homo_sapiens\tileum\tGRCh38\thttps://doi.org/10.1161/CIRCULATIONAHA.119.045401\thttps://cdn.rupress.org/rup/content_public/journal/jem/217/2/10.1084_jem.20191130/5/jem_20191130_tables1.xlsx\n",
            "Enteriendocrine\tSCG5,TUBA1A,FEV,CHGA,CRYBA2,CPE,EGR1,SCGN,PCSK1N\n",
            "Enterocyte\tFABP2,ADIRF,PCK1,IL32,ANPEP,GUCA2A,CDHR5,FABP1,PHGR1\n",
            "Goblet\tITLN1,SPINK4,LRRC26,ZG16,ST6GALNAC1,KLK1,AGR2,FCGBP,TFF3\n",
            "Paneth-like\tOTOP2,LYZ,LYPD8,BEST4,CA4,CA7,SPIB,HSPB1,FKBP1A\n",
            "Stem Cell\tOLFM4\n",
            "TA\tHIST1H4C,STMN1,HMGB2,H2AFZ,TUBA1B\n"
          ]
        }
      ]
    }
  ]
}