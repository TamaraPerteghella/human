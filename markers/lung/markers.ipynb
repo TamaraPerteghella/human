{
  "nbformat": 4,
  "nbformat_minor": 0,
  "metadata": {
    "colab": {
      "name": "lung.ipynb",
      "provenance": [],
      "authorship_tag": "ABX9TyNultWugh773khwzcGKxbwF",
      "include_colab_link": true
    },
    "kernelspec": {
      "name": "python3",
      "display_name": "Python 3"
    },
    "language_info": {
      "name": "python"
    }
  },
  "cells": [
    {
      "cell_type": "markdown",
      "metadata": {
        "id": "view-in-github",
        "colab_type": "text"
      },
      "source": [
        "<a href=\"https://colab.research.google.com/github/cellatlas/human/blob/master/markers/lung/markers.ipynb\" target=\"_parent\"><img src=\"https://colab.research.google.com/assets/colab-badge.svg\" alt=\"Open In Colab\"/></a>"
      ]
    },
    {
      "cell_type": "code",
      "source": [
        "!pip install -q gget\n",
        "!pip install -q git+https://github.com/sbooeshaghi/ec"
      ],
      "metadata": {
        "id": "t7gp1xaAuhLx",
        "outputId": "1f04136d-4b21-4aca-d72a-8bb8efc8d5be",
        "colab": {
          "base_uri": "https://localhost:8080/"
        }
      },
      "execution_count": 1,
      "outputs": [
        {
          "output_type": "stream",
          "name": "stdout",
          "text": [
            "\u001b[2K     \u001b[90m━━━━━━━━━━━━━━━━━━━━━━━━━━━━━━━━━━━━━━━━\u001b[0m \u001b[32m2.2/2.2 MB\u001b[0m \u001b[31m31.2 MB/s\u001b[0m eta \u001b[36m0:00:00\u001b[0m\n",
            "\u001b[2K     \u001b[90m━━━━━━━━━━━━━━━━━━━━━━━━━━━━━━━━━━━━━━━━\u001b[0m \u001b[32m25.2/25.2 MB\u001b[0m \u001b[31m45.2 MB/s\u001b[0m eta \u001b[36m0:00:00\u001b[0m\n",
            "\u001b[2K     \u001b[90m━━━━━━━━━━━━━━━━━━━━━━━━━━━━━━━━━━━━━━━━\u001b[0m \u001b[32m1.6/1.6 MB\u001b[0m \u001b[31m49.0 MB/s\u001b[0m eta \u001b[36m0:00:00\u001b[0m\n",
            "\u001b[?25h  Preparing metadata (setup.py) ... \u001b[?25l\u001b[?25hdone\n",
            "  Building wheel for ec (setup.py) ... \u001b[?25l\u001b[?25hdone\n"
          ]
        }
      ]
    },
    {
      "cell_type": "code",
      "metadata": {
        "id": "14D7uFYLo551"
      },
      "source": [
        "import pandas as pd\n",
        "import numpy as np\n",
        "from ec.utils import write_markers"
      ],
      "execution_count": 2,
      "outputs": []
    },
    {
      "cell_type": "code",
      "source": [
        "# Extract list of valid gene names in Ensembl release 96\n",
        "!gget ref human -r \"96\" -ftp -w \"gtf\" -d\n",
        "\n",
        "# Gunzip gtf\n",
        "!gunzip /content/Homo_sapiens.GRCh38.96.gtf.gz\n",
        "\n",
        "# Extract gene names\n",
        "!tail -n +6 /content/Homo_sapiens.GRCh38.96.gtf   | cut -f 9 -d$'\\t' | grep -v \"transcript_id\" | cut -f 6 -d\" \" | sed 's/\"//g' | sed 's/;//'  | sort | uniq > genes.txt\n",
        "genes_list = pd.read_csv('genes.txt', header = None)[0].values"
      ],
      "metadata": {
        "id": "5l0235jkujb2",
        "outputId": "6be63454-7546-4578-d156-52ad596c6a17",
        "colab": {
          "base_uri": "https://localhost:8080/"
        }
      },
      "execution_count": 3,
      "outputs": [
        {
          "output_type": "stream",
          "name": "stdout",
          "text": [
            "Fri Mar 17 18:00:17 2023 INFO Fetching reference information for homo_sapiens from Ensembl release: 96.\n",
            "http://ftp.ensembl.org/pub/release-96/gtf/homo_sapiens/Homo_sapiens.GRCh38.96.gtf.gz\n",
            "  % Total    % Received % Xferd  Average Speed   Time    Time     Time  Current\n",
            "                                 Dload  Upload   Total   Spent    Left  Speed\n",
            "100 42.4M  100 42.4M    0     0   475k      0  0:01:31  0:01:31 --:--:--  479k\n"
          ]
        }
      ]
    },
    {
      "cell_type": "markdown",
      "metadata": {
        "id": "p4O-L0zjUhQ6"
      },
      "source": [
        "# Lung"
      ]
    },
    {
      "cell_type": "code",
      "metadata": {
        "id": "hkaPA2EUo8KR"
      },
      "source": [
        "species = \"homo_sapiens\"\n",
        "organ = \"lung\"\n",
        "reference = \"GRCh38-Ensemble91\"\n",
        "paper_doi = \"https://doi.org/10.1126/sciadv.aba1983\"\n",
        "table_link_1 = \"https://www.science.org/doi/suppl/10.1126/sciadv.aba1983/suppl_file/aba1983_data_s2.txt\"\n",
        "table_link_2 = \"https://www.science.org/doi/suppl/10.1126/sciadv.aba1983/suppl_file/aba1983_data_s3.txt\"\n",
        "table_link_3 = \"https://www.science.org/doi/suppl/10.1126/sciadv.aba1983/suppl_file/aba1983_data_s4.txt\"\n",
        "table_link_4 = \"https://www.science.org/doi/suppl/10.1126/sciadv.aba1983/suppl_file/aba1983_data_s5.txt\"\n",
        "\n",
        "table_links = [table_link_1, table_link_2, table_link_3, table_link_4]\n",
        "\n",
        "# don't include in header\n",
        "table_names = [\n",
        "  \"degs1.txt\",\n",
        "  \"degs2.txt\",\n",
        "  \"degs3.txt\",\n",
        "  \"degs4.txt\"\n",
        "]\n",
        "\n",
        "header = [\n",
        "    {\n",
        "      \"species\": species,\n",
        "      \"organ\": organ,\n",
        "      \"reference\": reference,\n",
        "      \"paper_doi\": paper_doi,\n",
        "      \"table_link\": table_link_1,\n",
        "    },\n",
        "    {\n",
        "      \"species\": species,\n",
        "      \"organ\": organ,\n",
        "      \"reference\": reference,\n",
        "      \"paper_doi\": paper_doi,\n",
        "      \"table_link\": table_link_2,\n",
        "    },\n",
        "    {\n",
        "      \"species\": species,\n",
        "      \"organ\": organ,\n",
        "      \"reference\": reference,\n",
        "      \"paper_doi\": paper_doi,\n",
        "      \"table_link\": table_link_3,\n",
        "    },\n",
        "    {\n",
        "      \"species\": species,\n",
        "      \"organ\": organ,\n",
        "      \"reference\": reference,\n",
        "      \"paper_doi\": paper_doi,\n",
        "      \"table_link\": table_link_4,\n",
        "    }\n",
        "]"
      ],
      "execution_count": 18,
      "outputs": []
    },
    {
      "cell_type": "code",
      "metadata": {
        "id": "boOAoSkhpXur"
      },
      "source": [
        "counter = 1\n",
        "fnames = []\n",
        "for table_link in table_links:\n",
        "  !wget --user-agent=\"Mozilla/4.9 (Windows NT 10.0; WOW64) AppleWebKit/537.36 (KHTML, like Gecko) Chrome/51.0.2704.103 Safari/537.36\" $table_link\n"
      ],
      "execution_count": null,
      "outputs": []
    },
    {
      "cell_type": "code",
      "metadata": {
        "id": "PFTiQpvf7MI1"
      },
      "source": [
        "df = pd.concat([pd.read_csv(name, sep = \"\\t\") for name in table_names])\n",
        "df.columns = [\"celltype\", \"gene\", \"log1pc_FC\", \"pct_inGroup\", \"pct_outGroup\", \"wilcox_p\", \"wilcox_fdr\", \"wilcox_bonferroni\"]\n"
      ],
      "execution_count": 15,
      "outputs": []
    },
    {
      "cell_type": "code",
      "source": [
        "# Filter out genes not present in reference\n",
        "bidx = df['gene'].isin(genes_list)\n",
        "print(f'Filtered {np.sum(~bidx)} out of {len(bidx)} genes')\n",
        "df = df[bidx]"
      ],
      "metadata": {
        "id": "wwJtWGJLuwgH",
        "outputId": "6a4ef8ba-bc87-4db3-ebf3-f523ebbdca5d",
        "colab": {
          "base_uri": "https://localhost:8080/"
        }
      },
      "execution_count": 16,
      "outputs": [
        {
          "output_type": "stream",
          "name": "stdout",
          "text": [
            "Filtered 938 out of 20516 genes\n"
          ]
        }
      ]
    },
    {
      "cell_type": "code",
      "source": [
        "df.head()"
      ],
      "metadata": {
        "id": "cuoFbjtSuwzG",
        "outputId": "dce58175-032a-4a24-ea25-39d7f8e2c181",
        "colab": {
          "base_uri": "https://localhost:8080/",
          "height": 206
        }
      },
      "execution_count": 17,
      "outputs": [
        {
          "output_type": "execute_result",
          "data": {
            "text/plain": [
              "  celltype      gene  log1pc_FC  pct_inGroup  pct_outGroup      wilcox_p  \\\n",
              "1    Basal  MIR205HG   1.757514     0.969231      0.489669  8.086494e-39   \n",
              "2    Basal      KRT5   0.750194     0.861538      0.264463  3.598166e-36   \n",
              "3    Basal      EYA2   1.436151     0.984615      0.669421  1.463281e-33   \n",
              "4    Basal   CYP24A1   0.678724     0.892308      0.320248  4.873706e-32   \n",
              "5    Basal     KRT17   1.943518     0.953846      0.526860  2.228007e-31   \n",
              "\n",
              "     wilcox_fdr  wilcox_bonferroni  \n",
              "1  2.838360e-36       2.838360e-36  \n",
              "2  6.314782e-34       1.262956e-33  \n",
              "3  1.712039e-31       5.136117e-31  \n",
              "4  4.276677e-30       1.710671e-29  \n",
              "5  1.564061e-29       7.820306e-29  "
            ],
            "text/html": [
              "\n",
              "  <div id=\"df-e3b902e9-348a-47a6-9658-ff6e59e5bf69\">\n",
              "    <div class=\"colab-df-container\">\n",
              "      <div>\n",
              "<style scoped>\n",
              "    .dataframe tbody tr th:only-of-type {\n",
              "        vertical-align: middle;\n",
              "    }\n",
              "\n",
              "    .dataframe tbody tr th {\n",
              "        vertical-align: top;\n",
              "    }\n",
              "\n",
              "    .dataframe thead th {\n",
              "        text-align: right;\n",
              "    }\n",
              "</style>\n",
              "<table border=\"1\" class=\"dataframe\">\n",
              "  <thead>\n",
              "    <tr style=\"text-align: right;\">\n",
              "      <th></th>\n",
              "      <th>celltype</th>\n",
              "      <th>gene</th>\n",
              "      <th>log1pc_FC</th>\n",
              "      <th>pct_inGroup</th>\n",
              "      <th>pct_outGroup</th>\n",
              "      <th>wilcox_p</th>\n",
              "      <th>wilcox_fdr</th>\n",
              "      <th>wilcox_bonferroni</th>\n",
              "    </tr>\n",
              "  </thead>\n",
              "  <tbody>\n",
              "    <tr>\n",
              "      <th>1</th>\n",
              "      <td>Basal</td>\n",
              "      <td>MIR205HG</td>\n",
              "      <td>1.757514</td>\n",
              "      <td>0.969231</td>\n",
              "      <td>0.489669</td>\n",
              "      <td>8.086494e-39</td>\n",
              "      <td>2.838360e-36</td>\n",
              "      <td>2.838360e-36</td>\n",
              "    </tr>\n",
              "    <tr>\n",
              "      <th>2</th>\n",
              "      <td>Basal</td>\n",
              "      <td>KRT5</td>\n",
              "      <td>0.750194</td>\n",
              "      <td>0.861538</td>\n",
              "      <td>0.264463</td>\n",
              "      <td>3.598166e-36</td>\n",
              "      <td>6.314782e-34</td>\n",
              "      <td>1.262956e-33</td>\n",
              "    </tr>\n",
              "    <tr>\n",
              "      <th>3</th>\n",
              "      <td>Basal</td>\n",
              "      <td>EYA2</td>\n",
              "      <td>1.436151</td>\n",
              "      <td>0.984615</td>\n",
              "      <td>0.669421</td>\n",
              "      <td>1.463281e-33</td>\n",
              "      <td>1.712039e-31</td>\n",
              "      <td>5.136117e-31</td>\n",
              "    </tr>\n",
              "    <tr>\n",
              "      <th>4</th>\n",
              "      <td>Basal</td>\n",
              "      <td>CYP24A1</td>\n",
              "      <td>0.678724</td>\n",
              "      <td>0.892308</td>\n",
              "      <td>0.320248</td>\n",
              "      <td>4.873706e-32</td>\n",
              "      <td>4.276677e-30</td>\n",
              "      <td>1.710671e-29</td>\n",
              "    </tr>\n",
              "    <tr>\n",
              "      <th>5</th>\n",
              "      <td>Basal</td>\n",
              "      <td>KRT17</td>\n",
              "      <td>1.943518</td>\n",
              "      <td>0.953846</td>\n",
              "      <td>0.526860</td>\n",
              "      <td>2.228007e-31</td>\n",
              "      <td>1.564061e-29</td>\n",
              "      <td>7.820306e-29</td>\n",
              "    </tr>\n",
              "  </tbody>\n",
              "</table>\n",
              "</div>\n",
              "      <button class=\"colab-df-convert\" onclick=\"convertToInteractive('df-e3b902e9-348a-47a6-9658-ff6e59e5bf69')\"\n",
              "              title=\"Convert this dataframe to an interactive table.\"\n",
              "              style=\"display:none;\">\n",
              "        \n",
              "  <svg xmlns=\"http://www.w3.org/2000/svg\" height=\"24px\"viewBox=\"0 0 24 24\"\n",
              "       width=\"24px\">\n",
              "    <path d=\"M0 0h24v24H0V0z\" fill=\"none\"/>\n",
              "    <path d=\"M18.56 5.44l.94 2.06.94-2.06 2.06-.94-2.06-.94-.94-2.06-.94 2.06-2.06.94zm-11 1L8.5 8.5l.94-2.06 2.06-.94-2.06-.94L8.5 2.5l-.94 2.06-2.06.94zm10 10l.94 2.06.94-2.06 2.06-.94-2.06-.94-.94-2.06-.94 2.06-2.06.94z\"/><path d=\"M17.41 7.96l-1.37-1.37c-.4-.4-.92-.59-1.43-.59-.52 0-1.04.2-1.43.59L10.3 9.45l-7.72 7.72c-.78.78-.78 2.05 0 2.83L4 21.41c.39.39.9.59 1.41.59.51 0 1.02-.2 1.41-.59l7.78-7.78 2.81-2.81c.8-.78.8-2.07 0-2.86zM5.41 20L4 18.59l7.72-7.72 1.47 1.35L5.41 20z\"/>\n",
              "  </svg>\n",
              "      </button>\n",
              "      \n",
              "  <style>\n",
              "    .colab-df-container {\n",
              "      display:flex;\n",
              "      flex-wrap:wrap;\n",
              "      gap: 12px;\n",
              "    }\n",
              "\n",
              "    .colab-df-convert {\n",
              "      background-color: #E8F0FE;\n",
              "      border: none;\n",
              "      border-radius: 50%;\n",
              "      cursor: pointer;\n",
              "      display: none;\n",
              "      fill: #1967D2;\n",
              "      height: 32px;\n",
              "      padding: 0 0 0 0;\n",
              "      width: 32px;\n",
              "    }\n",
              "\n",
              "    .colab-df-convert:hover {\n",
              "      background-color: #E2EBFA;\n",
              "      box-shadow: 0px 1px 2px rgba(60, 64, 67, 0.3), 0px 1px 3px 1px rgba(60, 64, 67, 0.15);\n",
              "      fill: #174EA6;\n",
              "    }\n",
              "\n",
              "    [theme=dark] .colab-df-convert {\n",
              "      background-color: #3B4455;\n",
              "      fill: #D2E3FC;\n",
              "    }\n",
              "\n",
              "    [theme=dark] .colab-df-convert:hover {\n",
              "      background-color: #434B5C;\n",
              "      box-shadow: 0px 1px 3px 1px rgba(0, 0, 0, 0.15);\n",
              "      filter: drop-shadow(0px 1px 2px rgba(0, 0, 0, 0.3));\n",
              "      fill: #FFFFFF;\n",
              "    }\n",
              "  </style>\n",
              "\n",
              "      <script>\n",
              "        const buttonEl =\n",
              "          document.querySelector('#df-e3b902e9-348a-47a6-9658-ff6e59e5bf69 button.colab-df-convert');\n",
              "        buttonEl.style.display =\n",
              "          google.colab.kernel.accessAllowed ? 'block' : 'none';\n",
              "\n",
              "        async function convertToInteractive(key) {\n",
              "          const element = document.querySelector('#df-e3b902e9-348a-47a6-9658-ff6e59e5bf69');\n",
              "          const dataTable =\n",
              "            await google.colab.kernel.invokeFunction('convertToInteractive',\n",
              "                                                     [key], {});\n",
              "          if (!dataTable) return;\n",
              "\n",
              "          const docLinkHtml = 'Like what you see? Visit the ' +\n",
              "            '<a target=\"_blank\" href=https://colab.research.google.com/notebooks/data_table.ipynb>data table notebook</a>'\n",
              "            + ' to learn more about interactive tables.';\n",
              "          element.innerHTML = '';\n",
              "          dataTable['output_type'] = 'display_data';\n",
              "          await google.colab.output.renderOutput(dataTable, element);\n",
              "          const docLink = document.createElement('div');\n",
              "          docLink.innerHTML = docLinkHtml;\n",
              "          element.appendChild(docLink);\n",
              "        }\n",
              "      </script>\n",
              "    </div>\n",
              "  </div>\n",
              "  "
            ]
          },
          "metadata": {},
          "execution_count": 17
        }
      ]
    },
    {
      "cell_type": "code",
      "metadata": {
        "id": "nyptDtEHM3_5"
      },
      "source": [
        "min_mean = 100\n",
        "max_pval = 1e-4\n",
        "min_lfc = 0.8\n",
        "max_gene_shares = 5\n",
        "max_per_celltype = 20\n",
        "\n",
        "# filter by criteria\n",
        "dfc = df.query(f\"wilcox_bonferroni <= {max_pval} & log1pc_FC >= {min_lfc}\")\n",
        "\n",
        "# mask out genes that are shared between max_gene_shares cell type\n",
        "non_repeat_genes = dfc[\"gene\"].value_counts()[dfc[\"gene\"].value_counts() < max_gene_shares].index.values\n",
        "\n",
        "m = dfc[dfc.gene.isin(non_repeat_genes)].sort_values('pct_inGroup', ascending = True)\n",
        "\n",
        "# max number to sample is equal to the min number of genes across all celltype\n",
        "n_sample = min(m[\"celltype\"].value_counts().min(), max_per_celltype)\n",
        "\n",
        "# sample n_sample genes\n",
        "markers = m.groupby('celltype').tail(14) # Got 14 markers manually because some celltypes had very few markers\n",
        "markers_dict = markers.groupby(\"celltype\")[\"gene\"].apply(lambda x: list(x)).to_dict()\n"
      ],
      "execution_count": 29,
      "outputs": []
    },
    {
      "cell_type": "code",
      "source": [
        "markers.value_counts()"
      ],
      "metadata": {
        "id": "56Sgn-X7yBTy",
        "outputId": "5c4e8f28-91ac-477f-cb31-8c6726f8d81c",
        "colab": {
          "base_uri": "https://localhost:8080/"
        }
      },
      "execution_count": 32,
      "outputs": [
        {
          "output_type": "execute_result",
          "data": {
            "text/plain": [
              "celltype     gene     log1pc_FC  pct_inGroup  pct_outGroup  wilcox_p      wilcox_fdr    wilcox_bonferroni\n",
              "AT1          APLP2    0.846304   1.000000     0.930818      2.115587e-27  2.087992e-26  1.440714e-24         1\n",
              "             B2M      1.110599   1.000000     0.987421      4.466875e-26  4.002555e-25  3.041942e-23         1\n",
              "T Cytotoxic  AOAH     0.930803   1.000000     0.714004      1.483928e-17  6.121202e-17  2.448481e-15         1\n",
              "T            RNF19A   0.933066   1.000000     0.928854      1.893792e-25  1.821647e-24  3.825459e-23         1\n",
              "             RBPJ     0.867936   0.974026     0.915020      3.850615e-22  2.222355e-21  7.778242e-20         1\n",
              "                                                                                                            ..\n",
              "ILC A        SRGN     0.859028   1.000000     0.984314      6.485437e-19  7.097950e-18  1.277631e-16         1\n",
              "             RIN3     0.971624   0.958904     0.866667      2.290200e-24  6.445277e-23  4.511694e-22         1\n",
              "             PARP8    0.860367   0.972603     0.937255      2.695339e-15  1.561711e-14  5.309817e-13         1\n",
              "             NFKB1    0.845538   0.945205     0.947059      1.789103e-16  1.258762e-15  3.524533e-14         1\n",
              "pDC          ZC3HAV1  1.431107   1.000000     0.954186      4.013609e-27  5.813259e-26  3.604221e-24         1\n",
              "Length: 512, dtype: int64"
            ]
          },
          "metadata": {},
          "execution_count": 32
        }
      ]
    },
    {
      "cell_type": "code",
      "metadata": {
        "id": "EWpunx0BP0b_"
      },
      "source": [
        "write_markers(\"markers.txt\", markers_dict, header)"
      ],
      "execution_count": 34,
      "outputs": []
    },
    {
      "cell_type": "code",
      "source": [
        "!cat markers.txt"
      ],
      "metadata": {
        "id": "GeEZG9n1ytw_",
        "outputId": "e0aa2f48-d9f8-4b52-bd35-c40fbb07e1aa",
        "colab": {
          "base_uri": "https://localhost:8080/"
        }
      },
      "execution_count": 35,
      "outputs": [
        {
          "output_type": "stream",
          "name": "stdout",
          "text": [
            "# homo_sapiens\tlung\tGRCh38-Ensemble91\thttps://doi.org/10.1126/sciadv.aba1983\thttps://www.science.org/doi/suppl/10.1126/sciadv.aba1983/suppl_file/aba1983_data_s2.txt\n",
            "# homo_sapiens\tlung\tGRCh38-Ensemble91\thttps://doi.org/10.1126/sciadv.aba1983\thttps://www.science.org/doi/suppl/10.1126/sciadv.aba1983/suppl_file/aba1983_data_s3.txt\n",
            "# homo_sapiens\tlung\tGRCh38-Ensemble91\thttps://doi.org/10.1126/sciadv.aba1983\thttps://www.science.org/doi/suppl/10.1126/sciadv.aba1983/suppl_file/aba1983_data_s4.txt\n",
            "# homo_sapiens\tlung\tGRCh38-Ensemble91\thttps://doi.org/10.1126/sciadv.aba1983\thttps://www.science.org/doi/suppl/10.1126/sciadv.aba1983/suppl_file/aba1983_data_s5.txt\n",
            "AT1\tGPRC5A,EMP2,S100A10,LIMCH1,SFTA2,LMO7,MYL6,SPTBN1,MAGI1,CCSER1,B2M,APLP2,S100A6,TMSB4X\n",
            "AT2\tABCA3,CMAHP,DLG2,ROS1,LRRK2,SNX25,ATP11A,TANC2,AKAP13,SFTPB,PTPRG,MACROD2,ANK3,PDE4D\n",
            "Aberrant Basaloid\tITGB6,ITGA2,PPP1CB,PTPRE,RAB11FIP1,LDLRAD4,MRTFA,PTPRK,ZBTB20,ITGAV,PON2,CCSER1,LINC00511,TMSB4X\n",
            "B\tTRIO,PRKCE,PRKCB,EBF1,MGAT5,ARHGAP24,ADAM28,HLA-DPA1,SSH2,ST6GAL1,ARID5B,SIPA1L1,PLCG2,EZR\n",
            "B Plasma\tHIPK2,NEAT1,PELI1,CYTOR,PTPN1,ST6GAL1,VOPP1,FNDC3B,GNG7,ELL2,ANKRD28,HERPUD1,CREB3L2,FBXW7\n",
            "Basal\tTIAM1,KRT15,S100A2,KRT17,MIR205HG,LINC00511,DGKH,EYA2,FAF1\n",
            "Ciliated\tFANK1,NEK10,RNLS,KIAA0825,AK9,DNAH11,MOK,DNAH7,BCAS3,TBC1D8,KIAA0556,DMD,AQP4-AS1,ANKUB1\n",
            "Club\tSCGB3A1,SCGB1A1,CYP2B7P,SCGB3A2,SFTPB\n",
            "DC Langerhans\tSLC38A1,ALCAM,C15orf48,CST3,HLA-DQA1,LST1,STK17B,HLA-DRA,HLA-DPB1,HLA-DPA1,CAMK1D,HLA-DQB1,ENTPD1,SLC8A1\n",
            "DC Mature\tCRYBG1,ALCAM,SRGAP2C,REL,GPR137B,NFKB1,RFTN1,MRTFA,JAK1,CD83,MED13L,ID2,VOPP1,PTPN1\n",
            "Fibroblast\tPTGIS,C3,EBF1,SAMD4A,CRISPLD2,PID1,ABI3BP,LAMA2,SLIT2,FGFR1,SDK1,C1S,UAP1,NEGR1\n",
            "Goblet\tCXCL1,CXCL17,LCN2,BPIFB1,SCGB1A1,PIGR,AGR2,SLC4A4,CXCL8,WFDC2,SCGB3A1,CYP2B7P,BMPR1B,SLPI\n",
            "ILC A\tTXK,NFKB1,RIN3,AOAH,CCL4,NCALD,KLRD1,MCTP2,IFITM2,PARP8,SRGN,SYTL3,FYN,CD247\n",
            "ILC B\tXCL2,KIT,XCL1,TNFRSF18,MAML3,IL7R,NFKB1,SSBP2,XYLT1,RUNX2,TNFAIP3,FXYD5,ID2,KLRB1\n",
            "Ionocyte\tTCF4,NCALD,ATP6V0B,MUC20-OT1,MGAT5,H3F3B,GPC6,TFCP2L1,CD9,ANK2,CLCNKB,CLNK,PDE1C,BCL2\n",
            "Lymphatic\tCD9,KALRN,S100A10,TFPI,TGFBR2,CCL21,PKHD1L1,STON2,MMRN1,STOX2,TFF3,ATP5F1E,AKAP12,TSHZ2\n",
            "Macrophage\tSLC16A10,FMN1,SNTB1,MRC1,CTSB,OLR1,MARCO,PSAP,CSTB,TFRC,FTL,APOC1,SLC11A1,CTSL\n",
            "Macrophage Alveolar\tATP10A,LSAMP,C1QB,SVIL,ABHD5,SNX10,LGALS3,ACP5,PPARG,FRMD4A,NUPR1,FABP4,SCD,CYP27A1\n",
            "Mast\tCD69,CPA3,SLC24A3,TNIK,PHF20,ELL2,CD44,DENND4A,MAPK1,NFKBIA,RGS1,TPSAB1,TPSB2,CPM\n",
            "Mesothelial\tCUX1,FOXO1,CACNB2,LSAMP,SOD2,GFPT2,C3,PLCB1,CLIC4,RBFOX1,MT2A,FKBP5,KLF6,NFKBIA\n",
            "Myofibroblast\tSERPING1,COL6A2,PRKG1,C1S,LSAMP,FBLN1,LAMB1,CFH,LUM,CRISPLD2,RORA,DCN,LAMA2,SAT1\n",
            "NK\tPTPN12,PITPNC1,IFITM2,CCL5,KLRB1,LITAF,PRKCH,CEMIP2,PIP4K2A,CMC1,MCTP2,TYROBP,PPP2R5C,ZBTB16\n",
            "PNEC\tNOL4,CHGA,RIMS2,PTPRN2,TULP4,ST18,CST3,NKAIN2,AGBL4,DLG2,MAML3,NRG1,ATP8A2,SDK1\n",
            "Pericytes\tNID1,COL4A1,MYL9,PDGFRB,AGAP1,INPP4B,EBF1,CRISPLD2,GPX3,LGALS1,COL4A2,PTEN,PRKG1,CALD1\n",
            "SMC\tDMD,FLNA,PPP1R14A,CALD1,PPP1CB,SPARCL1,ACTB,HSPB1,PRKG1,CACNA1C,LPP,DSTN,MYL9,TPM2\n",
            "T\tANK3,RBPJ,BCL11B,INPP4B,PBX4,CRYBG1,LINC00513,ITK,CAMK4,RNF19A,IL7R,FOXO1,ATXN1,CNOT6L\n",
            "T Cytotoxic\tCD3D,FYN,CCL4,KLRC4-KLRK1,CCL5,PARP8,AOAH,PITPNC1\n",
            "T Regulatory\tSNX9,IKZF2,BATF,LINC00513,TOX,FAM129A,TRAF3,ICOS,SKAP1,PTPRJ,PELI1,DUSP16,MIR4435-2HG,CASK\n",
            "VE Arterial\tVWF,ARGLU1,PTPRB,PTPRM,DKK2,ARL15,MAGI1,PECAM1,ARHGAP26,ID1,EPAS1,WWTR1,PTPRG,RALGAPA2\n",
            "VE Capillary A\tSTXBP6,CLDN5,RIN2,SASH1,GALNT18,HLA-E,ADGRL2,SPTBN1,HLA-C,B2M,S100A6,PRKCE,HLA-B,GNG11\n",
            "VE Capillary B\tPRKCH,PTPRM,BMPR2,PRKCE,RAPGEF4,PECAM1,HLA-A,TMSB10,HLA-B,B2M,EPAS1,TCF4,HLA-E,RALGAPA2\n",
            "VE Peribronchial\tPECAM1,PLEKHG1,ADAMTS9,SASH1,ABLIM1,PITPNC1,LDB2,VWF,PRKCH,RALGAPA2,SPARCL1,TCF4,MEF2C,EMP1\n",
            "VE Venous\tARHGAP26,LIFR,PTPRB,FNIP2,CRIM1,ABLIM1,ANO2,VWF,IL1R1,SLCO2A1,TMTC1,BMPR2,LRMDA,PTPRM\n",
            "cDC1\tETV6,RAB11FIP1,CCSER1,FNBP1,DST,HLA-DQB1,HLA-DPB1,SIPA1L3,SNX3,HLA-DQA1,HLA-DRA,CSF2RA,CD83,TXN\n",
            "cDC2\tAXL,CAMK1D,RALA,SLC8A1,GPR183,HLA-DQA1,HLA-DQB1,HLA-DRA,CSF2RA,HLA-DPA1,HLA-DPB1,SIPA1L1,RGS1,HLA-DRB5\n",
            "cMonocyte\tPLAUR,ARHGAP26,SRGN,ATP13A3,SLC2A3,ACSL1,SAT1,JARID2,GPCPD1,CEBPB,IRAK3,ZEB2,CTSS,SIPA1L1\n",
            "ncMonocyte\tAIF1,TBXAS1,PAG1,EXT1,LYN,MTSS1,RNF144B,UTRN,SAT1,C5AR1,RIN3,ZEB2,SMAP2,SAMSN1\n",
            "pDC\tCXCR4,NR3C1,LINC-PINT,TNRC6B,EZR,PDE4B,IKZF1,RAP1GAP2,RABGAP1L,RAPGEF2,ANKRD11,ZC3HAV1,HERPUD1,MOB1B\n"
          ]
        }
      ]
    },
    {
      "cell_type": "code",
      "source": [
        "markers.groupby(\"celltype\")[\"pct_inGroup\"].mean().sort_values()"
      ],
      "metadata": {
        "id": "x72u0phZywjC",
        "outputId": "12269ebf-e32e-4f79-a29e-ee2127650602",
        "colab": {
          "base_uri": "https://localhost:8080/"
        }
      },
      "execution_count": 39,
      "outputs": [
        {
          "output_type": "execute_result",
          "data": {
            "text/plain": [
              "celltype\n",
              "PNEC                   0.931548\n",
              "Pericytes              0.942857\n",
              "ILC B                  0.946154\n",
              "Basal                  0.957265\n",
              "Club                   0.970588\n",
              "ILC A                  0.970646\n",
              "Mast                   0.979437\n",
              "T Regulatory           0.983903\n",
              "AT2                    0.986486\n",
              "Goblet                 0.986813\n",
              "T                      0.988868\n",
              "Myofibroblast          0.990816\n",
              "SMC                    0.991228\n",
              "B Plasma               0.992647\n",
              "T Cytotoxic            0.993421\n",
              "VE Venous              0.993789\n",
              "VE Peribronchial       0.993842\n",
              "VE Capillary B         0.994505\n",
              "DC Langerhans          0.995714\n",
              "VE Capillary A         0.996032\n",
              "VE Arterial            0.997899\n",
              "ncMonocyte             0.998120\n",
              "Lymphatic              0.999022\n",
              "Fibroblast             0.999035\n",
              "cDC1                   1.000000\n",
              "cDC2                   1.000000\n",
              "cMonocyte              1.000000\n",
              "AT1                    1.000000\n",
              "Mesothelial            1.000000\n",
              "Macrophage Alveolar    1.000000\n",
              "Macrophage             1.000000\n",
              "Ionocyte               1.000000\n",
              "DC Mature              1.000000\n",
              "Ciliated               1.000000\n",
              "B                      1.000000\n",
              "Aberrant Basaloid      1.000000\n",
              "NK                     1.000000\n",
              "pDC                    1.000000\n",
              "Name: pct_inGroup, dtype: float64"
            ]
          },
          "metadata": {},
          "execution_count": 39
        }
      ]
    },
    {
      "cell_type": "code",
      "source": [],
      "metadata": {
        "id": "uNSgttdAy6Ft"
      },
      "execution_count": null,
      "outputs": []
    }
  ]
}