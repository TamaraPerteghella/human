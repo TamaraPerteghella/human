{
  "nbformat": 4,
  "nbformat_minor": 0,
  "metadata": {
    "colab": {
      "name": "adipose.ipynb",
      "provenance": [],
      "include_colab_link": true
    },
    "kernelspec": {
      "name": "python3",
      "display_name": "Python 3"
    },
    "language_info": {
      "name": "python"
    }
  },
  "cells": [
    {
      "cell_type": "markdown",
      "metadata": {
        "id": "view-in-github",
        "colab_type": "text"
      },
      "source": [
        "<a href=\"https://colab.research.google.com/github/cellatlas/human/blob/master/markers/adipose/markers.ipynb\" target=\"_parent\"><img src=\"https://colab.research.google.com/assets/colab-badge.svg\" alt=\"Open In Colab\"/></a>"
      ]
    },
    {
      "cell_type": "code",
      "source": [
        "!pip install -q gget\n",
        "!pip install -q git+https://github.com/sbooeshaghi/ec"
      ],
      "metadata": {
        "id": "SAmrSemSnGsL",
        "outputId": "b62e1e9b-00b5-477e-eabb-4b48a87e0628",
        "colab": {
          "base_uri": "https://localhost:8080/"
        }
      },
      "execution_count": 4,
      "outputs": [
        {
          "output_type": "stream",
          "name": "stdout",
          "text": [
            "\u001b[2K     \u001b[90m━━━━━━━━━━━━━━━━━━━━━━━━━━━━━━━━━━━━━━━━\u001b[0m \u001b[32m2.2/2.2 MB\u001b[0m \u001b[31m23.5 MB/s\u001b[0m eta \u001b[36m0:00:00\u001b[0m\n",
            "\u001b[2K     \u001b[90m━━━━━━━━━━━━━━━━━━━━━━━━━━━━━━━━━━━━━━━━\u001b[0m \u001b[32m25.2/25.2 MB\u001b[0m \u001b[31m53.0 MB/s\u001b[0m eta \u001b[36m0:00:00\u001b[0m\n",
            "\u001b[2K     \u001b[90m━━━━━━━━━━━━━━━━━━━━━━━━━━━━━━━━━━━━━━━━\u001b[0m \u001b[32m1.6/1.6 MB\u001b[0m \u001b[31m39.3 MB/s\u001b[0m eta \u001b[36m0:00:00\u001b[0m\n",
            "\u001b[?25h  Preparing metadata (setup.py) ... \u001b[?25l\u001b[?25hdone\n",
            "  Building wheel for ec (setup.py) ... \u001b[?25l\u001b[?25hdone\n"
          ]
        }
      ]
    },
    {
      "cell_type": "code",
      "metadata": {
        "id": "KQUMnXBEIwIZ"
      },
      "source": [
        "import pandas as pd\n",
        "import numpy as np\n",
        "from ec.utils import write_markers"
      ],
      "execution_count": 5,
      "outputs": []
    },
    {
      "cell_type": "code",
      "source": [
        "!wget -O genes.txt https://caltech.box.com/shared/static/4r5prhstoq2j1lk8l56bpwqqvfj54q2u.txt\n",
        "genes_list = pd.read_csv('genes.txt', header = None)[0].values"
      ],
      "metadata": {
        "id": "c5YBCEp3_DhX",
        "outputId": "fdb36e37-72c7-48b5-b406-81b9134cb575",
        "colab": {
          "base_uri": "https://localhost:8080/"
        }
      },
      "execution_count": 6,
      "outputs": [
        {
          "output_type": "stream",
          "name": "stdout",
          "text": [
            "--2023-03-18 04:32:39--  https://caltech.box.com/shared/static/4r5prhstoq2j1lk8l56bpwqqvfj54q2u.txt\n",
            "Resolving caltech.box.com (caltech.box.com)... 74.112.186.144\n",
            "Connecting to caltech.box.com (caltech.box.com)|74.112.186.144|:443... connected.\n",
            "HTTP request sent, awaiting response... 301 Moved Permanently\n",
            "Location: /public/static/4r5prhstoq2j1lk8l56bpwqqvfj54q2u.txt [following]\n",
            "--2023-03-18 04:32:39--  https://caltech.box.com/public/static/4r5prhstoq2j1lk8l56bpwqqvfj54q2u.txt\n",
            "Reusing existing connection to caltech.box.com:443.\n",
            "HTTP request sent, awaiting response... 301 Moved Permanently\n",
            "Location: https://caltech.app.box.com/public/static/4r5prhstoq2j1lk8l56bpwqqvfj54q2u.txt [following]\n",
            "--2023-03-18 04:32:39--  https://caltech.app.box.com/public/static/4r5prhstoq2j1lk8l56bpwqqvfj54q2u.txt\n",
            "Resolving caltech.app.box.com (caltech.app.box.com)... 74.112.186.144\n",
            "Connecting to caltech.app.box.com (caltech.app.box.com)|74.112.186.144|:443... connected.\n",
            "HTTP request sent, awaiting response... 302 Found\n",
            "Location: https://dl2.boxcloud.com/d/1/b1!1H1tKU7c_cZsrSxPNNswVLQWQVhVUuuWScS0tm_Y8qjPAUsXi-ZsCKWuOU68TUGbv443yrmQDuu2tc_bzWWar_3XgZ2cWU0xPpFWJJa8iAD1dEfwpF1XXyYl6oCmixcTAri7UJ6pz2w1MMvCb1KRvhSYx44x5_z4FTaawN_68OnCvdGVfRPq76AoSsMZ0KIwBhF8-4tIXV-ODgOoFujyhejKWN4GG2Y8ivqQMH9F30dhTWOVYN3FNjyP6UQlfxb6qy1wD_uqyEl513kfoPcZh2c5ku8pykzdqodJ48BFKoCaI-8ePOb50c-bS-fHSxT-eqIrhBcjU91sPtepcI5c6DslWNASEcf3jbNlqt0K18ANxxIbMKZ9C2uQy9kg3jeV5uPJFui8HxwLJl2Aln48eBOENc7yNw-WEaeAYHWPkZ2i8sM02qEhioRGUxfmQwcKHliSlZQxJpLHsaRnJoilVUH87X9yf7F2pOADCgirtxHc8BhCMeefHrfOQ648LEiZB6qPaAIjAtcRFEG7Xe_4hDTeKKSAanvvoBck3590ybwpbghOpKs04BeB0ppWygKiyNzu0KeM5gau32nKfU-7I8sruNYjqblN7fL_SB3YBVrORUY4ziU2rFGue7OP6VDnTdHu7ysyjU10dZMLW24qoPgYLJ0YXqY1LFqcTTCHt6zZMtnOnbCSdihfyy6NHn9EUM0v6I5BOGXhXYlGMh_5MN7X99aItVZAr6Mg9vm_r34Pqft-jR3SWIarG54WvYFdem-PRZXrhLcp4lw-Gme3lDYWQ68V4T7xhKvkT9WcxCi3x2RCgw6RD4N_kuBqNnO0QqTJwpJDRt2PIouQVgS9l9_fy4zTyovmp1OIqddQGq7aoy4xVmPQYzEcxsJFJZ3rXQ-ixZFC0pG2KiXJ3dQHEOtkCpzFWSSit2qGVGdlosWpBtVN45q2l0AQ8AzO1NXfXd1YiACYsBl3905p723zqimZbWSbNPTxGeearjdN5_XsTgVfrKY-qfFRVohqwESxbHgMrIx9K8EhKiORN15ewf-OVkh7ms1WkWciIr3MUWZKGv-DUI5MZVUk7g_JyxfTaff5wJMuzNQwyz5URJf4USbSH_GzIpF5qG6LpRG1UqaOiC1u_PjyOKrmHB33RSeDGRcjhisH57ACbblsGQPXhsaoYQkAyB2Kx08W8_8dmXVtYEyEqxZpjRwkZ3PXnGbO80ryuU06pDDjZs5JjghVk_aLFQGeFMCfdKiJfRv1Lp1P7jubtfVPqAlytnEnlfz0672RPd3MpfMwUhIl7_v9941iwTXH-w-nkifb_xLUOcX3BYhvDHG3QCHUSiFZQHPUTvkIaUxFZ3TidHwS5k8EZbEEms2cS9hM_-fZGI-M8qpBmxe_oktQSPx5PWwdX3PU/download [following]\n",
            "--2023-03-18 04:32:40--  https://dl2.boxcloud.com/d/1/b1!1H1tKU7c_cZsrSxPNNswVLQWQVhVUuuWScS0tm_Y8qjPAUsXi-ZsCKWuOU68TUGbv443yrmQDuu2tc_bzWWar_3XgZ2cWU0xPpFWJJa8iAD1dEfwpF1XXyYl6oCmixcTAri7UJ6pz2w1MMvCb1KRvhSYx44x5_z4FTaawN_68OnCvdGVfRPq76AoSsMZ0KIwBhF8-4tIXV-ODgOoFujyhejKWN4GG2Y8ivqQMH9F30dhTWOVYN3FNjyP6UQlfxb6qy1wD_uqyEl513kfoPcZh2c5ku8pykzdqodJ48BFKoCaI-8ePOb50c-bS-fHSxT-eqIrhBcjU91sPtepcI5c6DslWNASEcf3jbNlqt0K18ANxxIbMKZ9C2uQy9kg3jeV5uPJFui8HxwLJl2Aln48eBOENc7yNw-WEaeAYHWPkZ2i8sM02qEhioRGUxfmQwcKHliSlZQxJpLHsaRnJoilVUH87X9yf7F2pOADCgirtxHc8BhCMeefHrfOQ648LEiZB6qPaAIjAtcRFEG7Xe_4hDTeKKSAanvvoBck3590ybwpbghOpKs04BeB0ppWygKiyNzu0KeM5gau32nKfU-7I8sruNYjqblN7fL_SB3YBVrORUY4ziU2rFGue7OP6VDnTdHu7ysyjU10dZMLW24qoPgYLJ0YXqY1LFqcTTCHt6zZMtnOnbCSdihfyy6NHn9EUM0v6I5BOGXhXYlGMh_5MN7X99aItVZAr6Mg9vm_r34Pqft-jR3SWIarG54WvYFdem-PRZXrhLcp4lw-Gme3lDYWQ68V4T7xhKvkT9WcxCi3x2RCgw6RD4N_kuBqNnO0QqTJwpJDRt2PIouQVgS9l9_fy4zTyovmp1OIqddQGq7aoy4xVmPQYzEcxsJFJZ3rXQ-ixZFC0pG2KiXJ3dQHEOtkCpzFWSSit2qGVGdlosWpBtVN45q2l0AQ8AzO1NXfXd1YiACYsBl3905p723zqimZbWSbNPTxGeearjdN5_XsTgVfrKY-qfFRVohqwESxbHgMrIx9K8EhKiORN15ewf-OVkh7ms1WkWciIr3MUWZKGv-DUI5MZVUk7g_JyxfTaff5wJMuzNQwyz5URJf4USbSH_GzIpF5qG6LpRG1UqaOiC1u_PjyOKrmHB33RSeDGRcjhisH57ACbblsGQPXhsaoYQkAyB2Kx08W8_8dmXVtYEyEqxZpjRwkZ3PXnGbO80ryuU06pDDjZs5JjghVk_aLFQGeFMCfdKiJfRv1Lp1P7jubtfVPqAlytnEnlfz0672RPd3MpfMwUhIl7_v9941iwTXH-w-nkifb_xLUOcX3BYhvDHG3QCHUSiFZQHPUTvkIaUxFZ3TidHwS5k8EZbEEms2cS9hM_-fZGI-M8qpBmxe_oktQSPx5PWwdX3PU/download\n",
            "Resolving dl2.boxcloud.com (dl2.boxcloud.com)... 74.112.186.128\n",
            "Connecting to dl2.boxcloud.com (dl2.boxcloud.com)|74.112.186.128|:443... connected.\n",
            "HTTP request sent, awaiting response... 200 OK\n",
            "Length: 535253 (523K) [text/plain]\n",
            "Saving to: ‘genes.txt’\n",
            "\n",
            "genes.txt           100%[===================>] 522.71K  2.14MB/s    in 0.2s    \n",
            "\n",
            "2023-03-18 04:32:40 (2.14 MB/s) - ‘genes.txt’ saved [535253/535253]\n",
            "\n"
          ]
        }
      ]
    },
    {
      "cell_type": "markdown",
      "metadata": {
        "id": "1teufrMyJbx5"
      },
      "source": [
        "# Adipose"
      ]
    },
    {
      "cell_type": "code",
      "metadata": {
        "id": "dSrBA-IiJYZ-"
      },
      "source": [
        "species = \"homo_sapiens\"\n",
        "organ = \"adipose\"\n",
        "reference = \"GRCh38\"\n",
        "paper_doi = \"https://doi.org/10.1038/s41586-022-04518-2\"\n",
        "table_link = \"https://static-content.springer.com/esm/art%3A10.1038%2Fs41586-022-04518-2/MediaObjects/41586_2022_4518_MOESM4_ESM.xlsx\"\n",
        "\n",
        "# don't include in header\n",
        "table_name = \"41586_2022_4518_MOESM4_ESM.xlsx\"\n",
        "\n",
        "header = [\n",
        "    {\n",
        "      \"species\": species,\n",
        "      \"organ\": organ,\n",
        "      \"reference\": reference,\n",
        "      \"paper_doi\": paper_doi,\n",
        "      \"table_link\": table_link\n",
        "    }\n",
        "]"
      ],
      "execution_count": 7,
      "outputs": []
    },
    {
      "cell_type": "code",
      "metadata": {
        "id": "mFyjbuggJoZR"
      },
      "source": [
        "excel = pd.read_excel(table_link, skiprows = 1)\n",
        "\n",
        "df = excel.rename(columns={\"cluster\": \"celltype\"})"
      ],
      "execution_count": 8,
      "outputs": []
    },
    {
      "cell_type": "code",
      "source": [
        "bidx = df['gene'].isin(genes_list)\n",
        "print(f'Filtered {np.sum(~bidx)} out of {len(bidx)} genes')\n",
        "df = df[bidx]"
      ],
      "metadata": {
        "id": "mwASPlqynMg0",
        "outputId": "3860da77-89e3-45e7-f1a5-6f9ae8a73251",
        "colab": {
          "base_uri": "https://localhost:8080/"
        }
      },
      "execution_count": 9,
      "outputs": [
        {
          "output_type": "stream",
          "name": "stdout",
          "text": [
            "Filtered 372 out of 17361 genes\n"
          ]
        }
      ]
    },
    {
      "cell_type": "code",
      "source": [
        "df.head()"
      ],
      "metadata": {
        "id": "hM8MLxW7nMZk",
        "outputId": "44742c28-4ce3-4706-9305-e3d14981d907",
        "colab": {
          "base_uri": "https://localhost:8080/",
          "height": 206
        }
      },
      "execution_count": 10,
      "outputs": [
        {
          "output_type": "execute_result",
          "data": {
            "text/plain": [
              "  Unnamed: 0  p_val  avg_log2FC  pct.1  pct.2  p_val_adj celltype    gene\n",
              "0     CXCL14    0.0    3.699825  0.426  0.082        0.0     ASPC  CXCL14\n",
              "1      NEGR1    0.0    3.668332  0.867  0.247        0.0     ASPC   NEGR1\n",
              "2        DCN    0.0    3.565394  0.960  0.506        0.0     ASPC     DCN\n",
              "3      LAMA2    0.0    3.417902  0.829  0.266        0.0     ASPC   LAMA2\n",
              "4       APOD    0.0    3.383653  0.493  0.120        0.0     ASPC    APOD"
            ],
            "text/html": [
              "\n",
              "  <div id=\"df-9fdb9d98-005d-4d65-b4a5-487f2b72ff75\">\n",
              "    <div class=\"colab-df-container\">\n",
              "      <div>\n",
              "<style scoped>\n",
              "    .dataframe tbody tr th:only-of-type {\n",
              "        vertical-align: middle;\n",
              "    }\n",
              "\n",
              "    .dataframe tbody tr th {\n",
              "        vertical-align: top;\n",
              "    }\n",
              "\n",
              "    .dataframe thead th {\n",
              "        text-align: right;\n",
              "    }\n",
              "</style>\n",
              "<table border=\"1\" class=\"dataframe\">\n",
              "  <thead>\n",
              "    <tr style=\"text-align: right;\">\n",
              "      <th></th>\n",
              "      <th>Unnamed: 0</th>\n",
              "      <th>p_val</th>\n",
              "      <th>avg_log2FC</th>\n",
              "      <th>pct.1</th>\n",
              "      <th>pct.2</th>\n",
              "      <th>p_val_adj</th>\n",
              "      <th>celltype</th>\n",
              "      <th>gene</th>\n",
              "    </tr>\n",
              "  </thead>\n",
              "  <tbody>\n",
              "    <tr>\n",
              "      <th>0</th>\n",
              "      <td>CXCL14</td>\n",
              "      <td>0.0</td>\n",
              "      <td>3.699825</td>\n",
              "      <td>0.426</td>\n",
              "      <td>0.082</td>\n",
              "      <td>0.0</td>\n",
              "      <td>ASPC</td>\n",
              "      <td>CXCL14</td>\n",
              "    </tr>\n",
              "    <tr>\n",
              "      <th>1</th>\n",
              "      <td>NEGR1</td>\n",
              "      <td>0.0</td>\n",
              "      <td>3.668332</td>\n",
              "      <td>0.867</td>\n",
              "      <td>0.247</td>\n",
              "      <td>0.0</td>\n",
              "      <td>ASPC</td>\n",
              "      <td>NEGR1</td>\n",
              "    </tr>\n",
              "    <tr>\n",
              "      <th>2</th>\n",
              "      <td>DCN</td>\n",
              "      <td>0.0</td>\n",
              "      <td>3.565394</td>\n",
              "      <td>0.960</td>\n",
              "      <td>0.506</td>\n",
              "      <td>0.0</td>\n",
              "      <td>ASPC</td>\n",
              "      <td>DCN</td>\n",
              "    </tr>\n",
              "    <tr>\n",
              "      <th>3</th>\n",
              "      <td>LAMA2</td>\n",
              "      <td>0.0</td>\n",
              "      <td>3.417902</td>\n",
              "      <td>0.829</td>\n",
              "      <td>0.266</td>\n",
              "      <td>0.0</td>\n",
              "      <td>ASPC</td>\n",
              "      <td>LAMA2</td>\n",
              "    </tr>\n",
              "    <tr>\n",
              "      <th>4</th>\n",
              "      <td>APOD</td>\n",
              "      <td>0.0</td>\n",
              "      <td>3.383653</td>\n",
              "      <td>0.493</td>\n",
              "      <td>0.120</td>\n",
              "      <td>0.0</td>\n",
              "      <td>ASPC</td>\n",
              "      <td>APOD</td>\n",
              "    </tr>\n",
              "  </tbody>\n",
              "</table>\n",
              "</div>\n",
              "      <button class=\"colab-df-convert\" onclick=\"convertToInteractive('df-9fdb9d98-005d-4d65-b4a5-487f2b72ff75')\"\n",
              "              title=\"Convert this dataframe to an interactive table.\"\n",
              "              style=\"display:none;\">\n",
              "        \n",
              "  <svg xmlns=\"http://www.w3.org/2000/svg\" height=\"24px\"viewBox=\"0 0 24 24\"\n",
              "       width=\"24px\">\n",
              "    <path d=\"M0 0h24v24H0V0z\" fill=\"none\"/>\n",
              "    <path d=\"M18.56 5.44l.94 2.06.94-2.06 2.06-.94-2.06-.94-.94-2.06-.94 2.06-2.06.94zm-11 1L8.5 8.5l.94-2.06 2.06-.94-2.06-.94L8.5 2.5l-.94 2.06-2.06.94zm10 10l.94 2.06.94-2.06 2.06-.94-2.06-.94-.94-2.06-.94 2.06-2.06.94z\"/><path d=\"M17.41 7.96l-1.37-1.37c-.4-.4-.92-.59-1.43-.59-.52 0-1.04.2-1.43.59L10.3 9.45l-7.72 7.72c-.78.78-.78 2.05 0 2.83L4 21.41c.39.39.9.59 1.41.59.51 0 1.02-.2 1.41-.59l7.78-7.78 2.81-2.81c.8-.78.8-2.07 0-2.86zM5.41 20L4 18.59l7.72-7.72 1.47 1.35L5.41 20z\"/>\n",
              "  </svg>\n",
              "      </button>\n",
              "      \n",
              "  <style>\n",
              "    .colab-df-container {\n",
              "      display:flex;\n",
              "      flex-wrap:wrap;\n",
              "      gap: 12px;\n",
              "    }\n",
              "\n",
              "    .colab-df-convert {\n",
              "      background-color: #E8F0FE;\n",
              "      border: none;\n",
              "      border-radius: 50%;\n",
              "      cursor: pointer;\n",
              "      display: none;\n",
              "      fill: #1967D2;\n",
              "      height: 32px;\n",
              "      padding: 0 0 0 0;\n",
              "      width: 32px;\n",
              "    }\n",
              "\n",
              "    .colab-df-convert:hover {\n",
              "      background-color: #E2EBFA;\n",
              "      box-shadow: 0px 1px 2px rgba(60, 64, 67, 0.3), 0px 1px 3px 1px rgba(60, 64, 67, 0.15);\n",
              "      fill: #174EA6;\n",
              "    }\n",
              "\n",
              "    [theme=dark] .colab-df-convert {\n",
              "      background-color: #3B4455;\n",
              "      fill: #D2E3FC;\n",
              "    }\n",
              "\n",
              "    [theme=dark] .colab-df-convert:hover {\n",
              "      background-color: #434B5C;\n",
              "      box-shadow: 0px 1px 3px 1px rgba(0, 0, 0, 0.15);\n",
              "      filter: drop-shadow(0px 1px 2px rgba(0, 0, 0, 0.3));\n",
              "      fill: #FFFFFF;\n",
              "    }\n",
              "  </style>\n",
              "\n",
              "      <script>\n",
              "        const buttonEl =\n",
              "          document.querySelector('#df-9fdb9d98-005d-4d65-b4a5-487f2b72ff75 button.colab-df-convert');\n",
              "        buttonEl.style.display =\n",
              "          google.colab.kernel.accessAllowed ? 'block' : 'none';\n",
              "\n",
              "        async function convertToInteractive(key) {\n",
              "          const element = document.querySelector('#df-9fdb9d98-005d-4d65-b4a5-487f2b72ff75');\n",
              "          const dataTable =\n",
              "            await google.colab.kernel.invokeFunction('convertToInteractive',\n",
              "                                                     [key], {});\n",
              "          if (!dataTable) return;\n",
              "\n",
              "          const docLinkHtml = 'Like what you see? Visit the ' +\n",
              "            '<a target=\"_blank\" href=https://colab.research.google.com/notebooks/data_table.ipynb>data table notebook</a>'\n",
              "            + ' to learn more about interactive tables.';\n",
              "          element.innerHTML = '';\n",
              "          dataTable['output_type'] = 'display_data';\n",
              "          await google.colab.output.renderOutput(dataTable, element);\n",
              "          const docLink = document.createElement('div');\n",
              "          docLink.innerHTML = docLinkHtml;\n",
              "          element.appendChild(docLink);\n",
              "        }\n",
              "      </script>\n",
              "    </div>\n",
              "  </div>\n",
              "  "
            ]
          },
          "metadata": {},
          "execution_count": 10
        }
      ]
    },
    {
      "cell_type": "code",
      "metadata": {
        "id": "IpLjvZJFJ10m"
      },
      "source": [
        "min_mean = 100\n",
        "max_pval = 1e-10\n",
        "min_lfc = 2.2\n",
        "max_gene_shares = 2\n",
        "max_per_celltype = 20\n",
        "\n",
        "# filter by criteria\n",
        "dfc = df.query(f\"p_val_adj <= {max_pval} & avg_log2FC >= {min_lfc}\")\n",
        "\n",
        "# mask out genes that are shared between max_gene_shares cell type\n",
        "non_repeat_genes = dfc[\"gene\"].value_counts()[dfc[\"gene\"].value_counts() < max_gene_shares].index.values\n",
        "\n",
        "m = dfc[dfc.gene.isin(non_repeat_genes)].sort_values('pct.1', ascending = True)\n",
        "\n",
        "# max number to sample is equal to the min number of genes across all celltype\n",
        "n_sample = min(m[\"celltype\"].value_counts().min(), max_per_celltype)\n",
        "\n",
        "# sample n_sample genes\n",
        "markers = m.groupby('celltype').tail(n_sample)\n",
        "markers_dict = markers.groupby(\"celltype\")[\"gene\"].apply(lambda x: list(x)).to_dict()"
      ],
      "execution_count": 11,
      "outputs": []
    },
    {
      "cell_type": "code",
      "source": [
        "markers.celltype.value_counts()"
      ],
      "metadata": {
        "colab": {
          "base_uri": "https://localhost:8080/"
        },
        "id": "TcDD0rUww0jA",
        "outputId": "92355669-defb-4057-fbb2-7b40e5e029c9"
      },
      "execution_count": 12,
      "outputs": [
        {
          "output_type": "execute_result",
          "data": {
            "text/plain": [
              "monocyte          12\n",
              "nk_cell           12\n",
              "t_cell            12\n",
              "pericyte          12\n",
              "neutrophil        12\n",
              "b_cell            12\n",
              "SMC               12\n",
              "endometrium       12\n",
              "dendritic_cell    12\n",
              "endothelial       12\n",
              "LEC               12\n",
              "mast_cell         12\n",
              "ASPC              12\n",
              "macrophage        12\n",
              "mesothelium       12\n",
              "adipocyte         12\n",
              "Name: celltype, dtype: int64"
            ]
          },
          "metadata": {},
          "execution_count": 12
        }
      ]
    },
    {
      "cell_type": "code",
      "metadata": {
        "id": "SO1p80avKyL4"
      },
      "source": [
        "write_markers(\"markers.txt\", markers_dict, header)"
      ],
      "execution_count": 13,
      "outputs": []
    },
    {
      "cell_type": "code",
      "source": [
        "markers.groupby(\"celltype\")[\"pct.1\"].mean().sort_values()"
      ],
      "metadata": {
        "colab": {
          "base_uri": "https://localhost:8080/"
        },
        "id": "-MgJcN3xSnpF",
        "outputId": "5d767f45-1ec9-494f-a9fc-ed240e37b9e6"
      },
      "execution_count": 14,
      "outputs": [
        {
          "output_type": "execute_result",
          "data": {
            "text/plain": [
              "celltype\n",
              "t_cell            0.558500\n",
              "monocyte          0.560417\n",
              "nk_cell           0.567917\n",
              "neutrophil        0.674000\n",
              "pericyte          0.690917\n",
              "b_cell            0.704250\n",
              "SMC               0.711417\n",
              "endometrium       0.745417\n",
              "LEC               0.792833\n",
              "dendritic_cell    0.794667\n",
              "endothelial       0.795250\n",
              "mast_cell         0.807750\n",
              "macrophage        0.811833\n",
              "ASPC              0.825917\n",
              "mesothelium       0.857417\n",
              "adipocyte         0.949667\n",
              "Name: pct.1, dtype: float64"
            ]
          },
          "metadata": {},
          "execution_count": 14
        }
      ]
    },
    {
      "cell_type": "code",
      "source": [
        "!cat markers.txt"
      ],
      "metadata": {
        "id": "HWS_7uMjw_gN",
        "colab": {
          "base_uri": "https://localhost:8080/"
        },
        "outputId": "f5142680-f66a-4005-88e3-fc8398b929c5"
      },
      "execution_count": 15,
      "outputs": [
        {
          "output_type": "stream",
          "name": "stdout",
          "text": [
            "# homo_sapiens\tadipose\tGRCh38\thttps://doi.org/10.1038/s41586-022-04518-2\thttps://static-content.springer.com/esm/art%3A10.1038%2Fs41586-022-04518-2/MediaObjects/41586_2022_4518_MOESM4_ESM.xlsx\n",
            "ASPC\tNOVA1,COL6A3,FBN1,DCLK1,COL3A1,LAMA2,CCDC80,NEGR1,GSN,COL1A2,CFD,DCN\n",
            "LEC\tPGM5,RHOJ,PDE1A,MPP7,SNTG2,AC007319.1,MMRN1,STOX2,KALRN,PTPRE,TFPI,PPFIBP1\n",
            "SMC\tLMOD1,CTNNA3,ADGRL3,RYR2,ACTA2,MYH11,FRY,SYNPO2,SORBS2,PDE3A,RCAN2,PRKG1\n",
            "adipocyte\tTRHDE-AS1,TRHDE,WDPCP,GPAM,SIK2,DMD,PPARG,PLIN1,SORBS1,PDE3B,GHR,ACACB\n",
            "b_cell\tIKZF3,FCRL1,BCL11A,OSBPL10,SEL1L3,SIPA1L3,STRBP,BACH2,BANK1,RALGPS2,FCHSD2,AFF3\n",
            "dendritic_cell\tPTMA,CPVL,TMSB10,HLA-DQB1,PABPC1,HLA-DQA1,HLA-DPA1,CST3,HLA-DPB1,HLA-DRB1,HLA-DRA,CD74\n",
            "endometrium\tSYT1,LRFN5,CNTN4,DPP6,PGR,KCNIP4,ADAMTS19,JAZF1,SDK1,MITF,PALLD,ESR1\n",
            "endothelial\tEMCN,VWF,ARL15,PTPRB,MCTP1,PECAM1,RALGAPA2,SPARCL1,MAGI1,MECOM,LDB2,PTPRM\n",
            "macrophage\tLGMN,WWP1,HDAC9,MRC1,PDE4D,IQGAP2,MTSS1,MYO5A,RBM47,SLC9A9,RBPJ,FRMD4B\n",
            "mast_cell\tSTX3,HPGD,IL18R1,STXBP5,TNIK,KIT,CPA3,AGAP1,SMYD3,BMP2K,SLC24A3,NTM\n",
            "mesothelium\tLSAMP,CDON,FAM155A,THSD4,LINC02360,ERBB4,AC005699.1,SOX6,SULF1,AP000561.1,PLCB1,PKHD1L1\n",
            "monocyte\tS100A9,RILPL2,ADGRE2,LST1,SAMSN1,POU2F2,COTL1,KYNU,FCN1,VCAN,SIPA1L1,CTSS\n",
            "neutrophil\tFAM49B,PREX1,GAB2,USP15,RNF149,CHST11,SORL1,VMP1,SMCHD1,SSH2,CSF3R,ARHGAP26\n",
            "nk_cell\tGZMA,KLRF1,TOX,CARD11,MYBL1,ITGAL,NKG7,TXK,PYHIN1,KLRD1,GNLY,PRKCH\n",
            "pericyte\tRGS5,GUCY1A2,POSTN,FRMD3,LINC02237,STEAP4,THSD7B,MYO1B,PDGFRB,EBF2,EPS8,DLC1\n",
            "t_cell\tANK3,ITGA4,ITK,CAMK4,IL7R,BCL11B,TC2N,THEMIS,CD96,ETS1,IKZF1,PARP8\n"
          ]
        }
      ]
    },
    {
      "cell_type": "code",
      "source": [
        "# Download table to have a local copy\n",
        "!wget $table_link -O deg.xlsx"
      ],
      "metadata": {
        "id": "4iY23Kc0Sc6a",
        "outputId": "7c99cbed-992b-45f0-fd2f-c41e7ef6857f",
        "colab": {
          "base_uri": "https://localhost:8080/"
        }
      },
      "execution_count": 16,
      "outputs": [
        {
          "output_type": "stream",
          "name": "stdout",
          "text": [
            "--2023-03-18 04:33:06--  https://static-content.springer.com/esm/art%3A10.1038%2Fs41586-022-04518-2/MediaObjects/41586_2022_4518_MOESM4_ESM.xlsx\n",
            "Resolving static-content.springer.com (static-content.springer.com)... 151.101.0.95, 151.101.64.95, 151.101.128.95, ...\n",
            "Connecting to static-content.springer.com (static-content.springer.com)|151.101.0.95|:443... connected.\n",
            "HTTP request sent, awaiting response... 200 OK\n",
            "Length: 3916089 (3.7M) [application/octet-stream]\n",
            "Saving to: ‘deg.xlsx’\n",
            "\n",
            "deg.xlsx            100%[===================>]   3.73M  --.-KB/s    in 0.08s   \n",
            "\n",
            "2023-03-18 04:33:06 (46.0 MB/s) - ‘deg.xlsx’ saved [3916089/3916089]\n",
            "\n"
          ]
        }
      ]
    },
    {
      "cell_type": "code",
      "source": [],
      "metadata": {
        "id": "gfn5wcCAo1aI"
      },
      "execution_count": 16,
      "outputs": []
    }
  ]
}