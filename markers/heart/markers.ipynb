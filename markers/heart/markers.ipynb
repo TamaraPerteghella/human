{
  "nbformat": 4,
  "nbformat_minor": 0,
  "metadata": {
    "colab": {
      "provenance": [],
      "include_colab_link": true
    },
    "kernelspec": {
      "name": "python3",
      "display_name": "Python 3"
    },
    "language_info": {
      "name": "python"
    }
  },
  "cells": [
    {
      "cell_type": "markdown",
      "metadata": {
        "id": "view-in-github",
        "colab_type": "text"
      },
      "source": [
        "<a href=\"https://colab.research.google.com/github/cellatlas/human/blob/master/markers/heart/markers.ipynb\" target=\"_parent\"><img src=\"https://colab.research.google.com/assets/colab-badge.svg\" alt=\"Open In Colab\"/></a>"
      ]
    },
    {
      "cell_type": "code",
      "source": [
        "!pip install -q gget\n",
        "!pip install -q git+https://github.com/sbooeshaghi/ec"
      ],
      "metadata": {
        "id": "FMe6HL46bBTv",
        "outputId": "6056aff2-f0ce-4b02-a21f-cd851ab8971a",
        "colab": {
          "base_uri": "https://localhost:8080/"
        }
      },
      "execution_count": 1,
      "outputs": [
        {
          "output_type": "stream",
          "name": "stdout",
          "text": [
            "\u001b[2K     \u001b[90m━━━━━━━━━━━━━━━━━━━━━━━━━━━━━━━━━━━━━━━━\u001b[0m \u001b[32m2.2/2.2 MB\u001b[0m \u001b[31m15.3 MB/s\u001b[0m eta \u001b[36m0:00:00\u001b[0m\n",
            "\u001b[2K     \u001b[90m━━━━━━━━━━━━━━━━━━━━━━━━━━━━━━━━━━━━━━━━\u001b[0m \u001b[32m25.2/25.2 MB\u001b[0m \u001b[31m19.0 MB/s\u001b[0m eta \u001b[36m0:00:00\u001b[0m\n",
            "\u001b[2K     \u001b[90m━━━━━━━━━━━━━━━━━━━━━━━━━━━━━━━━━━━━━━━━\u001b[0m \u001b[32m1.6/1.6 MB\u001b[0m \u001b[31m34.5 MB/s\u001b[0m eta \u001b[36m0:00:00\u001b[0m\n",
            "\u001b[?25h  Preparing metadata (setup.py) ... \u001b[?25l\u001b[?25hdone\n",
            "  Building wheel for ec (setup.py) ... \u001b[?25l\u001b[?25hdone\n"
          ]
        }
      ]
    },
    {
      "cell_type": "code",
      "metadata": {
        "id": "I7JCzC_N42Ko"
      },
      "source": [
        "import pandas as pd\n",
        "import numpy as np\n",
        "from ec.utils import write_markers"
      ],
      "execution_count": 2,
      "outputs": []
    },
    {
      "cell_type": "code",
      "metadata": {
        "id": "LnOEINKfI9k1",
        "outputId": "4205e33d-d866-4884-977f-532ff78c67f8",
        "colab": {
          "base_uri": "https://localhost:8080/"
        }
      },
      "source": [
        "# Get valid gene names\n",
        "!wget -O genes.txt https://caltech.box.com/shared/static/4r5prhstoq2j1lk8l56bpwqqvfj54q2u.txt\n",
        "genes_list = pd.read_csv('genes.txt', header = None)[0].values"
      ],
      "execution_count": 3,
      "outputs": [
        {
          "output_type": "stream",
          "name": "stdout",
          "text": [
            "--2023-03-18 04:41:40--  https://caltech.box.com/shared/static/4r5prhstoq2j1lk8l56bpwqqvfj54q2u.txt\n",
            "Resolving caltech.box.com (caltech.box.com)... 74.112.186.144\n",
            "Connecting to caltech.box.com (caltech.box.com)|74.112.186.144|:443... connected.\n",
            "HTTP request sent, awaiting response... 301 Moved Permanently\n",
            "Location: /public/static/4r5prhstoq2j1lk8l56bpwqqvfj54q2u.txt [following]\n",
            "--2023-03-18 04:41:40--  https://caltech.box.com/public/static/4r5prhstoq2j1lk8l56bpwqqvfj54q2u.txt\n",
            "Reusing existing connection to caltech.box.com:443.\n",
            "HTTP request sent, awaiting response... 301 Moved Permanently\n",
            "Location: https://caltech.app.box.com/public/static/4r5prhstoq2j1lk8l56bpwqqvfj54q2u.txt [following]\n",
            "--2023-03-18 04:41:40--  https://caltech.app.box.com/public/static/4r5prhstoq2j1lk8l56bpwqqvfj54q2u.txt\n",
            "Resolving caltech.app.box.com (caltech.app.box.com)... 74.112.186.144\n",
            "Connecting to caltech.app.box.com (caltech.app.box.com)|74.112.186.144|:443... connected.\n",
            "HTTP request sent, awaiting response... 302 Found\n",
            "Location: https://dl2.boxcloud.com/d/1/b1!nozigmnXFVnvFJKtdMm1gms4Bw-c2HISsgHYhp8HK0s6BYr53DC1XIVCADzzNVKDEyz6Ul8I8dRQjwnO_R-xD5RFTTPr9fvksmukAk9a4eOh93vuRC0i1XahMXxAGtrJSPeIi3NFi1aNWRaQ8P5EFlOb7cqvzecqkRv-1AqGtgxtqFrdZ8cNAvCZ4bUB-0NifBhH9C1n-4D17S5ZkEiYs8Lhm0AFoPnuMQ6yhDfAOUyOEHyLmxKCJsxkpfEmo__36AfQtqTQZ5BkD6CBxcXwt37qSiji4GAg6NvtyfHAspi6cjxDYYr3c1p2oX0hkrv3XABal8bCH_D6q6hD9GN2C6DYHY_DyAXbAbr60uX7D9c2CiWC0L1LczPCgsgROFAKotoVPw2BM07thD-CUSqeFChWug9nGBgHCUhVeeKFKw55MkRKcb0ojrM6jvxngFSD39raSB54rkCS4rdL0Ir_KR0wVfd0AZpuDw7UpH6d7FVCGuyw0xyjbdWzxhM6HaZ4Def7idBSXz-QH_X-0j0ObwvGgrQo9Wq4_4DKTHhe1kZ_X8YQ1QBiDLV-4wKObmwsjmfxZ0izl1WbMUQyiCRUbISYab8sGaG52EfnGaojK9f0mIPKjN5YU4E7LMl4uwRgaf4vrzw702YVgaFMmrWcDq6yDdYqvaJRSfuQ-SoWTBtvC1RXT4iq09UkguzQIYcQq40nayOh0fR8Cn86VVLRSyOv4-wUjXbNTYPamw9G3I_HxTevI_NbRC98T5uBExoYjse6XzMHFUGvhXksSnJnZKUSEj2rH73_uDdy6si7oGSwq0NElDX7kCJefQEE16FBAlumlRhiJwmHK47l1XsYDrgxpfRX0tbxVnsnJL7ZvOcvNy634GUIPGrBQzwZLNQyZFIR6o4_oPDDtbm1rZte7AixrnM9elIGUegbPHvBd8nJA_WQwkypF5Fv1oqvIn15qvntsyCiRclvt78IaMXuQudTCjrZyIJhi__NC8lNPS-ndIuH4KG2SqRM2QieDvTfwlqXCfG2jcWY-DKfEBknRCQhAkGiJ30VNNPB1mJ_f6wslpjV8-At3gb5AjxtmDyKnxTgAkjF3xBGeHAorAgzlzwivrSYuRrSCzsNKOTE7Ly6yqmofq1AroMr112xTI6fX6taujLsIhd7rqVK2FSlfRiX1gnMpr6GlGS6pxpZrLwSdsxnVChSrpH4NxZJR3NYhkdDuZruAs_M5sHbEizjTqhYSP9Hv87tEZ1BbBCqUoHRWsdQz8K6SPnlYZWTfrzVYvH9N_6DjSC-SjTP1rhQzj-9xFJm4kwjSqFTk1NYdUl2FRNdnpfWZm_7Ax8H2pgBt46uP4Ezb4muTxWXXqekJd_zRe-nMVW5snCyLga3/download [following]\n",
            "--2023-03-18 04:41:41--  https://dl2.boxcloud.com/d/1/b1!nozigmnXFVnvFJKtdMm1gms4Bw-c2HISsgHYhp8HK0s6BYr53DC1XIVCADzzNVKDEyz6Ul8I8dRQjwnO_R-xD5RFTTPr9fvksmukAk9a4eOh93vuRC0i1XahMXxAGtrJSPeIi3NFi1aNWRaQ8P5EFlOb7cqvzecqkRv-1AqGtgxtqFrdZ8cNAvCZ4bUB-0NifBhH9C1n-4D17S5ZkEiYs8Lhm0AFoPnuMQ6yhDfAOUyOEHyLmxKCJsxkpfEmo__36AfQtqTQZ5BkD6CBxcXwt37qSiji4GAg6NvtyfHAspi6cjxDYYr3c1p2oX0hkrv3XABal8bCH_D6q6hD9GN2C6DYHY_DyAXbAbr60uX7D9c2CiWC0L1LczPCgsgROFAKotoVPw2BM07thD-CUSqeFChWug9nGBgHCUhVeeKFKw55MkRKcb0ojrM6jvxngFSD39raSB54rkCS4rdL0Ir_KR0wVfd0AZpuDw7UpH6d7FVCGuyw0xyjbdWzxhM6HaZ4Def7idBSXz-QH_X-0j0ObwvGgrQo9Wq4_4DKTHhe1kZ_X8YQ1QBiDLV-4wKObmwsjmfxZ0izl1WbMUQyiCRUbISYab8sGaG52EfnGaojK9f0mIPKjN5YU4E7LMl4uwRgaf4vrzw702YVgaFMmrWcDq6yDdYqvaJRSfuQ-SoWTBtvC1RXT4iq09UkguzQIYcQq40nayOh0fR8Cn86VVLRSyOv4-wUjXbNTYPamw9G3I_HxTevI_NbRC98T5uBExoYjse6XzMHFUGvhXksSnJnZKUSEj2rH73_uDdy6si7oGSwq0NElDX7kCJefQEE16FBAlumlRhiJwmHK47l1XsYDrgxpfRX0tbxVnsnJL7ZvOcvNy634GUIPGrBQzwZLNQyZFIR6o4_oPDDtbm1rZte7AixrnM9elIGUegbPHvBd8nJA_WQwkypF5Fv1oqvIn15qvntsyCiRclvt78IaMXuQudTCjrZyIJhi__NC8lNPS-ndIuH4KG2SqRM2QieDvTfwlqXCfG2jcWY-DKfEBknRCQhAkGiJ30VNNPB1mJ_f6wslpjV8-At3gb5AjxtmDyKnxTgAkjF3xBGeHAorAgzlzwivrSYuRrSCzsNKOTE7Ly6yqmofq1AroMr112xTI6fX6taujLsIhd7rqVK2FSlfRiX1gnMpr6GlGS6pxpZrLwSdsxnVChSrpH4NxZJR3NYhkdDuZruAs_M5sHbEizjTqhYSP9Hv87tEZ1BbBCqUoHRWsdQz8K6SPnlYZWTfrzVYvH9N_6DjSC-SjTP1rhQzj-9xFJm4kwjSqFTk1NYdUl2FRNdnpfWZm_7Ax8H2pgBt46uP4Ezb4muTxWXXqekJd_zRe-nMVW5snCyLga3/download\n",
            "Resolving dl2.boxcloud.com (dl2.boxcloud.com)... 74.112.186.128\n",
            "Connecting to dl2.boxcloud.com (dl2.boxcloud.com)|74.112.186.128|:443... connected.\n",
            "HTTP request sent, awaiting response... 200 OK\n",
            "Length: 535253 (523K) [text/plain]\n",
            "Saving to: ‘genes.txt’\n",
            "\n",
            "genes.txt           100%[===================>] 522.71K  1.65MB/s    in 0.3s    \n",
            "\n",
            "2023-03-18 04:41:41 (1.65 MB/s) - ‘genes.txt’ saved [535253/535253]\n",
            "\n"
          ]
        }
      ]
    },
    {
      "cell_type": "markdown",
      "metadata": {
        "id": "1teufrMyJbx5"
      },
      "source": [
        "# Heart"
      ]
    },
    {
      "cell_type": "code",
      "metadata": {
        "id": "dSrBA-IiJYZ-"
      },
      "source": [
        "species = \"homo_sapiens\"\n",
        "organ = \"heart\"\n",
        "reference = \"GRCh38\"\n",
        "paper_doi = \"https://doi.org/10.1161/CIRCULATIONAHA.119.045401\"\n",
        "table_link = \"https://www.ahajournals.org/action/downloadSupplement?doi=10.1161%2FCIRCULATIONAHA.119.045401&file=supplemental+tables+%282%29.xlsx\"\n",
        "\n",
        "# don't include in header\n",
        "table_name = \"degs.xlsx\"\n",
        "\n",
        "header = [\n",
        "    {\n",
        "      \"species\": species,\n",
        "      \"organ\": organ,\n",
        "      \"reference\": reference,\n",
        "      \"paper_doi\": paper_doi,\n",
        "      \"table_link\": table_link,\n",
        "    }\n",
        "]"
      ],
      "execution_count": 4,
      "outputs": []
    },
    {
      "cell_type": "code",
      "source": [
        "!wget -O $table_name --quiet $table_link "
      ],
      "metadata": {
        "id": "0k3FUvbLbOpH"
      },
      "execution_count": 7,
      "outputs": []
    },
    {
      "cell_type": "code",
      "metadata": {
        "id": "_2WUjjA6ZGc2"
      },
      "source": [
        "excel = pd.read_excel(table_name, sheet_name=None)"
      ],
      "execution_count": 11,
      "outputs": []
    },
    {
      "cell_type": "code",
      "metadata": {
        "colab": {
          "base_uri": "https://localhost:8080/"
        },
        "id": "fBCnvv1cZx3f",
        "outputId": "0dba3db6-b2d8-4a8e-d541-0372304d50d9"
      },
      "source": [
        "excel.keys()"
      ],
      "execution_count": 12,
      "outputs": [
        {
          "output_type": "execute_result",
          "data": {
            "text/plain": [
              "dict_keys(['Table II QCMetrics', 'Table IV MarkerGene', 'Table V SubclusterMarkerGene', 'Table VI ChamberDiff', 'Table VII SexDiff', 'Table VIII LDScoreSensitivity'])"
            ]
          },
          "metadata": {},
          "execution_count": 12
        }
      ]
    },
    {
      "cell_type": "code",
      "metadata": {
        "id": "einaGKAUZ5Re"
      },
      "source": [
        "table = excel[\"Table IV MarkerGene\"].rename(columns = {\"Cell Type\": \"celltype_id\", \"Gene\": \"gene\", })\n",
        "df = table[:-1].copy()\n",
        "df[\"celltype\"] = df.celltype_id.apply(lambda x: x.split('. ')[-1] )\n"
      ],
      "execution_count": 13,
      "outputs": []
    },
    {
      "cell_type": "code",
      "source": [
        "bidx = df['gene'].isin(genes_list)\n",
        "print(f'Filtered {np.sum(~bidx)} out of {len(bidx)} genes')\n",
        "df = df[bidx]"
      ],
      "metadata": {
        "id": "7DHC-icQLlbI",
        "outputId": "e5b4c399-ec3d-48fc-e751-357033307742",
        "colab": {
          "base_uri": "https://localhost:8080/"
        }
      },
      "execution_count": 14,
      "outputs": [
        {
          "output_type": "stream",
          "name": "stdout",
          "text": [
            "Filtered 157 out of 1557 genes\n"
          ]
        }
      ]
    },
    {
      "cell_type": "code",
      "source": [
        "df.head()"
      ],
      "metadata": {
        "id": "3leESSeULlpS",
        "outputId": "d947140a-1ed4-4daa-85e6-911793d5f49e",
        "colab": {
          "base_uri": "https://localhost:8080/",
          "height": 206
        }
      },
      "execution_count": 15,
      "outputs": [
        {
          "output_type": "execute_result",
          "data": {
            "text/plain": [
              "       celltype_id   gene       Ensembl ID Chromosome  Pct.Target  Pct.Other  \\\n",
              "0  1. Fibroblast I    DCN  ENSG00000011465         12       0.888      0.350   \n",
              "1  1. Fibroblast I  LAMA2  ENSG00000196569          6       0.993      0.808   \n",
              "2  1. Fibroblast I  NEGR1  ENSG00000172260          1       0.905      0.371   \n",
              "3  1. Fibroblast I  ACSM3  ENSG00000005187         16       0.836      0.311   \n",
              "4  1. Fibroblast I  ABCA6  ENSG00000154262         17       0.754      0.280   \n",
              "\n",
              "   avg_logFC    AUC     PPV50  Marker      celltype  \n",
              "0   1.267279  0.853  0.717110     1.0  Fibroblast I  \n",
              "1   0.851194  0.847  0.551188     1.0  Fibroblast I  \n",
              "2   1.251984  0.842  0.709009     1.0  Fibroblast I  \n",
              "3   1.473957  0.841  0.728646     1.0  Fibroblast I  \n",
              "4   1.404422  0.804  0.729496     1.0  Fibroblast I  "
            ],
            "text/html": [
              "\n",
              "  <div id=\"df-fd002aea-6d03-44b7-90be-86a381f7835b\">\n",
              "    <div class=\"colab-df-container\">\n",
              "      <div>\n",
              "<style scoped>\n",
              "    .dataframe tbody tr th:only-of-type {\n",
              "        vertical-align: middle;\n",
              "    }\n",
              "\n",
              "    .dataframe tbody tr th {\n",
              "        vertical-align: top;\n",
              "    }\n",
              "\n",
              "    .dataframe thead th {\n",
              "        text-align: right;\n",
              "    }\n",
              "</style>\n",
              "<table border=\"1\" class=\"dataframe\">\n",
              "  <thead>\n",
              "    <tr style=\"text-align: right;\">\n",
              "      <th></th>\n",
              "      <th>celltype_id</th>\n",
              "      <th>gene</th>\n",
              "      <th>Ensembl ID</th>\n",
              "      <th>Chromosome</th>\n",
              "      <th>Pct.Target</th>\n",
              "      <th>Pct.Other</th>\n",
              "      <th>avg_logFC</th>\n",
              "      <th>AUC</th>\n",
              "      <th>PPV50</th>\n",
              "      <th>Marker</th>\n",
              "      <th>celltype</th>\n",
              "    </tr>\n",
              "  </thead>\n",
              "  <tbody>\n",
              "    <tr>\n",
              "      <th>0</th>\n",
              "      <td>1. Fibroblast I</td>\n",
              "      <td>DCN</td>\n",
              "      <td>ENSG00000011465</td>\n",
              "      <td>12</td>\n",
              "      <td>0.888</td>\n",
              "      <td>0.350</td>\n",
              "      <td>1.267279</td>\n",
              "      <td>0.853</td>\n",
              "      <td>0.717110</td>\n",
              "      <td>1.0</td>\n",
              "      <td>Fibroblast I</td>\n",
              "    </tr>\n",
              "    <tr>\n",
              "      <th>1</th>\n",
              "      <td>1. Fibroblast I</td>\n",
              "      <td>LAMA2</td>\n",
              "      <td>ENSG00000196569</td>\n",
              "      <td>6</td>\n",
              "      <td>0.993</td>\n",
              "      <td>0.808</td>\n",
              "      <td>0.851194</td>\n",
              "      <td>0.847</td>\n",
              "      <td>0.551188</td>\n",
              "      <td>1.0</td>\n",
              "      <td>Fibroblast I</td>\n",
              "    </tr>\n",
              "    <tr>\n",
              "      <th>2</th>\n",
              "      <td>1. Fibroblast I</td>\n",
              "      <td>NEGR1</td>\n",
              "      <td>ENSG00000172260</td>\n",
              "      <td>1</td>\n",
              "      <td>0.905</td>\n",
              "      <td>0.371</td>\n",
              "      <td>1.251984</td>\n",
              "      <td>0.842</td>\n",
              "      <td>0.709009</td>\n",
              "      <td>1.0</td>\n",
              "      <td>Fibroblast I</td>\n",
              "    </tr>\n",
              "    <tr>\n",
              "      <th>3</th>\n",
              "      <td>1. Fibroblast I</td>\n",
              "      <td>ACSM3</td>\n",
              "      <td>ENSG00000005187</td>\n",
              "      <td>16</td>\n",
              "      <td>0.836</td>\n",
              "      <td>0.311</td>\n",
              "      <td>1.473957</td>\n",
              "      <td>0.841</td>\n",
              "      <td>0.728646</td>\n",
              "      <td>1.0</td>\n",
              "      <td>Fibroblast I</td>\n",
              "    </tr>\n",
              "    <tr>\n",
              "      <th>4</th>\n",
              "      <td>1. Fibroblast I</td>\n",
              "      <td>ABCA6</td>\n",
              "      <td>ENSG00000154262</td>\n",
              "      <td>17</td>\n",
              "      <td>0.754</td>\n",
              "      <td>0.280</td>\n",
              "      <td>1.404422</td>\n",
              "      <td>0.804</td>\n",
              "      <td>0.729496</td>\n",
              "      <td>1.0</td>\n",
              "      <td>Fibroblast I</td>\n",
              "    </tr>\n",
              "  </tbody>\n",
              "</table>\n",
              "</div>\n",
              "      <button class=\"colab-df-convert\" onclick=\"convertToInteractive('df-fd002aea-6d03-44b7-90be-86a381f7835b')\"\n",
              "              title=\"Convert this dataframe to an interactive table.\"\n",
              "              style=\"display:none;\">\n",
              "        \n",
              "  <svg xmlns=\"http://www.w3.org/2000/svg\" height=\"24px\"viewBox=\"0 0 24 24\"\n",
              "       width=\"24px\">\n",
              "    <path d=\"M0 0h24v24H0V0z\" fill=\"none\"/>\n",
              "    <path d=\"M18.56 5.44l.94 2.06.94-2.06 2.06-.94-2.06-.94-.94-2.06-.94 2.06-2.06.94zm-11 1L8.5 8.5l.94-2.06 2.06-.94-2.06-.94L8.5 2.5l-.94 2.06-2.06.94zm10 10l.94 2.06.94-2.06 2.06-.94-2.06-.94-.94-2.06-.94 2.06-2.06.94z\"/><path d=\"M17.41 7.96l-1.37-1.37c-.4-.4-.92-.59-1.43-.59-.52 0-1.04.2-1.43.59L10.3 9.45l-7.72 7.72c-.78.78-.78 2.05 0 2.83L4 21.41c.39.39.9.59 1.41.59.51 0 1.02-.2 1.41-.59l7.78-7.78 2.81-2.81c.8-.78.8-2.07 0-2.86zM5.41 20L4 18.59l7.72-7.72 1.47 1.35L5.41 20z\"/>\n",
              "  </svg>\n",
              "      </button>\n",
              "      \n",
              "  <style>\n",
              "    .colab-df-container {\n",
              "      display:flex;\n",
              "      flex-wrap:wrap;\n",
              "      gap: 12px;\n",
              "    }\n",
              "\n",
              "    .colab-df-convert {\n",
              "      background-color: #E8F0FE;\n",
              "      border: none;\n",
              "      border-radius: 50%;\n",
              "      cursor: pointer;\n",
              "      display: none;\n",
              "      fill: #1967D2;\n",
              "      height: 32px;\n",
              "      padding: 0 0 0 0;\n",
              "      width: 32px;\n",
              "    }\n",
              "\n",
              "    .colab-df-convert:hover {\n",
              "      background-color: #E2EBFA;\n",
              "      box-shadow: 0px 1px 2px rgba(60, 64, 67, 0.3), 0px 1px 3px 1px rgba(60, 64, 67, 0.15);\n",
              "      fill: #174EA6;\n",
              "    }\n",
              "\n",
              "    [theme=dark] .colab-df-convert {\n",
              "      background-color: #3B4455;\n",
              "      fill: #D2E3FC;\n",
              "    }\n",
              "\n",
              "    [theme=dark] .colab-df-convert:hover {\n",
              "      background-color: #434B5C;\n",
              "      box-shadow: 0px 1px 3px 1px rgba(0, 0, 0, 0.15);\n",
              "      filter: drop-shadow(0px 1px 2px rgba(0, 0, 0, 0.3));\n",
              "      fill: #FFFFFF;\n",
              "    }\n",
              "  </style>\n",
              "\n",
              "      <script>\n",
              "        const buttonEl =\n",
              "          document.querySelector('#df-fd002aea-6d03-44b7-90be-86a381f7835b button.colab-df-convert');\n",
              "        buttonEl.style.display =\n",
              "          google.colab.kernel.accessAllowed ? 'block' : 'none';\n",
              "\n",
              "        async function convertToInteractive(key) {\n",
              "          const element = document.querySelector('#df-fd002aea-6d03-44b7-90be-86a381f7835b');\n",
              "          const dataTable =\n",
              "            await google.colab.kernel.invokeFunction('convertToInteractive',\n",
              "                                                     [key], {});\n",
              "          if (!dataTable) return;\n",
              "\n",
              "          const docLinkHtml = 'Like what you see? Visit the ' +\n",
              "            '<a target=\"_blank\" href=https://colab.research.google.com/notebooks/data_table.ipynb>data table notebook</a>'\n",
              "            + ' to learn more about interactive tables.';\n",
              "          element.innerHTML = '';\n",
              "          dataTable['output_type'] = 'display_data';\n",
              "          await google.colab.output.renderOutput(dataTable, element);\n",
              "          const docLink = document.createElement('div');\n",
              "          docLink.innerHTML = docLinkHtml;\n",
              "          element.appendChild(docLink);\n",
              "        }\n",
              "      </script>\n",
              "    </div>\n",
              "  </div>\n",
              "  "
            ]
          },
          "metadata": {},
          "execution_count": 15
        }
      ]
    },
    {
      "cell_type": "code",
      "metadata": {
        "id": "IpLjvZJFJ10m"
      },
      "source": [
        "min_mean = 10\n",
        "max_pval = 0.05\n",
        "min_lfc = 1\n",
        "max_gene_shares = 10\n",
        "max_per_celltype = 20\n",
        "\n",
        "# filter by criteria\n",
        "dfc = df.query(f\"Marker == 1.0 & avg_logFC >= {min_lfc}\")\n",
        "\n",
        "\n",
        "# mask out genes that are shared between max_gene_shares cell type\n",
        "non_repeat_genes = dfc[\"gene\"].value_counts()[dfc[\"gene\"].value_counts() < max_gene_shares].index.values\n",
        "\n",
        "m = dfc[dfc.gene.isin(non_repeat_genes)].sort_values('Pct.Target', ascending = True)\n",
        "\n",
        "# max number to sample is equal to the min number of genes across all celltype\n",
        "n_sample = min(m[\"celltype\"].value_counts().min(), max_per_celltype)\n",
        "\n",
        "# mask out genes that are shared between max_gene_shares cell type\n",
        "non_repeat_genes = dfc[\"gene\"].value_counts()[dfc[\"gene\"].value_counts() < max_gene_shares].index.values\n",
        "\n",
        "m = dfc[dfc.gene.isin(non_repeat_genes)]\n",
        "\n",
        "# max number to sample is equal to the min number of genes across all celltype\n",
        "n_sample = min(m[\"celltype\"].value_counts().min(), max_per_celltype)\n",
        "\n",
        "# sample n_sample genes\n",
        "markers = m.groupby('celltype').tail(n_sample)\n",
        "markers_dict = markers.groupby(\"celltype\")[\"gene\"].apply(lambda x: list(x)).to_dict()"
      ],
      "execution_count": 16,
      "outputs": []
    },
    {
      "cell_type": "code",
      "metadata": {
        "colab": {
          "base_uri": "https://localhost:8080/"
        },
        "id": "St0Il3TXKxRB",
        "outputId": "c98fe549-1550-48f2-ec4e-f7a733a26730"
      },
      "source": [
        "markers.celltype.value_counts()"
      ],
      "execution_count": 17,
      "outputs": [
        {
          "output_type": "execute_result",
          "data": {
            "text/plain": [
              "Fibroblast I                     8\n",
              "Fibroblast II                    8\n",
              "Atrial Cardiomyocyte             8\n",
              "Ventricular Cardiomyocyte I      8\n",
              "Ventricular Cardiomyocyte II     8\n",
              "Pericyte                         8\n",
              "Macrophage                       8\n",
              "9.Endothelium I                  8\n",
              "Endothelium II                   8\n",
              "Adipocyte                        8\n",
              "Vascular Smooth Muscle           8\n",
              "Fibroblast III                   8\n",
              "Ventricular Cardiomyocyte III    8\n",
              "Neuronal                         8\n",
              "Lymphocyte                       8\n",
              "Name: celltype, dtype: int64"
            ]
          },
          "metadata": {},
          "execution_count": 17
        }
      ]
    },
    {
      "cell_type": "code",
      "source": [
        "markers.groupby(\"celltype\")[\"Pct.Target\"].mean().sort_values()"
      ],
      "metadata": {
        "id": "rj5gMwitL9O_",
        "outputId": "a745108d-7fc8-4f2f-b118-eb23919eac48",
        "colab": {
          "base_uri": "https://localhost:8080/"
        }
      },
      "execution_count": 18,
      "outputs": [
        {
          "output_type": "execute_result",
          "data": {
            "text/plain": [
              "celltype\n",
              "Adipocyte                        0.437625\n",
              "Macrophage                       0.518000\n",
              "Atrial Cardiomyocyte             0.523375\n",
              "9.Endothelium I                  0.531250\n",
              "Endothelium II                   0.534625\n",
              "Fibroblast III                   0.535250\n",
              "Vascular Smooth Muscle           0.553750\n",
              "Ventricular Cardiomyocyte III    0.563375\n",
              "Lymphocyte                       0.564375\n",
              "Neuronal                         0.571250\n",
              "Pericyte                         0.572375\n",
              "Ventricular Cardiomyocyte II     0.619625\n",
              "Fibroblast II                    0.754750\n",
              "Fibroblast I                     0.807875\n",
              "Ventricular Cardiomyocyte I      0.868875\n",
              "Name: Pct.Target, dtype: float64"
            ]
          },
          "metadata": {},
          "execution_count": 18
        }
      ]
    },
    {
      "cell_type": "code",
      "metadata": {
        "id": "SO1p80avKyL4"
      },
      "source": [
        "write_markers(\"markers.txt\", markers_dict, header)"
      ],
      "execution_count": 19,
      "outputs": []
    },
    {
      "cell_type": "code",
      "metadata": {
        "id": "zQYenNIoYj2K",
        "outputId": "42f0cb66-3c5d-4120-c170-1bfc7f4e35c2",
        "colab": {
          "base_uri": "https://localhost:8080/"
        }
      },
      "source": [
        "!cat markers.txt"
      ],
      "execution_count": 20,
      "outputs": [
        {
          "output_type": "stream",
          "name": "stdout",
          "text": [
            "# homo_sapiens\theart\tGRCh38\thttps://doi.org/10.1161/CIRCULATIONAHA.119.045401\thttps://www.ahajournals.org/action/downloadSupplement?doi=10.1161%2FCIRCULATIONAHA.119.045401&file=supplemental+tables+%282%29.xlsx\n",
            "9.Endothelium I\tKIAA1217,PLEKHG1,SYNE2,B2M,ADGRF5,PECAM1,DOCK9,CYYR1\n",
            "Adipocyte\tPECR,CIDEC,TNFAIP8,AGPAT2,G0S2,DGAT2,RETSAT,PTGER3\n",
            "Atrial Cardiomyocyte\tKCNJ3,PDLIM3,RALYL,PRELID2,EDNRA,CPNE5,TRIM55,NEDD4L\n",
            "Endothelium II\tGULP1,SLCO2A1,CD9,HMCN1,PTPRB,PRKCH,TMEM108,NRG3\n",
            "Fibroblast I\tDCN,NEGR1,ACSM3,ABCA6,PID1,CDH19,ABCA8,ABCA9\n",
            "Fibroblast II\tDCN,DCLK1,FBN1,CFD,C7,VCAN,CFH,MFAP5\n",
            "Fibroblast III\tBACH2,MTHFD1L,TWIST2,ZNF331,THBS1,PLPP3,ACSL4,FGF7\n",
            "Lymphocyte\tARHGAP15,PARP8,CCND3,SKAP1,PTPRC,SYTL3,B2M,IKZF1\n",
            "Macrophage\tRNF149,MSR1,SIPA1L1,COLEC12,KCNMA1,MARCH1,GNAQ,MTSS1\n",
            "Neuronal\tSCN7A,MT-CO1,NCAM2,ADGRB3,SHISA9,SLC35F1,GPM6B,MT-CO3\n",
            "Pericyte\tEGFLAM,ADAMTS9,PDE1C,CPM,MIR4435-2HG,ABCC9,KCNAB1,CARMN\n",
            "Vascular Smooth Muscle\tMYH10,PDZRN4,PPP1R12A,MTHFD1L,SDK1,FN1,KCNMA1,ETV6\n",
            "Ventricular Cardiomyocyte I\tNEXN,RBM20,SLC8A1-AS1,LDB3,TMEM65,LRRC2,IL1RAPL1,GAS2\n",
            "Ventricular Cardiomyocyte II\tPDZRN3,TMEM178B,PLCXD3,PLCL1,AKAP6,TECRL,ESRRG,PCDH7\n",
            "Ventricular Cardiomyocyte III\tROR1,RNF150,GPAT3,DUSP27,PCDH7,CNN1,CLIC5,XIRP2\n"
          ]
        }
      ]
    },
    {
      "cell_type": "code",
      "source": [],
      "metadata": {
        "id": "iDN6h8RGL3hs"
      },
      "execution_count": 20,
      "outputs": []
    }
  ]
}